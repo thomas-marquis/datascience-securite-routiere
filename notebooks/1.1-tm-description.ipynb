{
 "cells": [
  {
   "cell_type": "markdown",
   "metadata": {},
   "source": [
    "# Analyse descriptive"
   ]
  },
  {
   "cell_type": "code",
   "execution_count": 15,
   "metadata": {
    "ExecuteTime": {
     "end_time": "2021-01-17T16:23:02.444891Z",
     "start_time": "2021-01-17T16:23:02.403253Z"
    },
    "init_cell": true,
    "scrolled": true
   },
   "outputs": [
    {
     "name": "stdout",
     "output_type": "stream",
     "text": [
      "The autoreload extension is already loaded. To reload it, use:\n",
      "  %reload_ext autoreload\n"
     ]
    }
   ],
   "source": [
    "%load_ext autoreload\n",
    "%autoreload\n",
    "%reload_ext autoreload\n",
    "\n",
    "import logging\n",
    "import sys\n",
    "\n",
    "sys.path.insert(0, '../')\n",
    "logger = logging.getLogger()\n",
    "logger.setLevel(logging.INFO)\n",
    "\n",
    "import pandas as pd\n",
    "import numpy as np\n",
    "import matplotlib.pyplot as plt\n",
    "\n",
    "from lib import utils\n",
    "from lib.constant import Datasets, to_csv_kwargs, read_csv_kwargs\n",
    "from lib.features.dtypes import dtypes_featured, dtypes_clean\n",
    "\n",
    "get_path_interim = '../data/interim/accidents/{}.csv'.format"
   ]
  },
  {
   "cell_type": "markdown",
   "metadata": {},
   "source": [
    "## Analyse univariée\n",
    "\n",
    "### Accidents"
   ]
  },
  {
   "cell_type": "code",
   "execution_count": 2,
   "metadata": {
    "ExecuteTime": {
     "end_time": "2021-01-17T15:53:04.802735Z",
     "start_time": "2021-01-17T15:53:02.144271Z"
    },
    "scrolled": false
   },
   "outputs": [
    {
     "name": "stderr",
     "output_type": "stream",
     "text": [
      "/home/thomas/miniconda3/envs/securite-routiere/lib/python3.8/site-packages/IPython/core/interactiveshell.py:3338: DtypeWarning: Columns (9,11,12,13,18) have mixed types.Specify dtype option on import or set low_memory=False.\n",
      "  if (await self.run_code(code, result,  async_=asy)):\n",
      "INFO:root:../data/interim/accidents/accidents.csv: 323782 lines loaded (45.70)Mb\n"
     ]
    },
    {
     "data": {
      "text/html": [
       "<div>\n",
       "<style scoped>\n",
       "    .dataframe tbody tr th:only-of-type {\n",
       "        vertical-align: middle;\n",
       "    }\n",
       "\n",
       "    .dataframe tbody tr th {\n",
       "        vertical-align: top;\n",
       "    }\n",
       "\n",
       "    .dataframe thead th {\n",
       "        text-align: right;\n",
       "    }\n",
       "</style>\n",
       "<table border=\"1\" class=\"dataframe\">\n",
       "  <thead>\n",
       "    <tr style=\"text-align: right;\">\n",
       "      <th></th>\n",
       "      <th>Num_Acc</th>\n",
       "      <th>year</th>\n",
       "      <th>month</th>\n",
       "      <th>day</th>\n",
       "      <th>lum</th>\n",
       "      <th>agg</th>\n",
       "      <th>int</th>\n",
       "      <th>atm</th>\n",
       "      <th>col</th>\n",
       "      <th>com</th>\n",
       "      <th>...</th>\n",
       "      <th>surf</th>\n",
       "      <th>infra</th>\n",
       "      <th>situ</th>\n",
       "      <th>vma</th>\n",
       "      <th>inj_hosp</th>\n",
       "      <th>inj_light</th>\n",
       "      <th>killed</th>\n",
       "      <th>safe</th>\n",
       "      <th>victims_nb</th>\n",
       "      <th>acc_severity</th>\n",
       "    </tr>\n",
       "  </thead>\n",
       "  <tbody>\n",
       "    <tr>\n",
       "      <th>0</th>\n",
       "      <td>200500000001</td>\n",
       "      <td>2005</td>\n",
       "      <td>1</td>\n",
       "      <td>12</td>\n",
       "      <td>3</td>\n",
       "      <td>2</td>\n",
       "      <td>1</td>\n",
       "      <td>1.0</td>\n",
       "      <td>3.0</td>\n",
       "      <td>11</td>\n",
       "      <td>...</td>\n",
       "      <td>1.0</td>\n",
       "      <td>0.0</td>\n",
       "      <td>1.0</td>\n",
       "      <td>NaN</td>\n",
       "      <td>1.0</td>\n",
       "      <td>1.0</td>\n",
       "      <td>0.0</td>\n",
       "      <td>4.0</td>\n",
       "      <td>6.0</td>\n",
       "      <td>inj_hosp</td>\n",
       "    </tr>\n",
       "    <tr>\n",
       "      <th>1</th>\n",
       "      <td>200500000002</td>\n",
       "      <td>2005</td>\n",
       "      <td>1</td>\n",
       "      <td>21</td>\n",
       "      <td>1</td>\n",
       "      <td>2</td>\n",
       "      <td>1</td>\n",
       "      <td>1.0</td>\n",
       "      <td>1.0</td>\n",
       "      <td>51</td>\n",
       "      <td>...</td>\n",
       "      <td>1.0</td>\n",
       "      <td>0.0</td>\n",
       "      <td>5.0</td>\n",
       "      <td>NaN</td>\n",
       "      <td>1.0</td>\n",
       "      <td>0.0</td>\n",
       "      <td>0.0</td>\n",
       "      <td>1.0</td>\n",
       "      <td>2.0</td>\n",
       "      <td>inj_hosp</td>\n",
       "    </tr>\n",
       "    <tr>\n",
       "      <th>2</th>\n",
       "      <td>200500000003</td>\n",
       "      <td>2005</td>\n",
       "      <td>1</td>\n",
       "      <td>21</td>\n",
       "      <td>3</td>\n",
       "      <td>1</td>\n",
       "      <td>1</td>\n",
       "      <td>2.0</td>\n",
       "      <td>1.0</td>\n",
       "      <td>51</td>\n",
       "      <td>...</td>\n",
       "      <td>2.0</td>\n",
       "      <td>0.0</td>\n",
       "      <td>5.0</td>\n",
       "      <td>NaN</td>\n",
       "      <td>1.0</td>\n",
       "      <td>0.0</td>\n",
       "      <td>0.0</td>\n",
       "      <td>1.0</td>\n",
       "      <td>2.0</td>\n",
       "      <td>inj_hosp</td>\n",
       "    </tr>\n",
       "    <tr>\n",
       "      <th>3</th>\n",
       "      <td>200500000004</td>\n",
       "      <td>2005</td>\n",
       "      <td>1</td>\n",
       "      <td>4</td>\n",
       "      <td>1</td>\n",
       "      <td>1</td>\n",
       "      <td>1</td>\n",
       "      <td>1.0</td>\n",
       "      <td>5.0</td>\n",
       "      <td>82</td>\n",
       "      <td>...</td>\n",
       "      <td>1.0</td>\n",
       "      <td>0.0</td>\n",
       "      <td>1.0</td>\n",
       "      <td>NaN</td>\n",
       "      <td>2.0</td>\n",
       "      <td>2.0</td>\n",
       "      <td>0.0</td>\n",
       "      <td>0.0</td>\n",
       "      <td>4.0</td>\n",
       "      <td>inj_hosp</td>\n",
       "    </tr>\n",
       "    <tr>\n",
       "      <th>4</th>\n",
       "      <td>200500000005</td>\n",
       "      <td>2005</td>\n",
       "      <td>1</td>\n",
       "      <td>10</td>\n",
       "      <td>3</td>\n",
       "      <td>1</td>\n",
       "      <td>1</td>\n",
       "      <td>3.0</td>\n",
       "      <td>6.0</td>\n",
       "      <td>478</td>\n",
       "      <td>...</td>\n",
       "      <td>2.0</td>\n",
       "      <td>0.0</td>\n",
       "      <td>3.0</td>\n",
       "      <td>NaN</td>\n",
       "      <td>1.0</td>\n",
       "      <td>1.0</td>\n",
       "      <td>0.0</td>\n",
       "      <td>0.0</td>\n",
       "      <td>2.0</td>\n",
       "      <td>inj_hosp</td>\n",
       "    </tr>\n",
       "    <tr>\n",
       "      <th>...</th>\n",
       "      <td>...</td>\n",
       "      <td>...</td>\n",
       "      <td>...</td>\n",
       "      <td>...</td>\n",
       "      <td>...</td>\n",
       "      <td>...</td>\n",
       "      <td>...</td>\n",
       "      <td>...</td>\n",
       "      <td>...</td>\n",
       "      <td>...</td>\n",
       "      <td>...</td>\n",
       "      <td>...</td>\n",
       "      <td>...</td>\n",
       "      <td>...</td>\n",
       "      <td>...</td>\n",
       "      <td>...</td>\n",
       "      <td>...</td>\n",
       "      <td>...</td>\n",
       "      <td>...</td>\n",
       "      <td>...</td>\n",
       "      <td>...</td>\n",
       "    </tr>\n",
       "    <tr>\n",
       "      <th>323777</th>\n",
       "      <td>201600059428</td>\n",
       "      <td>2016</td>\n",
       "      <td>12</td>\n",
       "      <td>1</td>\n",
       "      <td>1</td>\n",
       "      <td>2</td>\n",
       "      <td>1</td>\n",
       "      <td>1.0</td>\n",
       "      <td>6.0</td>\n",
       "      <td>611</td>\n",
       "      <td>...</td>\n",
       "      <td>1.0</td>\n",
       "      <td>0.0</td>\n",
       "      <td>1.0</td>\n",
       "      <td>NaN</td>\n",
       "      <td>0.0</td>\n",
       "      <td>1.0</td>\n",
       "      <td>0.0</td>\n",
       "      <td>1.0</td>\n",
       "      <td>2.0</td>\n",
       "      <td>inj_light</td>\n",
       "    </tr>\n",
       "    <tr>\n",
       "      <th>323778</th>\n",
       "      <td>201600059429</td>\n",
       "      <td>2016</td>\n",
       "      <td>12</td>\n",
       "      <td>3</td>\n",
       "      <td>1</td>\n",
       "      <td>2</td>\n",
       "      <td>1</td>\n",
       "      <td>1.0</td>\n",
       "      <td>7.0</td>\n",
       "      <td>611</td>\n",
       "      <td>...</td>\n",
       "      <td>1.0</td>\n",
       "      <td>0.0</td>\n",
       "      <td>1.0</td>\n",
       "      <td>NaN</td>\n",
       "      <td>0.0</td>\n",
       "      <td>1.0</td>\n",
       "      <td>0.0</td>\n",
       "      <td>0.0</td>\n",
       "      <td>1.0</td>\n",
       "      <td>inj_light</td>\n",
       "    </tr>\n",
       "    <tr>\n",
       "      <th>323779</th>\n",
       "      <td>201600059430</td>\n",
       "      <td>2016</td>\n",
       "      <td>12</td>\n",
       "      <td>5</td>\n",
       "      <td>1</td>\n",
       "      <td>2</td>\n",
       "      <td>1</td>\n",
       "      <td>1.0</td>\n",
       "      <td>3.0</td>\n",
       "      <td>611</td>\n",
       "      <td>...</td>\n",
       "      <td>0.0</td>\n",
       "      <td>0.0</td>\n",
       "      <td>1.0</td>\n",
       "      <td>NaN</td>\n",
       "      <td>0.0</td>\n",
       "      <td>1.0</td>\n",
       "      <td>0.0</td>\n",
       "      <td>1.0</td>\n",
       "      <td>2.0</td>\n",
       "      <td>inj_light</td>\n",
       "    </tr>\n",
       "    <tr>\n",
       "      <th>323780</th>\n",
       "      <td>201600059431</td>\n",
       "      <td>2016</td>\n",
       "      <td>12</td>\n",
       "      <td>6</td>\n",
       "      <td>1</td>\n",
       "      <td>2</td>\n",
       "      <td>3</td>\n",
       "      <td>1.0</td>\n",
       "      <td>3.0</td>\n",
       "      <td>611</td>\n",
       "      <td>...</td>\n",
       "      <td>1.0</td>\n",
       "      <td>0.0</td>\n",
       "      <td>1.0</td>\n",
       "      <td>NaN</td>\n",
       "      <td>0.0</td>\n",
       "      <td>2.0</td>\n",
       "      <td>0.0</td>\n",
       "      <td>0.0</td>\n",
       "      <td>2.0</td>\n",
       "      <td>inj_light</td>\n",
       "    </tr>\n",
       "    <tr>\n",
       "      <th>323781</th>\n",
       "      <td>201600059432</td>\n",
       "      <td>2016</td>\n",
       "      <td>12</td>\n",
       "      <td>24</td>\n",
       "      <td>1</td>\n",
       "      <td>2</td>\n",
       "      <td>6</td>\n",
       "      <td>1.0</td>\n",
       "      <td>3.0</td>\n",
       "      <td>611</td>\n",
       "      <td>...</td>\n",
       "      <td>1.0</td>\n",
       "      <td>0.0</td>\n",
       "      <td>1.0</td>\n",
       "      <td>NaN</td>\n",
       "      <td>0.0</td>\n",
       "      <td>2.0</td>\n",
       "      <td>0.0</td>\n",
       "      <td>1.0</td>\n",
       "      <td>3.0</td>\n",
       "      <td>inj_light</td>\n",
       "    </tr>\n",
       "  </tbody>\n",
       "</table>\n",
       "<p>323782 rows × 37 columns</p>\n",
       "</div>"
      ],
      "text/plain": [
       "             Num_Acc  year  month  day lum agg int  atm  col  com  ... surf  \\\n",
       "0       200500000001  2005      1   12   3   2   1  1.0  3.0   11  ...  1.0   \n",
       "1       200500000002  2005      1   21   1   2   1  1.0  1.0   51  ...  1.0   \n",
       "2       200500000003  2005      1   21   3   1   1  2.0  1.0   51  ...  2.0   \n",
       "3       200500000004  2005      1    4   1   1   1  1.0  5.0   82  ...  1.0   \n",
       "4       200500000005  2005      1   10   3   1   1  3.0  6.0  478  ...  2.0   \n",
       "...              ...   ...    ...  ...  ..  ..  ..  ...  ...  ...  ...  ...   \n",
       "323777  201600059428  2016     12    1   1   2   1  1.0  6.0  611  ...  1.0   \n",
       "323778  201600059429  2016     12    3   1   2   1  1.0  7.0  611  ...  1.0   \n",
       "323779  201600059430  2016     12    5   1   2   1  1.0  3.0  611  ...  0.0   \n",
       "323780  201600059431  2016     12    6   1   2   3  1.0  3.0  611  ...  1.0   \n",
       "323781  201600059432  2016     12   24   1   2   6  1.0  3.0  611  ...  1.0   \n",
       "\n",
       "       infra situ vma  inj_hosp inj_light  killed safe victims_nb acc_severity  \n",
       "0        0.0  1.0 NaN       1.0       1.0     0.0  4.0        6.0     inj_hosp  \n",
       "1        0.0  5.0 NaN       1.0       0.0     0.0  1.0        2.0     inj_hosp  \n",
       "2        0.0  5.0 NaN       1.0       0.0     0.0  1.0        2.0     inj_hosp  \n",
       "3        0.0  1.0 NaN       2.0       2.0     0.0  0.0        4.0     inj_hosp  \n",
       "4        0.0  3.0 NaN       1.0       1.0     0.0  0.0        2.0     inj_hosp  \n",
       "...      ...  ...  ..       ...       ...     ...  ...        ...          ...  \n",
       "323777   0.0  1.0 NaN       0.0       1.0     0.0  1.0        2.0    inj_light  \n",
       "323778   0.0  1.0 NaN       0.0       1.0     0.0  0.0        1.0    inj_light  \n",
       "323779   0.0  1.0 NaN       0.0       1.0     0.0  1.0        2.0    inj_light  \n",
       "323780   0.0  1.0 NaN       0.0       2.0     0.0  0.0        2.0    inj_light  \n",
       "323781   0.0  1.0 NaN       0.0       2.0     0.0  1.0        3.0    inj_light  \n",
       "\n",
       "[323782 rows x 37 columns]"
      ]
     },
     "execution_count": 2,
     "metadata": {},
     "output_type": "execute_result"
    }
   ],
   "source": [
    "acc_df = utils.get_dataset(get_path_interim(Datasets.ACCIDENTS), \n",
    "                           dtypes=dtypes_featured(Datasets.ACCIDENTS, base_path='../'))\n",
    "acc_df"
   ]
  },
  {
   "cell_type": "markdown",
   "metadata": {},
   "source": [
    "#### gravité des accidents"
   ]
  },
  {
   "cell_type": "code",
   "execution_count": 12,
   "metadata": {
    "ExecuteTime": {
     "end_time": "2020-12-31T18:08:17.033566Z",
     "start_time": "2020-12-31T18:08:16.765541Z"
    }
   },
   "outputs": [
    {
     "data": {
      "text/plain": [
       "<AxesSubplot:xlabel='acc_severity'>"
      ]
     },
     "execution_count": 12,
     "metadata": {},
     "output_type": "execute_result"
    },
    {
     "data": {
      "image/png": "[encoded data removed]",
      "text/plain": [
       "<Figure size 432x288 with 1 Axes>"
      ]
     },
     "metadata": {
      "needs_background": "light"
     },
     "output_type": "display_data"
    }
   ],
   "source": [
    "acc_df.groupby(by=['acc_severity']).count()[['Num_Acc']].plot.bar(rot=0)"
   ]
  },
  {
   "cell_type": "code",
   "execution_count": 22,
   "metadata": {
    "ExecuteTime": {
     "end_time": "2020-12-31T18:16:28.020168Z",
     "start_time": "2020-12-31T18:16:27.792596Z"
    },
    "scrolled": true
   },
   "outputs": [
    {
     "data": {
      "text/plain": [
       "<AxesSubplot:>"
      ]
     },
     "execution_count": 22,
     "metadata": {},
     "output_type": "execute_result"
    },
    {
     "data": {
      "image/png": "[encoded data removed]",
      "text/plain": [
       "<Figure size 864x360 with 1 Axes>"
      ]
     },
     "metadata": {
      "needs_background": "light"
     },
     "output_type": "display_data"
    }
   ],
   "source": [
    "acc_df[['inj_hosp', 'inj_light', 'killed']].plot.box(vert=False, figsize=(12, 5))"
   ]
  },
  {
   "cell_type": "markdown",
   "metadata": {},
   "source": [
    "#### Nb de victimes"
   ]
  },
  {
   "cell_type": "code",
   "execution_count": 14,
   "metadata": {
    "ExecuteTime": {
     "end_time": "2020-12-31T18:09:53.247629Z",
     "start_time": "2020-12-31T18:09:53.203620Z"
    }
   },
   "outputs": [
    {
     "data": {
      "text/html": [
       "<div>\n",
       "<style scoped>\n",
       "    .dataframe tbody tr th:only-of-type {\n",
       "        vertical-align: middle;\n",
       "    }\n",
       "\n",
       "    .dataframe tbody tr th {\n",
       "        vertical-align: top;\n",
       "    }\n",
       "\n",
       "    .dataframe thead th {\n",
       "        text-align: right;\n",
       "    }\n",
       "</style>\n",
       "<table border=\"1\" class=\"dataframe\">\n",
       "  <thead>\n",
       "    <tr style=\"text-align: right;\">\n",
       "      <th></th>\n",
       "      <th>victims_nb</th>\n",
       "    </tr>\n",
       "  </thead>\n",
       "  <tbody>\n",
       "    <tr>\n",
       "      <th>count</th>\n",
       "      <td>323782.000000</td>\n",
       "    </tr>\n",
       "    <tr>\n",
       "      <th>mean</th>\n",
       "      <td>2.254872</td>\n",
       "    </tr>\n",
       "    <tr>\n",
       "      <th>std</th>\n",
       "      <td>1.231144</td>\n",
       "    </tr>\n",
       "    <tr>\n",
       "      <th>min</th>\n",
       "      <td>1.000000</td>\n",
       "    </tr>\n",
       "    <tr>\n",
       "      <th>25%</th>\n",
       "      <td>2.000000</td>\n",
       "    </tr>\n",
       "    <tr>\n",
       "      <th>50%</th>\n",
       "      <td>2.000000</td>\n",
       "    </tr>\n",
       "    <tr>\n",
       "      <th>75%</th>\n",
       "      <td>3.000000</td>\n",
       "    </tr>\n",
       "    <tr>\n",
       "      <th>max</th>\n",
       "      <td>69.000000</td>\n",
       "    </tr>\n",
       "  </tbody>\n",
       "</table>\n",
       "</div>"
      ],
      "text/plain": [
       "          victims_nb\n",
       "count  323782.000000\n",
       "mean        2.254872\n",
       "std         1.231144\n",
       "min         1.000000\n",
       "25%         2.000000\n",
       "50%         2.000000\n",
       "75%         3.000000\n",
       "max        69.000000"
      ]
     },
     "execution_count": 14,
     "metadata": {},
     "output_type": "execute_result"
    }
   ],
   "source": [
    "acc_df[['victims_nb']].describe()"
   ]
  },
  {
   "cell_type": "markdown",
   "metadata": {},
   "source": [
    "#### Par année"
   ]
  },
  {
   "cell_type": "code",
   "execution_count": 23,
   "metadata": {
    "ExecuteTime": {
     "end_time": "2020-12-31T18:18:32.570216Z",
     "start_time": "2020-12-31T18:18:32.267672Z"
    },
    "scrolled": true
   },
   "outputs": [
    {
     "data": {
      "text/plain": [
       "<AxesSubplot:xlabel='year'>"
      ]
     },
     "execution_count": 23,
     "metadata": {},
     "output_type": "execute_result"
    },
    {
     "data": {
      "image/png": "[encoded data removed]",
      "text/plain": [
       "<Figure size 432x288 with 1 Axes>"
      ]
     },
     "metadata": {
      "needs_background": "light"
     },
     "output_type": "display_data"
    }
   ],
   "source": [
    "acc_df.groupby(by=['year']).count()[['Num_Acc']].plot.bar()"
   ]
  },
  {
   "cell_type": "markdown",
   "metadata": {},
   "source": [
    "#### Par mois"
   ]
  },
  {
   "cell_type": "code",
   "execution_count": 27,
   "metadata": {
    "ExecuteTime": {
     "end_time": "2020-12-31T18:19:27.962981Z",
     "start_time": "2020-12-31T18:19:27.644807Z"
    },
    "scrolled": false
   },
   "outputs": [
    {
     "data": {
      "text/plain": [
       "<AxesSubplot:xlabel='month'>"
      ]
     },
     "execution_count": 27,
     "metadata": {},
     "output_type": "execute_result"
    },
    {
     "data": {
      "image/png": "[encoded data removed]",
      "text/plain": [
       "<Figure size 432x288 with 1 Axes>"
      ]
     },
     "metadata": {
      "needs_background": "light"
     },
     "output_type": "display_data"
    }
   ],
   "source": [
    "acc_df.groupby(by=['month']).count()[['Num_Acc']].plot.bar(rot=0)"
   ]
  },
  {
   "cell_type": "markdown",
   "metadata": {},
   "source": [
    "#### Par jour de la semaine"
   ]
  },
  {
   "cell_type": "code",
   "execution_count": 26,
   "metadata": {
    "ExecuteTime": {
     "end_time": "2020-12-31T18:19:23.146327Z",
     "start_time": "2020-12-31T18:19:22.872285Z"
    },
    "scrolled": false
   },
   "outputs": [
    {
     "data": {
      "text/plain": [
       "<AxesSubplot:xlabel='weekday'>"
      ]
     },
     "execution_count": 26,
     "metadata": {},
     "output_type": "execute_result"
    },
    {
     "data": {
      "image/png": "[encoded data removed]",
      "text/plain": [
       "<Figure size 432x288 with 1 Axes>"
      ]
     },
     "metadata": {
      "needs_background": "light"
     },
     "output_type": "display_data"
    }
   ],
   "source": [
    "acc_df.groupby(by=['weekday']).count()[['Num_Acc']].plot.bar(rot=0)"
   ]
  },
  {
   "cell_type": "markdown",
   "metadata": {},
   "source": [
    "#### Conditions atmosphériques\n",
    "\n",
    "- -1 – Non renseigné\n",
    "- 1 – Normale\n",
    "- 2 – Pluie légère\n",
    "- 3 – Pluie forte\n",
    "- 4 – Neige - grêle\n",
    "- 5 – Brouillard - fumée\n",
    "- 6 – Vent fort - tempête\n",
    "- 7 – Temps éblouissant\n",
    "- 8 – Temps couvert\n",
    "- 9 – Autre"
   ]
  },
  {
   "cell_type": "code",
   "execution_count": 33,
   "metadata": {
    "ExecuteTime": {
     "end_time": "2020-12-31T18:25:52.698468Z",
     "start_time": "2020-12-31T18:25:52.402378Z"
    },
    "scrolled": false
   },
   "outputs": [
    {
     "data": {
      "text/plain": [
       "<AxesSubplot:xlabel='atm'>"
      ]
     },
     "execution_count": 33,
     "metadata": {},
     "output_type": "execute_result"
    },
    {
     "data": {
      "image/png": "[encoded data removed]",
      "text/plain": [
       "<Figure size 432x288 with 1 Axes>"
      ]
     },
     "metadata": {
      "needs_background": "light"
     },
     "output_type": "display_data"
    }
   ],
   "source": [
    "acc_df.groupby(by=['atm']).count().sort_values('Num_Acc', ascending=False)[['Num_Acc']].plot.bar(rot=0)"
   ]
  },
  {
   "cell_type": "markdown",
   "metadata": {
    "ExecuteTime": {
     "end_time": "2021-01-17T16:08:58.673396Z",
     "start_time": "2021-01-17T16:08:58.668938Z"
    }
   },
   "source": [
    "### Victimes"
   ]
  },
  {
   "cell_type": "code",
   "execution_count": 5,
   "metadata": {
    "ExecuteTime": {
     "end_time": "2021-01-17T16:11:17.690641Z",
     "start_time": "2021-01-17T16:11:15.551572Z"
    }
   },
   "outputs": [
    {
     "name": "stderr",
     "output_type": "stream",
     "text": [
      "/home/thomas/miniconda3/envs/securite-routiere/lib/python3.8/site-packages/IPython/core/interactiveshell.py:3338: DtypeWarning: Columns (9) have mixed types.Specify dtype option on import or set low_memory=False.\n",
      "  if (await self.run_code(code, result,  async_=asy)):\n",
      "INFO:root:../data/interim/accidents/victims.csv: 730087 lines loaded (23.68)Mb\n"
     ]
    },
    {
     "data": {
      "text/html": [
       "<div>\n",
       "<style scoped>\n",
       "    .dataframe tbody tr th:only-of-type {\n",
       "        vertical-align: middle;\n",
       "    }\n",
       "\n",
       "    .dataframe tbody tr th {\n",
       "        vertical-align: top;\n",
       "    }\n",
       "\n",
       "    .dataframe thead th {\n",
       "        text-align: right;\n",
       "    }\n",
       "</style>\n",
       "<table border=\"1\" class=\"dataframe\">\n",
       "  <thead>\n",
       "    <tr style=\"text-align: right;\">\n",
       "      <th></th>\n",
       "      <th>Num_Acc</th>\n",
       "      <th>num_veh</th>\n",
       "      <th>place</th>\n",
       "      <th>catu</th>\n",
       "      <th>grav</th>\n",
       "      <th>sexe</th>\n",
       "      <th>an_nais</th>\n",
       "      <th>trajet</th>\n",
       "      <th>locp</th>\n",
       "      <th>actp</th>\n",
       "      <th>etatp</th>\n",
       "      <th>age</th>\n",
       "    </tr>\n",
       "  </thead>\n",
       "  <tbody>\n",
       "    <tr>\n",
       "      <th>0</th>\n",
       "      <td>200500000001</td>\n",
       "      <td>A01</td>\n",
       "      <td>1.0</td>\n",
       "      <td>driver</td>\n",
       "      <td>inj_light</td>\n",
       "      <td>male</td>\n",
       "      <td>1976</td>\n",
       "      <td>home_work</td>\n",
       "      <td>0.0</td>\n",
       "      <td>0</td>\n",
       "      <td>0.0</td>\n",
       "      <td>29</td>\n",
       "    </tr>\n",
       "    <tr>\n",
       "      <th>1</th>\n",
       "      <td>200500000001</td>\n",
       "      <td>B02</td>\n",
       "      <td>1.0</td>\n",
       "      <td>driver</td>\n",
       "      <td>inj_hosp</td>\n",
       "      <td>female</td>\n",
       "      <td>1968</td>\n",
       "      <td>shopping</td>\n",
       "      <td>0.0</td>\n",
       "      <td>0</td>\n",
       "      <td>0.0</td>\n",
       "      <td>37</td>\n",
       "    </tr>\n",
       "    <tr>\n",
       "      <th>2</th>\n",
       "      <td>200500000001</td>\n",
       "      <td>B02</td>\n",
       "      <td>2.0</td>\n",
       "      <td>passenger</td>\n",
       "      <td>safe</td>\n",
       "      <td>male</td>\n",
       "      <td>1964</td>\n",
       "      <td>unknown</td>\n",
       "      <td>0.0</td>\n",
       "      <td>0</td>\n",
       "      <td>0.0</td>\n",
       "      <td>41</td>\n",
       "    </tr>\n",
       "    <tr>\n",
       "      <th>3</th>\n",
       "      <td>200500000001</td>\n",
       "      <td>B02</td>\n",
       "      <td>4.0</td>\n",
       "      <td>passenger</td>\n",
       "      <td>safe</td>\n",
       "      <td>male</td>\n",
       "      <td>2004</td>\n",
       "      <td>unknown</td>\n",
       "      <td>0.0</td>\n",
       "      <td>0</td>\n",
       "      <td>0.0</td>\n",
       "      <td>1</td>\n",
       "    </tr>\n",
       "    <tr>\n",
       "      <th>4</th>\n",
       "      <td>200500000001</td>\n",
       "      <td>B02</td>\n",
       "      <td>5.0</td>\n",
       "      <td>passenger</td>\n",
       "      <td>safe</td>\n",
       "      <td>male</td>\n",
       "      <td>1998</td>\n",
       "      <td>unknown</td>\n",
       "      <td>0.0</td>\n",
       "      <td>0</td>\n",
       "      <td>0.0</td>\n",
       "      <td>7</td>\n",
       "    </tr>\n",
       "    <tr>\n",
       "      <th>...</th>\n",
       "      <td>...</td>\n",
       "      <td>...</td>\n",
       "      <td>...</td>\n",
       "      <td>...</td>\n",
       "      <td>...</td>\n",
       "      <td>...</td>\n",
       "      <td>...</td>\n",
       "      <td>...</td>\n",
       "      <td>...</td>\n",
       "      <td>...</td>\n",
       "      <td>...</td>\n",
       "      <td>...</td>\n",
       "    </tr>\n",
       "    <tr>\n",
       "      <th>730082</th>\n",
       "      <td>201600059431</td>\n",
       "      <td>A01</td>\n",
       "      <td>1.0</td>\n",
       "      <td>driver</td>\n",
       "      <td>inj_light</td>\n",
       "      <td>male</td>\n",
       "      <td>1994</td>\n",
       "      <td>unknown</td>\n",
       "      <td>0.0</td>\n",
       "      <td>0</td>\n",
       "      <td>0.0</td>\n",
       "      <td>22</td>\n",
       "    </tr>\n",
       "    <tr>\n",
       "      <th>730083</th>\n",
       "      <td>201600059431</td>\n",
       "      <td>B01</td>\n",
       "      <td>1.0</td>\n",
       "      <td>driver</td>\n",
       "      <td>inj_light</td>\n",
       "      <td>male</td>\n",
       "      <td>1990</td>\n",
       "      <td>unknown</td>\n",
       "      <td>0.0</td>\n",
       "      <td>0</td>\n",
       "      <td>0.0</td>\n",
       "      <td>26</td>\n",
       "    </tr>\n",
       "    <tr>\n",
       "      <th>730084</th>\n",
       "      <td>201600059432</td>\n",
       "      <td>A01</td>\n",
       "      <td>1.0</td>\n",
       "      <td>driver</td>\n",
       "      <td>inj_light</td>\n",
       "      <td>male</td>\n",
       "      <td>1967</td>\n",
       "      <td>shopping</td>\n",
       "      <td>0.0</td>\n",
       "      <td>0</td>\n",
       "      <td>0.0</td>\n",
       "      <td>49</td>\n",
       "    </tr>\n",
       "    <tr>\n",
       "      <th>730085</th>\n",
       "      <td>201600059432</td>\n",
       "      <td>A01</td>\n",
       "      <td>2.0</td>\n",
       "      <td>passenger</td>\n",
       "      <td>inj_light</td>\n",
       "      <td>male</td>\n",
       "      <td>1967</td>\n",
       "      <td>unknown</td>\n",
       "      <td>0.0</td>\n",
       "      <td>0</td>\n",
       "      <td>0.0</td>\n",
       "      <td>49</td>\n",
       "    </tr>\n",
       "    <tr>\n",
       "      <th>730086</th>\n",
       "      <td>201600059432</td>\n",
       "      <td>B01</td>\n",
       "      <td>1.0</td>\n",
       "      <td>driver</td>\n",
       "      <td>safe</td>\n",
       "      <td>male</td>\n",
       "      <td>1981</td>\n",
       "      <td>unknown</td>\n",
       "      <td>0.0</td>\n",
       "      <td>0</td>\n",
       "      <td>0.0</td>\n",
       "      <td>35</td>\n",
       "    </tr>\n",
       "  </tbody>\n",
       "</table>\n",
       "<p>730087 rows × 12 columns</p>\n",
       "</div>"
      ],
      "text/plain": [
       "             Num_Acc num_veh place       catu       grav    sexe  an_nais  \\\n",
       "0       200500000001     A01   1.0     driver  inj_light    male     1976   \n",
       "1       200500000001     B02   1.0     driver   inj_hosp  female     1968   \n",
       "2       200500000001     B02   2.0  passenger       safe    male     1964   \n",
       "3       200500000001     B02   4.0  passenger       safe    male     2004   \n",
       "4       200500000001     B02   5.0  passenger       safe    male     1998   \n",
       "...              ...     ...   ...        ...        ...     ...      ...   \n",
       "730082  201600059431     A01   1.0     driver  inj_light    male     1994   \n",
       "730083  201600059431     B01   1.0     driver  inj_light    male     1990   \n",
       "730084  201600059432     A01   1.0     driver  inj_light    male     1967   \n",
       "730085  201600059432     A01   2.0  passenger  inj_light    male     1967   \n",
       "730086  201600059432     B01   1.0     driver       safe    male     1981   \n",
       "\n",
       "           trajet locp actp etatp  age  \n",
       "0       home_work  0.0    0   0.0   29  \n",
       "1        shopping  0.0    0   0.0   37  \n",
       "2         unknown  0.0    0   0.0   41  \n",
       "3         unknown  0.0    0   0.0    1  \n",
       "4         unknown  0.0    0   0.0    7  \n",
       "...           ...  ...  ...   ...  ...  \n",
       "730082    unknown  0.0    0   0.0   22  \n",
       "730083    unknown  0.0    0   0.0   26  \n",
       "730084   shopping  0.0    0   0.0   49  \n",
       "730085    unknown  0.0    0   0.0   49  \n",
       "730086    unknown  0.0    0   0.0   35  \n",
       "\n",
       "[730087 rows x 12 columns]"
      ]
     },
     "execution_count": 5,
     "metadata": {},
     "output_type": "execute_result"
    }
   ],
   "source": [
    "vic_df = utils.get_dataset(get_path_interim(Datasets.VICTIMS), \n",
    "                           dtypes=dtypes_featured(Datasets.VICTIMS, base_path='../'))\n",
    "vic_df"
   ]
  },
  {
   "cell_type": "markdown",
   "metadata": {},
   "source": [
    "#### Répartition des ages"
   ]
  },
  {
   "cell_type": "code",
   "execution_count": 6,
   "metadata": {
    "ExecuteTime": {
     "end_time": "2021-01-17T16:11:52.142320Z",
     "start_time": "2021-01-17T16:11:51.173729Z"
    }
   },
   "outputs": [
    {
     "data": {
      "text/plain": [
       "<AxesSubplot:ylabel='Frequency'>"
      ]
     },
     "execution_count": 6,
     "metadata": {},
     "output_type": "execute_result"
    },
    {
     "data": {
      "image/png": "[encoded data removed]",
      "text/plain": [
       "<Figure size 432x288 with 1 Axes>"
      ]
     },
     "metadata": {
      "needs_background": "light"
     },
     "output_type": "display_data"
    }
   ],
   "source": [
    "vic_df[['age']].plot.hist()"
   ]
  },
  {
   "cell_type": "markdown",
   "metadata": {},
   "source": [
    "#### Par type de trajet"
   ]
  },
  {
   "cell_type": "code",
   "execution_count": 14,
   "metadata": {
    "ExecuteTime": {
     "end_time": "2021-01-17T16:14:46.187910Z",
     "start_time": "2021-01-17T16:14:45.938159Z"
    },
    "scrolled": true
   },
   "outputs": [
    {
     "data": {
      "text/plain": [
       "<AxesSubplot:xlabel='trajet'>"
      ]
     },
     "execution_count": 14,
     "metadata": {},
     "output_type": "execute_result"
    },
    {
     "data": {
      "image/png": "[encoded data removed]",
      "text/plain": [
       "<Figure size 432x288 with 1 Axes>"
      ]
     },
     "metadata": {
      "needs_background": "light"
     },
     "output_type": "display_data"
    }
   ],
   "source": [
    "vic_df.groupby(by='trajet').count().reset_index()[['trajet', 'Num_Acc']].plot.bar('trajet', rot=45)"
   ]
  },
  {
   "cell_type": "markdown",
   "metadata": {},
   "source": [
    "### Véhicules"
   ]
  },
  {
   "cell_type": "code",
   "execution_count": 17,
   "metadata": {
    "ExecuteTime": {
     "end_time": "2021-01-17T16:24:08.572948Z",
     "start_time": "2021-01-17T16:24:08.208591Z"
    }
   },
   "outputs": [
    {
     "name": "stderr",
     "output_type": "stream",
     "text": [
      "INFO:root:Empty dtypes fond in ../resources/dtypes/featured.yml[vehicles]\n",
      "INFO:root:../data/interim/accidents/vehicles.csv: 554820 lines loaded (38.10)Mb\n"
     ]
    },
    {
     "data": {
      "text/html": [
       "<div>\n",
       "<style scoped>\n",
       "    .dataframe tbody tr th:only-of-type {\n",
       "        vertical-align: middle;\n",
       "    }\n",
       "\n",
       "    .dataframe tbody tr th {\n",
       "        vertical-align: top;\n",
       "    }\n",
       "\n",
       "    .dataframe thead th {\n",
       "        text-align: right;\n",
       "    }\n",
       "</style>\n",
       "<table border=\"1\" class=\"dataframe\">\n",
       "  <thead>\n",
       "    <tr style=\"text-align: right;\">\n",
       "      <th></th>\n",
       "      <th>Num_Acc</th>\n",
       "      <th>senc</th>\n",
       "      <th>catv</th>\n",
       "      <th>occutc</th>\n",
       "      <th>obs</th>\n",
       "      <th>obsm</th>\n",
       "      <th>choc</th>\n",
       "      <th>manv</th>\n",
       "      <th>num_veh</th>\n",
       "    </tr>\n",
       "  </thead>\n",
       "  <tbody>\n",
       "    <tr>\n",
       "      <th>0</th>\n",
       "      <td>200500000001</td>\n",
       "      <td>0.0</td>\n",
       "      <td>7</td>\n",
       "      <td>0.0</td>\n",
       "      <td>0.0</td>\n",
       "      <td>2.0</td>\n",
       "      <td>1.0</td>\n",
       "      <td>1.0</td>\n",
       "      <td>A01</td>\n",
       "    </tr>\n",
       "    <tr>\n",
       "      <th>1</th>\n",
       "      <td>200500000001</td>\n",
       "      <td>0.0</td>\n",
       "      <td>7</td>\n",
       "      <td>0.0</td>\n",
       "      <td>0.0</td>\n",
       "      <td>2.0</td>\n",
       "      <td>8.0</td>\n",
       "      <td>10.0</td>\n",
       "      <td>B02</td>\n",
       "    </tr>\n",
       "    <tr>\n",
       "      <th>2</th>\n",
       "      <td>200500000002</td>\n",
       "      <td>0.0</td>\n",
       "      <td>7</td>\n",
       "      <td>0.0</td>\n",
       "      <td>0.0</td>\n",
       "      <td>2.0</td>\n",
       "      <td>7.0</td>\n",
       "      <td>16.0</td>\n",
       "      <td>A01</td>\n",
       "    </tr>\n",
       "    <tr>\n",
       "      <th>3</th>\n",
       "      <td>200500000002</td>\n",
       "      <td>0.0</td>\n",
       "      <td>2</td>\n",
       "      <td>0.0</td>\n",
       "      <td>0.0</td>\n",
       "      <td>2.0</td>\n",
       "      <td>1.0</td>\n",
       "      <td>1.0</td>\n",
       "      <td>B02</td>\n",
       "    </tr>\n",
       "    <tr>\n",
       "      <th>4</th>\n",
       "      <td>200500000003</td>\n",
       "      <td>0.0</td>\n",
       "      <td>2</td>\n",
       "      <td>0.0</td>\n",
       "      <td>0.0</td>\n",
       "      <td>2.0</td>\n",
       "      <td>1.0</td>\n",
       "      <td>1.0</td>\n",
       "      <td>A01</td>\n",
       "    </tr>\n",
       "    <tr>\n",
       "      <th>...</th>\n",
       "      <td>...</td>\n",
       "      <td>...</td>\n",
       "      <td>...</td>\n",
       "      <td>...</td>\n",
       "      <td>...</td>\n",
       "      <td>...</td>\n",
       "      <td>...</td>\n",
       "      <td>...</td>\n",
       "      <td>...</td>\n",
       "    </tr>\n",
       "    <tr>\n",
       "      <th>554815</th>\n",
       "      <td>201600059430</td>\n",
       "      <td>1.0</td>\n",
       "      <td>30</td>\n",
       "      <td>0.0</td>\n",
       "      <td>0.0</td>\n",
       "      <td>2.0</td>\n",
       "      <td>1.0</td>\n",
       "      <td>17.0</td>\n",
       "      <td>B01</td>\n",
       "    </tr>\n",
       "    <tr>\n",
       "      <th>554816</th>\n",
       "      <td>201600059431</td>\n",
       "      <td>2.0</td>\n",
       "      <td>30</td>\n",
       "      <td>0.0</td>\n",
       "      <td>0.0</td>\n",
       "      <td>2.0</td>\n",
       "      <td>7.0</td>\n",
       "      <td>15.0</td>\n",
       "      <td>A01</td>\n",
       "    </tr>\n",
       "    <tr>\n",
       "      <th>554817</th>\n",
       "      <td>201600059431</td>\n",
       "      <td>1.0</td>\n",
       "      <td>30</td>\n",
       "      <td>0.0</td>\n",
       "      <td>0.0</td>\n",
       "      <td>2.0</td>\n",
       "      <td>1.0</td>\n",
       "      <td>1.0</td>\n",
       "      <td>B01</td>\n",
       "    </tr>\n",
       "    <tr>\n",
       "      <th>554818</th>\n",
       "      <td>201600059432</td>\n",
       "      <td>1.0</td>\n",
       "      <td>2</td>\n",
       "      <td>0.0</td>\n",
       "      <td>0.0</td>\n",
       "      <td>2.0</td>\n",
       "      <td>7.0</td>\n",
       "      <td>1.0</td>\n",
       "      <td>A01</td>\n",
       "    </tr>\n",
       "    <tr>\n",
       "      <th>554819</th>\n",
       "      <td>201600059432</td>\n",
       "      <td>2.0</td>\n",
       "      <td>7</td>\n",
       "      <td>0.0</td>\n",
       "      <td>0.0</td>\n",
       "      <td>2.0</td>\n",
       "      <td>1.0</td>\n",
       "      <td>9.0</td>\n",
       "      <td>B01</td>\n",
       "    </tr>\n",
       "  </tbody>\n",
       "</table>\n",
       "<p>554820 rows × 9 columns</p>\n",
       "</div>"
      ],
      "text/plain": [
       "             Num_Acc  senc  catv  occutc  obs  obsm  choc  manv num_veh\n",
       "0       200500000001   0.0     7     0.0  0.0   2.0   1.0   1.0     A01\n",
       "1       200500000001   0.0     7     0.0  0.0   2.0   8.0  10.0     B02\n",
       "2       200500000002   0.0     7     0.0  0.0   2.0   7.0  16.0     A01\n",
       "3       200500000002   0.0     2     0.0  0.0   2.0   1.0   1.0     B02\n",
       "4       200500000003   0.0     2     0.0  0.0   2.0   1.0   1.0     A01\n",
       "...              ...   ...   ...     ...  ...   ...   ...   ...     ...\n",
       "554815  201600059430   1.0    30     0.0  0.0   2.0   1.0  17.0     B01\n",
       "554816  201600059431   2.0    30     0.0  0.0   2.0   7.0  15.0     A01\n",
       "554817  201600059431   1.0    30     0.0  0.0   2.0   1.0   1.0     B01\n",
       "554818  201600059432   1.0     2     0.0  0.0   2.0   7.0   1.0     A01\n",
       "554819  201600059432   2.0     7     0.0  0.0   2.0   1.0   9.0     B01\n",
       "\n",
       "[554820 rows x 9 columns]"
      ]
     },
     "execution_count": 17,
     "metadata": {},
     "output_type": "execute_result"
    }
   ],
   "source": [
    "veh_df = utils.get_dataset(get_path_interim(Datasets.VEHICLES),\n",
    "                            dtypes=dtypes_featured(Datasets.VEHICLES, base_path='../'))\n",
    "veh_df"
   ]
  },
  {
   "cell_type": "markdown",
   "metadata": {},
   "source": [
    "#### Types de chocs\n",
    "\n",
    "Point de choc initial :\n",
    "\n",
    "1 - Avant\n",
    "2 – Avant droit\n",
    "3 – Avant gauche\n",
    "4 – Arrière\n",
    "5 – Arrière droit\n",
    "6 – Arrière gauche\n",
    "7 – Côté droit\n",
    "8 – Côté gauche\n",
    "9 – Chocs multiples (tonneaux)"
   ]
  },
  {
   "cell_type": "code",
   "execution_count": 24,
   "metadata": {
    "ExecuteTime": {
     "end_time": "2021-01-17T16:29:14.406338Z",
     "start_time": "2021-01-17T16:29:13.853245Z"
    }
   },
   "outputs": [
    {
     "data": {
      "text/plain": [
       "<AxesSubplot:xlabel='choc'>"
      ]
     },
     "execution_count": 24,
     "metadata": {},
     "output_type": "execute_result"
    },
    {
     "data": {
      "image/png": "[encoded data removed]",
      "text/plain": [
       "<Figure size 432x288 with 1 Axes>"
      ]
     },
     "metadata": {
      "needs_background": "light"
     },
     "output_type": "display_data"
    }
   ],
   "source": [
    "veh_df.groupby('choc').count().reset_index()[['Num_Acc', 'choc']]\\\n",
    "    .sort_values('Num_Acc', ascending=False).plot.bar('choc')"
   ]
  },
  {
   "cell_type": "markdown",
   "metadata": {},
   "source": [
    "#### Obstacles heurté\n",
    "\n",
    "abstacle fixe\n",
    "\n",
    "1 – Véhicule en stationnement\n",
    "2 – Arbre\n",
    "3 – Glissière métallique\n",
    "4 – Glissière béton\n",
    "5 – Autre glissière\n",
    "6 – Bâtiment, mur, pile de pont\n",
    "7 – Support de signalisation verticale ou poste d’appel d’urgence\n",
    "8 – Poteau\n",
    "9 – Mobilier urbain\n",
    "10 – Parapet\n",
    "11 – Ilot, refuge, borne haute\n",
    "12 – Bordure de trottoir\n",
    "13 – Fossé, talus, paroi rocheuse\n",
    "14 – Autre obstacle fixe sur chaussée\n",
    "15 – Autre obstacle fixe sur trottoir ou accotement\n",
    "16 – Sortie de chaussée sans obstacle\n"
   ]
  },
  {
   "cell_type": "code",
   "execution_count": 26,
   "metadata": {
    "ExecuteTime": {
     "end_time": "2021-01-17T16:33:26.905776Z",
     "start_time": "2021-01-17T16:33:26.578338Z"
    },
    "scrolled": true
   },
   "outputs": [
    {
     "data": {
      "text/plain": [
       "<AxesSubplot:xlabel='obs'>"
      ]
     },
     "execution_count": 26,
     "metadata": {},
     "output_type": "execute_result"
    },
    {
     "data": {
      "image/png": "[encoded data removed]",
      "text/plain": [
       "<Figure size 432x288 with 1 Axes>"
      ]
     },
     "metadata": {
      "needs_background": "light"
     },
     "output_type": "display_data"
    }
   ],
   "source": [
    "veh_obs = veh_df.groupby('obs').count().reset_index()[['Num_Acc', 'obs']]\n",
    "\n",
    "veh_obs.loc[veh_obs['obs'] != .0, :]\\\n",
    "    .sort_values('Num_Acc', ascending=False).plot.bar('obs')"
   ]
  },
  {
   "cell_type": "markdown",
   "metadata": {},
   "source": [
    "Obstacle mobile heurté :\n",
    "1 – Piéton\n",
    "2 – Véhicule\n",
    "4 – Véhicule sur rail\n",
    "5 – Animal domestique\n",
    "6 – Animal sauvage\n",
    "9 – Autre\n"
   ]
  },
  {
   "cell_type": "code",
   "execution_count": 30,
   "metadata": {
    "ExecuteTime": {
     "end_time": "2021-01-17T16:35:27.758574Z",
     "start_time": "2021-01-17T16:35:27.509154Z"
    },
    "scrolled": true
   },
   "outputs": [
    {
     "data": {
      "text/plain": [
       "<AxesSubplot:xlabel='obsm'>"
      ]
     },
     "execution_count": 30,
     "metadata": {},
     "output_type": "execute_result"
    },
    {
     "data": {
      "image/png": "[encoded data removed]",
      "text/plain": [
       "<Figure size 432x288 with 1 Axes>"
      ]
     },
     "metadata": {
      "needs_background": "light"
     },
     "output_type": "display_data"
    }
   ],
   "source": [
    "veh_obs = veh_df.groupby('obsm').count().reset_index()[['Num_Acc', 'obsm']]\n",
    "\n",
    "veh_obs.loc[veh_obs['obsm'] != .0, :]\\\n",
    "    .sort_values('Num_Acc', ascending=False).plot.bar('obsm')"
   ]
  },
  {
   "cell_type": "markdown",
   "metadata": {},
   "source": [
    "#### Manoeuvre avant l'accident\n",
    "\n",
    "Manœuvre principale avant l’accident :\n",
    "1 – Sans changement de direction\n",
    "2 – Même sens, même file\n",
    "3 – Entre 2 files\n",
    "4 – En marche arrière\n",
    "5 – A contresens\n",
    "6 – En franchissant le terre-plein central\n",
    "7 – Dans le couloir bus, dans le même sens\n",
    "8 – Dans le couloir bus, dans le sens inverse\n",
    "9 – En s’insérant\n",
    "10 – En faisant demi-tour sur la chaussée\n",
    "Changeant de file\n",
    "11 – A gauche\n",
    "12 – A droite\n",
    "Déporté\n",
    "13 – A gauche\n",
    "14 – A droite\n",
    "Tournant\n",
    "15 – A gauche\n",
    "16 – A droite\n",
    "Dépassant\n",
    "17 – A gauche\n",
    "18 – A droite\n",
    "Divers\n",
    "19 – Traversant la chaussée\n",
    "20 – Manœuvre de stationnement\n",
    "21 – Manœuvre d’évitement\n",
    "22 – Ouverture de porte\n",
    "23 – Arrêté (hors stationnement)\n",
    "24 – En stationnement (avec occupants)\n"
   ]
  },
  {
   "cell_type": "code",
   "execution_count": 31,
   "metadata": {
    "ExecuteTime": {
     "end_time": "2021-01-17T16:36:32.140311Z",
     "start_time": "2021-01-17T16:36:31.763511Z"
    }
   },
   "outputs": [
    {
     "data": {
      "text/plain": [
       "<AxesSubplot:xlabel='manv'>"
      ]
     },
     "execution_count": 31,
     "metadata": {},
     "output_type": "execute_result"
    },
    {
     "data": {
      "image/png": "[encoded data removed]",
      "text/plain": [
       "<Figure size 432x288 with 1 Axes>"
      ]
     },
     "metadata": {
      "needs_background": "light"
     },
     "output_type": "display_data"
    }
   ],
   "source": [
    "veh_obs = veh_df.groupby('manv').count().reset_index()[['Num_Acc', 'manv']]\n",
    "\n",
    "veh_obs.loc[veh_obs['manv'] != .0, :]\\\n",
    "    .sort_values('Num_Acc', ascending=False).plot.bar('manv')"
   ]
  }
 ],
 "metadata": {
  "colab": {
   "authorship_tag": "ABX9TyN8/Qvj1Ub/Wt3p7ju/RNBH",
   "collapsed_sections": [],
   "mount_file_id": "1tYlRM_oMi9M1mzXKd9tEIC4B1HcwJAEj",
   "name": "accidents_exploration.ipynb",
   "provenance": [],
   "toc_visible": true
  },
  "kernelspec": {
   "display_name": "Python 3",
   "language": "python",
   "name": "python3"
  },
  "language_info": {
   "codemirror_mode": {
    "name": "ipython",
    "version": 3
   },
   "file_extension": ".py",
   "mimetype": "text/x-python",
   "name": "python",
   "nbconvert_exporter": "python",
   "pygments_lexer": "ipython3",
   "version": "3.8.5"
  },
  "toc": {
   "base_numbering": 1,
   "nav_menu": {
    "height": "156px",
    "width": "170px"
   },
   "number_sections": true,
   "sideBar": true,
   "skip_h1_title": false,
   "title_cell": "Table of Contents",
   "title_sidebar": "Contents",
   "toc_cell": false,
   "toc_position": {},
   "toc_section_display": true,
   "toc_window_display": true
  },
  "varInspector": {
   "cols": {
    "lenName": 16,
    "lenType": 16,
    "lenVar": 40
   },
   "kernels_config": {
    "python": {
     "delete_cmd_postfix": "",
     "delete_cmd_prefix": "del ",
     "library": "var_list.py",
     "varRefreshCmd": "print(var_dic_list())"
    },
    "r": {
     "delete_cmd_postfix": ") ",
     "delete_cmd_prefix": "rm(",
     "library": "var_list.r",
     "varRefreshCmd": "cat(var_dic_list()) "
    }
   },
   "types_to_exclude": [
    "module",
    "function",
    "builtin_function_or_method",
    "instance",
    "_Feature"
   ],
   "window_display": false
  }
 },
 "nbformat": 4,
 "nbformat_minor": 1
}
