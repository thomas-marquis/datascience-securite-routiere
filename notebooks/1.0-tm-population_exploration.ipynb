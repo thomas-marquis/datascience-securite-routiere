{
 "cells": [
  {
   "cell_type": "markdown",
   "metadata": {
    "id": "NjIczbu43o_f"
   },
   "source": [
    "# Données démographiques"
   ]
  },
  {
   "cell_type": "markdown",
   "metadata": {
    "id": "SWCfQzDZ3uUW"
   },
   "source": [
    "Les données proviennent [des recensements de l'INSEE](https://www.insee.fr/fr/information/2880845)"
   ]
  },
  {
   "cell_type": "code",
   "execution_count": 4,
   "metadata": {
    "colab": {
     "base_uri": "https://localhost:8080/",
     "height": 415
    },
    "executionInfo": {
     "elapsed": 1118,
     "status": "ok",
     "timestamp": 1608417341865,
     "user": {
      "displayName": "Thomas Marquis",
      "photoUrl": "https://lh3.googleusercontent.com/a-/AOh14Ggkbge6jdBzkHFVUrAbznD0ti2qUlGp2uCW0PBjVQ=s64",
      "userId": "08347579005600922262"
     },
     "user_tz": -60
    },
    "id": "r-x5vDXE3lzN",
    "outputId": "5a94887a-3642-4fd8-a33f-2d550e0d6cc1"
   },
   "outputs": [
    {
     "data": {
      "text/html": [
       "<div>\n",
       "<style scoped>\n",
       "    .dataframe tbody tr th:only-of-type {\n",
       "        vertical-align: middle;\n",
       "    }\n",
       "\n",
       "    .dataframe tbody tr th {\n",
       "        vertical-align: top;\n",
       "    }\n",
       "\n",
       "    .dataframe thead th {\n",
       "        text-align: right;\n",
       "    }\n",
       "</style>\n",
       "<table border=\"1\" class=\"dataframe\">\n",
       "  <thead>\n",
       "    <tr style=\"text-align: right;\">\n",
       "      <th></th>\n",
       "      <th>Tranches</th>\n",
       "      <th>Hommes</th>\n",
       "      <th>Femmes</th>\n",
       "      <th>Annee</th>\n",
       "    </tr>\n",
       "  </thead>\n",
       "  <tbody>\n",
       "    <tr>\n",
       "      <th>0</th>\n",
       "      <td>Ensemble</td>\n",
       "      <td>32112732</td>\n",
       "      <td>34248855</td>\n",
       "      <td>2016</td>\n",
       "    </tr>\n",
       "    <tr>\n",
       "      <th>1</th>\n",
       "      <td>0 à 14 ans</td>\n",
       "      <td>6194215</td>\n",
       "      <td>5924059</td>\n",
       "      <td>2016</td>\n",
       "    </tr>\n",
       "    <tr>\n",
       "      <th>2</th>\n",
       "      <td>15 à 29 ans</td>\n",
       "      <td>5920209</td>\n",
       "      <td>5824061</td>\n",
       "      <td>2016</td>\n",
       "    </tr>\n",
       "    <tr>\n",
       "      <th>3</th>\n",
       "      <td>30 à 44 ans</td>\n",
       "      <td>6198589</td>\n",
       "      <td>6395433</td>\n",
       "      <td>2016</td>\n",
       "    </tr>\n",
       "    <tr>\n",
       "      <th>4</th>\n",
       "      <td>45 à 59 ans</td>\n",
       "      <td>6465495</td>\n",
       "      <td>6745117</td>\n",
       "      <td>2016</td>\n",
       "    </tr>\n",
       "    <tr>\n",
       "      <th>...</th>\n",
       "      <td>...</td>\n",
       "      <td>...</td>\n",
       "      <td>...</td>\n",
       "      <td>...</td>\n",
       "    </tr>\n",
       "    <tr>\n",
       "      <th>116</th>\n",
       "      <td>20 à 64 ans</td>\n",
       "      <td>18361466</td>\n",
       "      <td>18882461</td>\n",
       "      <td>2007</td>\n",
       "    </tr>\n",
       "    <tr>\n",
       "      <th>117</th>\n",
       "      <td>65 ans ou plus</td>\n",
       "      <td>4295635</td>\n",
       "      <td>6178835</td>\n",
       "      <td>2007</td>\n",
       "    </tr>\n",
       "    <tr>\n",
       "      <th>118</th>\n",
       "      <td>0 à 19 ans</td>\n",
       "      <td>8104097</td>\n",
       "      <td>7734154</td>\n",
       "      <td>2006</td>\n",
       "    </tr>\n",
       "    <tr>\n",
       "      <th>119</th>\n",
       "      <td>20 à 64 ans</td>\n",
       "      <td>18229622</td>\n",
       "      <td>18737749</td>\n",
       "      <td>2006</td>\n",
       "    </tr>\n",
       "    <tr>\n",
       "      <th>120</th>\n",
       "      <td>65 ans ou plus</td>\n",
       "      <td>4245986</td>\n",
       "      <td>6134489</td>\n",
       "      <td>2006</td>\n",
       "    </tr>\n",
       "  </tbody>\n",
       "</table>\n",
       "<p>121 rows × 4 columns</p>\n",
       "</div>"
      ],
      "text/plain": [
       "           Tranches    Hommes    Femmes  Annee\n",
       "0          Ensemble  32112732  34248855   2016\n",
       "1        0 à 14 ans   6194215   5924059   2016\n",
       "2       15 à 29 ans   5920209   5824061   2016\n",
       "3       30 à 44 ans   6198589   6395433   2016\n",
       "4       45 à 59 ans   6465495   6745117   2016\n",
       "..              ...       ...       ...    ...\n",
       "116     20 à 64 ans  18361466  18882461   2007\n",
       "117  65 ans ou plus   4295635   6178835   2007\n",
       "118      0 à 19 ans   8104097   7734154   2006\n",
       "119     20 à 64 ans  18229622  18737749   2006\n",
       "120  65 ans ou plus   4245986   6134489   2006\n",
       "\n",
       "[121 rows x 4 columns]"
      ]
     },
     "execution_count": 4,
     "metadata": {},
     "output_type": "execute_result"
    }
   ],
   "source": [
    "import pandas as pd\n",
    "\n",
    "pop = pd.read_csv('../data/raw/pop_fr_insee.csv', header=0)\n",
    "pop"
   ]
  },
  {
   "cell_type": "code",
   "execution_count": 5,
   "metadata": {
    "colab": {
     "base_uri": "https://localhost:8080/",
     "height": 307
    },
    "executionInfo": {
     "elapsed": 928,
     "status": "ok",
     "timestamp": 1608417354512,
     "user": {
      "displayName": "Thomas Marquis",
      "photoUrl": "https://lh3.googleusercontent.com/a-/AOh14Ggkbge6jdBzkHFVUrAbznD0ti2qUlGp2uCW0PBjVQ=s64",
      "userId": "08347579005600922262"
     },
     "user_tz": -60
    },
    "id": "0Kf2Js7C-IXt",
    "outputId": "532ceb28-b705-42d9-b476-6df10b6d55a5"
   },
   "outputs": [
    {
     "data": {
      "text/plain": [
       "<AxesSubplot:xlabel='Annee'>"
      ]
     },
     "execution_count": 5,
     "metadata": {},
     "output_type": "execute_result"
    },
    {
     "data": {
      "image/png": "[encoded data removed]",
      "text/plain": [
       "<Figure size 432x288 with 1 Axes>"
      ]
     },
     "metadata": {
      "needs_background": "light"
     },
     "output_type": "display_data"
    }
   ],
   "source": [
    "pop.loc[pop['Tranches'] == 'Ensemble', ['Annee', 'Hommes', 'Femmes']].plot(x='Annee')"
   ]
  },
  {
   "cell_type": "code",
   "execution_count": 7,
   "metadata": {
    "executionInfo": {
     "elapsed": 586,
     "status": "ok",
     "timestamp": 1608417363234,
     "user": {
      "displayName": "Thomas Marquis",
      "photoUrl": "https://lh3.googleusercontent.com/a-/AOh14Ggkbge6jdBzkHFVUrAbznD0ti2qUlGp2uCW0PBjVQ=s64",
      "userId": "08347579005600922262"
     },
     "user_tz": -60
    },
    "id": "-7Dk49Nq-fy1"
   },
   "outputs": [],
   "source": [
    "pop_tot = pop.loc[pop['Tranches'] == 'Ensemble', ['Annee', 'Hommes', 'Femmes']]\n",
    "pop_tot.to_csv('../data/interim/pop_sex_tot.csv', sep=',', header=True, index=False)\n",
    "pop.to_csv('../data/interim/pop_sex.csv', sep=',', header=True, index=False)"
   ]
  }
 ],
 "metadata": {
  "colab": {
   "authorship_tag": "ABX9TyNIE/euIQwgi61gaCprZJlq",
   "collapsed_sections": [],
   "mount_file_id": "1BFIMmARaMk3igPfnpJk21_LhOU-8vOl_",
   "name": "population_exploration.ipynb",
   "provenance": [],
   "toc_visible": true
  },
  "kernelspec": {
   "display_name": "Python 3",
   "language": "python",
   "name": "python3"
  },
  "language_info": {
   "codemirror_mode": {
    "name": "ipython",
    "version": 3
   },
   "file_extension": ".py",
   "mimetype": "text/x-python",
   "name": "python",
   "nbconvert_exporter": "python",
   "pygments_lexer": "ipython3",
   "version": "3.8.6"
  },
  "toc": {
   "base_numbering": 1,
   "nav_menu": {},
   "number_sections": true,
   "sideBar": true,
   "skip_h1_title": false,
   "title_cell": "Table of Contents",
   "title_sidebar": "Contents",
   "toc_cell": false,
   "toc_position": {},
   "toc_section_display": true,
   "toc_window_display": false
  },
  "varInspector": {
   "cols": {
    "lenName": 16,
    "lenType": 16,
    "lenVar": 40
   },
   "kernels_config": {
    "python": {
     "delete_cmd_postfix": "",
     "delete_cmd_prefix": "del ",
     "library": "var_list.py",
     "varRefreshCmd": "print(var_dic_list())"
    },
    "r": {
     "delete_cmd_postfix": ") ",
     "delete_cmd_prefix": "rm(",
     "library": "var_list.r",
     "varRefreshCmd": "cat(var_dic_list()) "
    }
   },
   "types_to_exclude": [
    "module",
    "function",
    "builtin_function_or_method",
    "instance",
    "_Feature"
   ],
   "window_display": false
  }
 },
 "nbformat": 4,
 "nbformat_minor": 1
}
