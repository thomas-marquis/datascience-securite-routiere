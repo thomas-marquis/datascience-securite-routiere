{
 "cells": [
  {
   "cell_type": "code",
   "execution_count": 4,
   "metadata": {
    "ExecuteTime": {
     "end_time": "2020-12-31T10:14:14.356830Z",
     "start_time": "2020-12-31T10:14:14.059458Z"
    },
    "init_cell": true,
    "scrolled": false
   },
   "outputs": [
    {
     "name": "stdout",
     "output_type": "stream",
     "text": [
      "The autoreload extension is already loaded. To reload it, use:\n",
      "  %reload_ext autoreload\n"
     ]
    }
   ],
   "source": [
    "import sys\n",
    "import logging\n",
    "import os\n",
    "\n",
    "%load_ext autoreload\n",
    "%autoreload\n",
    "\n",
    "sys.path.insert(0, '../')\n",
    "logger = logging.getLogger()\n",
    "logger.setLevel(logging.INFO)\n",
    "\n",
    "import pandas as pd\n",
    "import matplotlib.pyplot as plt\n",
    "\n",
    "from lib.visualization import visualize as viz\n",
    "from lib.features import accidents as acc, drivers\n",
    "from lib.data.accidents import loaders as acc_loaders\n",
    "from lib import utils, stats\n",
    "\n",
    "get_path_raw = '../data/raw/accidents/{}.csv'.format\n",
    "get_path_interim = '../data/interim/accidents/{}.csv'.format"
   ]
  },
  {
   "cell_type": "markdown",
   "metadata": {
    "id": "QN_RcMBXNgxS"
   },
   "source": [
    "# Sécrurité routière en france - exploration"
   ]
  },
  {
   "cell_type": "markdown",
   "metadata": {},
   "source": [
    "## Chargement et nettoyage des données"
   ]
  },
  {
   "cell_type": "code",
   "execution_count": 9,
   "metadata": {
    "ExecuteTime": {
     "end_time": "2020-12-28T06:34:21.912619Z",
     "start_time": "2020-12-28T06:34:09.392959Z"
    },
    "collapsed": true
   },
   "outputs": [
    {
     "name": "stdout",
     "output_type": "stream",
     "text": [
      "file ../data/raw/accidents/caracs.csv already exists\n",
      "file ../data/raw/accidents/users.csv already exists\n",
      "file ../data/raw/accidents/vehicles.csv already exists\n",
      "file ../data/raw/accidents/locations.csv already exists\n"
     ]
    },
    {
     "name": "stderr",
     "output_type": "stream",
     "text": [
      "C:\\Users\\thomas.marquis\\AppData\\Roaming\\Python\\Python38\\site-packages\\IPython\\core\\interactiveshell.py:3418: DtypeWarning: Columns (4,6,7,13,14,15) have mixed types.Specify dtype option on import or set low_memory=False.\n",
      "  exec(code_obj, self.user_global_ns, self.user_ns)\n"
     ]
    },
    {
     "name": "stdout",
     "output_type": "stream",
     "text": [
      "Index(['Num_Acc', 'jour', 'mois', 'an', 'hrmn', 'lum', 'dep', 'com', 'agg',\n",
      "       'int', 'atm', 'col', 'adr', 'lat', 'long', 'gps'],\n",
      "      dtype='object')\n"
     ]
    },
    {
     "name": "stderr",
     "output_type": "stream",
     "text": [
      "INFO:root:../data/raw/accidents/caracs.csv: 236756 lines loaded (16.72)Mb\n"
     ]
    },
    {
     "name": "stdout",
     "output_type": "stream",
     "text": [
      "write caracs: 236756 lines\n"
     ]
    },
    {
     "name": "stderr",
     "output_type": "stream",
     "text": [
      "C:\\Users\\thomas.marquis\\AppData\\Roaming\\Python\\Python38\\site-packages\\IPython\\core\\interactiveshell.py:3418: DtypeWarning: Columns (1,13) have mixed types.Specify dtype option on import or set low_memory=False.\n",
      "  exec(code_obj, self.user_global_ns, self.user_ns)\n"
     ]
    },
    {
     "name": "stdout",
     "output_type": "stream",
     "text": [
      "Index(['Num_Acc', 'id_vehicule', 'num_veh', 'place', 'catu', 'grav', 'sexe',\n",
      "       'an_nais', 'trajet', 'secu1', 'secu2', 'secu3', 'locp', 'actp', 'etatp',\n",
      "       'secu'],\n",
      "      dtype='object')\n"
     ]
    },
    {
     "name": "stderr",
     "output_type": "stream",
     "text": [
      "INFO:root:../data/raw/accidents/users.csv: 532589 lines loaded (20.83)Mb\n"
     ]
    },
    {
     "name": "stdout",
     "output_type": "stream",
     "text": [
      "write users: 532589 lines\n"
     ]
    },
    {
     "name": "stderr",
     "output_type": "stream",
     "text": [
      "C:\\Users\\thomas.marquis\\AppData\\Roaming\\Python\\Python38\\site-packages\\IPython\\core\\interactiveshell.py:3418: DtypeWarning: Columns (1) have mixed types.Specify dtype option on import or set low_memory=False.\n",
      "  exec(code_obj, self.user_global_ns, self.user_ns)\n"
     ]
    },
    {
     "name": "stdout",
     "output_type": "stream",
     "text": [
      "Index(['Num_Acc', 'id_vehicule', 'num_veh', 'senc', 'catv', 'obs', 'obsm',\n",
      "       'choc', 'manv', 'motor', 'occutc'],\n",
      "      dtype='object')\n"
     ]
    },
    {
     "name": "stderr",
     "output_type": "stream",
     "text": [
      "INFO:root:../data/raw/accidents/vehicles.csv: 405056 lines loaded (13.91)Mb\n"
     ]
    },
    {
     "name": "stdout",
     "output_type": "stream",
     "text": [
      "write vehicles: 405056 lines\n"
     ]
    },
    {
     "name": "stderr",
     "output_type": "stream",
     "text": [
      "C:\\Users\\thomas.marquis\\AppData\\Roaming\\Python\\Python38\\site-packages\\IPython\\core\\interactiveshell.py:3418: DtypeWarning: Columns (2,9,10) have mixed types.Specify dtype option on import or set low_memory=False.\n",
      "  exec(code_obj, self.user_global_ns, self.user_ns)\n"
     ]
    },
    {
     "name": "stdout",
     "output_type": "stream",
     "text": [
      "Index(['Num_Acc', 'catr', 'voie', 'v1', 'v2', 'circ', 'nbv', 'vosp', 'prof',\n",
      "       'pr', 'pr1', 'plan', 'lartpc', 'larrout', 'surf', 'infra', 'situ',\n",
      "       'vma', 'env1'],\n",
      "      dtype='object')\n"
     ]
    },
    {
     "name": "stderr",
     "output_type": "stream",
     "text": [
      "INFO:root:../data/raw/accidents/locations.csv: 236756 lines loaded (20.32)Mb\n"
     ]
    },
    {
     "name": "stdout",
     "output_type": "stream",
     "text": [
      "write locations: 236756 lines\n"
     ]
    }
   ],
   "source": [
    "specs = [\n",
    "    ('caracs', acc.clean_caracs_dataset),\n",
    "    ('users', acc.clean_users_dataset),\n",
    "    ('vehicles', acc.clean_vehicles_dataset),\n",
    "    ('locations', acc.clean_locations_dataset),\n",
    "]\n",
    "\n",
    "\n",
    "def is_file_exists(file_name: str) -> bool:\n",
    "    if os.path.exists(file_name):\n",
    "        print('file {} already exists'.format(file_name))\n",
    "        return True\n",
    "    return False\n",
    "\n",
    "\n",
    "def write_raw_datasets():\n",
    "    for name, *_ in specs:\n",
    "        file_name = get_path_raw(name)\n",
    "        if not is_file_exists(file_name):\n",
    "            raw_df = acc_loaders.get_raw_dataset(name)\n",
    "            print('write {}: {} lines'.format(file_name, raw_df.shape[0]))\n",
    "            raw_df.to_csv(file_name, sep=';', header=True, index=False)\n",
    "\n",
    "\n",
    "def write_clean_dataset(data_name: str, func) -> None:\n",
    "    out_path = get_path_interim(data_name)\n",
    "    if not is_file_exists(out_path):\n",
    "        dtypes = acc_loaders.dtypes(data_name)\n",
    "        df = utils.get_dataset(get_path_raw(data_name), dtypes)\n",
    "        df = func(df)\n",
    "        print('write {}: {} lines'.format(data_name, df.shape[0]))\n",
    "        df.to_csv(out_path, header=True, index=False, sep=';')\n",
    "\n",
    "\n",
    "write_raw_datasets()\n",
    "\n",
    "for name, func in specs:\n",
    "    write_clean_dataset(name, func)"
   ]
  },
  {
   "cell_type": "markdown",
   "metadata": {
    "id": "A1zqjo_fNchZ"
   },
   "source": [
    "## Questions"
   ]
  },
  {
   "cell_type": "markdown",
   "metadata": {
    "id": "c3johtbcEufE"
   },
   "source": [
    "### Combien de personnes sont tuées sur les routes tous les ans ?"
   ]
  },
  {
   "cell_type": "code",
   "execution_count": 27,
   "metadata": {
    "ExecuteTime": {
     "end_time": "2020-12-28T06:51:09.484569Z",
     "start_time": "2020-12-28T06:51:05.983999Z"
    },
    "executionInfo": {
     "elapsed": 131491,
     "status": "aborted",
     "timestamp": 1608651677782,
     "user": {
      "displayName": "Thomas Marquis",
      "photoUrl": "https://lh3.googleusercontent.com/a-/AOh14Ggkbge6jdBzkHFVUrAbznD0ti2qUlGp2uCW0PBjVQ=s64",
      "userId": "08347579005600922262"
     },
     "user_tz": -60
    },
    "id": "h2OWc4lq1wnD",
    "scrolled": true
   },
   "outputs": [
    {
     "name": "stderr",
     "output_type": "stream",
     "text": [
      "C:\\Users\\thomas.marquis\\AppData\\Roaming\\Python\\Python38\\site-packages\\IPython\\core\\interactiveshell.py:3338: DtypeWarning:\n",
      "\n",
      "Columns (9) have mixed types.Specify dtype option on import or set low_memory=False.\n",
      "\n",
      "INFO:root:../data/interim/accidents/users.csv: 532589 lines loaded (14.73)Mb\n",
      "C:\\Users\\thomas.marquis\\AppData\\Roaming\\Python\\Python38\\site-packages\\IPython\\core\\interactiveshell.py:3338: DtypeWarning:\n",
      "\n",
      "Columns (5,6,12,13,14) have mixed types.Specify dtype option on import or set low_memory=False.\n",
      "\n",
      "INFO:root:../data/interim/accidents/caracs.csv: 236756 lines loaded (18.52)Mb\n"
     ]
    },
    {
     "data": {
      "application/vnd.plotly.v1+json": {
       "config": {
        "plotlyServerURL": "https://plot.ly"
       },
       "data": [
        {
         "alignmentgroup": "True",
         "hovertemplate": "year=%{x}<br>killed=%{y}<extra></extra>",
         "legendgroup": "",
         "marker": {
          "color": "#636efa"
         },
         "name": "",
         "offsetgroup": "",
         "orientation": "v",
         "showlegend": false,
         "textposition": "auto",
         "type": "bar",
         "x": [
          2016,
          2017,
          2018,
          2019
         ],
         "xaxis": "x",
         "y": [
          3655,
          3600,
          3392,
          3498
         ],
         "yaxis": "y"
        }
       ],
       "layout": {
        "barmode": "relative",
        "legend": {
         "tracegroupgap": 0
        },
        "margin": {
         "t": 60
        },
        "template": {
         "data": {
          "bar": [
           {
            "error_x": {
             "color": "#2a3f5f"
            },
            "error_y": {
             "color": "#2a3f5f"
            },
            "marker": {
             "line": {
              "color": "#E5ECF6",
              "width": 0.5
             }
            },
            "type": "bar"
           }
          ],
          "barpolar": [
           {
            "marker": {
             "line": {
              "color": "#E5ECF6",
              "width": 0.5
             }
            },
            "type": "barpolar"
           }
          ],
          "carpet": [
           {
            "aaxis": {
             "endlinecolor": "#2a3f5f",
             "gridcolor": "white",
             "linecolor": "white",
             "minorgridcolor": "white",
             "startlinecolor": "#2a3f5f"
            },
            "baxis": {
             "endlinecolor": "#2a3f5f",
             "gridcolor": "white",
             "linecolor": "white",
             "minorgridcolor": "white",
             "startlinecolor": "#2a3f5f"
            },
            "type": "carpet"
           }
          ],
          "choropleth": [
           {
            "colorbar": {
             "outlinewidth": 0,
             "ticks": ""
            },
            "type": "choropleth"
           }
          ],
          "contour": [
           {
            "colorbar": {
             "outlinewidth": 0,
             "ticks": ""
            },
            "colorscale": [
             [
              0,
              "#0d0887"
             ],
             [
              0.1111111111111111,
              "#46039f"
             ],
             [
              0.2222222222222222,
              "#7201a8"
             ],
             [
              0.3333333333333333,
              "#9c179e"
             ],
             [
              0.4444444444444444,
              "#bd3786"
             ],
             [
              0.5555555555555556,
              "#d8576b"
             ],
             [
              0.6666666666666666,
              "#ed7953"
             ],
             [
              0.7777777777777778,
              "#fb9f3a"
             ],
             [
              0.8888888888888888,
              "#fdca26"
             ],
             [
              1,
              "#f0f921"
             ]
            ],
            "type": "contour"
           }
          ],
          "contourcarpet": [
           {
            "colorbar": {
             "outlinewidth": 0,
             "ticks": ""
            },
            "type": "contourcarpet"
           }
          ],
          "heatmap": [
           {
            "colorbar": {
             "outlinewidth": 0,
             "ticks": ""
            },
            "colorscale": [
             [
              0,
              "#0d0887"
             ],
             [
              0.1111111111111111,
              "#46039f"
             ],
             [
              0.2222222222222222,
              "#7201a8"
             ],
             [
              0.3333333333333333,
              "#9c179e"
             ],
             [
              0.4444444444444444,
              "#bd3786"
             ],
             [
              0.5555555555555556,
              "#d8576b"
             ],
             [
              0.6666666666666666,
              "#ed7953"
             ],
             [
              0.7777777777777778,
              "#fb9f3a"
             ],
             [
              0.8888888888888888,
              "#fdca26"
             ],
             [
              1,
              "#f0f921"
             ]
            ],
            "type": "heatmap"
           }
          ],
          "heatmapgl": [
           {
            "colorbar": {
             "outlinewidth": 0,
             "ticks": ""
            },
            "colorscale": [
             [
              0,
              "#0d0887"
             ],
             [
              0.1111111111111111,
              "#46039f"
             ],
             [
              0.2222222222222222,
              "#7201a8"
             ],
             [
              0.3333333333333333,
              "#9c179e"
             ],
             [
              0.4444444444444444,
              "#bd3786"
             ],
             [
              0.5555555555555556,
              "#d8576b"
             ],
             [
              0.6666666666666666,
              "#ed7953"
             ],
             [
              0.7777777777777778,
              "#fb9f3a"
             ],
             [
              0.8888888888888888,
              "#fdca26"
             ],
             [
              1,
              "#f0f921"
             ]
            ],
            "type": "heatmapgl"
           }
          ],
          "histogram": [
           {
            "marker": {
             "colorbar": {
              "outlinewidth": 0,
              "ticks": ""
             }
            },
            "type": "histogram"
           }
          ],
          "histogram2d": [
           {
            "colorbar": {
             "outlinewidth": 0,
             "ticks": ""
            },
            "colorscale": [
             [
              0,
              "#0d0887"
             ],
             [
              0.1111111111111111,
              "#46039f"
             ],
             [
              0.2222222222222222,
              "#7201a8"
             ],
             [
              0.3333333333333333,
              "#9c179e"
             ],
             [
              0.4444444444444444,
              "#bd3786"
             ],
             [
              0.5555555555555556,
              "#d8576b"
             ],
             [
              0.6666666666666666,
              "#ed7953"
             ],
             [
              0.7777777777777778,
              "#fb9f3a"
             ],
             [
              0.8888888888888888,
              "#fdca26"
             ],
             [
              1,
              "#f0f921"
             ]
            ],
            "type": "histogram2d"
           }
          ],
          "histogram2dcontour": [
           {
            "colorbar": {
             "outlinewidth": 0,
             "ticks": ""
            },
            "colorscale": [
             [
              0,
              "#0d0887"
             ],
             [
              0.1111111111111111,
              "#46039f"
             ],
             [
              0.2222222222222222,
              "#7201a8"
             ],
             [
              0.3333333333333333,
              "#9c179e"
             ],
             [
              0.4444444444444444,
              "#bd3786"
             ],
             [
              0.5555555555555556,
              "#d8576b"
             ],
             [
              0.6666666666666666,
              "#ed7953"
             ],
             [
              0.7777777777777778,
              "#fb9f3a"
             ],
             [
              0.8888888888888888,
              "#fdca26"
             ],
             [
              1,
              "#f0f921"
             ]
            ],
            "type": "histogram2dcontour"
           }
          ],
          "mesh3d": [
           {
            "colorbar": {
             "outlinewidth": 0,
             "ticks": ""
            },
            "type": "mesh3d"
           }
          ],
          "parcoords": [
           {
            "line": {
             "colorbar": {
              "outlinewidth": 0,
              "ticks": ""
             }
            },
            "type": "parcoords"
           }
          ],
          "pie": [
           {
            "automargin": true,
            "type": "pie"
           }
          ],
          "scatter": [
           {
            "marker": {
             "colorbar": {
              "outlinewidth": 0,
              "ticks": ""
             }
            },
            "type": "scatter"
           }
          ],
          "scatter3d": [
           {
            "line": {
             "colorbar": {
              "outlinewidth": 0,
              "ticks": ""
             }
            },
            "marker": {
             "colorbar": {
              "outlinewidth": 0,
              "ticks": ""
             }
            },
            "type": "scatter3d"
           }
          ],
          "scattercarpet": [
           {
            "marker": {
             "colorbar": {
              "outlinewidth": 0,
              "ticks": ""
             }
            },
            "type": "scattercarpet"
           }
          ],
          "scattergeo": [
           {
            "marker": {
             "colorbar": {
              "outlinewidth": 0,
              "ticks": ""
             }
            },
            "type": "scattergeo"
           }
          ],
          "scattergl": [
           {
            "marker": {
             "colorbar": {
              "outlinewidth": 0,
              "ticks": ""
             }
            },
            "type": "scattergl"
           }
          ],
          "scattermapbox": [
           {
            "marker": {
             "colorbar": {
              "outlinewidth": 0,
              "ticks": ""
             }
            },
            "type": "scattermapbox"
           }
          ],
          "scatterpolar": [
           {
            "marker": {
             "colorbar": {
              "outlinewidth": 0,
              "ticks": ""
             }
            },
            "type": "scatterpolar"
           }
          ],
          "scatterpolargl": [
           {
            "marker": {
             "colorbar": {
              "outlinewidth": 0,
              "ticks": ""
             }
            },
            "type": "scatterpolargl"
           }
          ],
          "scatterternary": [
           {
            "marker": {
             "colorbar": {
              "outlinewidth": 0,
              "ticks": ""
             }
            },
            "type": "scatterternary"
           }
          ],
          "surface": [
           {
            "colorbar": {
             "outlinewidth": 0,
             "ticks": ""
            },
            "colorscale": [
             [
              0,
              "#0d0887"
             ],
             [
              0.1111111111111111,
              "#46039f"
             ],
             [
              0.2222222222222222,
              "#7201a8"
             ],
             [
              0.3333333333333333,
              "#9c179e"
             ],
             [
              0.4444444444444444,
              "#bd3786"
             ],
             [
              0.5555555555555556,
              "#d8576b"
             ],
             [
              0.6666666666666666,
              "#ed7953"
             ],
             [
              0.7777777777777778,
              "#fb9f3a"
             ],
             [
              0.8888888888888888,
              "#fdca26"
             ],
             [
              1,
              "#f0f921"
             ]
            ],
            "type": "surface"
           }
          ],
          "table": [
           {
            "cells": {
             "fill": {
              "color": "#EBF0F8"
             },
             "line": {
              "color": "white"
             }
            },
            "header": {
             "fill": {
              "color": "#C8D4E3"
             },
             "line": {
              "color": "white"
             }
            },
            "type": "table"
           }
          ]
         },
         "layout": {
          "annotationdefaults": {
           "arrowcolor": "#2a3f5f",
           "arrowhead": 0,
           "arrowwidth": 1
          },
          "autotypenumbers": "strict",
          "coloraxis": {
           "colorbar": {
            "outlinewidth": 0,
            "ticks": ""
           }
          },
          "colorscale": {
           "diverging": [
            [
             0,
             "#8e0152"
            ],
            [
             0.1,
             "#c51b7d"
            ],
            [
             0.2,
             "#de77ae"
            ],
            [
             0.3,
             "#f1b6da"
            ],
            [
             0.4,
             "#fde0ef"
            ],
            [
             0.5,
             "#f7f7f7"
            ],
            [
             0.6,
             "#e6f5d0"
            ],
            [
             0.7,
             "#b8e186"
            ],
            [
             0.8,
             "#7fbc41"
            ],
            [
             0.9,
             "#4d9221"
            ],
            [
             1,
             "#276419"
            ]
           ],
           "sequential": [
            [
             0,
             "#0d0887"
            ],
            [
             0.1111111111111111,
             "#46039f"
            ],
            [
             0.2222222222222222,
             "#7201a8"
            ],
            [
             0.3333333333333333,
             "#9c179e"
            ],
            [
             0.4444444444444444,
             "#bd3786"
            ],
            [
             0.5555555555555556,
             "#d8576b"
            ],
            [
             0.6666666666666666,
             "#ed7953"
            ],
            [
             0.7777777777777778,
             "#fb9f3a"
            ],
            [
             0.8888888888888888,
             "#fdca26"
            ],
            [
             1,
             "#f0f921"
            ]
           ],
           "sequentialminus": [
            [
             0,
             "#0d0887"
            ],
            [
             0.1111111111111111,
             "#46039f"
            ],
            [
             0.2222222222222222,
             "#7201a8"
            ],
            [
             0.3333333333333333,
             "#9c179e"
            ],
            [
             0.4444444444444444,
             "#bd3786"
            ],
            [
             0.5555555555555556,
             "#d8576b"
            ],
            [
             0.6666666666666666,
             "#ed7953"
            ],
            [
             0.7777777777777778,
             "#fb9f3a"
            ],
            [
             0.8888888888888888,
             "#fdca26"
            ],
            [
             1,
             "#f0f921"
            ]
           ]
          },
          "colorway": [
           "#636efa",
           "#EF553B",
           "#00cc96",
           "#ab63fa",
           "#FFA15A",
           "#19d3f3",
           "#FF6692",
           "#B6E880",
           "#FF97FF",
           "#FECB52"
          ],
          "font": {
           "color": "#2a3f5f"
          },
          "geo": {
           "bgcolor": "white",
           "lakecolor": "white",
           "landcolor": "#E5ECF6",
           "showlakes": true,
           "showland": true,
           "subunitcolor": "white"
          },
          "hoverlabel": {
           "align": "left"
          },
          "hovermode": "closest",
          "mapbox": {
           "style": "light"
          },
          "paper_bgcolor": "white",
          "plot_bgcolor": "#E5ECF6",
          "polar": {
           "angularaxis": {
            "gridcolor": "white",
            "linecolor": "white",
            "ticks": ""
           },
           "bgcolor": "#E5ECF6",
           "radialaxis": {
            "gridcolor": "white",
            "linecolor": "white",
            "ticks": ""
           }
          },
          "scene": {
           "xaxis": {
            "backgroundcolor": "#E5ECF6",
            "gridcolor": "white",
            "gridwidth": 2,
            "linecolor": "white",
            "showbackground": true,
            "ticks": "",
            "zerolinecolor": "white"
           },
           "yaxis": {
            "backgroundcolor": "#E5ECF6",
            "gridcolor": "white",
            "gridwidth": 2,
            "linecolor": "white",
            "showbackground": true,
            "ticks": "",
            "zerolinecolor": "white"
           },
           "zaxis": {
            "backgroundcolor": "#E5ECF6",
            "gridcolor": "white",
            "gridwidth": 2,
            "linecolor": "white",
            "showbackground": true,
            "ticks": "",
            "zerolinecolor": "white"
           }
          },
          "shapedefaults": {
           "line": {
            "color": "#2a3f5f"
           }
          },
          "ternary": {
           "aaxis": {
            "gridcolor": "white",
            "linecolor": "white",
            "ticks": ""
           },
           "baxis": {
            "gridcolor": "white",
            "linecolor": "white",
            "ticks": ""
           },
           "bgcolor": "#E5ECF6",
           "caxis": {
            "gridcolor": "white",
            "linecolor": "white",
            "ticks": ""
           }
          },
          "title": {
           "x": 0.05
          },
          "xaxis": {
           "automargin": true,
           "gridcolor": "white",
           "linecolor": "white",
           "ticks": "",
           "title": {
            "standoff": 15
           },
           "zerolinecolor": "white",
           "zerolinewidth": 2
          },
          "yaxis": {
           "automargin": true,
           "gridcolor": "white",
           "linecolor": "white",
           "ticks": "",
           "title": {
            "standoff": 15
           },
           "zerolinecolor": "white",
           "zerolinewidth": 2
          }
         }
        },
        "xaxis": {
         "anchor": "y",
         "domain": [
          0,
          1
         ],
         "title": {
          "text": "year"
         }
        },
        "yaxis": {
         "anchor": "x",
         "domain": [
          0,
          1
         ],
         "title": {
          "text": "killed"
         }
        }
       }
      },
      "text/html": [
       "<div>                            <div id=\"6b94ae98-869c-4827-940d-bcfa6bba591f\" class=\"plotly-graph-div\" style=\"height:525px; width:100%;\"></div>            <script type=\"text/javascript\">                require([\"plotly\"], function(Plotly) {                    window.PLOTLYENV=window.PLOTLYENV || {};                                    if (document.getElementById(\"6b94ae98-869c-4827-940d-bcfa6bba591f\")) {                    Plotly.newPlot(                        \"6b94ae98-869c-4827-940d-bcfa6bba591f\",                        [{\"alignmentgroup\": \"True\", \"hovertemplate\": \"year=%{x}<br>killed=%{y}<extra></extra>\", \"legendgroup\": \"\", \"marker\": {\"color\": \"#636efa\"}, \"name\": \"\", \"offsetgroup\": \"\", \"orientation\": \"v\", \"showlegend\": false, \"textposition\": \"auto\", \"type\": \"bar\", \"x\": [2016, 2017, 2018, 2019], \"xaxis\": \"x\", \"y\": [3655, 3600, 3392, 3498], \"yaxis\": \"y\"}],                        {\"barmode\": \"relative\", \"legend\": {\"tracegroupgap\": 0}, \"margin\": {\"t\": 60}, \"template\": {\"data\": {\"bar\": [{\"error_x\": {\"color\": \"#2a3f5f\"}, \"error_y\": {\"color\": \"#2a3f5f\"}, \"marker\": {\"line\": {\"color\": \"#E5ECF6\", \"width\": 0.5}}, \"type\": \"bar\"}], \"barpolar\": [{\"marker\": {\"line\": {\"color\": \"#E5ECF6\", \"width\": 0.5}}, \"type\": \"barpolar\"}], \"carpet\": [{\"aaxis\": {\"endlinecolor\": \"#2a3f5f\", \"gridcolor\": \"white\", \"linecolor\": \"white\", \"minorgridcolor\": \"white\", \"startlinecolor\": \"#2a3f5f\"}, \"baxis\": {\"endlinecolor\": \"#2a3f5f\", \"gridcolor\": \"white\", \"linecolor\": \"white\", \"minorgridcolor\": \"white\", \"startlinecolor\": \"#2a3f5f\"}, \"type\": \"carpet\"}], \"choropleth\": [{\"colorbar\": {\"outlinewidth\": 0, \"ticks\": \"\"}, \"type\": \"choropleth\"}], \"contour\": [{\"colorbar\": {\"outlinewidth\": 0, \"ticks\": \"\"}, \"colorscale\": [[0.0, \"#0d0887\"], [0.1111111111111111, \"#46039f\"], [0.2222222222222222, \"#7201a8\"], [0.3333333333333333, \"#9c179e\"], [0.4444444444444444, \"#bd3786\"], [0.5555555555555556, \"#d8576b\"], [0.6666666666666666, \"#ed7953\"], [0.7777777777777778, \"#fb9f3a\"], [0.8888888888888888, \"#fdca26\"], [1.0, \"#f0f921\"]], \"type\": \"contour\"}], \"contourcarpet\": [{\"colorbar\": {\"outlinewidth\": 0, \"ticks\": \"\"}, \"type\": \"contourcarpet\"}], \"heatmap\": [{\"colorbar\": {\"outlinewidth\": 0, \"ticks\": \"\"}, \"colorscale\": [[0.0, \"#0d0887\"], [0.1111111111111111, \"#46039f\"], [0.2222222222222222, \"#7201a8\"], [0.3333333333333333, \"#9c179e\"], [0.4444444444444444, \"#bd3786\"], [0.5555555555555556, \"#d8576b\"], [0.6666666666666666, \"#ed7953\"], [0.7777777777777778, \"#fb9f3a\"], [0.8888888888888888, \"#fdca26\"], [1.0, \"#f0f921\"]], \"type\": \"heatmap\"}], \"heatmapgl\": [{\"colorbar\": {\"outlinewidth\": 0, \"ticks\": \"\"}, \"colorscale\": [[0.0, \"#0d0887\"], [0.1111111111111111, \"#46039f\"], [0.2222222222222222, \"#7201a8\"], [0.3333333333333333, \"#9c179e\"], [0.4444444444444444, \"#bd3786\"], [0.5555555555555556, \"#d8576b\"], [0.6666666666666666, \"#ed7953\"], [0.7777777777777778, \"#fb9f3a\"], [0.8888888888888888, \"#fdca26\"], [1.0, \"#f0f921\"]], \"type\": \"heatmapgl\"}], \"histogram\": [{\"marker\": {\"colorbar\": {\"outlinewidth\": 0, \"ticks\": \"\"}}, \"type\": \"histogram\"}], \"histogram2d\": [{\"colorbar\": {\"outlinewidth\": 0, \"ticks\": \"\"}, \"colorscale\": [[0.0, \"#0d0887\"], [0.1111111111111111, \"#46039f\"], [0.2222222222222222, \"#7201a8\"], [0.3333333333333333, \"#9c179e\"], [0.4444444444444444, \"#bd3786\"], [0.5555555555555556, \"#d8576b\"], [0.6666666666666666, \"#ed7953\"], [0.7777777777777778, \"#fb9f3a\"], [0.8888888888888888, \"#fdca26\"], [1.0, \"#f0f921\"]], \"type\": \"histogram2d\"}], \"histogram2dcontour\": [{\"colorbar\": {\"outlinewidth\": 0, \"ticks\": \"\"}, \"colorscale\": [[0.0, \"#0d0887\"], [0.1111111111111111, \"#46039f\"], [0.2222222222222222, \"#7201a8\"], [0.3333333333333333, \"#9c179e\"], [0.4444444444444444, \"#bd3786\"], [0.5555555555555556, \"#d8576b\"], [0.6666666666666666, \"#ed7953\"], [0.7777777777777778, \"#fb9f3a\"], [0.8888888888888888, \"#fdca26\"], [1.0, \"#f0f921\"]], \"type\": \"histogram2dcontour\"}], \"mesh3d\": [{\"colorbar\": {\"outlinewidth\": 0, \"ticks\": \"\"}, \"type\": \"mesh3d\"}], \"parcoords\": [{\"line\": {\"colorbar\": {\"outlinewidth\": 0, \"ticks\": \"\"}}, \"type\": \"parcoords\"}], \"pie\": [{\"automargin\": true, \"type\": \"pie\"}], \"scatter\": [{\"marker\": {\"colorbar\": {\"outlinewidth\": 0, \"ticks\": \"\"}}, \"type\": \"scatter\"}], \"scatter3d\": [{\"line\": {\"colorbar\": {\"outlinewidth\": 0, \"ticks\": \"\"}}, \"marker\": {\"colorbar\": {\"outlinewidth\": 0, \"ticks\": \"\"}}, \"type\": \"scatter3d\"}], \"scattercarpet\": [{\"marker\": {\"colorbar\": {\"outlinewidth\": 0, \"ticks\": \"\"}}, \"type\": \"scattercarpet\"}], \"scattergeo\": [{\"marker\": {\"colorbar\": {\"outlinewidth\": 0, \"ticks\": \"\"}}, \"type\": \"scattergeo\"}], \"scattergl\": [{\"marker\": {\"colorbar\": {\"outlinewidth\": 0, \"ticks\": \"\"}}, \"type\": \"scattergl\"}], \"scattermapbox\": [{\"marker\": {\"colorbar\": {\"outlinewidth\": 0, \"ticks\": \"\"}}, \"type\": \"scattermapbox\"}], \"scatterpolar\": [{\"marker\": {\"colorbar\": {\"outlinewidth\": 0, \"ticks\": \"\"}}, \"type\": \"scatterpolar\"}], \"scatterpolargl\": [{\"marker\": {\"colorbar\": {\"outlinewidth\": 0, \"ticks\": \"\"}}, \"type\": \"scatterpolargl\"}], \"scatterternary\": [{\"marker\": {\"colorbar\": {\"outlinewidth\": 0, \"ticks\": \"\"}}, \"type\": \"scatterternary\"}], \"surface\": [{\"colorbar\": {\"outlinewidth\": 0, \"ticks\": \"\"}, \"colorscale\": [[0.0, \"#0d0887\"], [0.1111111111111111, \"#46039f\"], [0.2222222222222222, \"#7201a8\"], [0.3333333333333333, \"#9c179e\"], [0.4444444444444444, \"#bd3786\"], [0.5555555555555556, \"#d8576b\"], [0.6666666666666666, \"#ed7953\"], [0.7777777777777778, \"#fb9f3a\"], [0.8888888888888888, \"#fdca26\"], [1.0, \"#f0f921\"]], \"type\": \"surface\"}], \"table\": [{\"cells\": {\"fill\": {\"color\": \"#EBF0F8\"}, \"line\": {\"color\": \"white\"}}, \"header\": {\"fill\": {\"color\": \"#C8D4E3\"}, \"line\": {\"color\": \"white\"}}, \"type\": \"table\"}]}, \"layout\": {\"annotationdefaults\": {\"arrowcolor\": \"#2a3f5f\", \"arrowhead\": 0, \"arrowwidth\": 1}, \"autotypenumbers\": \"strict\", \"coloraxis\": {\"colorbar\": {\"outlinewidth\": 0, \"ticks\": \"\"}}, \"colorscale\": {\"diverging\": [[0, \"#8e0152\"], [0.1, \"#c51b7d\"], [0.2, \"#de77ae\"], [0.3, \"#f1b6da\"], [0.4, \"#fde0ef\"], [0.5, \"#f7f7f7\"], [0.6, \"#e6f5d0\"], [0.7, \"#b8e186\"], [0.8, \"#7fbc41\"], [0.9, \"#4d9221\"], [1, \"#276419\"]], \"sequential\": [[0.0, \"#0d0887\"], [0.1111111111111111, \"#46039f\"], [0.2222222222222222, \"#7201a8\"], [0.3333333333333333, \"#9c179e\"], [0.4444444444444444, \"#bd3786\"], [0.5555555555555556, \"#d8576b\"], [0.6666666666666666, \"#ed7953\"], [0.7777777777777778, \"#fb9f3a\"], [0.8888888888888888, \"#fdca26\"], [1.0, \"#f0f921\"]], \"sequentialminus\": [[0.0, \"#0d0887\"], [0.1111111111111111, \"#46039f\"], [0.2222222222222222, \"#7201a8\"], [0.3333333333333333, \"#9c179e\"], [0.4444444444444444, \"#bd3786\"], [0.5555555555555556, \"#d8576b\"], [0.6666666666666666, \"#ed7953\"], [0.7777777777777778, \"#fb9f3a\"], [0.8888888888888888, \"#fdca26\"], [1.0, \"#f0f921\"]]}, \"colorway\": [\"#636efa\", \"#EF553B\", \"#00cc96\", \"#ab63fa\", \"#FFA15A\", \"#19d3f3\", \"#FF6692\", \"#B6E880\", \"#FF97FF\", \"#FECB52\"], \"font\": {\"color\": \"#2a3f5f\"}, \"geo\": {\"bgcolor\": \"white\", \"lakecolor\": \"white\", \"landcolor\": \"#E5ECF6\", \"showlakes\": true, \"showland\": true, \"subunitcolor\": \"white\"}, \"hoverlabel\": {\"align\": \"left\"}, \"hovermode\": \"closest\", \"mapbox\": {\"style\": \"light\"}, \"paper_bgcolor\": \"white\", \"plot_bgcolor\": \"#E5ECF6\", \"polar\": {\"angularaxis\": {\"gridcolor\": \"white\", \"linecolor\": \"white\", \"ticks\": \"\"}, \"bgcolor\": \"#E5ECF6\", \"radialaxis\": {\"gridcolor\": \"white\", \"linecolor\": \"white\", \"ticks\": \"\"}}, \"scene\": {\"xaxis\": {\"backgroundcolor\": \"#E5ECF6\", \"gridcolor\": \"white\", \"gridwidth\": 2, \"linecolor\": \"white\", \"showbackground\": true, \"ticks\": \"\", \"zerolinecolor\": \"white\"}, \"yaxis\": {\"backgroundcolor\": \"#E5ECF6\", \"gridcolor\": \"white\", \"gridwidth\": 2, \"linecolor\": \"white\", \"showbackground\": true, \"ticks\": \"\", \"zerolinecolor\": \"white\"}, \"zaxis\": {\"backgroundcolor\": \"#E5ECF6\", \"gridcolor\": \"white\", \"gridwidth\": 2, \"linecolor\": \"white\", \"showbackground\": true, \"ticks\": \"\", \"zerolinecolor\": \"white\"}}, \"shapedefaults\": {\"line\": {\"color\": \"#2a3f5f\"}}, \"ternary\": {\"aaxis\": {\"gridcolor\": \"white\", \"linecolor\": \"white\", \"ticks\": \"\"}, \"baxis\": {\"gridcolor\": \"white\", \"linecolor\": \"white\", \"ticks\": \"\"}, \"bgcolor\": \"#E5ECF6\", \"caxis\": {\"gridcolor\": \"white\", \"linecolor\": \"white\", \"ticks\": \"\"}}, \"title\": {\"x\": 0.05}, \"xaxis\": {\"automargin\": true, \"gridcolor\": \"white\", \"linecolor\": \"white\", \"ticks\": \"\", \"title\": {\"standoff\": 15}, \"zerolinecolor\": \"white\", \"zerolinewidth\": 2}, \"yaxis\": {\"automargin\": true, \"gridcolor\": \"white\", \"linecolor\": \"white\", \"ticks\": \"\", \"title\": {\"standoff\": 15}, \"zerolinecolor\": \"white\", \"zerolinewidth\": 2}}}, \"xaxis\": {\"anchor\": \"y\", \"domain\": [0.0, 1.0], \"title\": {\"text\": \"year\"}}, \"yaxis\": {\"anchor\": \"x\", \"domain\": [0.0, 1.0], \"title\": {\"text\": \"killed\"}}},                        {\"responsive\": true}                    ).then(function(){\n",
       "                            \n",
       "var gd = document.getElementById('6b94ae98-869c-4827-940d-bcfa6bba591f');\n",
       "var x = new MutationObserver(function (mutations, observer) {{\n",
       "        var display = window.getComputedStyle(gd).display;\n",
       "        if (!display || display === 'none') {{\n",
       "            console.log([gd, 'removed!']);\n",
       "            Plotly.purge(gd);\n",
       "            observer.disconnect();\n",
       "        }}\n",
       "}});\n",
       "\n",
       "// Listen for the removal of the full notebook cells\n",
       "var notebookContainer = gd.closest('#notebook-container');\n",
       "if (notebookContainer) {{\n",
       "    x.observe(notebookContainer, {childList: true});\n",
       "}}\n",
       "\n",
       "// Listen for the clearing of the current output cell\n",
       "var outputEl = gd.closest('.output');\n",
       "if (outputEl) {{\n",
       "    x.observe(outputEl, {childList: true});\n",
       "}}\n",
       "\n",
       "                        })                };                });            </script>        </div>"
      ]
     },
     "metadata": {},
     "output_type": "display_data"
    }
   ],
   "source": [
    "users = utils.get_dataset(get_path_interim('users'), acc.dtypes('users'))\n",
    "caracs = utils.get_dataset(get_path_interim('caracs'), acc.dtypes('caracs'))\n",
    "\n",
    "victims = acc.build_victims_dataset(caracs, users)\n",
    "bilan, fig = viz.plot_killed(victims)"
   ]
  },
  {
   "cell_type": "markdown",
   "metadata": {
    "id": "2Kge3i-AJuba"
   },
   "source": [
    "### Nombre de personnes blessées ou tuées au fils des ans sur la RCEA"
   ]
  },
  {
   "cell_type": "code",
   "execution_count": 14,
   "metadata": {
    "ExecuteTime": {
     "end_time": "2020-12-28T06:37:24.215015Z",
     "start_time": "2020-12-28T06:37:21.289788Z"
    },
    "executionInfo": {
     "elapsed": 131484,
     "status": "aborted",
     "timestamp": 1608651677783,
     "user": {
      "displayName": "Thomas Marquis",
      "photoUrl": "https://lh3.googleusercontent.com/a-/AOh14Ggkbge6jdBzkHFVUrAbznD0ti2qUlGp2uCW0PBjVQ=s64",
      "userId": "08347579005600922262"
     },
     "user_tz": -60
    },
    "id": "3h919xtoKJVs"
   },
   "outputs": [
    {
     "name": "stderr",
     "output_type": "stream",
     "text": [
      "C:\\Users\\thomas.marquis\\AppData\\Roaming\\Python\\Python38\\site-packages\\IPython\\core\\interactiveshell.py:3338: DtypeWarning:\n",
      "\n",
      "Columns (9) have mixed types.Specify dtype option on import or set low_memory=False.\n",
      "\n",
      "INFO:root:../data/interim/accidents/users.csv: 532589 lines loaded (14.73)Mb\n",
      "C:\\Users\\thomas.marquis\\AppData\\Roaming\\Python\\Python38\\site-packages\\IPython\\core\\interactiveshell.py:3338: DtypeWarning:\n",
      "\n",
      "Columns (5,6,12,13,14) have mixed types.Specify dtype option on import or set low_memory=False.\n",
      "\n",
      "INFO:root:../data/interim/accidents/caracs.csv: 236756 lines loaded (18.52)Mb\n",
      "INFO:root:../data/interim/accidents/locations.csv: 236756 lines loaded (8.36)Mb\n"
     ]
    }
   ],
   "source": [
    "users = utils.get_dataset(get_path_interim('users'), acc.dtypes('users'))\n",
    "caracs = utils.get_dataset(get_path_interim('caracs'), acc.dtypes('caracs'))\n",
    "locations = utils.get_dataset(get_path_interim('locations'), acc.dtypes('locations'))"
   ]
  },
  {
   "cell_type": "markdown",
   "metadata": {
    "id": "JeKusvluBKqI"
   },
   "source": [
    "Sources pour la liste des tronçons de la RCEA :\n",
    "\n",
    "- https://fr.wikipedia.org/wiki/Route_Centre-Europe_Atlantique\n",
    "- https://routes.fandom.com/wiki/RCEA\n",
    "- https://routes.fandom.com/wiki/RCEA_Branche_Nord-Est_(Itin%C3%A9raire)\n",
    "- https://routes.fandom.com/wiki/RCEA_Branche_Sud-Est_(Itin%C3%A9raire)\n",
    "- https://routes.fandom.com/wiki/RCEA_Branche_centrale_(Itin%C3%A9raire)\n",
    "- https://routes.fandom.com/wiki/RCEA_Branche_Nord-Ouest_(Itin%C3%A9raire)\n",
    "- https://routes.fandom.com/wiki/RCEA_Branche_Sud-Ouest_(Itin%C3%A9raire)"
   ]
  },
  {
   "cell_type": "code",
   "execution_count": 15,
   "metadata": {
    "ExecuteTime": {
     "end_time": "2020-12-28T06:38:37.467800Z",
     "start_time": "2020-12-28T06:38:34.290717Z"
    },
    "executionInfo": {
     "elapsed": 131474,
     "status": "aborted",
     "timestamp": 1608651677784,
     "user": {
      "displayName": "Thomas Marquis",
      "photoUrl": "https://lh3.googleusercontent.com/a-/AOh14Ggkbge6jdBzkHFVUrAbznD0ti2qUlGp2uCW0PBjVQ=s64",
      "userId": "08347579005600922262"
     },
     "user_tz": -60
    },
    "id": "mVgYKglHAIu6"
   },
   "outputs": [
    {
     "data": {
      "application/vnd.plotly.v1+json": {
       "config": {
        "plotlyServerURL": "https://plot.ly"
       },
       "data": [
        {
         "alignmentgroup": "True",
         "hovertemplate": "grav=inj_hosp<br>year=%{x}<br>victims=%{y}<extra></extra>",
         "legendgroup": "inj_hosp",
         "marker": {
          "color": "#636efa"
         },
         "name": "inj_hosp",
         "offsetgroup": "inj_hosp",
         "orientation": "v",
         "showlegend": true,
         "textposition": "auto",
         "type": "bar",
         "x": [
          2016,
          2017,
          2018,
          2019
         ],
         "xaxis": "x",
         "y": [
          244,
          499,
          496,
          450
         ],
         "yaxis": "y"
        },
        {
         "alignmentgroup": "True",
         "hovertemplate": "grav=inj_light<br>year=%{x}<br>victims=%{y}<extra></extra>",
         "legendgroup": "inj_light",
         "marker": {
          "color": "#EF553B"
         },
         "name": "inj_light",
         "offsetgroup": "inj_light",
         "orientation": "v",
         "showlegend": true,
         "textposition": "auto",
         "type": "bar",
         "x": [
          2016,
          2017,
          2018,
          2019
         ],
         "xaxis": "x",
         "y": [
          1600,
          1686,
          1829,
          2148
         ],
         "yaxis": "y"
        },
        {
         "alignmentgroup": "True",
         "hovertemplate": "grav=killed<br>year=%{x}<br>victims=%{y}<extra></extra>",
         "legendgroup": "killed",
         "marker": {
          "color": "#00cc96"
         },
         "name": "killed",
         "offsetgroup": "killed",
         "orientation": "v",
         "showlegend": true,
         "textposition": "auto",
         "type": "bar",
         "x": [
          2016,
          2017,
          2018,
          2019
         ],
         "xaxis": "x",
         "y": [
          33,
          91,
          85,
          100
         ],
         "yaxis": "y"
        },
        {
         "alignmentgroup": "True",
         "hovertemplate": "grav=safe<br>year=%{x}<br>victims=%{y}<extra></extra>",
         "legendgroup": "safe",
         "marker": {
          "color": "#ab63fa"
         },
         "name": "safe",
         "offsetgroup": "safe",
         "orientation": "v",
         "showlegend": true,
         "textposition": "auto",
         "type": "bar",
         "x": [
          2016,
          2017,
          2018,
          2019
         ],
         "xaxis": "x",
         "y": [
          1819,
          2130,
          2205,
          2437
         ],
         "yaxis": "y"
        }
       ],
       "layout": {
        "barmode": "relative",
        "legend": {
         "title": {
          "text": "grav"
         },
         "tracegroupgap": 0
        },
        "margin": {
         "t": 60
        },
        "template": {
         "data": {
          "bar": [
           {
            "error_x": {
             "color": "#2a3f5f"
            },
            "error_y": {
             "color": "#2a3f5f"
            },
            "marker": {
             "line": {
              "color": "#E5ECF6",
              "width": 0.5
             }
            },
            "type": "bar"
           }
          ],
          "barpolar": [
           {
            "marker": {
             "line": {
              "color": "#E5ECF6",
              "width": 0.5
             }
            },
            "type": "barpolar"
           }
          ],
          "carpet": [
           {
            "aaxis": {
             "endlinecolor": "#2a3f5f",
             "gridcolor": "white",
             "linecolor": "white",
             "minorgridcolor": "white",
             "startlinecolor": "#2a3f5f"
            },
            "baxis": {
             "endlinecolor": "#2a3f5f",
             "gridcolor": "white",
             "linecolor": "white",
             "minorgridcolor": "white",
             "startlinecolor": "#2a3f5f"
            },
            "type": "carpet"
           }
          ],
          "choropleth": [
           {
            "colorbar": {
             "outlinewidth": 0,
             "ticks": ""
            },
            "type": "choropleth"
           }
          ],
          "contour": [
           {
            "colorbar": {
             "outlinewidth": 0,
             "ticks": ""
            },
            "colorscale": [
             [
              0,
              "#0d0887"
             ],
             [
              0.1111111111111111,
              "#46039f"
             ],
             [
              0.2222222222222222,
              "#7201a8"
             ],
             [
              0.3333333333333333,
              "#9c179e"
             ],
             [
              0.4444444444444444,
              "#bd3786"
             ],
             [
              0.5555555555555556,
              "#d8576b"
             ],
             [
              0.6666666666666666,
              "#ed7953"
             ],
             [
              0.7777777777777778,
              "#fb9f3a"
             ],
             [
              0.8888888888888888,
              "#fdca26"
             ],
             [
              1,
              "#f0f921"
             ]
            ],
            "type": "contour"
           }
          ],
          "contourcarpet": [
           {
            "colorbar": {
             "outlinewidth": 0,
             "ticks": ""
            },
            "type": "contourcarpet"
           }
          ],
          "heatmap": [
           {
            "colorbar": {
             "outlinewidth": 0,
             "ticks": ""
            },
            "colorscale": [
             [
              0,
              "#0d0887"
             ],
             [
              0.1111111111111111,
              "#46039f"
             ],
             [
              0.2222222222222222,
              "#7201a8"
             ],
             [
              0.3333333333333333,
              "#9c179e"
             ],
             [
              0.4444444444444444,
              "#bd3786"
             ],
             [
              0.5555555555555556,
              "#d8576b"
             ],
             [
              0.6666666666666666,
              "#ed7953"
             ],
             [
              0.7777777777777778,
              "#fb9f3a"
             ],
             [
              0.8888888888888888,
              "#fdca26"
             ],
             [
              1,
              "#f0f921"
             ]
            ],
            "type": "heatmap"
           }
          ],
          "heatmapgl": [
           {
            "colorbar": {
             "outlinewidth": 0,
             "ticks": ""
            },
            "colorscale": [
             [
              0,
              "#0d0887"
             ],
             [
              0.1111111111111111,
              "#46039f"
             ],
             [
              0.2222222222222222,
              "#7201a8"
             ],
             [
              0.3333333333333333,
              "#9c179e"
             ],
             [
              0.4444444444444444,
              "#bd3786"
             ],
             [
              0.5555555555555556,
              "#d8576b"
             ],
             [
              0.6666666666666666,
              "#ed7953"
             ],
             [
              0.7777777777777778,
              "#fb9f3a"
             ],
             [
              0.8888888888888888,
              "#fdca26"
             ],
             [
              1,
              "#f0f921"
             ]
            ],
            "type": "heatmapgl"
           }
          ],
          "histogram": [
           {
            "marker": {
             "colorbar": {
              "outlinewidth": 0,
              "ticks": ""
             }
            },
            "type": "histogram"
           }
          ],
          "histogram2d": [
           {
            "colorbar": {
             "outlinewidth": 0,
             "ticks": ""
            },
            "colorscale": [
             [
              0,
              "#0d0887"
             ],
             [
              0.1111111111111111,
              "#46039f"
             ],
             [
              0.2222222222222222,
              "#7201a8"
             ],
             [
              0.3333333333333333,
              "#9c179e"
             ],
             [
              0.4444444444444444,
              "#bd3786"
             ],
             [
              0.5555555555555556,
              "#d8576b"
             ],
             [
              0.6666666666666666,
              "#ed7953"
             ],
             [
              0.7777777777777778,
              "#fb9f3a"
             ],
             [
              0.8888888888888888,
              "#fdca26"
             ],
             [
              1,
              "#f0f921"
             ]
            ],
            "type": "histogram2d"
           }
          ],
          "histogram2dcontour": [
           {
            "colorbar": {
             "outlinewidth": 0,
             "ticks": ""
            },
            "colorscale": [
             [
              0,
              "#0d0887"
             ],
             [
              0.1111111111111111,
              "#46039f"
             ],
             [
              0.2222222222222222,
              "#7201a8"
             ],
             [
              0.3333333333333333,
              "#9c179e"
             ],
             [
              0.4444444444444444,
              "#bd3786"
             ],
             [
              0.5555555555555556,
              "#d8576b"
             ],
             [
              0.6666666666666666,
              "#ed7953"
             ],
             [
              0.7777777777777778,
              "#fb9f3a"
             ],
             [
              0.8888888888888888,
              "#fdca26"
             ],
             [
              1,
              "#f0f921"
             ]
            ],
            "type": "histogram2dcontour"
           }
          ],
          "mesh3d": [
           {
            "colorbar": {
             "outlinewidth": 0,
             "ticks": ""
            },
            "type": "mesh3d"
           }
          ],
          "parcoords": [
           {
            "line": {
             "colorbar": {
              "outlinewidth": 0,
              "ticks": ""
             }
            },
            "type": "parcoords"
           }
          ],
          "pie": [
           {
            "automargin": true,
            "type": "pie"
           }
          ],
          "scatter": [
           {
            "marker": {
             "colorbar": {
              "outlinewidth": 0,
              "ticks": ""
             }
            },
            "type": "scatter"
           }
          ],
          "scatter3d": [
           {
            "line": {
             "colorbar": {
              "outlinewidth": 0,
              "ticks": ""
             }
            },
            "marker": {
             "colorbar": {
              "outlinewidth": 0,
              "ticks": ""
             }
            },
            "type": "scatter3d"
           }
          ],
          "scattercarpet": [
           {
            "marker": {
             "colorbar": {
              "outlinewidth": 0,
              "ticks": ""
             }
            },
            "type": "scattercarpet"
           }
          ],
          "scattergeo": [
           {
            "marker": {
             "colorbar": {
              "outlinewidth": 0,
              "ticks": ""
             }
            },
            "type": "scattergeo"
           }
          ],
          "scattergl": [
           {
            "marker": {
             "colorbar": {
              "outlinewidth": 0,
              "ticks": ""
             }
            },
            "type": "scattergl"
           }
          ],
          "scattermapbox": [
           {
            "marker": {
             "colorbar": {
              "outlinewidth": 0,
              "ticks": ""
             }
            },
            "type": "scattermapbox"
           }
          ],
          "scatterpolar": [
           {
            "marker": {
             "colorbar": {
              "outlinewidth": 0,
              "ticks": ""
             }
            },
            "type": "scatterpolar"
           }
          ],
          "scatterpolargl": [
           {
            "marker": {
             "colorbar": {
              "outlinewidth": 0,
              "ticks": ""
             }
            },
            "type": "scatterpolargl"
           }
          ],
          "scatterternary": [
           {
            "marker": {
             "colorbar": {
              "outlinewidth": 0,
              "ticks": ""
             }
            },
            "type": "scatterternary"
           }
          ],
          "surface": [
           {
            "colorbar": {
             "outlinewidth": 0,
             "ticks": ""
            },
            "colorscale": [
             [
              0,
              "#0d0887"
             ],
             [
              0.1111111111111111,
              "#46039f"
             ],
             [
              0.2222222222222222,
              "#7201a8"
             ],
             [
              0.3333333333333333,
              "#9c179e"
             ],
             [
              0.4444444444444444,
              "#bd3786"
             ],
             [
              0.5555555555555556,
              "#d8576b"
             ],
             [
              0.6666666666666666,
              "#ed7953"
             ],
             [
              0.7777777777777778,
              "#fb9f3a"
             ],
             [
              0.8888888888888888,
              "#fdca26"
             ],
             [
              1,
              "#f0f921"
             ]
            ],
            "type": "surface"
           }
          ],
          "table": [
           {
            "cells": {
             "fill": {
              "color": "#EBF0F8"
             },
             "line": {
              "color": "white"
             }
            },
            "header": {
             "fill": {
              "color": "#C8D4E3"
             },
             "line": {
              "color": "white"
             }
            },
            "type": "table"
           }
          ]
         },
         "layout": {
          "annotationdefaults": {
           "arrowcolor": "#2a3f5f",
           "arrowhead": 0,
           "arrowwidth": 1
          },
          "autotypenumbers": "strict",
          "coloraxis": {
           "colorbar": {
            "outlinewidth": 0,
            "ticks": ""
           }
          },
          "colorscale": {
           "diverging": [
            [
             0,
             "#8e0152"
            ],
            [
             0.1,
             "#c51b7d"
            ],
            [
             0.2,
             "#de77ae"
            ],
            [
             0.3,
             "#f1b6da"
            ],
            [
             0.4,
             "#fde0ef"
            ],
            [
             0.5,
             "#f7f7f7"
            ],
            [
             0.6,
             "#e6f5d0"
            ],
            [
             0.7,
             "#b8e186"
            ],
            [
             0.8,
             "#7fbc41"
            ],
            [
             0.9,
             "#4d9221"
            ],
            [
             1,
             "#276419"
            ]
           ],
           "sequential": [
            [
             0,
             "#0d0887"
            ],
            [
             0.1111111111111111,
             "#46039f"
            ],
            [
             0.2222222222222222,
             "#7201a8"
            ],
            [
             0.3333333333333333,
             "#9c179e"
            ],
            [
             0.4444444444444444,
             "#bd3786"
            ],
            [
             0.5555555555555556,
             "#d8576b"
            ],
            [
             0.6666666666666666,
             "#ed7953"
            ],
            [
             0.7777777777777778,
             "#fb9f3a"
            ],
            [
             0.8888888888888888,
             "#fdca26"
            ],
            [
             1,
             "#f0f921"
            ]
           ],
           "sequentialminus": [
            [
             0,
             "#0d0887"
            ],
            [
             0.1111111111111111,
             "#46039f"
            ],
            [
             0.2222222222222222,
             "#7201a8"
            ],
            [
             0.3333333333333333,
             "#9c179e"
            ],
            [
             0.4444444444444444,
             "#bd3786"
            ],
            [
             0.5555555555555556,
             "#d8576b"
            ],
            [
             0.6666666666666666,
             "#ed7953"
            ],
            [
             0.7777777777777778,
             "#fb9f3a"
            ],
            [
             0.8888888888888888,
             "#fdca26"
            ],
            [
             1,
             "#f0f921"
            ]
           ]
          },
          "colorway": [
           "#636efa",
           "#EF553B",
           "#00cc96",
           "#ab63fa",
           "#FFA15A",
           "#19d3f3",
           "#FF6692",
           "#B6E880",
           "#FF97FF",
           "#FECB52"
          ],
          "font": {
           "color": "#2a3f5f"
          },
          "geo": {
           "bgcolor": "white",
           "lakecolor": "white",
           "landcolor": "#E5ECF6",
           "showlakes": true,
           "showland": true,
           "subunitcolor": "white"
          },
          "hoverlabel": {
           "align": "left"
          },
          "hovermode": "closest",
          "mapbox": {
           "style": "light"
          },
          "paper_bgcolor": "white",
          "plot_bgcolor": "#E5ECF6",
          "polar": {
           "angularaxis": {
            "gridcolor": "white",
            "linecolor": "white",
            "ticks": ""
           },
           "bgcolor": "#E5ECF6",
           "radialaxis": {
            "gridcolor": "white",
            "linecolor": "white",
            "ticks": ""
           }
          },
          "scene": {
           "xaxis": {
            "backgroundcolor": "#E5ECF6",
            "gridcolor": "white",
            "gridwidth": 2,
            "linecolor": "white",
            "showbackground": true,
            "ticks": "",
            "zerolinecolor": "white"
           },
           "yaxis": {
            "backgroundcolor": "#E5ECF6",
            "gridcolor": "white",
            "gridwidth": 2,
            "linecolor": "white",
            "showbackground": true,
            "ticks": "",
            "zerolinecolor": "white"
           },
           "zaxis": {
            "backgroundcolor": "#E5ECF6",
            "gridcolor": "white",
            "gridwidth": 2,
            "linecolor": "white",
            "showbackground": true,
            "ticks": "",
            "zerolinecolor": "white"
           }
          },
          "shapedefaults": {
           "line": {
            "color": "#2a3f5f"
           }
          },
          "ternary": {
           "aaxis": {
            "gridcolor": "white",
            "linecolor": "white",
            "ticks": ""
           },
           "baxis": {
            "gridcolor": "white",
            "linecolor": "white",
            "ticks": ""
           },
           "bgcolor": "#E5ECF6",
           "caxis": {
            "gridcolor": "white",
            "linecolor": "white",
            "ticks": ""
           }
          },
          "title": {
           "x": 0.05
          },
          "xaxis": {
           "automargin": true,
           "gridcolor": "white",
           "linecolor": "white",
           "ticks": "",
           "title": {
            "standoff": 15
           },
           "zerolinecolor": "white",
           "zerolinewidth": 2
          },
          "yaxis": {
           "automargin": true,
           "gridcolor": "white",
           "linecolor": "white",
           "ticks": "",
           "title": {
            "standoff": 15
           },
           "zerolinecolor": "white",
           "zerolinewidth": 2
          }
         }
        },
        "xaxis": {
         "anchor": "y",
         "domain": [
          0,
          1
         ],
         "title": {
          "text": "year"
         }
        },
        "yaxis": {
         "anchor": "x",
         "domain": [
          0,
          1
         ],
         "title": {
          "text": "victims"
         }
        }
       }
      },
      "text/html": [
       "<div>                            <div id=\"5304c8e7-d118-41e5-b71a-97af1f1189f6\" class=\"plotly-graph-div\" style=\"height:525px; width:100%;\"></div>            <script type=\"text/javascript\">                require([\"plotly\"], function(Plotly) {                    window.PLOTLYENV=window.PLOTLYENV || {};                                    if (document.getElementById(\"5304c8e7-d118-41e5-b71a-97af1f1189f6\")) {                    Plotly.newPlot(                        \"5304c8e7-d118-41e5-b71a-97af1f1189f6\",                        [{\"alignmentgroup\": \"True\", \"hovertemplate\": \"grav=inj_hosp<br>year=%{x}<br>victims=%{y}<extra></extra>\", \"legendgroup\": \"inj_hosp\", \"marker\": {\"color\": \"#636efa\"}, \"name\": \"inj_hosp\", \"offsetgroup\": \"inj_hosp\", \"orientation\": \"v\", \"showlegend\": true, \"textposition\": \"auto\", \"type\": \"bar\", \"x\": [2016, 2017, 2018, 2019], \"xaxis\": \"x\", \"y\": [244, 499, 496, 450], \"yaxis\": \"y\"}, {\"alignmentgroup\": \"True\", \"hovertemplate\": \"grav=inj_light<br>year=%{x}<br>victims=%{y}<extra></extra>\", \"legendgroup\": \"inj_light\", \"marker\": {\"color\": \"#EF553B\"}, \"name\": \"inj_light\", \"offsetgroup\": \"inj_light\", \"orientation\": \"v\", \"showlegend\": true, \"textposition\": \"auto\", \"type\": \"bar\", \"x\": [2016, 2017, 2018, 2019], \"xaxis\": \"x\", \"y\": [1600, 1686, 1829, 2148], \"yaxis\": \"y\"}, {\"alignmentgroup\": \"True\", \"hovertemplate\": \"grav=killed<br>year=%{x}<br>victims=%{y}<extra></extra>\", \"legendgroup\": \"killed\", \"marker\": {\"color\": \"#00cc96\"}, \"name\": \"killed\", \"offsetgroup\": \"killed\", \"orientation\": \"v\", \"showlegend\": true, \"textposition\": \"auto\", \"type\": \"bar\", \"x\": [2016, 2017, 2018, 2019], \"xaxis\": \"x\", \"y\": [33, 91, 85, 100], \"yaxis\": \"y\"}, {\"alignmentgroup\": \"True\", \"hovertemplate\": \"grav=safe<br>year=%{x}<br>victims=%{y}<extra></extra>\", \"legendgroup\": \"safe\", \"marker\": {\"color\": \"#ab63fa\"}, \"name\": \"safe\", \"offsetgroup\": \"safe\", \"orientation\": \"v\", \"showlegend\": true, \"textposition\": \"auto\", \"type\": \"bar\", \"x\": [2016, 2017, 2018, 2019], \"xaxis\": \"x\", \"y\": [1819, 2130, 2205, 2437], \"yaxis\": \"y\"}],                        {\"barmode\": \"relative\", \"legend\": {\"title\": {\"text\": \"grav\"}, \"tracegroupgap\": 0}, \"margin\": {\"t\": 60}, \"template\": {\"data\": {\"bar\": [{\"error_x\": {\"color\": \"#2a3f5f\"}, \"error_y\": {\"color\": \"#2a3f5f\"}, \"marker\": {\"line\": {\"color\": \"#E5ECF6\", \"width\": 0.5}}, \"type\": \"bar\"}], \"barpolar\": [{\"marker\": {\"line\": {\"color\": \"#E5ECF6\", \"width\": 0.5}}, \"type\": \"barpolar\"}], \"carpet\": [{\"aaxis\": {\"endlinecolor\": \"#2a3f5f\", \"gridcolor\": \"white\", \"linecolor\": \"white\", \"minorgridcolor\": \"white\", \"startlinecolor\": \"#2a3f5f\"}, \"baxis\": {\"endlinecolor\": \"#2a3f5f\", \"gridcolor\": \"white\", \"linecolor\": \"white\", \"minorgridcolor\": \"white\", \"startlinecolor\": \"#2a3f5f\"}, \"type\": \"carpet\"}], \"choropleth\": [{\"colorbar\": {\"outlinewidth\": 0, \"ticks\": \"\"}, \"type\": \"choropleth\"}], \"contour\": [{\"colorbar\": {\"outlinewidth\": 0, \"ticks\": \"\"}, \"colorscale\": [[0.0, \"#0d0887\"], [0.1111111111111111, \"#46039f\"], [0.2222222222222222, \"#7201a8\"], [0.3333333333333333, \"#9c179e\"], [0.4444444444444444, \"#bd3786\"], [0.5555555555555556, \"#d8576b\"], [0.6666666666666666, \"#ed7953\"], [0.7777777777777778, \"#fb9f3a\"], [0.8888888888888888, \"#fdca26\"], [1.0, \"#f0f921\"]], \"type\": \"contour\"}], \"contourcarpet\": [{\"colorbar\": {\"outlinewidth\": 0, \"ticks\": \"\"}, \"type\": \"contourcarpet\"}], \"heatmap\": [{\"colorbar\": {\"outlinewidth\": 0, \"ticks\": \"\"}, \"colorscale\": [[0.0, \"#0d0887\"], [0.1111111111111111, \"#46039f\"], [0.2222222222222222, \"#7201a8\"], [0.3333333333333333, \"#9c179e\"], [0.4444444444444444, \"#bd3786\"], [0.5555555555555556, \"#d8576b\"], [0.6666666666666666, \"#ed7953\"], [0.7777777777777778, \"#fb9f3a\"], [0.8888888888888888, \"#fdca26\"], [1.0, \"#f0f921\"]], \"type\": \"heatmap\"}], \"heatmapgl\": [{\"colorbar\": {\"outlinewidth\": 0, \"ticks\": \"\"}, \"colorscale\": [[0.0, \"#0d0887\"], [0.1111111111111111, \"#46039f\"], [0.2222222222222222, \"#7201a8\"], [0.3333333333333333, \"#9c179e\"], [0.4444444444444444, \"#bd3786\"], [0.5555555555555556, \"#d8576b\"], [0.6666666666666666, \"#ed7953\"], [0.7777777777777778, \"#fb9f3a\"], [0.8888888888888888, \"#fdca26\"], [1.0, \"#f0f921\"]], \"type\": \"heatmapgl\"}], \"histogram\": [{\"marker\": {\"colorbar\": {\"outlinewidth\": 0, \"ticks\": \"\"}}, \"type\": \"histogram\"}], \"histogram2d\": [{\"colorbar\": {\"outlinewidth\": 0, \"ticks\": \"\"}, \"colorscale\": [[0.0, \"#0d0887\"], [0.1111111111111111, \"#46039f\"], [0.2222222222222222, \"#7201a8\"], [0.3333333333333333, \"#9c179e\"], [0.4444444444444444, \"#bd3786\"], [0.5555555555555556, \"#d8576b\"], [0.6666666666666666, \"#ed7953\"], [0.7777777777777778, \"#fb9f3a\"], [0.8888888888888888, \"#fdca26\"], [1.0, \"#f0f921\"]], \"type\": \"histogram2d\"}], \"histogram2dcontour\": [{\"colorbar\": {\"outlinewidth\": 0, \"ticks\": \"\"}, \"colorscale\": [[0.0, \"#0d0887\"], [0.1111111111111111, \"#46039f\"], [0.2222222222222222, \"#7201a8\"], [0.3333333333333333, \"#9c179e\"], [0.4444444444444444, \"#bd3786\"], [0.5555555555555556, \"#d8576b\"], [0.6666666666666666, \"#ed7953\"], [0.7777777777777778, \"#fb9f3a\"], [0.8888888888888888, \"#fdca26\"], [1.0, \"#f0f921\"]], \"type\": \"histogram2dcontour\"}], \"mesh3d\": [{\"colorbar\": {\"outlinewidth\": 0, \"ticks\": \"\"}, \"type\": \"mesh3d\"}], \"parcoords\": [{\"line\": {\"colorbar\": {\"outlinewidth\": 0, \"ticks\": \"\"}}, \"type\": \"parcoords\"}], \"pie\": [{\"automargin\": true, \"type\": \"pie\"}], \"scatter\": [{\"marker\": {\"colorbar\": {\"outlinewidth\": 0, \"ticks\": \"\"}}, \"type\": \"scatter\"}], \"scatter3d\": [{\"line\": {\"colorbar\": {\"outlinewidth\": 0, \"ticks\": \"\"}}, \"marker\": {\"colorbar\": {\"outlinewidth\": 0, \"ticks\": \"\"}}, \"type\": \"scatter3d\"}], \"scattercarpet\": [{\"marker\": {\"colorbar\": {\"outlinewidth\": 0, \"ticks\": \"\"}}, \"type\": \"scattercarpet\"}], \"scattergeo\": [{\"marker\": {\"colorbar\": {\"outlinewidth\": 0, \"ticks\": \"\"}}, \"type\": \"scattergeo\"}], \"scattergl\": [{\"marker\": {\"colorbar\": {\"outlinewidth\": 0, \"ticks\": \"\"}}, \"type\": \"scattergl\"}], \"scattermapbox\": [{\"marker\": {\"colorbar\": {\"outlinewidth\": 0, \"ticks\": \"\"}}, \"type\": \"scattermapbox\"}], \"scatterpolar\": [{\"marker\": {\"colorbar\": {\"outlinewidth\": 0, \"ticks\": \"\"}}, \"type\": \"scatterpolar\"}], \"scatterpolargl\": [{\"marker\": {\"colorbar\": {\"outlinewidth\": 0, \"ticks\": \"\"}}, \"type\": \"scatterpolargl\"}], \"scatterternary\": [{\"marker\": {\"colorbar\": {\"outlinewidth\": 0, \"ticks\": \"\"}}, \"type\": \"scatterternary\"}], \"surface\": [{\"colorbar\": {\"outlinewidth\": 0, \"ticks\": \"\"}, \"colorscale\": [[0.0, \"#0d0887\"], [0.1111111111111111, \"#46039f\"], [0.2222222222222222, \"#7201a8\"], [0.3333333333333333, \"#9c179e\"], [0.4444444444444444, \"#bd3786\"], [0.5555555555555556, \"#d8576b\"], [0.6666666666666666, \"#ed7953\"], [0.7777777777777778, \"#fb9f3a\"], [0.8888888888888888, \"#fdca26\"], [1.0, \"#f0f921\"]], \"type\": \"surface\"}], \"table\": [{\"cells\": {\"fill\": {\"color\": \"#EBF0F8\"}, \"line\": {\"color\": \"white\"}}, \"header\": {\"fill\": {\"color\": \"#C8D4E3\"}, \"line\": {\"color\": \"white\"}}, \"type\": \"table\"}]}, \"layout\": {\"annotationdefaults\": {\"arrowcolor\": \"#2a3f5f\", \"arrowhead\": 0, \"arrowwidth\": 1}, \"autotypenumbers\": \"strict\", \"coloraxis\": {\"colorbar\": {\"outlinewidth\": 0, \"ticks\": \"\"}}, \"colorscale\": {\"diverging\": [[0, \"#8e0152\"], [0.1, \"#c51b7d\"], [0.2, \"#de77ae\"], [0.3, \"#f1b6da\"], [0.4, \"#fde0ef\"], [0.5, \"#f7f7f7\"], [0.6, \"#e6f5d0\"], [0.7, \"#b8e186\"], [0.8, \"#7fbc41\"], [0.9, \"#4d9221\"], [1, \"#276419\"]], \"sequential\": [[0.0, \"#0d0887\"], [0.1111111111111111, \"#46039f\"], [0.2222222222222222, \"#7201a8\"], [0.3333333333333333, \"#9c179e\"], [0.4444444444444444, \"#bd3786\"], [0.5555555555555556, \"#d8576b\"], [0.6666666666666666, \"#ed7953\"], [0.7777777777777778, \"#fb9f3a\"], [0.8888888888888888, \"#fdca26\"], [1.0, \"#f0f921\"]], \"sequentialminus\": [[0.0, \"#0d0887\"], [0.1111111111111111, \"#46039f\"], [0.2222222222222222, \"#7201a8\"], [0.3333333333333333, \"#9c179e\"], [0.4444444444444444, \"#bd3786\"], [0.5555555555555556, \"#d8576b\"], [0.6666666666666666, \"#ed7953\"], [0.7777777777777778, \"#fb9f3a\"], [0.8888888888888888, \"#fdca26\"], [1.0, \"#f0f921\"]]}, \"colorway\": [\"#636efa\", \"#EF553B\", \"#00cc96\", \"#ab63fa\", \"#FFA15A\", \"#19d3f3\", \"#FF6692\", \"#B6E880\", \"#FF97FF\", \"#FECB52\"], \"font\": {\"color\": \"#2a3f5f\"}, \"geo\": {\"bgcolor\": \"white\", \"lakecolor\": \"white\", \"landcolor\": \"#E5ECF6\", \"showlakes\": true, \"showland\": true, \"subunitcolor\": \"white\"}, \"hoverlabel\": {\"align\": \"left\"}, \"hovermode\": \"closest\", \"mapbox\": {\"style\": \"light\"}, \"paper_bgcolor\": \"white\", \"plot_bgcolor\": \"#E5ECF6\", \"polar\": {\"angularaxis\": {\"gridcolor\": \"white\", \"linecolor\": \"white\", \"ticks\": \"\"}, \"bgcolor\": \"#E5ECF6\", \"radialaxis\": {\"gridcolor\": \"white\", \"linecolor\": \"white\", \"ticks\": \"\"}}, \"scene\": {\"xaxis\": {\"backgroundcolor\": \"#E5ECF6\", \"gridcolor\": \"white\", \"gridwidth\": 2, \"linecolor\": \"white\", \"showbackground\": true, \"ticks\": \"\", \"zerolinecolor\": \"white\"}, \"yaxis\": {\"backgroundcolor\": \"#E5ECF6\", \"gridcolor\": \"white\", \"gridwidth\": 2, \"linecolor\": \"white\", \"showbackground\": true, \"ticks\": \"\", \"zerolinecolor\": \"white\"}, \"zaxis\": {\"backgroundcolor\": \"#E5ECF6\", \"gridcolor\": \"white\", \"gridwidth\": 2, \"linecolor\": \"white\", \"showbackground\": true, \"ticks\": \"\", \"zerolinecolor\": \"white\"}}, \"shapedefaults\": {\"line\": {\"color\": \"#2a3f5f\"}}, \"ternary\": {\"aaxis\": {\"gridcolor\": \"white\", \"linecolor\": \"white\", \"ticks\": \"\"}, \"baxis\": {\"gridcolor\": \"white\", \"linecolor\": \"white\", \"ticks\": \"\"}, \"bgcolor\": \"#E5ECF6\", \"caxis\": {\"gridcolor\": \"white\", \"linecolor\": \"white\", \"ticks\": \"\"}}, \"title\": {\"x\": 0.05}, \"xaxis\": {\"automargin\": true, \"gridcolor\": \"white\", \"linecolor\": \"white\", \"ticks\": \"\", \"title\": {\"standoff\": 15}, \"zerolinecolor\": \"white\", \"zerolinewidth\": 2}, \"yaxis\": {\"automargin\": true, \"gridcolor\": \"white\", \"linecolor\": \"white\", \"ticks\": \"\", \"title\": {\"standoff\": 15}, \"zerolinecolor\": \"white\", \"zerolinewidth\": 2}}}, \"xaxis\": {\"anchor\": \"y\", \"domain\": [0.0, 1.0], \"title\": {\"text\": \"year\"}}, \"yaxis\": {\"anchor\": \"x\", \"domain\": [0.0, 1.0], \"title\": {\"text\": \"victims\"}}},                        {\"responsive\": true}                    ).then(function(){\n",
       "                            \n",
       "var gd = document.getElementById('5304c8e7-d118-41e5-b71a-97af1f1189f6');\n",
       "var x = new MutationObserver(function (mutations, observer) {{\n",
       "        var display = window.getComputedStyle(gd).display;\n",
       "        if (!display || display === 'none') {{\n",
       "            console.log([gd, 'removed!']);\n",
       "            Plotly.purge(gd);\n",
       "            observer.disconnect();\n",
       "        }}\n",
       "}});\n",
       "\n",
       "// Listen for the removal of the full notebook cells\n",
       "var notebookContainer = gd.closest('#notebook-container');\n",
       "if (notebookContainer) {{\n",
       "    x.observe(notebookContainer, {childList: true});\n",
       "}}\n",
       "\n",
       "// Listen for the clearing of the current output cell\n",
       "var outputEl = gd.closest('.output');\n",
       "if (outputEl) {{\n",
       "    x.observe(outputEl, {childList: true});\n",
       "}}\n",
       "\n",
       "                        })                };                });            </script>        </div>"
      ]
     },
     "metadata": {},
     "output_type": "display_data"
    }
   ],
   "source": [
    "RCEA = [\n",
    "    'RCEA',\n",
    "\n",
    "    # nord-est\n",
    "    'N\\s*70',\n",
    "    'N\\s*80',\n",
    "    'A\\s*6',\n",
    "    'A\\s*36',\n",
    "    'A\\s*31',\n",
    "\n",
    "    # sud est\n",
    "    'N\\s*79',\n",
    "    'A\\s*40',\n",
    "    'A\\s*406',\n",
    "    'N\\s*205',\n",
    "\n",
    "    # centre\n",
    "    'N\\s*145',\n",
    "    'A\\s*714',\n",
    "    'A\\s*71',\n",
    "\n",
    "    # nord-ouest\n",
    "    'N\\s*149',\n",
    "    'N\\s*147',\n",
    "    'N\\s*249',\n",
    "\n",
    "    # sud-ouest\n",
    "    'A\\s*837',\n",
    "    'A\\s*10',\n",
    "    'N\\s*141',\n",
    "    'N\\s*150',\n",
    "    'N\\s*520',\n",
    "    'A\\s*20',\n",
    "    'D\\s*137',\n",
    "]\n",
    "RCEA_regex = '|'.join(RCEA)\n",
    "\n",
    "acc_located = pd.merge(caracs, locations, on='Num_Acc', how='inner')\n",
    "victims_loc = pd.merge(acc_located, users, on='Num_Acc', how='inner')\n",
    "vict_rcea = victims_loc.loc[victims_loc['adr'].str.contains(\n",
    "    RCEA_regex, regex=True, case=False), :]\n",
    "\n",
    "fig = viz.plot_bilan(vict_rcea)"
   ]
  },
  {
   "cell_type": "code",
   "execution_count": 16,
   "metadata": {
    "ExecuteTime": {
     "end_time": "2020-12-28T06:41:23.128239Z",
     "start_time": "2020-12-28T06:41:23.007181Z"
    },
    "executionInfo": {
     "elapsed": 131463,
     "status": "aborted",
     "timestamp": 1608651677785,
     "user": {
      "displayName": "Thomas Marquis",
      "photoUrl": "https://lh3.googleusercontent.com/a-/AOh14Ggkbge6jdBzkHFVUrAbznD0ti2qUlGp2uCW0PBjVQ=s64",
      "userId": "08347579005600922262"
     },
     "user_tz": -60
    },
    "id": "qvVT3V-0svX3"
   },
   "outputs": [
    {
     "data": {
      "application/vnd.plotly.v1+json": {
       "config": {
        "plotlyServerURL": "https://plot.ly"
       },
       "data": [
        {
         "hovertemplate": "year=%{x}<br>killed %=%{y}<extra></extra>",
         "legendgroup": "",
         "line": {
          "color": "#636efa",
          "dash": "solid"
         },
         "mode": "lines",
         "name": "",
         "orientation": "v",
         "showlegend": false,
         "type": "scatter",
         "x": [
          2016,
          2017,
          2018,
          2019
         ],
         "xaxis": "x",
         "y": [
          1.76,
          4,
          3.53,
          3.71
         ],
         "yaxis": "y"
        }
       ],
       "layout": {
        "legend": {
         "tracegroupgap": 0
        },
        "template": {
         "data": {
          "bar": [
           {
            "error_x": {
             "color": "#2a3f5f"
            },
            "error_y": {
             "color": "#2a3f5f"
            },
            "marker": {
             "line": {
              "color": "#E5ECF6",
              "width": 0.5
             }
            },
            "type": "bar"
           }
          ],
          "barpolar": [
           {
            "marker": {
             "line": {
              "color": "#E5ECF6",
              "width": 0.5
             }
            },
            "type": "barpolar"
           }
          ],
          "carpet": [
           {
            "aaxis": {
             "endlinecolor": "#2a3f5f",
             "gridcolor": "white",
             "linecolor": "white",
             "minorgridcolor": "white",
             "startlinecolor": "#2a3f5f"
            },
            "baxis": {
             "endlinecolor": "#2a3f5f",
             "gridcolor": "white",
             "linecolor": "white",
             "minorgridcolor": "white",
             "startlinecolor": "#2a3f5f"
            },
            "type": "carpet"
           }
          ],
          "choropleth": [
           {
            "colorbar": {
             "outlinewidth": 0,
             "ticks": ""
            },
            "type": "choropleth"
           }
          ],
          "contour": [
           {
            "colorbar": {
             "outlinewidth": 0,
             "ticks": ""
            },
            "colorscale": [
             [
              0,
              "#0d0887"
             ],
             [
              0.1111111111111111,
              "#46039f"
             ],
             [
              0.2222222222222222,
              "#7201a8"
             ],
             [
              0.3333333333333333,
              "#9c179e"
             ],
             [
              0.4444444444444444,
              "#bd3786"
             ],
             [
              0.5555555555555556,
              "#d8576b"
             ],
             [
              0.6666666666666666,
              "#ed7953"
             ],
             [
              0.7777777777777778,
              "#fb9f3a"
             ],
             [
              0.8888888888888888,
              "#fdca26"
             ],
             [
              1,
              "#f0f921"
             ]
            ],
            "type": "contour"
           }
          ],
          "contourcarpet": [
           {
            "colorbar": {
             "outlinewidth": 0,
             "ticks": ""
            },
            "type": "contourcarpet"
           }
          ],
          "heatmap": [
           {
            "colorbar": {
             "outlinewidth": 0,
             "ticks": ""
            },
            "colorscale": [
             [
              0,
              "#0d0887"
             ],
             [
              0.1111111111111111,
              "#46039f"
             ],
             [
              0.2222222222222222,
              "#7201a8"
             ],
             [
              0.3333333333333333,
              "#9c179e"
             ],
             [
              0.4444444444444444,
              "#bd3786"
             ],
             [
              0.5555555555555556,
              "#d8576b"
             ],
             [
              0.6666666666666666,
              "#ed7953"
             ],
             [
              0.7777777777777778,
              "#fb9f3a"
             ],
             [
              0.8888888888888888,
              "#fdca26"
             ],
             [
              1,
              "#f0f921"
             ]
            ],
            "type": "heatmap"
           }
          ],
          "heatmapgl": [
           {
            "colorbar": {
             "outlinewidth": 0,
             "ticks": ""
            },
            "colorscale": [
             [
              0,
              "#0d0887"
             ],
             [
              0.1111111111111111,
              "#46039f"
             ],
             [
              0.2222222222222222,
              "#7201a8"
             ],
             [
              0.3333333333333333,
              "#9c179e"
             ],
             [
              0.4444444444444444,
              "#bd3786"
             ],
             [
              0.5555555555555556,
              "#d8576b"
             ],
             [
              0.6666666666666666,
              "#ed7953"
             ],
             [
              0.7777777777777778,
              "#fb9f3a"
             ],
             [
              0.8888888888888888,
              "#fdca26"
             ],
             [
              1,
              "#f0f921"
             ]
            ],
            "type": "heatmapgl"
           }
          ],
          "histogram": [
           {
            "marker": {
             "colorbar": {
              "outlinewidth": 0,
              "ticks": ""
             }
            },
            "type": "histogram"
           }
          ],
          "histogram2d": [
           {
            "colorbar": {
             "outlinewidth": 0,
             "ticks": ""
            },
            "colorscale": [
             [
              0,
              "#0d0887"
             ],
             [
              0.1111111111111111,
              "#46039f"
             ],
             [
              0.2222222222222222,
              "#7201a8"
             ],
             [
              0.3333333333333333,
              "#9c179e"
             ],
             [
              0.4444444444444444,
              "#bd3786"
             ],
             [
              0.5555555555555556,
              "#d8576b"
             ],
             [
              0.6666666666666666,
              "#ed7953"
             ],
             [
              0.7777777777777778,
              "#fb9f3a"
             ],
             [
              0.8888888888888888,
              "#fdca26"
             ],
             [
              1,
              "#f0f921"
             ]
            ],
            "type": "histogram2d"
           }
          ],
          "histogram2dcontour": [
           {
            "colorbar": {
             "outlinewidth": 0,
             "ticks": ""
            },
            "colorscale": [
             [
              0,
              "#0d0887"
             ],
             [
              0.1111111111111111,
              "#46039f"
             ],
             [
              0.2222222222222222,
              "#7201a8"
             ],
             [
              0.3333333333333333,
              "#9c179e"
             ],
             [
              0.4444444444444444,
              "#bd3786"
             ],
             [
              0.5555555555555556,
              "#d8576b"
             ],
             [
              0.6666666666666666,
              "#ed7953"
             ],
             [
              0.7777777777777778,
              "#fb9f3a"
             ],
             [
              0.8888888888888888,
              "#fdca26"
             ],
             [
              1,
              "#f0f921"
             ]
            ],
            "type": "histogram2dcontour"
           }
          ],
          "mesh3d": [
           {
            "colorbar": {
             "outlinewidth": 0,
             "ticks": ""
            },
            "type": "mesh3d"
           }
          ],
          "parcoords": [
           {
            "line": {
             "colorbar": {
              "outlinewidth": 0,
              "ticks": ""
             }
            },
            "type": "parcoords"
           }
          ],
          "pie": [
           {
            "automargin": true,
            "type": "pie"
           }
          ],
          "scatter": [
           {
            "marker": {
             "colorbar": {
              "outlinewidth": 0,
              "ticks": ""
             }
            },
            "type": "scatter"
           }
          ],
          "scatter3d": [
           {
            "line": {
             "colorbar": {
              "outlinewidth": 0,
              "ticks": ""
             }
            },
            "marker": {
             "colorbar": {
              "outlinewidth": 0,
              "ticks": ""
             }
            },
            "type": "scatter3d"
           }
          ],
          "scattercarpet": [
           {
            "marker": {
             "colorbar": {
              "outlinewidth": 0,
              "ticks": ""
             }
            },
            "type": "scattercarpet"
           }
          ],
          "scattergeo": [
           {
            "marker": {
             "colorbar": {
              "outlinewidth": 0,
              "ticks": ""
             }
            },
            "type": "scattergeo"
           }
          ],
          "scattergl": [
           {
            "marker": {
             "colorbar": {
              "outlinewidth": 0,
              "ticks": ""
             }
            },
            "type": "scattergl"
           }
          ],
          "scattermapbox": [
           {
            "marker": {
             "colorbar": {
              "outlinewidth": 0,
              "ticks": ""
             }
            },
            "type": "scattermapbox"
           }
          ],
          "scatterpolar": [
           {
            "marker": {
             "colorbar": {
              "outlinewidth": 0,
              "ticks": ""
             }
            },
            "type": "scatterpolar"
           }
          ],
          "scatterpolargl": [
           {
            "marker": {
             "colorbar": {
              "outlinewidth": 0,
              "ticks": ""
             }
            },
            "type": "scatterpolargl"
           }
          ],
          "scatterternary": [
           {
            "marker": {
             "colorbar": {
              "outlinewidth": 0,
              "ticks": ""
             }
            },
            "type": "scatterternary"
           }
          ],
          "surface": [
           {
            "colorbar": {
             "outlinewidth": 0,
             "ticks": ""
            },
            "colorscale": [
             [
              0,
              "#0d0887"
             ],
             [
              0.1111111111111111,
              "#46039f"
             ],
             [
              0.2222222222222222,
              "#7201a8"
             ],
             [
              0.3333333333333333,
              "#9c179e"
             ],
             [
              0.4444444444444444,
              "#bd3786"
             ],
             [
              0.5555555555555556,
              "#d8576b"
             ],
             [
              0.6666666666666666,
              "#ed7953"
             ],
             [
              0.7777777777777778,
              "#fb9f3a"
             ],
             [
              0.8888888888888888,
              "#fdca26"
             ],
             [
              1,
              "#f0f921"
             ]
            ],
            "type": "surface"
           }
          ],
          "table": [
           {
            "cells": {
             "fill": {
              "color": "#EBF0F8"
             },
             "line": {
              "color": "white"
             }
            },
            "header": {
             "fill": {
              "color": "#C8D4E3"
             },
             "line": {
              "color": "white"
             }
            },
            "type": "table"
           }
          ]
         },
         "layout": {
          "annotationdefaults": {
           "arrowcolor": "#2a3f5f",
           "arrowhead": 0,
           "arrowwidth": 1
          },
          "autotypenumbers": "strict",
          "coloraxis": {
           "colorbar": {
            "outlinewidth": 0,
            "ticks": ""
           }
          },
          "colorscale": {
           "diverging": [
            [
             0,
             "#8e0152"
            ],
            [
             0.1,
             "#c51b7d"
            ],
            [
             0.2,
             "#de77ae"
            ],
            [
             0.3,
             "#f1b6da"
            ],
            [
             0.4,
             "#fde0ef"
            ],
            [
             0.5,
             "#f7f7f7"
            ],
            [
             0.6,
             "#e6f5d0"
            ],
            [
             0.7,
             "#b8e186"
            ],
            [
             0.8,
             "#7fbc41"
            ],
            [
             0.9,
             "#4d9221"
            ],
            [
             1,
             "#276419"
            ]
           ],
           "sequential": [
            [
             0,
             "#0d0887"
            ],
            [
             0.1111111111111111,
             "#46039f"
            ],
            [
             0.2222222222222222,
             "#7201a8"
            ],
            [
             0.3333333333333333,
             "#9c179e"
            ],
            [
             0.4444444444444444,
             "#bd3786"
            ],
            [
             0.5555555555555556,
             "#d8576b"
            ],
            [
             0.6666666666666666,
             "#ed7953"
            ],
            [
             0.7777777777777778,
             "#fb9f3a"
            ],
            [
             0.8888888888888888,
             "#fdca26"
            ],
            [
             1,
             "#f0f921"
            ]
           ],
           "sequentialminus": [
            [
             0,
             "#0d0887"
            ],
            [
             0.1111111111111111,
             "#46039f"
            ],
            [
             0.2222222222222222,
             "#7201a8"
            ],
            [
             0.3333333333333333,
             "#9c179e"
            ],
            [
             0.4444444444444444,
             "#bd3786"
            ],
            [
             0.5555555555555556,
             "#d8576b"
            ],
            [
             0.6666666666666666,
             "#ed7953"
            ],
            [
             0.7777777777777778,
             "#fb9f3a"
            ],
            [
             0.8888888888888888,
             "#fdca26"
            ],
            [
             1,
             "#f0f921"
            ]
           ]
          },
          "colorway": [
           "#636efa",
           "#EF553B",
           "#00cc96",
           "#ab63fa",
           "#FFA15A",
           "#19d3f3",
           "#FF6692",
           "#B6E880",
           "#FF97FF",
           "#FECB52"
          ],
          "font": {
           "color": "#2a3f5f"
          },
          "geo": {
           "bgcolor": "white",
           "lakecolor": "white",
           "landcolor": "#E5ECF6",
           "showlakes": true,
           "showland": true,
           "subunitcolor": "white"
          },
          "hoverlabel": {
           "align": "left"
          },
          "hovermode": "closest",
          "mapbox": {
           "style": "light"
          },
          "paper_bgcolor": "white",
          "plot_bgcolor": "#E5ECF6",
          "polar": {
           "angularaxis": {
            "gridcolor": "white",
            "linecolor": "white",
            "ticks": ""
           },
           "bgcolor": "#E5ECF6",
           "radialaxis": {
            "gridcolor": "white",
            "linecolor": "white",
            "ticks": ""
           }
          },
          "scene": {
           "xaxis": {
            "backgroundcolor": "#E5ECF6",
            "gridcolor": "white",
            "gridwidth": 2,
            "linecolor": "white",
            "showbackground": true,
            "ticks": "",
            "zerolinecolor": "white"
           },
           "yaxis": {
            "backgroundcolor": "#E5ECF6",
            "gridcolor": "white",
            "gridwidth": 2,
            "linecolor": "white",
            "showbackground": true,
            "ticks": "",
            "zerolinecolor": "white"
           },
           "zaxis": {
            "backgroundcolor": "#E5ECF6",
            "gridcolor": "white",
            "gridwidth": 2,
            "linecolor": "white",
            "showbackground": true,
            "ticks": "",
            "zerolinecolor": "white"
           }
          },
          "shapedefaults": {
           "line": {
            "color": "#2a3f5f"
           }
          },
          "ternary": {
           "aaxis": {
            "gridcolor": "white",
            "linecolor": "white",
            "ticks": ""
           },
           "baxis": {
            "gridcolor": "white",
            "linecolor": "white",
            "ticks": ""
           },
           "bgcolor": "#E5ECF6",
           "caxis": {
            "gridcolor": "white",
            "linecolor": "white",
            "ticks": ""
           }
          },
          "title": {
           "x": 0.05
          },
          "xaxis": {
           "automargin": true,
           "gridcolor": "white",
           "linecolor": "white",
           "ticks": "",
           "title": {
            "standoff": 15
           },
           "zerolinecolor": "white",
           "zerolinewidth": 2
          },
          "yaxis": {
           "automargin": true,
           "gridcolor": "white",
           "linecolor": "white",
           "ticks": "",
           "title": {
            "standoff": 15
           },
           "zerolinecolor": "white",
           "zerolinewidth": 2
          }
         }
        },
        "title": {
         "text": "Pourcentage de tués parmis les accidents corporels sur la RCEA"
        },
        "xaxis": {
         "anchor": "y",
         "domain": [
          0,
          1
         ],
         "title": {
          "text": "year"
         }
        },
        "yaxis": {
         "anchor": "x",
         "domain": [
          0,
          1
         ],
         "title": {
          "text": "killed %"
         }
        }
       }
      },
      "text/html": [
       "<div>                            <div id=\"42206151-334f-43f3-82d8-e9e20faa8c67\" class=\"plotly-graph-div\" style=\"height:525px; width:100%;\"></div>            <script type=\"text/javascript\">                require([\"plotly\"], function(Plotly) {                    window.PLOTLYENV=window.PLOTLYENV || {};                                    if (document.getElementById(\"42206151-334f-43f3-82d8-e9e20faa8c67\")) {                    Plotly.newPlot(                        \"42206151-334f-43f3-82d8-e9e20faa8c67\",                        [{\"hovertemplate\": \"year=%{x}<br>killed %=%{y}<extra></extra>\", \"legendgroup\": \"\", \"line\": {\"color\": \"#636efa\", \"dash\": \"solid\"}, \"mode\": \"lines\", \"name\": \"\", \"orientation\": \"v\", \"showlegend\": false, \"type\": \"scatter\", \"x\": [2016, 2017, 2018, 2019], \"xaxis\": \"x\", \"y\": [1.76, 4.0, 3.53, 3.71], \"yaxis\": \"y\"}],                        {\"legend\": {\"tracegroupgap\": 0}, \"template\": {\"data\": {\"bar\": [{\"error_x\": {\"color\": \"#2a3f5f\"}, \"error_y\": {\"color\": \"#2a3f5f\"}, \"marker\": {\"line\": {\"color\": \"#E5ECF6\", \"width\": 0.5}}, \"type\": \"bar\"}], \"barpolar\": [{\"marker\": {\"line\": {\"color\": \"#E5ECF6\", \"width\": 0.5}}, \"type\": \"barpolar\"}], \"carpet\": [{\"aaxis\": {\"endlinecolor\": \"#2a3f5f\", \"gridcolor\": \"white\", \"linecolor\": \"white\", \"minorgridcolor\": \"white\", \"startlinecolor\": \"#2a3f5f\"}, \"baxis\": {\"endlinecolor\": \"#2a3f5f\", \"gridcolor\": \"white\", \"linecolor\": \"white\", \"minorgridcolor\": \"white\", \"startlinecolor\": \"#2a3f5f\"}, \"type\": \"carpet\"}], \"choropleth\": [{\"colorbar\": {\"outlinewidth\": 0, \"ticks\": \"\"}, \"type\": \"choropleth\"}], \"contour\": [{\"colorbar\": {\"outlinewidth\": 0, \"ticks\": \"\"}, \"colorscale\": [[0.0, \"#0d0887\"], [0.1111111111111111, \"#46039f\"], [0.2222222222222222, \"#7201a8\"], [0.3333333333333333, \"#9c179e\"], [0.4444444444444444, \"#bd3786\"], [0.5555555555555556, \"#d8576b\"], [0.6666666666666666, \"#ed7953\"], [0.7777777777777778, \"#fb9f3a\"], [0.8888888888888888, \"#fdca26\"], [1.0, \"#f0f921\"]], \"type\": \"contour\"}], \"contourcarpet\": [{\"colorbar\": {\"outlinewidth\": 0, \"ticks\": \"\"}, \"type\": \"contourcarpet\"}], \"heatmap\": [{\"colorbar\": {\"outlinewidth\": 0, \"ticks\": \"\"}, \"colorscale\": [[0.0, \"#0d0887\"], [0.1111111111111111, \"#46039f\"], [0.2222222222222222, \"#7201a8\"], [0.3333333333333333, \"#9c179e\"], [0.4444444444444444, \"#bd3786\"], [0.5555555555555556, \"#d8576b\"], [0.6666666666666666, \"#ed7953\"], [0.7777777777777778, \"#fb9f3a\"], [0.8888888888888888, \"#fdca26\"], [1.0, \"#f0f921\"]], \"type\": \"heatmap\"}], \"heatmapgl\": [{\"colorbar\": {\"outlinewidth\": 0, \"ticks\": \"\"}, \"colorscale\": [[0.0, \"#0d0887\"], [0.1111111111111111, \"#46039f\"], [0.2222222222222222, \"#7201a8\"], [0.3333333333333333, \"#9c179e\"], [0.4444444444444444, \"#bd3786\"], [0.5555555555555556, \"#d8576b\"], [0.6666666666666666, \"#ed7953\"], [0.7777777777777778, \"#fb9f3a\"], [0.8888888888888888, \"#fdca26\"], [1.0, \"#f0f921\"]], \"type\": \"heatmapgl\"}], \"histogram\": [{\"marker\": {\"colorbar\": {\"outlinewidth\": 0, \"ticks\": \"\"}}, \"type\": \"histogram\"}], \"histogram2d\": [{\"colorbar\": {\"outlinewidth\": 0, \"ticks\": \"\"}, \"colorscale\": [[0.0, \"#0d0887\"], [0.1111111111111111, \"#46039f\"], [0.2222222222222222, \"#7201a8\"], [0.3333333333333333, \"#9c179e\"], [0.4444444444444444, \"#bd3786\"], [0.5555555555555556, \"#d8576b\"], [0.6666666666666666, \"#ed7953\"], [0.7777777777777778, \"#fb9f3a\"], [0.8888888888888888, \"#fdca26\"], [1.0, \"#f0f921\"]], \"type\": \"histogram2d\"}], \"histogram2dcontour\": [{\"colorbar\": {\"outlinewidth\": 0, \"ticks\": \"\"}, \"colorscale\": [[0.0, \"#0d0887\"], [0.1111111111111111, \"#46039f\"], [0.2222222222222222, \"#7201a8\"], [0.3333333333333333, \"#9c179e\"], [0.4444444444444444, \"#bd3786\"], [0.5555555555555556, \"#d8576b\"], [0.6666666666666666, \"#ed7953\"], [0.7777777777777778, \"#fb9f3a\"], [0.8888888888888888, \"#fdca26\"], [1.0, \"#f0f921\"]], \"type\": \"histogram2dcontour\"}], \"mesh3d\": [{\"colorbar\": {\"outlinewidth\": 0, \"ticks\": \"\"}, \"type\": \"mesh3d\"}], \"parcoords\": [{\"line\": {\"colorbar\": {\"outlinewidth\": 0, \"ticks\": \"\"}}, \"type\": \"parcoords\"}], \"pie\": [{\"automargin\": true, \"type\": \"pie\"}], \"scatter\": [{\"marker\": {\"colorbar\": {\"outlinewidth\": 0, \"ticks\": \"\"}}, \"type\": \"scatter\"}], \"scatter3d\": [{\"line\": {\"colorbar\": {\"outlinewidth\": 0, \"ticks\": \"\"}}, \"marker\": {\"colorbar\": {\"outlinewidth\": 0, \"ticks\": \"\"}}, \"type\": \"scatter3d\"}], \"scattercarpet\": [{\"marker\": {\"colorbar\": {\"outlinewidth\": 0, \"ticks\": \"\"}}, \"type\": \"scattercarpet\"}], \"scattergeo\": [{\"marker\": {\"colorbar\": {\"outlinewidth\": 0, \"ticks\": \"\"}}, \"type\": \"scattergeo\"}], \"scattergl\": [{\"marker\": {\"colorbar\": {\"outlinewidth\": 0, \"ticks\": \"\"}}, \"type\": \"scattergl\"}], \"scattermapbox\": [{\"marker\": {\"colorbar\": {\"outlinewidth\": 0, \"ticks\": \"\"}}, \"type\": \"scattermapbox\"}], \"scatterpolar\": [{\"marker\": {\"colorbar\": {\"outlinewidth\": 0, \"ticks\": \"\"}}, \"type\": \"scatterpolar\"}], \"scatterpolargl\": [{\"marker\": {\"colorbar\": {\"outlinewidth\": 0, \"ticks\": \"\"}}, \"type\": \"scatterpolargl\"}], \"scatterternary\": [{\"marker\": {\"colorbar\": {\"outlinewidth\": 0, \"ticks\": \"\"}}, \"type\": \"scatterternary\"}], \"surface\": [{\"colorbar\": {\"outlinewidth\": 0, \"ticks\": \"\"}, \"colorscale\": [[0.0, \"#0d0887\"], [0.1111111111111111, \"#46039f\"], [0.2222222222222222, \"#7201a8\"], [0.3333333333333333, \"#9c179e\"], [0.4444444444444444, \"#bd3786\"], [0.5555555555555556, \"#d8576b\"], [0.6666666666666666, \"#ed7953\"], [0.7777777777777778, \"#fb9f3a\"], [0.8888888888888888, \"#fdca26\"], [1.0, \"#f0f921\"]], \"type\": \"surface\"}], \"table\": [{\"cells\": {\"fill\": {\"color\": \"#EBF0F8\"}, \"line\": {\"color\": \"white\"}}, \"header\": {\"fill\": {\"color\": \"#C8D4E3\"}, \"line\": {\"color\": \"white\"}}, \"type\": \"table\"}]}, \"layout\": {\"annotationdefaults\": {\"arrowcolor\": \"#2a3f5f\", \"arrowhead\": 0, \"arrowwidth\": 1}, \"autotypenumbers\": \"strict\", \"coloraxis\": {\"colorbar\": {\"outlinewidth\": 0, \"ticks\": \"\"}}, \"colorscale\": {\"diverging\": [[0, \"#8e0152\"], [0.1, \"#c51b7d\"], [0.2, \"#de77ae\"], [0.3, \"#f1b6da\"], [0.4, \"#fde0ef\"], [0.5, \"#f7f7f7\"], [0.6, \"#e6f5d0\"], [0.7, \"#b8e186\"], [0.8, \"#7fbc41\"], [0.9, \"#4d9221\"], [1, \"#276419\"]], \"sequential\": [[0.0, \"#0d0887\"], [0.1111111111111111, \"#46039f\"], [0.2222222222222222, \"#7201a8\"], [0.3333333333333333, \"#9c179e\"], [0.4444444444444444, \"#bd3786\"], [0.5555555555555556, \"#d8576b\"], [0.6666666666666666, \"#ed7953\"], [0.7777777777777778, \"#fb9f3a\"], [0.8888888888888888, \"#fdca26\"], [1.0, \"#f0f921\"]], \"sequentialminus\": [[0.0, \"#0d0887\"], [0.1111111111111111, \"#46039f\"], [0.2222222222222222, \"#7201a8\"], [0.3333333333333333, \"#9c179e\"], [0.4444444444444444, \"#bd3786\"], [0.5555555555555556, \"#d8576b\"], [0.6666666666666666, \"#ed7953\"], [0.7777777777777778, \"#fb9f3a\"], [0.8888888888888888, \"#fdca26\"], [1.0, \"#f0f921\"]]}, \"colorway\": [\"#636efa\", \"#EF553B\", \"#00cc96\", \"#ab63fa\", \"#FFA15A\", \"#19d3f3\", \"#FF6692\", \"#B6E880\", \"#FF97FF\", \"#FECB52\"], \"font\": {\"color\": \"#2a3f5f\"}, \"geo\": {\"bgcolor\": \"white\", \"lakecolor\": \"white\", \"landcolor\": \"#E5ECF6\", \"showlakes\": true, \"showland\": true, \"subunitcolor\": \"white\"}, \"hoverlabel\": {\"align\": \"left\"}, \"hovermode\": \"closest\", \"mapbox\": {\"style\": \"light\"}, \"paper_bgcolor\": \"white\", \"plot_bgcolor\": \"#E5ECF6\", \"polar\": {\"angularaxis\": {\"gridcolor\": \"white\", \"linecolor\": \"white\", \"ticks\": \"\"}, \"bgcolor\": \"#E5ECF6\", \"radialaxis\": {\"gridcolor\": \"white\", \"linecolor\": \"white\", \"ticks\": \"\"}}, \"scene\": {\"xaxis\": {\"backgroundcolor\": \"#E5ECF6\", \"gridcolor\": \"white\", \"gridwidth\": 2, \"linecolor\": \"white\", \"showbackground\": true, \"ticks\": \"\", \"zerolinecolor\": \"white\"}, \"yaxis\": {\"backgroundcolor\": \"#E5ECF6\", \"gridcolor\": \"white\", \"gridwidth\": 2, \"linecolor\": \"white\", \"showbackground\": true, \"ticks\": \"\", \"zerolinecolor\": \"white\"}, \"zaxis\": {\"backgroundcolor\": \"#E5ECF6\", \"gridcolor\": \"white\", \"gridwidth\": 2, \"linecolor\": \"white\", \"showbackground\": true, \"ticks\": \"\", \"zerolinecolor\": \"white\"}}, \"shapedefaults\": {\"line\": {\"color\": \"#2a3f5f\"}}, \"ternary\": {\"aaxis\": {\"gridcolor\": \"white\", \"linecolor\": \"white\", \"ticks\": \"\"}, \"baxis\": {\"gridcolor\": \"white\", \"linecolor\": \"white\", \"ticks\": \"\"}, \"bgcolor\": \"#E5ECF6\", \"caxis\": {\"gridcolor\": \"white\", \"linecolor\": \"white\", \"ticks\": \"\"}}, \"title\": {\"x\": 0.05}, \"xaxis\": {\"automargin\": true, \"gridcolor\": \"white\", \"linecolor\": \"white\", \"ticks\": \"\", \"title\": {\"standoff\": 15}, \"zerolinecolor\": \"white\", \"zerolinewidth\": 2}, \"yaxis\": {\"automargin\": true, \"gridcolor\": \"white\", \"linecolor\": \"white\", \"ticks\": \"\", \"title\": {\"standoff\": 15}, \"zerolinecolor\": \"white\", \"zerolinewidth\": 2}}}, \"title\": {\"text\": \"Pourcentage de tu\\u00e9s parmis les accidents corporels sur la RCEA\"}, \"xaxis\": {\"anchor\": \"y\", \"domain\": [0.0, 1.0], \"title\": {\"text\": \"year\"}}, \"yaxis\": {\"anchor\": \"x\", \"domain\": [0.0, 1.0], \"title\": {\"text\": \"killed %\"}}},                        {\"responsive\": true}                    ).then(function(){\n",
       "                            \n",
       "var gd = document.getElementById('42206151-334f-43f3-82d8-e9e20faa8c67');\n",
       "var x = new MutationObserver(function (mutations, observer) {{\n",
       "        var display = window.getComputedStyle(gd).display;\n",
       "        if (!display || display === 'none') {{\n",
       "            console.log([gd, 'removed!']);\n",
       "            Plotly.purge(gd);\n",
       "            observer.disconnect();\n",
       "        }}\n",
       "}});\n",
       "\n",
       "// Listen for the removal of the full notebook cells\n",
       "var notebookContainer = gd.closest('#notebook-container');\n",
       "if (notebookContainer) {{\n",
       "    x.observe(notebookContainer, {childList: true});\n",
       "}}\n",
       "\n",
       "// Listen for the clearing of the current output cell\n",
       "var outputEl = gd.closest('.output');\n",
       "if (outputEl) {{\n",
       "    x.observe(outputEl, {childList: true});\n",
       "}}\n",
       "\n",
       "                        })                };                });            </script>        </div>"
      ]
     },
     "metadata": {},
     "output_type": "display_data"
    }
   ],
   "source": [
    "import plotly.express as px\n",
    "\n",
    "rcea_year_grav = vict_rcea\\\n",
    "    .groupby(by=['year', 'grav']).count().reset_index()\\\n",
    "    .loc[:, ['year', 'grav', 'Num_Acc']]\\\n",
    "    .rename(columns={'Num_Acc': 'victims'})\n",
    "rcea_year_grav = rcea_year_grav.loc[rcea_year_grav['grav'] != 'safe', :]\n",
    "vict_by_year = rcea_year_grav[['year', 'victims']]\\\n",
    "    .groupby(by=['year']).sum()\n",
    "vict_by_year = pd.merge(vict_by_year,\n",
    "                        rcea_year_grav.loc[rcea_year_grav['grav'] == 'killed', \n",
    "                                           ['victims', 'year']]\\\n",
    "                        .rename(columns={'victims': 'killed'}),\n",
    "                        on='year', how='inner')\n",
    "vict_by_year['grav_rate'] = vict_by_year['killed'] / \\\n",
    "    vict_by_year['victims'] * 100\n",
    "vict_by_year['grav_rate'] = vict_by_year['grav_rate'].round(2)\n",
    "\n",
    "fig = px.line(vict_by_year, x='year', y='grav_rate', labels={'grav_rate': 'killed %'},\n",
    "              title='Pourcentage de tués parmis les accidents corporels sur la RCEA')\n",
    "fig.show()"
   ]
  },
  {
   "cell_type": "markdown",
   "metadata": {
    "id": "BgwRG_4EJ0W4"
   },
   "source": [
    "### Quelle est la route la plus meurtière de France ?"
   ]
  },
  {
   "cell_type": "code",
   "execution_count": null,
   "metadata": {
    "executionInfo": {
     "elapsed": 131461,
     "status": "aborted",
     "timestamp": 1608651677786,
     "user": {
      "displayName": "Thomas Marquis",
      "photoUrl": "https://lh3.googleusercontent.com/a-/AOh14Ggkbge6jdBzkHFVUrAbznD0ti2qUlGp2uCW0PBjVQ=s64",
      "userId": "08347579005600922262"
     },
     "user_tz": -60
    },
    "id": "scS17T2hKJ5f"
   },
   "outputs": [],
   "source": []
  },
  {
   "cell_type": "markdown",
   "metadata": {
    "id": "LDvNv02MJ5OX"
   },
   "source": [
    "### Femme au volant, mort au tournant ?"
   ]
  },
  {
   "cell_type": "markdown",
   "metadata": {},
   "source": [
    "**Bibliographie** :\n",
    "\n",
    "- [enquête sur la mobilité des personnes, 2008](https://www.statistiques.developpement-durable.gouv.fr/enquete-nationale-transports-et-deplacements-entd-2008)\n",
    "- (Données non utilisées dans ce notebook) [enquête sur la mobilité des personnes, 2018-2019](https://www.statistiques.developpement-durable.gouv.fr/enquete-sur-la-mobilite-des-personnes-2018-2019) (Résumé [ici](https://www.statistiques.developpement-durable.gouv.fr/comment-les-francais-se-deplacent-ils-en-2019-resultats-de-lenquete-mobilite-des-personnes)) **Les résultats de cette enquête ne seront disponible que début 2021.**\n",
    "- [recensements de la population de 2006 à 2019 (Insee)](https://www.insee.fr/fr/information/2880845)"
   ]
  },
  {
   "cell_type": "code",
   "execution_count": 28,
   "metadata": {
    "ExecuteTime": {
     "end_time": "2020-12-28T06:51:45.604605Z",
     "start_time": "2020-12-28T06:51:42.248303Z"
    },
    "colab": {
     "base_uri": "https://localhost:8080/"
    },
    "executionInfo": {
     "elapsed": 4084,
     "status": "ok",
     "timestamp": 1608720128140,
     "user": {
      "displayName": "Thomas Marquis",
      "photoUrl": "https://lh3.googleusercontent.com/a-/AOh14Ggkbge6jdBzkHFVUrAbznD0ti2qUlGp2uCW0PBjVQ=s64",
      "userId": "08347579005600922262"
     },
     "user_tz": -60
    },
    "id": "MgefdiFqKKph",
    "outputId": "bf44c6d0-d698-4f50-aae3-d2b2c1452b97",
    "scrolled": true
   },
   "outputs": [
    {
     "name": "stderr",
     "output_type": "stream",
     "text": [
      "C:\\Users\\thomas.marquis\\AppData\\Roaming\\Python\\Python38\\site-packages\\IPython\\core\\interactiveshell.py:3338: DtypeWarning:\n",
      "\n",
      "Columns (9) have mixed types.Specify dtype option on import or set low_memory=False.\n",
      "\n",
      "INFO:root:../data/interim/accidents/users.csv: 532589 lines loaded (14.73)Mb\n",
      "C:\\Users\\thomas.marquis\\AppData\\Roaming\\Python\\Python38\\site-packages\\IPython\\core\\interactiveshell.py:3338: DtypeWarning:\n",
      "\n",
      "Columns (5,6,12,13,14) have mixed types.Specify dtype option on import or set low_memory=False.\n",
      "\n",
      "INFO:root:../data/interim/accidents/caracs.csv: 236756 lines loaded (18.52)Mb\n",
      "INFO:root:../data/interim/pop/pop_sex.csv: 121 lines loaded (0.00)Mb\n"
     ]
    }
   ],
   "source": [
    "users = utils.get_dataset(get_path_interim('users'), acc.dtypes('users'))\n",
    "caracs = utils.get_dataset(get_path_interim('caracs'), acc.dtypes('caracs'))\n",
    "pop_sex = utils.get_dataset('../data/interim/pop/pop_sex.csv', sep=',')\n",
    "entd = pd.read_excel('../data/raw/conducteurs/entd.xlsx',\n",
    "                     engine='openpyxl', index_col=0, header=0)\n",
    "\n",
    "victims = acc.build_victims_dataset(caracs, users)"
   ]
  },
  {
   "cell_type": "markdown",
   "metadata": {},
   "source": [
    "#### Evolution des proportions de conducteurs actif selon le sexe"
   ]
  },
  {
   "cell_type": "code",
   "execution_count": 331,
   "metadata": {
    "ExecuteTime": {
     "end_time": "2020-12-29T10:25:22.093446Z",
     "start_time": "2020-12-29T10:25:21.711894Z"
    },
    "scrolled": false
   },
   "outputs": [
    {
     "data": {
      "image/png": "[encoded data removed]",
      "text/plain": [
       "<Figure size 864x432 with 1 Axes>"
      ]
     },
     "metadata": {
      "needs_background": "light"
     },
     "output_type": "display_data"
    }
   ],
   "source": [
    "drivers_count = drivers.get_drivers_count(pop_sex, entd)\n",
    "drivers_count.plot.bar(x='year', ylim=[0, 1], rot=45, xlabel='années', ylabel='Proportion',\n",
    "                       title='Evolution des proportions de conducteurs actif selon le sexe',\n",
    "                       figsize=(12, 6))"
   ]
  },
  {
   "cell_type": "markdown",
   "metadata": {},
   "source": [
    "#### Comparaison H/F de l'implication dans des accidents selon leur gravité"
   ]
  },
  {
   "cell_type": "markdown",
   "metadata": {},
   "source": [
    "On cherche à déterminer la gravité de chaque accident. Gravité = état du blessé le plus grav impliqué dans l'accident\n",
    "\n",
    "Puis, on ajoute à ce data frame le sex des conducteurs."
   ]
  },
  {
   "cell_type": "code",
   "execution_count": 332,
   "metadata": {
    "ExecuteTime": {
     "end_time": "2020-12-29T10:26:05.165848Z",
     "start_time": "2020-12-29T10:26:04.060319Z"
    },
    "scrolled": false
   },
   "outputs": [
    {
     "data": {
      "image/png": "[encoded data removed]",
      "text/plain": [
       "<Figure size 864x432 with 1 Axes>"
      ]
     },
     "metadata": {
      "needs_background": "light"
     },
     "output_type": "display_data"
    }
   ],
   "source": [
    "if os.path.exists('../data/interim/accidents/acc_severity.csv'):\n",
    "        acc_severity = pd.read_csv('../data/interim/accidents/acc_severity.csv',\n",
    "                                   index_col=0, header=0,\n",
    "                                   dtype={'acc_severity': 'category', 'Num_Acc': 'string'})\n",
    "else:\n",
    "    # !! > 1 minute !!\n",
    "    acc_severity = get_acc_severity(acc)\n",
    "    acc_severity.to_csv(\n",
    "        '../data/interim/accidents/acc_severity.csv', index=True, header=True)\n",
    "\n",
    "drivers = acc.get_drivers(acc_severity, users)\n",
    "pct_drivers_sex = acc.get_pct_drivers_by_sex(drivers_count)\n",
    "summary_sex = acc.get_summary_by_sex(drivers, pct_drivers_sex)\n",
    "summary_sex.plot.bar(color=['pink', 'lightblue'], figsize=(12, 6), stacked=True,\n",
    "                     ylabel='% des conducteurs impliqués', rot=0,\n",
    "                     title=\"Comparaison H/F de l'implication dans des accidents selon leur gravité\")"
   ]
  },
  {
   "cell_type": "markdown",
   "metadata": {},
   "source": [
    "#### Gravité des accident selon le type de trajet"
   ]
  },
  {
   "cell_type": "code",
   "execution_count": 333,
   "metadata": {
    "ExecuteTime": {
     "end_time": "2020-12-29T10:26:37.807923Z",
     "start_time": "2020-12-29T10:26:37.385835Z"
    },
    "scrolled": false
   },
   "outputs": [
    {
     "data": {
      "image/png": "[encoded data removed]",
      "text/plain": [
       "<Figure size 864x432 with 1 Axes>"
      ]
     },
     "metadata": {
      "needs_background": "light"
     },
     "output_type": "display_data"
    }
   ],
   "source": [
    "pd.crosstab(index=drivers['trajet'], columns=drivers['acc_severity'])\\\n",
    "    .plot.bar(color=['lightblue', 'lightgreen', 'darkgrey'], figsize=(12, 6), stacked=True, rot=0,\n",
    "             title='Gravité des accident selon le type de trajet')"
   ]
  },
  {
   "cell_type": "code",
   "execution_count": 334,
   "metadata": {
    "ExecuteTime": {
     "end_time": "2020-12-29T10:26:49.352754Z",
     "start_time": "2020-12-29T10:26:48.846673Z"
    }
   },
   "outputs": [
    {
     "data": {
      "image/png": "[encoded data removed]",
      "text/plain": [
       "<Figure size 864x432 with 1 Axes>"
      ]
     },
     "metadata": {
      "needs_background": "light"
     },
     "output_type": "display_data"
    }
   ],
   "source": [
    "tab_n = pd.crosstab(index=drivers['trajet'], columns=drivers['acc_severity'])\n",
    "tab_prop = pd.crosstab(index=drivers['trajet'], columns=drivers['acc_severity'], normalize=0)\n",
    "*_, yerr = stats.compute_prop_ci(tab_prop, tab_n)\n",
    "yerr = np.transpose(yerr, (1, 0, 2)) * 100\n",
    "\n",
    "tab_prop\\\n",
    "    .mul(100).round(0)\\\n",
    "    .plot.bar(color=['lightblue', 'lightgreen', 'darkgrey'], figsize=(12, 6), stacked=False, rot=0,\n",
    "              yerr=yerr, ecolor='black',\n",
    "             title='Gravité des accident selon le type de trajet en proportion')"
   ]
  },
  {
   "cell_type": "markdown",
   "metadata": {},
   "source": [
    "#### Proportion d'accident selon le type de trajet et le sex des conducteurs impliqués"
   ]
  },
  {
   "cell_type": "code",
   "execution_count": 335,
   "metadata": {
    "ExecuteTime": {
     "end_time": "2020-12-29T10:27:11.383488Z",
     "start_time": "2020-12-29T10:27:10.982340Z"
    }
   },
   "outputs": [
    {
     "data": {
      "image/png": "[encoded data removed]",
      "text/plain": [
       "<Figure size 864x432 with 1 Axes>"
      ]
     },
     "metadata": {
      "needs_background": "light"
     },
     "output_type": "display_data"
    }
   ],
   "source": [
    "ax = pd.crosstab(index=drivers['trajet'], columns=drivers['sexe'], normalize=0)\\\n",
    "    .mul(100).round(0)\\\n",
    "    .plot.bar(color=['pink', 'lightblue'], figsize=(12, 6), stacked=True, rot=0,\n",
    "             title=\"Proportion d'accident selon le type de trajet et le sex des conducteurs impliqués\")\n",
    "ax.axhline(pct_drivers_sex[['prop_drive_female']].values, color='purple', lw=3, alpha=.5)\n",
    "ax.axhline(summary_sex.loc['Tous accidents', 'Femmes'], color='red', lw=3, alpha=.5)"
   ]
  },
  {
   "cell_type": "markdown",
   "metadata": {},
   "source": [
    "#### TODO\n",
    "\n",
    "- [x] utiliser le dernier sondage ENT => **résultat non disponibles avant début 2021**\n",
    "- [x] regarder s'il existe des différence par type de trajet. Par exemple, en éliminant tous les chauffeur poid lourds\n",
    "- [x] comprendre ce que le sondage ENT considère comme un conducteur actif => **pas d'information précice à ce sujet. Mais il est très probable qu'un conducteur actif soit un conducteur régulier (toutes les semaines) ou occasionel**\n",
    "- [ ] voir s'il existe des données sur le temps moyen de conduite par sex"
   ]
  },
  {
   "cell_type": "markdown",
   "metadata": {
    "id": "JCicsBBuKB-V"
   },
   "source": [
    "### la place du mort porte t-elle si bien son nom ?"
   ]
  },
  {
   "cell_type": "code",
   "execution_count": null,
   "metadata": {
    "executionInfo": {
     "elapsed": 131406,
     "status": "aborted",
     "timestamp": 1608651677791,
     "user": {
      "displayName": "Thomas Marquis",
      "photoUrl": "https://lh3.googleusercontent.com/a-/AOh14Ggkbge6jdBzkHFVUrAbznD0ti2qUlGp2uCW0PBjVQ=s64",
      "userId": "08347579005600922262"
     },
     "user_tz": -60
    },
    "id": "0DoHPuVbKLQB"
   },
   "outputs": [],
   "source": []
  },
  {
   "cell_type": "markdown",
   "metadata": {
    "id": "0QVQcGpnyHsz"
   },
   "source": [
    "### L'age du conducteur a t-elle une influence ?"
   ]
  },
  {
   "cell_type": "code",
   "execution_count": 323,
   "metadata": {
    "ExecuteTime": {
     "end_time": "2020-12-28T22:21:08.912849Z",
     "start_time": "2020-12-28T22:21:05.526371Z"
    },
    "colab": {
     "base_uri": "https://localhost:8080/"
    },
    "executionInfo": {
     "elapsed": 3045,
     "status": "ok",
     "timestamp": 1608675309735,
     "user": {
      "displayName": "Thomas Marquis",
      "photoUrl": "https://lh3.googleusercontent.com/a-/AOh14Ggkbge6jdBzkHFVUrAbznD0ti2qUlGp2uCW0PBjVQ=s64",
      "userId": "08347579005600922262"
     },
     "user_tz": -60
    },
    "id": "EeqCzK6DyLq5",
    "outputId": "57b6c578-f444-4721-f9d6-5f79e38b2cc4"
   },
   "outputs": [
    {
     "name": "stderr",
     "output_type": "stream",
     "text": [
      "C:\\Users\\thomas.marquis\\AppData\\Roaming\\Python\\Python38\\site-packages\\IPython\\core\\interactiveshell.py:3338: DtypeWarning:\n",
      "\n",
      "Columns (9) have mixed types.Specify dtype option on import or set low_memory=False.\n",
      "\n",
      "INFO:root:../data/interim/accidents/users.csv: 532589 lines loaded (14.73)Mb\n",
      "C:\\Users\\thomas.marquis\\AppData\\Roaming\\Python\\Python38\\site-packages\\IPython\\core\\interactiveshell.py:3338: DtypeWarning:\n",
      "\n",
      "Columns (5,6,12,13,14) have mixed types.Specify dtype option on import or set low_memory=False.\n",
      "\n",
      "INFO:root:../data/interim/accidents/caracs.csv: 236756 lines loaded (18.52)Mb\n"
     ]
    }
   ],
   "source": [
    "users = utils.get_dataset(get_path_interim('users'), acc.dtypes('users'))\n",
    "caracs = utils.get_dataset(get_path_interim('caracs'), acc.dtypes('caracs'))\n",
    "\n",
    "victims = acc.build_victims_dataset(caracs, users)\n",
    "victims = victims.loc[victims['grav'] != 'safe', :]"
   ]
  },
  {
   "cell_type": "markdown",
   "metadata": {},
   "source": [
    "#### Proportion de victime selon leur age et leur état"
   ]
  },
  {
   "cell_type": "code",
   "execution_count": 324,
   "metadata": {
    "ExecuteTime": {
     "end_time": "2020-12-28T22:21:17.599734Z",
     "start_time": "2020-12-28T22:21:17.429605Z"
    },
    "scrolled": false
   },
   "outputs": [
    {
     "data": {
      "application/vnd.plotly.v1+json": {
       "config": {
        "plotlyServerURL": "https://plot.ly"
       },
       "data": [
        {
         "hovertemplate": "Gravité=Blessé grave<br>age=%{x}<br>Proportions du total des victimes=%{y}<extra></extra>",
         "legendgroup": "Blessé grave",
         "line": {
          "color": "#636efa",
          "dash": "solid"
         },
         "mode": "lines",
         "name": "Blessé grave",
         "orientation": "v",
         "showlegend": true,
         "type": "scatter",
         "x": [
          0,
          1,
          2,
          3,
          4,
          5,
          6,
          7,
          8,
          9,
          10,
          11,
          12,
          13,
          14,
          15,
          16,
          17,
          18,
          19,
          20,
          21,
          22,
          23,
          24,
          25,
          26,
          27,
          28,
          29,
          30,
          31,
          32,
          33,
          34,
          35,
          36,
          37,
          38,
          39,
          40,
          41,
          42,
          43,
          44,
          45,
          46,
          47,
          48,
          49,
          50,
          51,
          52,
          53,
          54,
          55,
          56,
          57,
          58,
          59,
          60,
          61,
          62,
          63,
          64,
          65,
          66,
          67,
          68,
          69,
          70,
          71,
          72,
          73,
          74,
          75,
          76,
          77,
          78,
          79,
          80,
          81,
          82,
          83,
          84,
          85,
          86,
          87,
          88,
          89
         ],
         "xaxis": "x",
         "y": [
          0.18081180811808117,
          0.18932655654383734,
          0.23007856341189675,
          0.2650375939849624,
          0.2803819444444444,
          0.27983870967741936,
          0.28910303928836173,
          0.2884468247895945,
          0.27228070175438596,
          0.2723404255319149,
          0.2610103626943005,
          0.28039430449069,
          0.26939970717423134,
          0.2961689587426326,
          0.3474295190713101,
          0.3807210432114549,
          0.3807585568917669,
          0.37694515787883365,
          0.3468774496995035,
          0.32397045658012535,
          0.31013874066168623,
          0.3186825797567133,
          0.3064516129032258,
          0.2980349344978166,
          0.2914849961528597,
          0.2875929861849097,
          0.2867707477403451,
          0.2800453514739229,
          0.2807968360919877,
          0.2815518853225304,
          0.27813197322282435,
          0.2827251422832273,
          0.2738221749911442,
          0.27632291854795016,
          0.26907099697885195,
          0.2823271568041443,
          0.29072730837090766,
          0.27666314677930304,
          0.2732972972972973,
          0.281873179475689,
          0.28774795799299885,
          0.28349559573481686,
          0.2883731617647059,
          0.28824069820854387,
          0.30150190540237615,
          0.30175672670669335,
          0.3111523301646186,
          0.30830223880597013,
          0.3198645052020324,
          0.3260922037171132,
          0.3203356367226061,
          0.32954006638217165,
          0.3388762912572436,
          0.33521705625481635,
          0.3342827550491973,
          0.33403141361256544,
          0.33516483516483514,
          0.3428733352224426,
          0.3407176287051482,
          0.36266924564796904,
          0.36369770580296895,
          0.3605467306981899,
          0.37872340425531914,
          0.3804159445407279,
          0.3855855855855856,
          0.38798856053384173,
          0.39961575408261285,
          0.4124493927125506,
          0.41037493579866463,
          0.37767584097859325,
          0.4251182343667893,
          0.4227039361095265,
          0.4215686274509804,
          0.42426367461430575,
          0.44274809160305345,
          0.4408352668213457,
          0.45326001571091906,
          0.4508670520231214,
          0.44072164948453607,
          0.47068676716917923,
          0.45133505598621876,
          0.4621342512908778,
          0.44921190893169877,
          0.4770992366412214,
          0.4595404595404595,
          0.45153933865450396,
          0.45901639344262296,
          0.4396200814111262,
          0.43265993265993263,
          0.4403846153846154
         ],
         "yaxis": "y"
        },
        {
         "hovertemplate": "Gravité=Blessé léger<br>age=%{x}<br>Proportions du total des victimes=%{y}<extra></extra>",
         "legendgroup": "Blessé léger",
         "line": {
          "color": "#EF553B",
          "dash": "solid"
         },
         "mode": "lines",
         "name": "Blessé léger",
         "orientation": "v",
         "showlegend": true,
         "type": "scatter",
         "x": [
          0,
          1,
          2,
          3,
          4,
          5,
          6,
          7,
          8,
          9,
          10,
          11,
          12,
          13,
          14,
          15,
          16,
          17,
          18,
          19,
          20,
          21,
          22,
          23,
          24,
          25,
          26,
          27,
          28,
          29,
          30,
          31,
          32,
          33,
          34,
          35,
          36,
          37,
          38,
          39,
          40,
          41,
          42,
          43,
          44,
          45,
          46,
          47,
          48,
          49,
          50,
          51,
          52,
          53,
          54,
          55,
          56,
          57,
          58,
          59,
          60,
          61,
          62,
          63,
          64,
          65,
          66,
          67,
          68,
          69,
          70,
          71,
          72,
          73,
          74,
          75,
          76,
          77,
          78,
          79,
          80,
          81,
          82,
          83,
          84,
          85,
          86,
          87,
          88,
          89
         ],
         "xaxis": "x",
         "y": [
          0.7841328413284133,
          0.7738246505717916,
          0.7328843995510662,
          0.7039473684210527,
          0.6996527777777778,
          0.6967741935483871,
          0.6893995552260934,
          0.6962509563886764,
          0.7129824561403508,
          0.7127659574468085,
          0.7260362694300518,
          0.7059145673603505,
          0.7183992191312836,
          0.6910609037328095,
          0.6397180762852405,
          0.6013807210432115,
          0.598704902867715,
          0.5951050007554011,
          0.6213744447347792,
          0.6368621307072516,
          0.6504802561366062,
          0.6413816846453982,
          0.6517541794207676,
          0.6646045608927705,
          0.6681200307771223,
          0.671758767268863,
          0.6777595179402903,
          0.6821145124716553,
          0.6821444265416727,
          0.67965098161421,
          0.6834555307618744,
          0.6787746903247406,
          0.6888062345023025,
          0.6895430738667149,
          0.691654078549849,
          0.6840007969715083,
          0.6751617329935307,
          0.6815205913410771,
          0.6875675675675675,
          0.6789155276719695,
          0.6758459743290548,
          0.6719981455725544,
          0.6760110294117647,
          0.6747818098300413,
          0.6565792423223492,
          0.6582165888370024,
          0.6547646649663807,
          0.6553171641791045,
          0.6365835954512461,
          0.6352884383297128,
          0.6342546890424482,
          0.6311047889995258,
          0.6089695137314185,
          0.6216285640893913,
          0.6219575349559814,
          0.6157068062827226,
          0.6184065934065934,
          0.6044205157268348,
          0.5965678627145086,
          0.5822050290135397,
          0.5765856950067476,
          0.5851496121167344,
          0.5647969052224371,
          0.5589254766031195,
          0.5554054054054054,
          0.546234509056244,
          0.5336215177713737,
          0.5177125506072875,
          0.5125834617360041,
          0.5438328236493374,
          0.49710982658959535,
          0.5054192812321734,
          0.4830065359477124,
          0.5,
          0.4725190839694656,
          0.47409126063418405,
          0.4430479183032207,
          0.44838976052848883,
          0.46134020618556704,
          0.4103852596314908,
          0.4082687338501292,
          0.42512908777969016,
          0.4089316987740806,
          0.3988549618320611,
          0.4005994005994006,
          0.40364880273660203,
          0.3992974238875878,
          0.41655359565807326,
          0.38215488215488214,
          0.36346153846153845
         ],
         "yaxis": "y"
        },
        {
         "hovertemplate": "Gravité=Mort<br>age=%{x}<br>Proportions du total des victimes=%{y}<extra></extra>",
         "legendgroup": "Mort",
         "line": {
          "color": "#00cc96",
          "dash": "solid"
         },
         "mode": "lines",
         "name": "Mort",
         "orientation": "v",
         "showlegend": true,
         "type": "scatter",
         "x": [
          0,
          1,
          2,
          3,
          4,
          5,
          6,
          7,
          8,
          9,
          10,
          11,
          12,
          13,
          14,
          15,
          16,
          17,
          18,
          19,
          20,
          21,
          22,
          23,
          24,
          25,
          26,
          27,
          28,
          29,
          30,
          31,
          32,
          33,
          34,
          35,
          36,
          37,
          38,
          39,
          40,
          41,
          42,
          43,
          44,
          45,
          46,
          47,
          48,
          49,
          50,
          51,
          52,
          53,
          54,
          55,
          56,
          57,
          58,
          59,
          60,
          61,
          62,
          63,
          64,
          65,
          66,
          67,
          68,
          69,
          70,
          71,
          72,
          73,
          74,
          75,
          76,
          77,
          78,
          79,
          80,
          81,
          82,
          83,
          84,
          85,
          86,
          87,
          88,
          89
         ],
         "xaxis": "x",
         "y": [
          0.03505535055350553,
          0.036848792884371026,
          0.037037037037037035,
          0.03101503759398496,
          0.019965277777777776,
          0.02338709677419355,
          0.021497405485544848,
          0.015302218821729151,
          0.014736842105263158,
          0.014893617021276596,
          0.012953367875647668,
          0.013691128148959474,
          0.012201073694485115,
          0.012770137524557957,
          0.01285240464344942,
          0.017898235745333675,
          0.02053654024051804,
          0.02794984136576522,
          0.03174810556571727,
          0.0391674127126231,
          0.03938100320170758,
          0.039935735597888454,
          0.04179420767600659,
          0.037360504609412905,
          0.04039497307001795,
          0.040648246546227416,
          0.03546973431936456,
          0.03784013605442177,
          0.037058737366339536,
          0.03879713306325958,
          0.038412496015301244,
          0.03850016739203214,
          0.03737159050655331,
          0.03413400758533502,
          0.03927492447129909,
          0.03367204622434748,
          0.034110958635561656,
          0.04181626187961985,
          0.039135135135135134,
          0.03921129285234148,
          0.036406067677946324,
          0.04450625869262865,
          0.03561580882352941,
          0.03697749196141479,
          0.0419188522752746,
          0.0400266844563042,
          0.0340830048690007,
          0.036380597014925374,
          0.04355189934672151,
          0.038619357953174026,
          0.045409674234945706,
          0.039355144618302515,
          0.05215419501133787,
          0.04315437965579245,
          0.04375970999482134,
          0.050261780104712044,
          0.04642857142857143,
          0.05270614905072259,
          0.06271450858034322,
          0.0551257253384913,
          0.0597165991902834,
          0.05430365718507573,
          0.05647969052224371,
          0.060658578856152515,
          0.05900900900900901,
          0.0657769304099142,
          0.06676272814601344,
          0.06983805668016195,
          0.07704160246533127,
          0.07849133537206932,
          0.07777193904361535,
          0.07187678265830005,
          0.09542483660130718,
          0.07573632538569425,
          0.08473282442748091,
          0.08507347254447023,
          0.10369206598586017,
          0.10074318744838975,
          0.0979381443298969,
          0.11892797319932999,
          0.14039621016365203,
          0.11273666092943202,
          0.14185639229422067,
          0.12404580152671756,
          0.13986013986013987,
          0.14481185860889395,
          0.14168618266978922,
          0.14382632293080055,
          0.18518518518518517,
          0.19615384615384615
         ],
         "yaxis": "y"
        }
       ],
       "layout": {
        "legend": {
         "title": {
          "text": "Gravité"
         },
         "tracegroupgap": 0
        },
        "template": {
         "data": {
          "bar": [
           {
            "error_x": {
             "color": "#2a3f5f"
            },
            "error_y": {
             "color": "#2a3f5f"
            },
            "marker": {
             "line": {
              "color": "#E5ECF6",
              "width": 0.5
             }
            },
            "type": "bar"
           }
          ],
          "barpolar": [
           {
            "marker": {
             "line": {
              "color": "#E5ECF6",
              "width": 0.5
             }
            },
            "type": "barpolar"
           }
          ],
          "carpet": [
           {
            "aaxis": {
             "endlinecolor": "#2a3f5f",
             "gridcolor": "white",
             "linecolor": "white",
             "minorgridcolor": "white",
             "startlinecolor": "#2a3f5f"
            },
            "baxis": {
             "endlinecolor": "#2a3f5f",
             "gridcolor": "white",
             "linecolor": "white",
             "minorgridcolor": "white",
             "startlinecolor": "#2a3f5f"
            },
            "type": "carpet"
           }
          ],
          "choropleth": [
           {
            "colorbar": {
             "outlinewidth": 0,
             "ticks": ""
            },
            "type": "choropleth"
           }
          ],
          "contour": [
           {
            "colorbar": {
             "outlinewidth": 0,
             "ticks": ""
            },
            "colorscale": [
             [
              0,
              "#0d0887"
             ],
             [
              0.1111111111111111,
              "#46039f"
             ],
             [
              0.2222222222222222,
              "#7201a8"
             ],
             [
              0.3333333333333333,
              "#9c179e"
             ],
             [
              0.4444444444444444,
              "#bd3786"
             ],
             [
              0.5555555555555556,
              "#d8576b"
             ],
             [
              0.6666666666666666,
              "#ed7953"
             ],
             [
              0.7777777777777778,
              "#fb9f3a"
             ],
             [
              0.8888888888888888,
              "#fdca26"
             ],
             [
              1,
              "#f0f921"
             ]
            ],
            "type": "contour"
           }
          ],
          "contourcarpet": [
           {
            "colorbar": {
             "outlinewidth": 0,
             "ticks": ""
            },
            "type": "contourcarpet"
           }
          ],
          "heatmap": [
           {
            "colorbar": {
             "outlinewidth": 0,
             "ticks": ""
            },
            "colorscale": [
             [
              0,
              "#0d0887"
             ],
             [
              0.1111111111111111,
              "#46039f"
             ],
             [
              0.2222222222222222,
              "#7201a8"
             ],
             [
              0.3333333333333333,
              "#9c179e"
             ],
             [
              0.4444444444444444,
              "#bd3786"
             ],
             [
              0.5555555555555556,
              "#d8576b"
             ],
             [
              0.6666666666666666,
              "#ed7953"
             ],
             [
              0.7777777777777778,
              "#fb9f3a"
             ],
             [
              0.8888888888888888,
              "#fdca26"
             ],
             [
              1,
              "#f0f921"
             ]
            ],
            "type": "heatmap"
           }
          ],
          "heatmapgl": [
           {
            "colorbar": {
             "outlinewidth": 0,
             "ticks": ""
            },
            "colorscale": [
             [
              0,
              "#0d0887"
             ],
             [
              0.1111111111111111,
              "#46039f"
             ],
             [
              0.2222222222222222,
              "#7201a8"
             ],
             [
              0.3333333333333333,
              "#9c179e"
             ],
             [
              0.4444444444444444,
              "#bd3786"
             ],
             [
              0.5555555555555556,
              "#d8576b"
             ],
             [
              0.6666666666666666,
              "#ed7953"
             ],
             [
              0.7777777777777778,
              "#fb9f3a"
             ],
             [
              0.8888888888888888,
              "#fdca26"
             ],
             [
              1,
              "#f0f921"
             ]
            ],
            "type": "heatmapgl"
           }
          ],
          "histogram": [
           {
            "marker": {
             "colorbar": {
              "outlinewidth": 0,
              "ticks": ""
             }
            },
            "type": "histogram"
           }
          ],
          "histogram2d": [
           {
            "colorbar": {
             "outlinewidth": 0,
             "ticks": ""
            },
            "colorscale": [
             [
              0,
              "#0d0887"
             ],
             [
              0.1111111111111111,
              "#46039f"
             ],
             [
              0.2222222222222222,
              "#7201a8"
             ],
             [
              0.3333333333333333,
              "#9c179e"
             ],
             [
              0.4444444444444444,
              "#bd3786"
             ],
             [
              0.5555555555555556,
              "#d8576b"
             ],
             [
              0.6666666666666666,
              "#ed7953"
             ],
             [
              0.7777777777777778,
              "#fb9f3a"
             ],
             [
              0.8888888888888888,
              "#fdca26"
             ],
             [
              1,
              "#f0f921"
             ]
            ],
            "type": "histogram2d"
           }
          ],
          "histogram2dcontour": [
           {
            "colorbar": {
             "outlinewidth": 0,
             "ticks": ""
            },
            "colorscale": [
             [
              0,
              "#0d0887"
             ],
             [
              0.1111111111111111,
              "#46039f"
             ],
             [
              0.2222222222222222,
              "#7201a8"
             ],
             [
              0.3333333333333333,
              "#9c179e"
             ],
             [
              0.4444444444444444,
              "#bd3786"
             ],
             [
              0.5555555555555556,
              "#d8576b"
             ],
             [
              0.6666666666666666,
              "#ed7953"
             ],
             [
              0.7777777777777778,
              "#fb9f3a"
             ],
             [
              0.8888888888888888,
              "#fdca26"
             ],
             [
              1,
              "#f0f921"
             ]
            ],
            "type": "histogram2dcontour"
           }
          ],
          "mesh3d": [
           {
            "colorbar": {
             "outlinewidth": 0,
             "ticks": ""
            },
            "type": "mesh3d"
           }
          ],
          "parcoords": [
           {
            "line": {
             "colorbar": {
              "outlinewidth": 0,
              "ticks": ""
             }
            },
            "type": "parcoords"
           }
          ],
          "pie": [
           {
            "automargin": true,
            "type": "pie"
           }
          ],
          "scatter": [
           {
            "marker": {
             "colorbar": {
              "outlinewidth": 0,
              "ticks": ""
             }
            },
            "type": "scatter"
           }
          ],
          "scatter3d": [
           {
            "line": {
             "colorbar": {
              "outlinewidth": 0,
              "ticks": ""
             }
            },
            "marker": {
             "colorbar": {
              "outlinewidth": 0,
              "ticks": ""
             }
            },
            "type": "scatter3d"
           }
          ],
          "scattercarpet": [
           {
            "marker": {
             "colorbar": {
              "outlinewidth": 0,
              "ticks": ""
             }
            },
            "type": "scattercarpet"
           }
          ],
          "scattergeo": [
           {
            "marker": {
             "colorbar": {
              "outlinewidth": 0,
              "ticks": ""
             }
            },
            "type": "scattergeo"
           }
          ],
          "scattergl": [
           {
            "marker": {
             "colorbar": {
              "outlinewidth": 0,
              "ticks": ""
             }
            },
            "type": "scattergl"
           }
          ],
          "scattermapbox": [
           {
            "marker": {
             "colorbar": {
              "outlinewidth": 0,
              "ticks": ""
             }
            },
            "type": "scattermapbox"
           }
          ],
          "scatterpolar": [
           {
            "marker": {
             "colorbar": {
              "outlinewidth": 0,
              "ticks": ""
             }
            },
            "type": "scatterpolar"
           }
          ],
          "scatterpolargl": [
           {
            "marker": {
             "colorbar": {
              "outlinewidth": 0,
              "ticks": ""
             }
            },
            "type": "scatterpolargl"
           }
          ],
          "scatterternary": [
           {
            "marker": {
             "colorbar": {
              "outlinewidth": 0,
              "ticks": ""
             }
            },
            "type": "scatterternary"
           }
          ],
          "surface": [
           {
            "colorbar": {
             "outlinewidth": 0,
             "ticks": ""
            },
            "colorscale": [
             [
              0,
              "#0d0887"
             ],
             [
              0.1111111111111111,
              "#46039f"
             ],
             [
              0.2222222222222222,
              "#7201a8"
             ],
             [
              0.3333333333333333,
              "#9c179e"
             ],
             [
              0.4444444444444444,
              "#bd3786"
             ],
             [
              0.5555555555555556,
              "#d8576b"
             ],
             [
              0.6666666666666666,
              "#ed7953"
             ],
             [
              0.7777777777777778,
              "#fb9f3a"
             ],
             [
              0.8888888888888888,
              "#fdca26"
             ],
             [
              1,
              "#f0f921"
             ]
            ],
            "type": "surface"
           }
          ],
          "table": [
           {
            "cells": {
             "fill": {
              "color": "#EBF0F8"
             },
             "line": {
              "color": "white"
             }
            },
            "header": {
             "fill": {
              "color": "#C8D4E3"
             },
             "line": {
              "color": "white"
             }
            },
            "type": "table"
           }
          ]
         },
         "layout": {
          "annotationdefaults": {
           "arrowcolor": "#2a3f5f",
           "arrowhead": 0,
           "arrowwidth": 1
          },
          "autotypenumbers": "strict",
          "coloraxis": {
           "colorbar": {
            "outlinewidth": 0,
            "ticks": ""
           }
          },
          "colorscale": {
           "diverging": [
            [
             0,
             "#8e0152"
            ],
            [
             0.1,
             "#c51b7d"
            ],
            [
             0.2,
             "#de77ae"
            ],
            [
             0.3,
             "#f1b6da"
            ],
            [
             0.4,
             "#fde0ef"
            ],
            [
             0.5,
             "#f7f7f7"
            ],
            [
             0.6,
             "#e6f5d0"
            ],
            [
             0.7,
             "#b8e186"
            ],
            [
             0.8,
             "#7fbc41"
            ],
            [
             0.9,
             "#4d9221"
            ],
            [
             1,
             "#276419"
            ]
           ],
           "sequential": [
            [
             0,
             "#0d0887"
            ],
            [
             0.1111111111111111,
             "#46039f"
            ],
            [
             0.2222222222222222,
             "#7201a8"
            ],
            [
             0.3333333333333333,
             "#9c179e"
            ],
            [
             0.4444444444444444,
             "#bd3786"
            ],
            [
             0.5555555555555556,
             "#d8576b"
            ],
            [
             0.6666666666666666,
             "#ed7953"
            ],
            [
             0.7777777777777778,
             "#fb9f3a"
            ],
            [
             0.8888888888888888,
             "#fdca26"
            ],
            [
             1,
             "#f0f921"
            ]
           ],
           "sequentialminus": [
            [
             0,
             "#0d0887"
            ],
            [
             0.1111111111111111,
             "#46039f"
            ],
            [
             0.2222222222222222,
             "#7201a8"
            ],
            [
             0.3333333333333333,
             "#9c179e"
            ],
            [
             0.4444444444444444,
             "#bd3786"
            ],
            [
             0.5555555555555556,
             "#d8576b"
            ],
            [
             0.6666666666666666,
             "#ed7953"
            ],
            [
             0.7777777777777778,
             "#fb9f3a"
            ],
            [
             0.8888888888888888,
             "#fdca26"
            ],
            [
             1,
             "#f0f921"
            ]
           ]
          },
          "colorway": [
           "#636efa",
           "#EF553B",
           "#00cc96",
           "#ab63fa",
           "#FFA15A",
           "#19d3f3",
           "#FF6692",
           "#B6E880",
           "#FF97FF",
           "#FECB52"
          ],
          "font": {
           "color": "#2a3f5f"
          },
          "geo": {
           "bgcolor": "white",
           "lakecolor": "white",
           "landcolor": "#E5ECF6",
           "showlakes": true,
           "showland": true,
           "subunitcolor": "white"
          },
          "hoverlabel": {
           "align": "left"
          },
          "hovermode": "closest",
          "mapbox": {
           "style": "light"
          },
          "paper_bgcolor": "white",
          "plot_bgcolor": "#E5ECF6",
          "polar": {
           "angularaxis": {
            "gridcolor": "white",
            "linecolor": "white",
            "ticks": ""
           },
           "bgcolor": "#E5ECF6",
           "radialaxis": {
            "gridcolor": "white",
            "linecolor": "white",
            "ticks": ""
           }
          },
          "scene": {
           "xaxis": {
            "backgroundcolor": "#E5ECF6",
            "gridcolor": "white",
            "gridwidth": 2,
            "linecolor": "white",
            "showbackground": true,
            "ticks": "",
            "zerolinecolor": "white"
           },
           "yaxis": {
            "backgroundcolor": "#E5ECF6",
            "gridcolor": "white",
            "gridwidth": 2,
            "linecolor": "white",
            "showbackground": true,
            "ticks": "",
            "zerolinecolor": "white"
           },
           "zaxis": {
            "backgroundcolor": "#E5ECF6",
            "gridcolor": "white",
            "gridwidth": 2,
            "linecolor": "white",
            "showbackground": true,
            "ticks": "",
            "zerolinecolor": "white"
           }
          },
          "shapedefaults": {
           "line": {
            "color": "#2a3f5f"
           }
          },
          "ternary": {
           "aaxis": {
            "gridcolor": "white",
            "linecolor": "white",
            "ticks": ""
           },
           "baxis": {
            "gridcolor": "white",
            "linecolor": "white",
            "ticks": ""
           },
           "bgcolor": "#E5ECF6",
           "caxis": {
            "gridcolor": "white",
            "linecolor": "white",
            "ticks": ""
           }
          },
          "title": {
           "x": 0.05
          },
          "xaxis": {
           "automargin": true,
           "gridcolor": "white",
           "linecolor": "white",
           "ticks": "",
           "title": {
            "standoff": 15
           },
           "zerolinecolor": "white",
           "zerolinewidth": 2
          },
          "yaxis": {
           "automargin": true,
           "gridcolor": "white",
           "linecolor": "white",
           "ticks": "",
           "title": {
            "standoff": 15
           },
           "zerolinecolor": "white",
           "zerolinewidth": 2
          }
         }
        },
        "title": {
         "text": "Proportion de victime selon leur age et leur état"
        },
        "xaxis": {
         "anchor": "y",
         "domain": [
          0,
          1
         ],
         "title": {
          "text": "age"
         }
        },
        "yaxis": {
         "anchor": "x",
         "domain": [
          0,
          1
         ],
         "title": {
          "text": "Proportions du total des victimes"
         }
        }
       }
      },
      "text/html": [
       "<div>                            <div id=\"08ccab8e-5295-4e04-8797-4ba44b02e92a\" class=\"plotly-graph-div\" style=\"height:525px; width:100%;\"></div>            <script type=\"text/javascript\">                require([\"plotly\"], function(Plotly) {                    window.PLOTLYENV=window.PLOTLYENV || {};                                    if (document.getElementById(\"08ccab8e-5295-4e04-8797-4ba44b02e92a\")) {                    Plotly.newPlot(                        \"08ccab8e-5295-4e04-8797-4ba44b02e92a\",                        [{\"hovertemplate\": \"Gravit\\u00e9=Bless\\u00e9 grave<br>age=%{x}<br>Proportions du total des victimes=%{y}<extra></extra>\", \"legendgroup\": \"Bless\\u00e9 grave\", \"line\": {\"color\": \"#636efa\", \"dash\": \"solid\"}, \"mode\": \"lines\", \"name\": \"Bless\\u00e9 grave\", \"orientation\": \"v\", \"showlegend\": true, \"type\": \"scatter\", \"x\": [0, 1, 2, 3, 4, 5, 6, 7, 8, 9, 10, 11, 12, 13, 14, 15, 16, 17, 18, 19, 20, 21, 22, 23, 24, 25, 26, 27, 28, 29, 30, 31, 32, 33, 34, 35, 36, 37, 38, 39, 40, 41, 42, 43, 44, 45, 46, 47, 48, 49, 50, 51, 52, 53, 54, 55, 56, 57, 58, 59, 60, 61, 62, 63, 64, 65, 66, 67, 68, 69, 70, 71, 72, 73, 74, 75, 76, 77, 78, 79, 80, 81, 82, 83, 84, 85, 86, 87, 88, 89], \"xaxis\": \"x\", \"y\": [0.18081180811808117, 0.18932655654383734, 0.23007856341189675, 0.2650375939849624, 0.2803819444444444, 0.27983870967741936, 0.28910303928836173, 0.2884468247895945, 0.27228070175438596, 0.2723404255319149, 0.2610103626943005, 0.28039430449069, 0.26939970717423134, 0.2961689587426326, 0.3474295190713101, 0.3807210432114549, 0.3807585568917669, 0.37694515787883365, 0.3468774496995035, 0.32397045658012535, 0.31013874066168623, 0.3186825797567133, 0.3064516129032258, 0.2980349344978166, 0.2914849961528597, 0.2875929861849097, 0.2867707477403451, 0.2800453514739229, 0.2807968360919877, 0.2815518853225304, 0.27813197322282435, 0.2827251422832273, 0.2738221749911442, 0.27632291854795016, 0.26907099697885195, 0.2823271568041443, 0.29072730837090766, 0.27666314677930304, 0.2732972972972973, 0.281873179475689, 0.28774795799299885, 0.28349559573481686, 0.2883731617647059, 0.28824069820854387, 0.30150190540237615, 0.30175672670669335, 0.3111523301646186, 0.30830223880597013, 0.3198645052020324, 0.3260922037171132, 0.3203356367226061, 0.32954006638217165, 0.3388762912572436, 0.33521705625481635, 0.3342827550491973, 0.33403141361256544, 0.33516483516483514, 0.3428733352224426, 0.3407176287051482, 0.36266924564796904, 0.36369770580296895, 0.3605467306981899, 0.37872340425531914, 0.3804159445407279, 0.3855855855855856, 0.38798856053384173, 0.39961575408261285, 0.4124493927125506, 0.41037493579866463, 0.37767584097859325, 0.4251182343667893, 0.4227039361095265, 0.4215686274509804, 0.42426367461430575, 0.44274809160305345, 0.4408352668213457, 0.45326001571091906, 0.4508670520231214, 0.44072164948453607, 0.47068676716917923, 0.45133505598621876, 0.4621342512908778, 0.44921190893169877, 0.4770992366412214, 0.4595404595404595, 0.45153933865450396, 0.45901639344262296, 0.4396200814111262, 0.43265993265993263, 0.4403846153846154], \"yaxis\": \"y\"}, {\"hovertemplate\": \"Gravit\\u00e9=Bless\\u00e9 l\\u00e9ger<br>age=%{x}<br>Proportions du total des victimes=%{y}<extra></extra>\", \"legendgroup\": \"Bless\\u00e9 l\\u00e9ger\", \"line\": {\"color\": \"#EF553B\", \"dash\": \"solid\"}, \"mode\": \"lines\", \"name\": \"Bless\\u00e9 l\\u00e9ger\", \"orientation\": \"v\", \"showlegend\": true, \"type\": \"scatter\", \"x\": [0, 1, 2, 3, 4, 5, 6, 7, 8, 9, 10, 11, 12, 13, 14, 15, 16, 17, 18, 19, 20, 21, 22, 23, 24, 25, 26, 27, 28, 29, 30, 31, 32, 33, 34, 35, 36, 37, 38, 39, 40, 41, 42, 43, 44, 45, 46, 47, 48, 49, 50, 51, 52, 53, 54, 55, 56, 57, 58, 59, 60, 61, 62, 63, 64, 65, 66, 67, 68, 69, 70, 71, 72, 73, 74, 75, 76, 77, 78, 79, 80, 81, 82, 83, 84, 85, 86, 87, 88, 89], \"xaxis\": \"x\", \"y\": [0.7841328413284133, 0.7738246505717916, 0.7328843995510662, 0.7039473684210527, 0.6996527777777778, 0.6967741935483871, 0.6893995552260934, 0.6962509563886764, 0.7129824561403508, 0.7127659574468085, 0.7260362694300518, 0.7059145673603505, 0.7183992191312836, 0.6910609037328095, 0.6397180762852405, 0.6013807210432115, 0.598704902867715, 0.5951050007554011, 0.6213744447347792, 0.6368621307072516, 0.6504802561366062, 0.6413816846453982, 0.6517541794207676, 0.6646045608927705, 0.6681200307771223, 0.671758767268863, 0.6777595179402903, 0.6821145124716553, 0.6821444265416727, 0.67965098161421, 0.6834555307618744, 0.6787746903247406, 0.6888062345023025, 0.6895430738667149, 0.691654078549849, 0.6840007969715083, 0.6751617329935307, 0.6815205913410771, 0.6875675675675675, 0.6789155276719695, 0.6758459743290548, 0.6719981455725544, 0.6760110294117647, 0.6747818098300413, 0.6565792423223492, 0.6582165888370024, 0.6547646649663807, 0.6553171641791045, 0.6365835954512461, 0.6352884383297128, 0.6342546890424482, 0.6311047889995258, 0.6089695137314185, 0.6216285640893913, 0.6219575349559814, 0.6157068062827226, 0.6184065934065934, 0.6044205157268348, 0.5965678627145086, 0.5822050290135397, 0.5765856950067476, 0.5851496121167344, 0.5647969052224371, 0.5589254766031195, 0.5554054054054054, 0.546234509056244, 0.5336215177713737, 0.5177125506072875, 0.5125834617360041, 0.5438328236493374, 0.49710982658959535, 0.5054192812321734, 0.4830065359477124, 0.5, 0.4725190839694656, 0.47409126063418405, 0.4430479183032207, 0.44838976052848883, 0.46134020618556704, 0.4103852596314908, 0.4082687338501292, 0.42512908777969016, 0.4089316987740806, 0.3988549618320611, 0.4005994005994006, 0.40364880273660203, 0.3992974238875878, 0.41655359565807326, 0.38215488215488214, 0.36346153846153845], \"yaxis\": \"y\"}, {\"hovertemplate\": \"Gravit\\u00e9=Mort<br>age=%{x}<br>Proportions du total des victimes=%{y}<extra></extra>\", \"legendgroup\": \"Mort\", \"line\": {\"color\": \"#00cc96\", \"dash\": \"solid\"}, \"mode\": \"lines\", \"name\": \"Mort\", \"orientation\": \"v\", \"showlegend\": true, \"type\": \"scatter\", \"x\": [0, 1, 2, 3, 4, 5, 6, 7, 8, 9, 10, 11, 12, 13, 14, 15, 16, 17, 18, 19, 20, 21, 22, 23, 24, 25, 26, 27, 28, 29, 30, 31, 32, 33, 34, 35, 36, 37, 38, 39, 40, 41, 42, 43, 44, 45, 46, 47, 48, 49, 50, 51, 52, 53, 54, 55, 56, 57, 58, 59, 60, 61, 62, 63, 64, 65, 66, 67, 68, 69, 70, 71, 72, 73, 74, 75, 76, 77, 78, 79, 80, 81, 82, 83, 84, 85, 86, 87, 88, 89], \"xaxis\": \"x\", \"y\": [0.03505535055350553, 0.036848792884371026, 0.037037037037037035, 0.03101503759398496, 0.019965277777777776, 0.02338709677419355, 0.021497405485544848, 0.015302218821729151, 0.014736842105263158, 0.014893617021276596, 0.012953367875647668, 0.013691128148959474, 0.012201073694485115, 0.012770137524557957, 0.01285240464344942, 0.017898235745333675, 0.02053654024051804, 0.02794984136576522, 0.03174810556571727, 0.0391674127126231, 0.03938100320170758, 0.039935735597888454, 0.04179420767600659, 0.037360504609412905, 0.04039497307001795, 0.040648246546227416, 0.03546973431936456, 0.03784013605442177, 0.037058737366339536, 0.03879713306325958, 0.038412496015301244, 0.03850016739203214, 0.03737159050655331, 0.03413400758533502, 0.03927492447129909, 0.03367204622434748, 0.034110958635561656, 0.04181626187961985, 0.039135135135135134, 0.03921129285234148, 0.036406067677946324, 0.04450625869262865, 0.03561580882352941, 0.03697749196141479, 0.0419188522752746, 0.0400266844563042, 0.0340830048690007, 0.036380597014925374, 0.04355189934672151, 0.038619357953174026, 0.045409674234945706, 0.039355144618302515, 0.05215419501133787, 0.04315437965579245, 0.04375970999482134, 0.050261780104712044, 0.04642857142857143, 0.05270614905072259, 0.06271450858034322, 0.0551257253384913, 0.0597165991902834, 0.05430365718507573, 0.05647969052224371, 0.060658578856152515, 0.05900900900900901, 0.0657769304099142, 0.06676272814601344, 0.06983805668016195, 0.07704160246533127, 0.07849133537206932, 0.07777193904361535, 0.07187678265830005, 0.09542483660130718, 0.07573632538569425, 0.08473282442748091, 0.08507347254447023, 0.10369206598586017, 0.10074318744838975, 0.0979381443298969, 0.11892797319932999, 0.14039621016365203, 0.11273666092943202, 0.14185639229422067, 0.12404580152671756, 0.13986013986013987, 0.14481185860889395, 0.14168618266978922, 0.14382632293080055, 0.18518518518518517, 0.19615384615384615], \"yaxis\": \"y\"}],                        {\"legend\": {\"title\": {\"text\": \"Gravit\\u00e9\"}, \"tracegroupgap\": 0}, \"template\": {\"data\": {\"bar\": [{\"error_x\": {\"color\": \"#2a3f5f\"}, \"error_y\": {\"color\": \"#2a3f5f\"}, \"marker\": {\"line\": {\"color\": \"#E5ECF6\", \"width\": 0.5}}, \"type\": \"bar\"}], \"barpolar\": [{\"marker\": {\"line\": {\"color\": \"#E5ECF6\", \"width\": 0.5}}, \"type\": \"barpolar\"}], \"carpet\": [{\"aaxis\": {\"endlinecolor\": \"#2a3f5f\", \"gridcolor\": \"white\", \"linecolor\": \"white\", \"minorgridcolor\": \"white\", \"startlinecolor\": \"#2a3f5f\"}, \"baxis\": {\"endlinecolor\": \"#2a3f5f\", \"gridcolor\": \"white\", \"linecolor\": \"white\", \"minorgridcolor\": \"white\", \"startlinecolor\": \"#2a3f5f\"}, \"type\": \"carpet\"}], \"choropleth\": [{\"colorbar\": {\"outlinewidth\": 0, \"ticks\": \"\"}, \"type\": \"choropleth\"}], \"contour\": [{\"colorbar\": {\"outlinewidth\": 0, \"ticks\": \"\"}, \"colorscale\": [[0.0, \"#0d0887\"], [0.1111111111111111, \"#46039f\"], [0.2222222222222222, \"#7201a8\"], [0.3333333333333333, \"#9c179e\"], [0.4444444444444444, \"#bd3786\"], [0.5555555555555556, \"#d8576b\"], [0.6666666666666666, \"#ed7953\"], [0.7777777777777778, \"#fb9f3a\"], [0.8888888888888888, \"#fdca26\"], [1.0, \"#f0f921\"]], \"type\": \"contour\"}], \"contourcarpet\": [{\"colorbar\": {\"outlinewidth\": 0, \"ticks\": \"\"}, \"type\": \"contourcarpet\"}], \"heatmap\": [{\"colorbar\": {\"outlinewidth\": 0, \"ticks\": \"\"}, \"colorscale\": [[0.0, \"#0d0887\"], [0.1111111111111111, \"#46039f\"], [0.2222222222222222, \"#7201a8\"], [0.3333333333333333, \"#9c179e\"], [0.4444444444444444, \"#bd3786\"], [0.5555555555555556, \"#d8576b\"], [0.6666666666666666, \"#ed7953\"], [0.7777777777777778, \"#fb9f3a\"], [0.8888888888888888, \"#fdca26\"], [1.0, \"#f0f921\"]], \"type\": \"heatmap\"}], \"heatmapgl\": [{\"colorbar\": {\"outlinewidth\": 0, \"ticks\": \"\"}, \"colorscale\": [[0.0, \"#0d0887\"], [0.1111111111111111, \"#46039f\"], [0.2222222222222222, \"#7201a8\"], [0.3333333333333333, \"#9c179e\"], [0.4444444444444444, \"#bd3786\"], [0.5555555555555556, \"#d8576b\"], [0.6666666666666666, \"#ed7953\"], [0.7777777777777778, \"#fb9f3a\"], [0.8888888888888888, \"#fdca26\"], [1.0, \"#f0f921\"]], \"type\": \"heatmapgl\"}], \"histogram\": [{\"marker\": {\"colorbar\": {\"outlinewidth\": 0, \"ticks\": \"\"}}, \"type\": \"histogram\"}], \"histogram2d\": [{\"colorbar\": {\"outlinewidth\": 0, \"ticks\": \"\"}, \"colorscale\": [[0.0, \"#0d0887\"], [0.1111111111111111, \"#46039f\"], [0.2222222222222222, \"#7201a8\"], [0.3333333333333333, \"#9c179e\"], [0.4444444444444444, \"#bd3786\"], [0.5555555555555556, \"#d8576b\"], [0.6666666666666666, \"#ed7953\"], [0.7777777777777778, \"#fb9f3a\"], [0.8888888888888888, \"#fdca26\"], [1.0, \"#f0f921\"]], \"type\": \"histogram2d\"}], \"histogram2dcontour\": [{\"colorbar\": {\"outlinewidth\": 0, \"ticks\": \"\"}, \"colorscale\": [[0.0, \"#0d0887\"], [0.1111111111111111, \"#46039f\"], [0.2222222222222222, \"#7201a8\"], [0.3333333333333333, \"#9c179e\"], [0.4444444444444444, \"#bd3786\"], [0.5555555555555556, \"#d8576b\"], [0.6666666666666666, \"#ed7953\"], [0.7777777777777778, \"#fb9f3a\"], [0.8888888888888888, \"#fdca26\"], [1.0, \"#f0f921\"]], \"type\": \"histogram2dcontour\"}], \"mesh3d\": [{\"colorbar\": {\"outlinewidth\": 0, \"ticks\": \"\"}, \"type\": \"mesh3d\"}], \"parcoords\": [{\"line\": {\"colorbar\": {\"outlinewidth\": 0, \"ticks\": \"\"}}, \"type\": \"parcoords\"}], \"pie\": [{\"automargin\": true, \"type\": \"pie\"}], \"scatter\": [{\"marker\": {\"colorbar\": {\"outlinewidth\": 0, \"ticks\": \"\"}}, \"type\": \"scatter\"}], \"scatter3d\": [{\"line\": {\"colorbar\": {\"outlinewidth\": 0, \"ticks\": \"\"}}, \"marker\": {\"colorbar\": {\"outlinewidth\": 0, \"ticks\": \"\"}}, \"type\": \"scatter3d\"}], \"scattercarpet\": [{\"marker\": {\"colorbar\": {\"outlinewidth\": 0, \"ticks\": \"\"}}, \"type\": \"scattercarpet\"}], \"scattergeo\": [{\"marker\": {\"colorbar\": {\"outlinewidth\": 0, \"ticks\": \"\"}}, \"type\": \"scattergeo\"}], \"scattergl\": [{\"marker\": {\"colorbar\": {\"outlinewidth\": 0, \"ticks\": \"\"}}, \"type\": \"scattergl\"}], \"scattermapbox\": [{\"marker\": {\"colorbar\": {\"outlinewidth\": 0, \"ticks\": \"\"}}, \"type\": \"scattermapbox\"}], \"scatterpolar\": [{\"marker\": {\"colorbar\": {\"outlinewidth\": 0, \"ticks\": \"\"}}, \"type\": \"scatterpolar\"}], \"scatterpolargl\": [{\"marker\": {\"colorbar\": {\"outlinewidth\": 0, \"ticks\": \"\"}}, \"type\": \"scatterpolargl\"}], \"scatterternary\": [{\"marker\": {\"colorbar\": {\"outlinewidth\": 0, \"ticks\": \"\"}}, \"type\": \"scatterternary\"}], \"surface\": [{\"colorbar\": {\"outlinewidth\": 0, \"ticks\": \"\"}, \"colorscale\": [[0.0, \"#0d0887\"], [0.1111111111111111, \"#46039f\"], [0.2222222222222222, \"#7201a8\"], [0.3333333333333333, \"#9c179e\"], [0.4444444444444444, \"#bd3786\"], [0.5555555555555556, \"#d8576b\"], [0.6666666666666666, \"#ed7953\"], [0.7777777777777778, \"#fb9f3a\"], [0.8888888888888888, \"#fdca26\"], [1.0, \"#f0f921\"]], \"type\": \"surface\"}], \"table\": [{\"cells\": {\"fill\": {\"color\": \"#EBF0F8\"}, \"line\": {\"color\": \"white\"}}, \"header\": {\"fill\": {\"color\": \"#C8D4E3\"}, \"line\": {\"color\": \"white\"}}, \"type\": \"table\"}]}, \"layout\": {\"annotationdefaults\": {\"arrowcolor\": \"#2a3f5f\", \"arrowhead\": 0, \"arrowwidth\": 1}, \"autotypenumbers\": \"strict\", \"coloraxis\": {\"colorbar\": {\"outlinewidth\": 0, \"ticks\": \"\"}}, \"colorscale\": {\"diverging\": [[0, \"#8e0152\"], [0.1, \"#c51b7d\"], [0.2, \"#de77ae\"], [0.3, \"#f1b6da\"], [0.4, \"#fde0ef\"], [0.5, \"#f7f7f7\"], [0.6, \"#e6f5d0\"], [0.7, \"#b8e186\"], [0.8, \"#7fbc41\"], [0.9, \"#4d9221\"], [1, \"#276419\"]], \"sequential\": [[0.0, \"#0d0887\"], [0.1111111111111111, \"#46039f\"], [0.2222222222222222, \"#7201a8\"], [0.3333333333333333, \"#9c179e\"], [0.4444444444444444, \"#bd3786\"], [0.5555555555555556, \"#d8576b\"], [0.6666666666666666, \"#ed7953\"], [0.7777777777777778, \"#fb9f3a\"], [0.8888888888888888, \"#fdca26\"], [1.0, \"#f0f921\"]], \"sequentialminus\": [[0.0, \"#0d0887\"], [0.1111111111111111, \"#46039f\"], [0.2222222222222222, \"#7201a8\"], [0.3333333333333333, \"#9c179e\"], [0.4444444444444444, \"#bd3786\"], [0.5555555555555556, \"#d8576b\"], [0.6666666666666666, \"#ed7953\"], [0.7777777777777778, \"#fb9f3a\"], [0.8888888888888888, \"#fdca26\"], [1.0, \"#f0f921\"]]}, \"colorway\": [\"#636efa\", \"#EF553B\", \"#00cc96\", \"#ab63fa\", \"#FFA15A\", \"#19d3f3\", \"#FF6692\", \"#B6E880\", \"#FF97FF\", \"#FECB52\"], \"font\": {\"color\": \"#2a3f5f\"}, \"geo\": {\"bgcolor\": \"white\", \"lakecolor\": \"white\", \"landcolor\": \"#E5ECF6\", \"showlakes\": true, \"showland\": true, \"subunitcolor\": \"white\"}, \"hoverlabel\": {\"align\": \"left\"}, \"hovermode\": \"closest\", \"mapbox\": {\"style\": \"light\"}, \"paper_bgcolor\": \"white\", \"plot_bgcolor\": \"#E5ECF6\", \"polar\": {\"angularaxis\": {\"gridcolor\": \"white\", \"linecolor\": \"white\", \"ticks\": \"\"}, \"bgcolor\": \"#E5ECF6\", \"radialaxis\": {\"gridcolor\": \"white\", \"linecolor\": \"white\", \"ticks\": \"\"}}, \"scene\": {\"xaxis\": {\"backgroundcolor\": \"#E5ECF6\", \"gridcolor\": \"white\", \"gridwidth\": 2, \"linecolor\": \"white\", \"showbackground\": true, \"ticks\": \"\", \"zerolinecolor\": \"white\"}, \"yaxis\": {\"backgroundcolor\": \"#E5ECF6\", \"gridcolor\": \"white\", \"gridwidth\": 2, \"linecolor\": \"white\", \"showbackground\": true, \"ticks\": \"\", \"zerolinecolor\": \"white\"}, \"zaxis\": {\"backgroundcolor\": \"#E5ECF6\", \"gridcolor\": \"white\", \"gridwidth\": 2, \"linecolor\": \"white\", \"showbackground\": true, \"ticks\": \"\", \"zerolinecolor\": \"white\"}}, \"shapedefaults\": {\"line\": {\"color\": \"#2a3f5f\"}}, \"ternary\": {\"aaxis\": {\"gridcolor\": \"white\", \"linecolor\": \"white\", \"ticks\": \"\"}, \"baxis\": {\"gridcolor\": \"white\", \"linecolor\": \"white\", \"ticks\": \"\"}, \"bgcolor\": \"#E5ECF6\", \"caxis\": {\"gridcolor\": \"white\", \"linecolor\": \"white\", \"ticks\": \"\"}}, \"title\": {\"x\": 0.05}, \"xaxis\": {\"automargin\": true, \"gridcolor\": \"white\", \"linecolor\": \"white\", \"ticks\": \"\", \"title\": {\"standoff\": 15}, \"zerolinecolor\": \"white\", \"zerolinewidth\": 2}, \"yaxis\": {\"automargin\": true, \"gridcolor\": \"white\", \"linecolor\": \"white\", \"ticks\": \"\", \"title\": {\"standoff\": 15}, \"zerolinecolor\": \"white\", \"zerolinewidth\": 2}}}, \"title\": {\"text\": \"Proportion de victime selon leur age et leur \\u00e9tat\"}, \"xaxis\": {\"anchor\": \"y\", \"domain\": [0.0, 1.0], \"title\": {\"text\": \"age\"}}, \"yaxis\": {\"anchor\": \"x\", \"domain\": [0.0, 1.0], \"title\": {\"text\": \"Proportions du total des victimes\"}}},                        {\"responsive\": true}                    ).then(function(){\n",
       "                            \n",
       "var gd = document.getElementById('08ccab8e-5295-4e04-8797-4ba44b02e92a');\n",
       "var x = new MutationObserver(function (mutations, observer) {{\n",
       "        var display = window.getComputedStyle(gd).display;\n",
       "        if (!display || display === 'none') {{\n",
       "            console.log([gd, 'removed!']);\n",
       "            Plotly.purge(gd);\n",
       "            observer.disconnect();\n",
       "        }}\n",
       "}});\n",
       "\n",
       "// Listen for the removal of the full notebook cells\n",
       "var notebookContainer = gd.closest('#notebook-container');\n",
       "if (notebookContainer) {{\n",
       "    x.observe(notebookContainer, {childList: true});\n",
       "}}\n",
       "\n",
       "// Listen for the clearing of the current output cell\n",
       "var outputEl = gd.closest('.output');\n",
       "if (outputEl) {{\n",
       "    x.observe(outputEl, {childList: true});\n",
       "}}\n",
       "\n",
       "                        })                };                });            </script>        </div>"
      ]
     },
     "metadata": {},
     "output_type": "display_data"
    }
   ],
   "source": [
    "pd.crosstab(index=victims.loc[victims['age'] < 90, 'age'],\n",
    "           columns=victims['grav'],\n",
    "           normalize=0)\\\n",
    "    .rename({\n",
    "        'inj_hosp': 'Blessé grave',\n",
    "        'inj_light': 'Blessé léger',\n",
    "        'killed': 'Mort',\n",
    "    }, axis=1)\\\n",
    "    .plot.line(backend='plotly', \n",
    "               labels={\n",
    "                   'value': 'Proportions du total des victimes', \n",
    "                   'grav': 'Gravité',\n",
    "               },\n",
    "               title='Proportion de victime selon leur age et leur état')"
   ]
  },
  {
   "cell_type": "code",
   "execution_count": 325,
   "metadata": {
    "ExecuteTime": {
     "end_time": "2020-12-28T22:21:26.836689Z",
     "start_time": "2020-12-28T22:21:26.357689Z"
    },
    "colab": {
     "base_uri": "https://localhost:8080/",
     "height": 305
    },
    "executionInfo": {
     "elapsed": 3721,
     "status": "ok",
     "timestamp": 1608675939688,
     "user": {
      "displayName": "Thomas Marquis",
      "photoUrl": "https://lh3.googleusercontent.com/a-/AOh14Ggkbge6jdBzkHFVUrAbznD0ti2qUlGp2uCW0PBjVQ=s64",
      "userId": "08347579005600922262"
     },
     "user_tz": -60
    },
    "id": "1-lStcg2hUQ8",
    "outputId": "c6c6d14c-09a5-4aa2-fa7e-d91803b75b43"
   },
   "outputs": [],
   "source": [
    "acc_severity = pd.read_csv('../data/interim/accidents/acc_severity.csv')\n",
    "drivers = acc.get_drivers(acc_severity, users)"
   ]
  },
  {
   "cell_type": "code",
   "execution_count": 326,
   "metadata": {
    "ExecuteTime": {
     "end_time": "2020-12-28T22:21:40.292877Z",
     "start_time": "2020-12-28T22:21:40.275876Z"
    }
   },
   "outputs": [
    {
     "data": {
      "text/html": [
       "<div>\n",
       "<style scoped>\n",
       "    .dataframe tbody tr th:only-of-type {\n",
       "        vertical-align: middle;\n",
       "    }\n",
       "\n",
       "    .dataframe tbody tr th {\n",
       "        vertical-align: top;\n",
       "    }\n",
       "\n",
       "    .dataframe thead th {\n",
       "        text-align: right;\n",
       "    }\n",
       "</style>\n",
       "<table border=\"1\" class=\"dataframe\">\n",
       "  <thead>\n",
       "    <tr style=\"text-align: right;\">\n",
       "      <th></th>\n",
       "      <th>Num_Acc</th>\n",
       "      <th>acc_severity</th>\n",
       "      <th>sexe</th>\n",
       "      <th>trajet</th>\n",
       "    </tr>\n",
       "  </thead>\n",
       "  <tbody>\n",
       "    <tr>\n",
       "      <th>0</th>\n",
       "      <td>201600000001</td>\n",
       "      <td>inj_hosp</td>\n",
       "      <td>NaN</td>\n",
       "      <td>NaN</td>\n",
       "    </tr>\n",
       "    <tr>\n",
       "      <th>1</th>\n",
       "      <td>201600000002</td>\n",
       "      <td>inj_hosp</td>\n",
       "      <td>NaN</td>\n",
       "      <td>NaN</td>\n",
       "    </tr>\n",
       "    <tr>\n",
       "      <th>2</th>\n",
       "      <td>201600000003</td>\n",
       "      <td>inj_hosp</td>\n",
       "      <td>NaN</td>\n",
       "      <td>NaN</td>\n",
       "    </tr>\n",
       "    <tr>\n",
       "      <th>3</th>\n",
       "      <td>201600000004</td>\n",
       "      <td>inj_hosp</td>\n",
       "      <td>NaN</td>\n",
       "      <td>NaN</td>\n",
       "    </tr>\n",
       "    <tr>\n",
       "      <th>4</th>\n",
       "      <td>201600000005</td>\n",
       "      <td>inj_hosp</td>\n",
       "      <td>NaN</td>\n",
       "      <td>NaN</td>\n",
       "    </tr>\n",
       "    <tr>\n",
       "      <th>...</th>\n",
       "      <td>...</td>\n",
       "      <td>...</td>\n",
       "      <td>...</td>\n",
       "      <td>...</td>\n",
       "    </tr>\n",
       "    <tr>\n",
       "      <th>236751</th>\n",
       "      <td>201900058836</td>\n",
       "      <td>inj_light</td>\n",
       "      <td>NaN</td>\n",
       "      <td>NaN</td>\n",
       "    </tr>\n",
       "    <tr>\n",
       "      <th>236752</th>\n",
       "      <td>201900058837</td>\n",
       "      <td>inj_light</td>\n",
       "      <td>NaN</td>\n",
       "      <td>NaN</td>\n",
       "    </tr>\n",
       "    <tr>\n",
       "      <th>236753</th>\n",
       "      <td>201900058838</td>\n",
       "      <td>inj_light</td>\n",
       "      <td>NaN</td>\n",
       "      <td>NaN</td>\n",
       "    </tr>\n",
       "    <tr>\n",
       "      <th>236754</th>\n",
       "      <td>201900058839</td>\n",
       "      <td>inj_hosp</td>\n",
       "      <td>NaN</td>\n",
       "      <td>NaN</td>\n",
       "    </tr>\n",
       "    <tr>\n",
       "      <th>236755</th>\n",
       "      <td>201900058840</td>\n",
       "      <td>inj_light</td>\n",
       "      <td>NaN</td>\n",
       "      <td>NaN</td>\n",
       "    </tr>\n",
       "  </tbody>\n",
       "</table>\n",
       "<p>236756 rows × 4 columns</p>\n",
       "</div>"
      ],
      "text/plain": [
       "             Num_Acc acc_severity sexe trajet\n",
       "0       201600000001     inj_hosp  NaN    NaN\n",
       "1       201600000002     inj_hosp  NaN    NaN\n",
       "2       201600000003     inj_hosp  NaN    NaN\n",
       "3       201600000004     inj_hosp  NaN    NaN\n",
       "4       201600000005     inj_hosp  NaN    NaN\n",
       "...              ...          ...  ...    ...\n",
       "236751  201900058836    inj_light  NaN    NaN\n",
       "236752  201900058837    inj_light  NaN    NaN\n",
       "236753  201900058838    inj_light  NaN    NaN\n",
       "236754  201900058839     inj_hosp  NaN    NaN\n",
       "236755  201900058840    inj_light  NaN    NaN\n",
       "\n",
       "[236756 rows x 4 columns]"
      ]
     },
     "execution_count": 326,
     "metadata": {},
     "output_type": "execute_result"
    }
   ],
   "source": [
    "drivers"
   ]
  },
  {
   "cell_type": "code",
   "execution_count": null,
   "metadata": {},
   "outputs": [],
   "source": [
    "viz.plot_box_cat()"
   ]
  },
  {
   "cell_type": "markdown",
   "metadata": {
    "heading_collapsed": true
   },
   "source": [
    "#### TODO\n",
    "\n",
    "- [ ] considérer les proportions de gravité d'accident en fonction de l'age du conducteur (et non de la victime)\n",
    "- [ ] pondérer les proportion en fonction des porportions estimées de conducteurs actif par tranche d'âge"
   ]
  },
  {
   "cell_type": "markdown",
   "metadata": {
    "id": "vi14vOebgxbA"
   },
   "source": [
    "### Y a t-il une saisonnalité dans les types d'accident ?"
   ]
  },
  {
   "cell_type": "markdown",
   "metadata": {},
   "source": [
    "Types de saisonalité :\n",
    "\n",
    "- selon l'heure de la journée\n",
    "- selon le jour de la semaine\n",
    "- selon le mois de l'année"
   ]
  },
  {
   "cell_type": "code",
   "execution_count": 103,
   "metadata": {
    "ExecuteTime": {
     "end_time": "2020-12-28T10:35:19.991574Z",
     "start_time": "2020-12-28T10:35:16.512966Z"
    },
    "id": "xHrBxm01g9Dd"
   },
   "outputs": [
    {
     "name": "stderr",
     "output_type": "stream",
     "text": [
      "C:\\Users\\thomas.marquis\\AppData\\Roaming\\Python\\Python38\\site-packages\\IPython\\core\\interactiveshell.py:3338: DtypeWarning:\n",
      "\n",
      "Columns (9) have mixed types.Specify dtype option on import or set low_memory=False.\n",
      "\n",
      "INFO:root:../data/interim/accidents/users.csv: 532589 lines loaded (14.73)Mb\n",
      "C:\\Users\\thomas.marquis\\AppData\\Roaming\\Python\\Python38\\site-packages\\IPython\\core\\interactiveshell.py:3338: DtypeWarning:\n",
      "\n",
      "Columns (5,6,12,13,14) have mixed types.Specify dtype option on import or set low_memory=False.\n",
      "\n",
      "INFO:root:../data/interim/accidents/caracs.csv: 236756 lines loaded (18.52)Mb\n"
     ]
    }
   ],
   "source": [
    "users = utils.get_dataset(get_path_interim('users'), acc.dtypes('users'))\n",
    "caracs = utils.get_dataset(get_path_interim('caracs'), acc.dtypes('caracs'))\n",
    "\n",
    "victims = acc.build_victims_dataset(caracs, users)\n",
    "victims = victims.loc[victims['grav'] != 'safe', :]"
   ]
  },
  {
   "cell_type": "markdown",
   "metadata": {},
   "source": [
    "#### Saisonalité du nombre de victimes d'accident selon le mois de l'année"
   ]
  },
  {
   "cell_type": "code",
   "execution_count": 336,
   "metadata": {
    "ExecuteTime": {
     "end_time": "2020-12-29T10:28:48.041317Z",
     "start_time": "2020-12-29T10:28:47.550153Z"
    },
    "colab": {
     "base_uri": "https://localhost:8080/",
     "height": 235
    },
    "executionInfo": {
     "elapsed": 922,
     "status": "error",
     "timestamp": 1608676731075,
     "user": {
      "displayName": "Thomas Marquis",
      "photoUrl": "https://lh3.googleusercontent.com/a-/AOh14Ggkbge6jdBzkHFVUrAbznD0ti2qUlGp2uCW0PBjVQ=s64",
      "userId": "08347579005600922262"
     },
     "user_tz": -60
    },
    "id": "L30Rcnmkj9TE",
    "outputId": "a5fc0e2a-8599-467b-9e49-c6c9e219bfc2",
    "scrolled": false
   },
   "outputs": [
    {
     "data": {
      "image/png": "[encoded data removed]",
      "text/plain": [
       "<Figure size 864x432 with 1 Axes>"
      ]
     },
     "metadata": {
      "needs_background": "light"
     },
     "output_type": "display_data"
    }
   ],
   "source": [
    "pd.crosstab(index=victims['month'],\n",
    "           columns=victims['grav'], \n",
    "           margins=True)\\\n",
    "    .drop(['All'], axis=0)\\\n",
    "    .plot.line(figsize=(12, 6), rot=0,\n",
    "               title=\"Saisonalité du nombre de victimes d'accident selon le mois de l'année\")"
   ]
  },
  {
   "cell_type": "code",
   "execution_count": 337,
   "metadata": {
    "ExecuteTime": {
     "end_time": "2020-12-29T10:29:09.573330Z",
     "start_time": "2020-12-29T10:29:08.801594Z"
    },
    "scrolled": false
   },
   "outputs": [
    {
     "data": {
      "image/png": "[encoded data removed]",
      "text/plain": [
       "<Figure size 864x432 with 1 Axes>"
      ]
     },
     "metadata": {
      "needs_background": "light"
     },
     "output_type": "display_data"
    }
   ],
   "source": [
    "pd.crosstab(index=victims['hour'],\n",
    "           columns=victims['grav'], \n",
    "           margins=True)\\\n",
    "    .drop(['All'], axis=0)\\\n",
    "    .plot.bar(stacked=False, figsize=(12, 6), rot=0)"
   ]
  },
  {
   "cell_type": "code",
   "execution_count": 338,
   "metadata": {
    "ExecuteTime": {
     "end_time": "2020-12-29T10:29:23.046470Z",
     "start_time": "2020-12-29T10:29:22.511817Z"
    }
   },
   "outputs": [
    {
     "data": {
      "image/png": "[encoded data removed]",
      "text/plain": [
       "<Figure size 864x432 with 1 Axes>"
      ]
     },
     "metadata": {
      "needs_background": "light"
     },
     "output_type": "display_data"
    }
   ],
   "source": [
    "pd.crosstab(index=victims['datetime'].dt.weekday,\n",
    "           columns=victims['grav'], \n",
    "           margins=True)\\\n",
    "    .drop(['All'], axis=0)\\\n",
    "    .plot.bar(stacked=False, figsize=(12, 6), rot=0)"
   ]
  },
  {
   "cell_type": "markdown",
   "metadata": {},
   "source": [
    "#### Evolution du nombre quotidien de victimes d'accidents au fil de l'année"
   ]
  },
  {
   "cell_type": "code",
   "execution_count": 68,
   "metadata": {
    "ExecuteTime": {
     "end_time": "2020-12-28T09:23:33.728904Z",
     "start_time": "2020-12-28T09:23:31.214399Z"
    },
    "scrolled": false
   },
   "outputs": [
    {
     "data": {
      "application/vnd.plotly.v1+json": {
       "config": {
        "plotlyServerURL": "https://plot.ly"
       },
       "data": [
        {
         "hovertemplate": "Années=2016<br>datetime=%{x}<br>Nb victimes/jour (MA10)=%{y}<extra></extra>",
         "legendgroup": "2016",
         "line": {
          "color": "#636efa",
          "dash": "solid"
         },
         "mode": "lines",
         "name": "2016",
         "showlegend": true,
         "type": "scattergl",
         "x": [
          "01 01",
          "01 02",
          "01 03",
          "01 04",
          "01 05",
          "01 06",
          "01 07",
          "01 08",
          "01 09",
          "01 10",
          "01 11",
          "01 12",
          "01 13",
          "01 14",
          "01 15",
          "01 16",
          "01 17",
          "01 18",
          "01 19",
          "01 20",
          "01 21",
          "01 22",
          "01 23",
          "01 24",
          "01 25",
          "01 26",
          "01 27",
          "01 28",
          "01 29",
          "01 30",
          "01 31",
          "02 01",
          "02 02",
          "02 03",
          "02 04",
          "02 05",
          "02 06",
          "02 07",
          "02 08",
          "02 09",
          "02 10",
          "02 11",
          "02 12",
          "02 13",
          "02 14",
          "02 15",
          "02 16",
          "02 17",
          "02 18",
          "02 19",
          "02 20",
          "02 21",
          "02 22",
          "02 23",
          "02 24",
          "02 25",
          "02 26",
          "02 27",
          "02 28",
          "02 29",
          "03 01",
          "03 02",
          "03 03",
          "03 04",
          "03 05",
          "03 06",
          "03 07",
          "03 08",
          "03 09",
          "03 10",
          "03 11",
          "03 12",
          "03 13",
          "03 14",
          "03 15",
          "03 16",
          "03 17",
          "03 18",
          "03 19",
          "03 20",
          "03 21",
          "03 22",
          "03 23",
          "03 24",
          "03 25",
          "03 26",
          "03 27",
          "03 28",
          "03 29",
          "03 30",
          "03 31",
          "04 01",
          "04 02",
          "04 03",
          "04 04",
          "04 05",
          "04 06",
          "04 07",
          "04 08",
          "04 09",
          "04 10",
          "04 11",
          "04 12",
          "04 13",
          "04 14",
          "04 15",
          "04 16",
          "04 17",
          "04 18",
          "04 19",
          "04 20",
          "04 21",
          "04 22",
          "04 23",
          "04 24",
          "04 25",
          "04 26",
          "04 27",
          "04 28",
          "04 29",
          "04 30",
          "05 01",
          "05 02",
          "05 03",
          "05 04",
          "05 05",
          "05 06",
          "05 07",
          "05 08",
          "05 09",
          "05 10",
          "05 11",
          "05 12",
          "05 13",
          "05 14",
          "05 15",
          "05 16",
          "05 17",
          "05 18",
          "05 19",
          "05 20",
          "05 21",
          "05 22",
          "05 23",
          "05 24",
          "05 25",
          "05 26",
          "05 27",
          "05 28",
          "05 29",
          "05 30",
          "05 31",
          "06 01",
          "06 02",
          "06 03",
          "06 04",
          "06 05",
          "06 06",
          "06 07",
          "06 08",
          "06 09",
          "06 10",
          "06 11",
          "06 12",
          "06 13",
          "06 14",
          "06 15",
          "06 16",
          "06 17",
          "06 18",
          "06 19",
          "06 20",
          "06 21",
          "06 22",
          "06 23",
          "06 24",
          "06 25",
          "06 26",
          "06 27",
          "06 28",
          "06 29",
          "06 30",
          "07 01",
          "07 02",
          "07 03",
          "07 04",
          "07 05",
          "07 06",
          "07 07",
          "07 08",
          "07 09",
          "07 10",
          "07 11",
          "07 12",
          "07 13",
          "07 14",
          "07 15",
          "07 16",
          "07 17",
          "07 18",
          "07 19",
          "07 20",
          "07 21",
          "07 22",
          "07 23",
          "07 24",
          "07 25",
          "07 26",
          "07 27",
          "07 28",
          "07 29",
          "07 30",
          "07 31",
          "08 01",
          "08 02",
          "08 03",
          "08 04",
          "08 05",
          "08 06",
          "08 07",
          "08 08",
          "08 09",
          "08 10",
          "08 11",
          "08 12",
          "08 13",
          "08 14",
          "08 15",
          "08 16",
          "08 17",
          "08 18",
          "08 19",
          "08 20",
          "08 21",
          "08 22",
          "08 23",
          "08 24",
          "08 25",
          "08 26",
          "08 27",
          "08 28",
          "08 29",
          "08 30",
          "08 31",
          "09 01",
          "09 02",
          "09 03",
          "09 04",
          "09 05",
          "09 06",
          "09 07",
          "09 08",
          "09 09",
          "09 10",
          "09 11",
          "09 12",
          "09 13",
          "09 14",
          "09 15",
          "09 16",
          "09 17",
          "09 18",
          "09 19",
          "09 20",
          "09 21",
          "09 22",
          "09 23",
          "09 24",
          "09 25",
          "09 26",
          "09 27",
          "09 28",
          "09 29",
          "09 30",
          "10 01",
          "10 02",
          "10 03",
          "10 04",
          "10 05",
          "10 06",
          "10 07",
          "10 08",
          "10 09",
          "10 10",
          "10 11",
          "10 12",
          "10 13",
          "10 14",
          "10 15",
          "10 16",
          "10 17",
          "10 18",
          "10 19",
          "10 20",
          "10 21",
          "10 22",
          "10 23",
          "10 24",
          "10 25",
          "10 26",
          "10 27",
          "10 28",
          "10 29",
          "10 30",
          "10 31",
          "11 01",
          "11 02",
          "11 03",
          "11 04",
          "11 05",
          "11 06",
          "11 07",
          "11 08",
          "11 09",
          "11 10",
          "11 11",
          "11 12",
          "11 13",
          "11 14",
          "11 15",
          "11 16",
          "11 17",
          "11 18",
          "11 19",
          "11 20",
          "11 21",
          "11 22",
          "11 23",
          "11 24",
          "11 25",
          "11 26",
          "11 27",
          "11 28",
          "11 29",
          "11 30",
          "12 01",
          "12 02",
          "12 03",
          "12 04",
          "12 05",
          "12 06",
          "12 07",
          "12 08",
          "12 09",
          "12 10",
          "12 11",
          "12 12",
          "12 13",
          "12 14",
          "12 15",
          "12 16",
          "12 17",
          "12 18",
          "12 19",
          "12 20",
          "12 21",
          "12 22",
          "12 23",
          "12 24",
          "12 25",
          "12 26",
          "12 27",
          "12 28",
          "12 29",
          "12 30",
          "12 31"
         ],
         "xaxis": "x",
         "y": [
          null,
          null,
          null,
          null,
          null,
          null,
          null,
          null,
          null,
          207.6,
          206.1,
          208.8,
          212.5,
          219.2,
          224.4,
          226.2,
          216.3,
          205.5,
          198.9,
          198.8,
          203.1,
          204.6,
          206.7,
          197.7,
          189.6,
          185.1,
          192.7,
          199.1,
          201.6,
          204.3,
          205.2,
          200.3,
          196.1,
          200.3,
          200.3,
          203.5,
          203.4,
          196.2,
          195.9,
          195,
          193.2,
          191.1,
          195.6,
          194.3,
          196.4,
          191.7,
          189.3,
          187.8,
          186,
          189.4,
          183.6,
          180.3,
          174,
          169.2,
          164.4,
          167,
          171.4,
          175.5,
          173,
          167.3,
          171.9,
          177.7,
          180.3,
          187.7,
          196.3,
          194.8,
          191.6,
          193.7,
          198.2,
          198,
          201.8,
          202.3,
          199.9,
          192.7,
          189.6,
          192.5,
          194.3,
          195.8,
          196.8,
          194.6,
          183.5,
          180.8,
          182.8,
          184.7,
          186.1,
          183.6,
          184.4,
          173.6,
          174.3,
          182.5,
          191,
          195.5,
          193.5,
          191.8,
          189.9,
          188.8,
          191.2,
          199.5,
          201.8,
          197.5,
          195.8,
          192.6,
          194.8,
          198.3,
          200.4,
          205.1,
          202.3,
          201.1,
          201,
          201.6,
          200,
          197,
          196.2,
          191.5,
          186.7,
          182,
          178.4,
          180.4,
          181.4,
          183.3,
          183.4,
          183.8,
          182.7,
          188.7,
          201.1,
          209,
          218.3,
          219.4,
          216.6,
          215.2,
          217.7,
          223.7,
          228.5,
          227.6,
          219.6,
          216.6,
          207.8,
          209.4,
          209.4,
          210.3,
          212.4,
          214.7,
          213.9,
          216.2,
          217.2,
          218.1,
          224.6,
          224.5,
          231.3,
          227.1,
          225.1,
          224.4,
          225.8,
          222.2,
          222.6,
          225.5,
          222,
          223.4,
          220.5,
          228.6,
          235,
          241.4,
          243.8,
          252.8,
          250.3,
          246.9,
          248.6,
          245,
          246.5,
          245,
          237.6,
          229.7,
          226.1,
          225.1,
          230.9,
          238.2,
          239.4,
          243.7,
          238.4,
          239.6,
          242.8,
          241.4,
          247.6,
          240.5,
          236.6,
          229.2,
          230.8,
          232.6,
          240.9,
          247.1,
          250.5,
          256,
          253.2,
          261.1,
          265.3,
          261.1,
          256.4,
          252.6,
          243.9,
          236.2,
          229.8,
          221.9,
          218,
          214.3,
          213.9,
          218.1,
          218.4,
          218.9,
          220.3,
          217.8,
          220.2,
          224.9,
          224.7,
          217.4,
          213.4,
          210.3,
          211.9,
          211.6,
          211,
          209.1,
          206.9,
          199.3,
          193.8,
          192.2,
          189.4,
          192.9,
          190.9,
          184.3,
          179.6,
          175.2,
          172.8,
          174.2,
          181.2,
          183.1,
          187.3,
          184.6,
          182.2,
          189.3,
          195.7,
          201,
          204,
          203,
          203.8,
          207.1,
          204.6,
          210,
          215.5,
          213.8,
          219.2,
          220.3,
          226.4,
          231.1,
          238.4,
          240.8,
          241.7,
          240.6,
          239.5,
          241,
          237.4,
          242.1,
          235.5,
          233.7,
          223.4,
          218.5,
          222.4,
          222.8,
          225.7,
          228.7,
          229.5,
          222.1,
          226.3,
          230.8,
          236.3,
          247.4,
          246.1,
          242.1,
          243.1,
          244.8,
          245.2,
          262.9,
          264.9,
          263.8,
          261.2,
          255.2,
          254.1,
          257.7,
          257.8,
          257.5,
          258.2,
          241.2,
          238.4,
          239.2,
          238.4,
          238.9,
          236.3,
          236.9,
          231.6,
          225.1,
          219.9,
          219.5,
          220.1,
          221.9,
          224.9,
          222.6,
          222.9,
          215.7,
          214.4,
          216.3,
          223.6,
          227.8,
          223.7,
          219.6,
          219,
          221.2,
          230.7,
          235.9,
          242.6,
          240.7,
          231.9,
          232.8,
          234.9,
          240.8,
          245.1,
          248,
          237.7,
          239.5,
          235,
          239.7,
          238.4,
          242.7,
          240.1,
          231.2,
          226.9,
          222.9,
          231,
          231.4,
          237.1,
          236.1,
          236.2,
          230.4,
          236.6,
          245.7,
          245.4,
          251.5,
          248.5,
          246.6,
          245.5,
          248,
          256,
          261.2,
          265.3,
          259.8,
          257.2,
          244.7,
          236.4,
          233.8,
          234.1,
          228.3,
          221.5,
          207.2,
          191.6,
          188.7,
          185,
          182.5,
          182.9,
          175.9
         ],
         "yaxis": "y"
        },
        {
         "hovertemplate": "Années=2017<br>datetime=%{x}<br>Nb victimes/jour (MA10)=%{y}<extra></extra>",
         "legendgroup": "2017",
         "line": {
          "color": "#EF553B",
          "dash": "solid"
         },
         "mode": "lines",
         "name": "2017",
         "showlegend": true,
         "type": "scattergl",
         "x": [
          "01 01",
          "01 02",
          "01 03",
          "01 04",
          "01 05",
          "01 06",
          "01 07",
          "01 08",
          "01 09",
          "01 10",
          "01 11",
          "01 12",
          "01 13",
          "01 14",
          "01 15",
          "01 16",
          "01 17",
          "01 18",
          "01 19",
          "01 20",
          "01 21",
          "01 22",
          "01 23",
          "01 24",
          "01 25",
          "01 26",
          "01 27",
          "01 28",
          "01 29",
          "01 30",
          "01 31",
          "02 01",
          "02 02",
          "02 03",
          "02 04",
          "02 05",
          "02 06",
          "02 07",
          "02 08",
          "02 09",
          "02 10",
          "02 11",
          "02 12",
          "02 13",
          "02 14",
          "02 15",
          "02 16",
          "02 17",
          "02 18",
          "02 19",
          "02 20",
          "02 21",
          "02 22",
          "02 23",
          "02 24",
          "02 25",
          "02 26",
          "02 27",
          "02 28",
          "02 29",
          "03 01",
          "03 02",
          "03 03",
          "03 04",
          "03 05",
          "03 06",
          "03 07",
          "03 08",
          "03 09",
          "03 10",
          "03 11",
          "03 12",
          "03 13",
          "03 14",
          "03 15",
          "03 16",
          "03 17",
          "03 18",
          "03 19",
          "03 20",
          "03 21",
          "03 22",
          "03 23",
          "03 24",
          "03 25",
          "03 26",
          "03 27",
          "03 28",
          "03 29",
          "03 30",
          "03 31",
          "04 01",
          "04 02",
          "04 03",
          "04 04",
          "04 05",
          "04 06",
          "04 07",
          "04 08",
          "04 09",
          "04 10",
          "04 11",
          "04 12",
          "04 13",
          "04 14",
          "04 15",
          "04 16",
          "04 17",
          "04 18",
          "04 19",
          "04 20",
          "04 21",
          "04 22",
          "04 23",
          "04 24",
          "04 25",
          "04 26",
          "04 27",
          "04 28",
          "04 29",
          "04 30",
          "05 01",
          "05 02",
          "05 03",
          "05 04",
          "05 05",
          "05 06",
          "05 07",
          "05 08",
          "05 09",
          "05 10",
          "05 11",
          "05 12",
          "05 13",
          "05 14",
          "05 15",
          "05 16",
          "05 17",
          "05 18",
          "05 19",
          "05 20",
          "05 21",
          "05 22",
          "05 23",
          "05 24",
          "05 25",
          "05 26",
          "05 27",
          "05 28",
          "05 29",
          "05 30",
          "05 31",
          "06 01",
          "06 02",
          "06 03",
          "06 04",
          "06 05",
          "06 06",
          "06 07",
          "06 08",
          "06 09",
          "06 10",
          "06 11",
          "06 12",
          "06 13",
          "06 14",
          "06 15",
          "06 16",
          "06 17",
          "06 18",
          "06 19",
          "06 20",
          "06 21",
          "06 22",
          "06 23",
          "06 24",
          "06 25",
          "06 26",
          "06 27",
          "06 28",
          "06 29",
          "06 30",
          "07 01",
          "07 02",
          "07 03",
          "07 04",
          "07 05",
          "07 06",
          "07 07",
          "07 08",
          "07 09",
          "07 10",
          "07 11",
          "07 12",
          "07 13",
          "07 14",
          "07 15",
          "07 16",
          "07 17",
          "07 18",
          "07 19",
          "07 20",
          "07 21",
          "07 22",
          "07 23",
          "07 24",
          "07 25",
          "07 26",
          "07 27",
          "07 28",
          "07 29",
          "07 30",
          "07 31",
          "08 01",
          "08 02",
          "08 03",
          "08 04",
          "08 05",
          "08 06",
          "08 07",
          "08 08",
          "08 09",
          "08 10",
          "08 11",
          "08 12",
          "08 13",
          "08 14",
          "08 15",
          "08 16",
          "08 17",
          "08 18",
          "08 19",
          "08 20",
          "08 21",
          "08 22",
          "08 23",
          "08 24",
          "08 25",
          "08 26",
          "08 27",
          "08 28",
          "08 29",
          "08 30",
          "08 31",
          "09 01",
          "09 02",
          "09 03",
          "09 04",
          "09 05",
          "09 06",
          "09 07",
          "09 08",
          "09 09",
          "09 10",
          "09 11",
          "09 12",
          "09 13",
          "09 14",
          "09 15",
          "09 16",
          "09 17",
          "09 18",
          "09 19",
          "09 20",
          "09 21",
          "09 22",
          "09 23",
          "09 24",
          "09 25",
          "09 26",
          "09 27",
          "09 28",
          "09 29",
          "09 30",
          "10 01",
          "10 02",
          "10 03",
          "10 04",
          "10 05",
          "10 06",
          "10 07",
          "10 08",
          "10 09",
          "10 10",
          "10 11",
          "10 12",
          "10 13",
          "10 14",
          "10 15",
          "10 16",
          "10 17",
          "10 18",
          "10 19",
          "10 20",
          "10 21",
          "10 22",
          "10 23",
          "10 24",
          "10 25",
          "10 26",
          "10 27",
          "10 28",
          "10 29",
          "10 30",
          "10 31",
          "11 01",
          "11 02",
          "11 03",
          "11 04",
          "11 05",
          "11 06",
          "11 07",
          "11 08",
          "11 09",
          "11 10",
          "11 11",
          "11 12",
          "11 13",
          "11 14",
          "11 15",
          "11 16",
          "11 17",
          "11 18",
          "11 19",
          "11 20",
          "11 21",
          "11 22",
          "11 23",
          "11 24",
          "11 25",
          "11 26",
          "11 27",
          "11 28",
          "11 29",
          "11 30",
          "12 01",
          "12 02",
          "12 03",
          "12 04",
          "12 05",
          "12 06",
          "12 07",
          "12 08",
          "12 09",
          "12 10",
          "12 11",
          "12 12",
          "12 13",
          "12 14",
          "12 15",
          "12 16",
          "12 17",
          "12 18",
          "12 19",
          "12 20",
          "12 21",
          "12 22",
          "12 23",
          "12 24",
          "12 25",
          "12 26",
          "12 27",
          "12 28",
          "12 29",
          "12 30",
          "12 31"
         ],
         "xaxis": "x",
         "y": [
          null,
          null,
          null,
          null,
          null,
          null,
          null,
          null,
          null,
          191.2,
          192.4,
          198,
          199.4,
          200.6,
          194.3,
          194.7,
          192.9,
          191.8,
          190.8,
          191.6,
          193.1,
          188.7,
          186.5,
          182.6,
          184,
          185.1,
          189.6,
          192.9,
          192.7,
          190.7,
          186.8,
          188.5,
          190.2,
          196.2,
          202.3,
          198.3,
          193.8,
          193.2,
          192.6,
          192.2,
          197.3,
          191.8,
          190.6,
          182.1,
          178.2,
          181.4,
          184.4,
          187.3,
          193.4,
          192,
          182.3,
          188.2,
          182.9,
          185.5,
          190,
          187.1,
          184.8,
          178.5,
          177,
          160.3,
          168.8,
          172.5,
          181.8,
          181.9,
          175.4,
          176.9,
          174.8,
          176.4,
          172.6,
          200.4,
          206.3,
          202.4,
          198.5,
          202.8,
          206.5,
          215.9,
          221.9,
          224.8,
          225.7,
          214.5,
          208.7,
          208.6,
          208.2,
          205.8,
          210.3,
          203.2,
          208,
          210.8,
          216.2,
          225,
          228.2,
          227.5,
          226.6,
          225.8,
          220.1,
          222.9,
          220.6,
          232.6,
          236.3,
          239.7,
          236.2,
          239.6,
          243.4,
          246.7,
          253.3,
          248.7,
          244.8,
          228.6,
          220.5,
          212.2,
          214.2,
          219.5,
          221.2,
          219.7,
          217,
          217,
          218.2,
          219.7,
          221,
          226,
          224.5,
          211.4,
          210.4,
          209.5,
          205.4,
          207.6,
          209.1,
          208.2,
          202.6,
          201.7,
          202,
          204.1,
          201.5,
          202.4,
          205.4,
          204.7,
          207.3,
          213.1,
          218.7,
          220.6,
          223.2,
          231.4,
          230.5,
          234.4,
          239.1,
          240.2,
          242.3,
          239.8,
          245.7,
          242.6,
          238.1,
          236.9,
          240,
          245.3,
          243,
          241.1,
          229.9,
          231.6,
          230.5,
          232.2,
          238.9,
          244.9,
          246.2,
          242.6,
          245,
          253.4,
          260.3,
          265.1,
          267.4,
          270.2,
          272.2,
          269.4,
          272.4,
          270.2,
          275.1,
          273.5,
          279.7,
          274.4,
          268.6,
          265.7,
          262.6,
          261.6,
          260.5,
          262.7,
          258.2,
          257.8,
          258.6,
          261.9,
          268.2,
          268.2,
          272.4,
          273.2,
          270.6,
          265.8,
          265.4,
          259.9,
          256.6,
          253.9,
          253.4,
          249.7,
          239.6,
          237.3,
          236.1,
          235.9,
          228.5,
          230.4,
          223.4,
          215.8,
          209.3,
          209.8,
          213.3,
          212.9,
          208.2,
          205.3,
          207,
          203.9,
          204.8,
          209.2,
          210.1,
          209.4,
          209.4,
          206,
          208,
          205.1,
          206.9,
          204.2,
          204.7,
          199.3,
          192.7,
          189.8,
          188.1,
          188.8,
          186.2,
          186.4,
          185.7,
          185.9,
          184.1,
          188.8,
          192.6,
          191.5,
          188.5,
          189.4,
          190,
          197.3,
          200.4,
          203.4,
          202.7,
          199.4,
          200.8,
          201.6,
          205.8,
          208.6,
          215.5,
          210.2,
          203.7,
          204.4,
          208.4,
          212.7,
          216.6,
          223.6,
          221.3,
          219.2,
          215.2,
          221.1,
          229,
          234.6,
          240,
          238.2,
          232.7,
          232.4,
          237.4,
          235.1,
          247,
          250.9,
          244.3,
          238.9,
          237.6,
          241.1,
          245.1,
          246,
          245,
          246.1,
          233.7,
          229.1,
          229.4,
          229,
          234.2,
          237.4,
          237.9,
          233.7,
          235.4,
          239.2,
          239.8,
          246,
          248.6,
          246.3,
          234,
          229,
          226.5,
          228.8,
          228.5,
          224.7,
          219.4,
          210.2,
          207.6,
          209.9,
          208.8,
          205.6,
          204.2,
          204.9,
          201.1,
          202.5,
          209.3,
          209.9,
          217.8,
          222.2,
          227.7,
          227.9,
          230.1,
          227.6,
          229.7,
          234.6,
          234.3,
          232.7,
          225.5,
          221.3,
          221.5,
          221.9,
          225.1,
          230.8,
          224.3,
          221.2,
          225.3,
          228.2,
          230.6,
          234.8,
          233.9,
          232,
          229.1,
          223.9,
          228.4,
          228,
          231.9,
          233.5,
          228.4,
          230,
          232.5,
          236.2,
          236.2,
          239.7,
          239.7,
          235.8,
          231.4,
          229.6,
          231.6,
          229.4,
          228.9,
          227.1,
          218.4,
          205.5,
          199.4,
          194.9,
          185.7,
          178.2,
          175.6,
          161.6
         ],
         "yaxis": "y"
        },
        {
         "hovertemplate": "Années=2018<br>datetime=%{x}<br>Nb victimes/jour (MA10)=%{y}<extra></extra>",
         "legendgroup": "2018",
         "line": {
          "color": "#00cc96",
          "dash": "solid"
         },
         "mode": "lines",
         "name": "2018",
         "showlegend": true,
         "type": "scattergl",
         "x": [
          "01 01",
          "01 02",
          "01 03",
          "01 04",
          "01 05",
          "01 06",
          "01 07",
          "01 08",
          "01 09",
          "01 10",
          "01 11",
          "01 12",
          "01 13",
          "01 14",
          "01 15",
          "01 16",
          "01 17",
          "01 18",
          "01 19",
          "01 20",
          "01 21",
          "01 22",
          "01 23",
          "01 24",
          "01 25",
          "01 26",
          "01 27",
          "01 28",
          "01 29",
          "01 30",
          "01 31",
          "02 01",
          "02 02",
          "02 03",
          "02 04",
          "02 05",
          "02 06",
          "02 07",
          "02 08",
          "02 09",
          "02 10",
          "02 11",
          "02 12",
          "02 13",
          "02 14",
          "02 15",
          "02 16",
          "02 17",
          "02 18",
          "02 19",
          "02 20",
          "02 21",
          "02 22",
          "02 23",
          "02 24",
          "02 25",
          "02 26",
          "02 27",
          "02 28",
          "02 29",
          "03 01",
          "03 02",
          "03 03",
          "03 04",
          "03 05",
          "03 06",
          "03 07",
          "03 08",
          "03 09",
          "03 10",
          "03 11",
          "03 12",
          "03 13",
          "03 14",
          "03 15",
          "03 16",
          "03 17",
          "03 18",
          "03 19",
          "03 20",
          "03 21",
          "03 22",
          "03 23",
          "03 24",
          "03 25",
          "03 26",
          "03 27",
          "03 28",
          "03 29",
          "03 30",
          "03 31",
          "04 01",
          "04 02",
          "04 03",
          "04 04",
          "04 05",
          "04 06",
          "04 07",
          "04 08",
          "04 09",
          "04 10",
          "04 11",
          "04 12",
          "04 13",
          "04 14",
          "04 15",
          "04 16",
          "04 17",
          "04 18",
          "04 19",
          "04 20",
          "04 21",
          "04 22",
          "04 23",
          "04 24",
          "04 25",
          "04 26",
          "04 27",
          "04 28",
          "04 29",
          "04 30",
          "05 01",
          "05 02",
          "05 03",
          "05 04",
          "05 05",
          "05 06",
          "05 07",
          "05 08",
          "05 09",
          "05 10",
          "05 11",
          "05 12",
          "05 13",
          "05 14",
          "05 15",
          "05 16",
          "05 17",
          "05 18",
          "05 19",
          "05 20",
          "05 21",
          "05 22",
          "05 23",
          "05 24",
          "05 25",
          "05 26",
          "05 27",
          "05 28",
          "05 29",
          "05 30",
          "05 31",
          "06 01",
          "06 02",
          "06 03",
          "06 04",
          "06 05",
          "06 06",
          "06 07",
          "06 08",
          "06 09",
          "06 10",
          "06 11",
          "06 12",
          "06 13",
          "06 14",
          "06 15",
          "06 16",
          "06 17",
          "06 18",
          "06 19",
          "06 20",
          "06 21",
          "06 22",
          "06 23",
          "06 24",
          "06 25",
          "06 26",
          "06 27",
          "06 28",
          "06 29",
          "06 30",
          "07 01",
          "07 02",
          "07 03",
          "07 04",
          "07 05",
          "07 06",
          "07 07",
          "07 08",
          "07 09",
          "07 10",
          "07 11",
          "07 12",
          "07 13",
          "07 14",
          "07 15",
          "07 16",
          "07 17",
          "07 18",
          "07 19",
          "07 20",
          "07 21",
          "07 22",
          "07 23",
          "07 24",
          "07 25",
          "07 26",
          "07 27",
          "07 28",
          "07 29",
          "07 30",
          "07 31",
          "08 01",
          "08 02",
          "08 03",
          "08 04",
          "08 05",
          "08 06",
          "08 07",
          "08 08",
          "08 09",
          "08 10",
          "08 11",
          "08 12",
          "08 13",
          "08 14",
          "08 15",
          "08 16",
          "08 17",
          "08 18",
          "08 19",
          "08 20",
          "08 21",
          "08 22",
          "08 23",
          "08 24",
          "08 25",
          "08 26",
          "08 27",
          "08 28",
          "08 29",
          "08 30",
          "08 31",
          "09 01",
          "09 02",
          "09 03",
          "09 04",
          "09 05",
          "09 06",
          "09 07",
          "09 08",
          "09 09",
          "09 10",
          "09 11",
          "09 12",
          "09 13",
          "09 14",
          "09 15",
          "09 16",
          "09 17",
          "09 18",
          "09 19",
          "09 20",
          "09 21",
          "09 22",
          "09 23",
          "09 24",
          "09 25",
          "09 26",
          "09 27",
          "09 28",
          "09 29",
          "09 30",
          "10 01",
          "10 02",
          "10 03",
          "10 04",
          "10 05",
          "10 06",
          "10 07",
          "10 08",
          "10 09",
          "10 10",
          "10 11",
          "10 12",
          "10 13",
          "10 14",
          "10 15",
          "10 16",
          "10 17",
          "10 18",
          "10 19",
          "10 20",
          "10 21",
          "10 22",
          "10 23",
          "10 24",
          "10 25",
          "10 26",
          "10 27",
          "10 28",
          "10 29",
          "10 30",
          "10 31",
          "11 01",
          "11 02",
          "11 03",
          "11 04",
          "11 05",
          "11 06",
          "11 07",
          "11 08",
          "11 09",
          "11 10",
          "11 11",
          "11 12",
          "11 13",
          "11 14",
          "11 15",
          "11 16",
          "11 17",
          "11 18",
          "11 19",
          "11 20",
          "11 21",
          "11 22",
          "11 23",
          "11 24",
          "11 25",
          "11 26",
          "11 27",
          "11 28",
          "11 29",
          "11 30",
          "12 01",
          "12 02",
          "12 03",
          "12 04",
          "12 05",
          "12 06",
          "12 07",
          "12 08",
          "12 09",
          "12 10",
          "12 11",
          "12 12",
          "12 13",
          "12 14",
          "12 15",
          "12 16",
          "12 17",
          "12 18",
          "12 19",
          "12 20",
          "12 21",
          "12 22",
          "12 23",
          "12 24",
          "12 25",
          "12 26",
          "12 27",
          "12 28",
          "12 29",
          "12 30",
          "12 31"
         ],
         "xaxis": "x",
         "y": [
          null,
          null,
          null,
          null,
          null,
          null,
          null,
          null,
          null,
          161.7,
          164.3,
          170.1,
          176.7,
          178,
          173.2,
          181.1,
          186.1,
          189.8,
          194.7,
          197.7,
          190.1,
          187,
          184.6,
          189.5,
          197.8,
          200.1,
          198.8,
          195.4,
          189.5,
          183.8,
          186.5,
          191.3,
          195,
          194.1,
          187.5,
          179.2,
          177.8,
          172.8,
          168.6,
          163.9,
          164.4,
          155.6,
          155.1,
          153.8,
          151.9,
          152,
          160,
          167.4,
          169.5,
          172.3,
          170.2,
          171.6,
          168.3,
          168.9,
          168.6,
          168.4,
          154.9,
          148.4,
          146.1,
          131,
          129.6,
          134.3,
          135.6,
          133.6,
          134.6,
          138.5,
          145.2,
          149.4,
          157,
          175,
          176.5,
          174,
          173.2,
          174.2,
          179.2,
          181.6,
          185.7,
          184.2,
          179.2,
          175.4,
          178.6,
          176,
          179.3,
          180.4,
          178,
          172.3,
          166.8,
          170.9,
          173.4,
          178.7,
          179.6,
          180.4,
          172.5,
          174.5,
          171.6,
          174.4,
          192.5,
          195.9,
          195.9,
          194.8,
          194.3,
          199.4,
          210.2,
          212.8,
          220.7,
          222.7,
          208.7,
          207.6,
          215.6,
          222.4,
          230.2,
          235.6,
          236.7,
          228.4,
          229.3,
          231.3,
          233.1,
          234.8,
          229.2,
          220.5,
          213.9,
          203,
          198.9,
          200.5,
          201.8,
          210.3,
          213.2,
          212,
          207.5,
          213.8,
          210.5,
          214.3,
          215.2,
          213.4,
          210.1,
          200.9,
          196.3,
          195.5,
          210.9,
          212.9,
          219.1,
          214.9,
          218.4,
          222.4,
          222.7,
          231.4,
          238.2,
          237.5,
          226,
          227,
          226,
          233.3,
          229.7,
          234.3,
          233.6,
          223.4,
          220.1,
          221.9,
          222.2,
          223.6,
          224.2,
          224.1,
          218.9,
          214.1,
          213.5,
          216.8,
          221.2,
          224.6,
          228.4,
          222.9,
          223.4,
          227.5,
          238.6,
          249.9,
          255.4,
          255.8,
          253.8,
          256.5,
          261.4,
          265,
          271.4,
          270.7,
          267.6,
          258.8,
          253.7,
          258.3,
          256.6,
          255.9,
          255.8,
          255.9,
          252.2,
          254.3,
          257.6,
          261.7,
          265.8,
          259.7,
          262.4,
          255.3,
          244.9,
          241.6,
          236.5,
          233.1,
          226.7,
          221.9,
          215.6,
          212.8,
          206.6,
          208.4,
          213.6,
          211,
          210.1,
          203,
          203.7,
          202.4,
          207.6,
          212.1,
          214.2,
          210.8,
          204.2,
          202.9,
          201.5,
          198.8,
          199.6,
          200.9,
          197.7,
          189.9,
          188.3,
          186.8,
          190.1,
          189.7,
          192.5,
          196.1,
          192.6,
          189.3,
          182.1,
          182.7,
          182,
          185.7,
          185,
          184,
          181.7,
          180.2,
          178.5,
          182.1,
          191.5,
          196.4,
          195.5,
          197.1,
          198,
          203.5,
          213.5,
          221.6,
          224.3,
          222.5,
          229.1,
          230.9,
          233.2,
          236,
          242.4,
          244.9,
          239.3,
          237.8,
          239.8,
          245.2,
          246.2,
          244.8,
          244.8,
          242.6,
          241,
          238.1,
          240.6,
          245.5,
          249.3,
          247.2,
          242,
          240,
          243.1,
          245.3,
          250.6,
          256.6,
          252,
          240.1,
          238.2,
          240.1,
          243.9,
          254,
          257.3,
          248.1,
          238.7,
          236.1,
          240,
          245.5,
          250,
          246.8,
          239.8,
          230.2,
          226.2,
          227.3,
          227.4,
          226.7,
          227.7,
          223.7,
          216.9,
          215.2,
          214,
          213.7,
          211.3,
          213.6,
          210.3,
          203.8,
          203.8,
          208.2,
          207.5,
          209.6,
          214,
          212.9,
          213.5,
          216.2,
          216.7,
          219.6,
          219.5,
          220.3,
          218.3,
          216.7,
          211.4,
          211.7,
          206.9,
          209.6,
          209.1,
          210.3,
          200.3,
          194.5,
          197.1,
          195.8,
          207,
          213.1,
          215.3,
          211.6,
          217.1,
          215,
          220.4,
          224.6,
          225.1,
          223.6,
          212.7,
          209.9,
          211.8,
          214.3,
          216.1,
          216.1,
          214.6,
          215.3,
          216.9,
          219.4,
          222.2,
          232.7,
          234.5,
          227,
          216.2,
          208.1,
          203.1,
          196.3,
          189.7,
          183.7,
          173.1,
          151.9
         ],
         "yaxis": "y"
        },
        {
         "hovertemplate": "Années=2019<br>datetime=%{x}<br>Nb victimes/jour (MA10)=%{y}<extra></extra>",
         "legendgroup": "2019",
         "line": {
          "color": "#ab63fa",
          "dash": "solid"
         },
         "mode": "lines",
         "name": "2019",
         "showlegend": true,
         "type": "scattergl",
         "x": [
          "01 01",
          "01 02",
          "01 03",
          "01 04",
          "01 05",
          "01 06",
          "01 07",
          "01 08",
          "01 09",
          "01 10",
          "01 11",
          "01 12",
          "01 13",
          "01 14",
          "01 15",
          "01 16",
          "01 17",
          "01 18",
          "01 19",
          "01 20",
          "01 21",
          "01 22",
          "01 23",
          "01 24",
          "01 25",
          "01 26",
          "01 27",
          "01 28",
          "01 29",
          "01 30",
          "01 31",
          "02 01",
          "02 02",
          "02 03",
          "02 04",
          "02 05",
          "02 06",
          "02 07",
          "02 08",
          "02 09",
          "02 10",
          "02 11",
          "02 12",
          "02 13",
          "02 14",
          "02 15",
          "02 16",
          "02 17",
          "02 18",
          "02 19",
          "02 20",
          "02 21",
          "02 22",
          "02 23",
          "02 24",
          "02 25",
          "02 26",
          "02 27",
          "02 28",
          "02 29",
          "03 01",
          "03 02",
          "03 03",
          "03 04",
          "03 05",
          "03 06",
          "03 07",
          "03 08",
          "03 09",
          "03 10",
          "03 11",
          "03 12",
          "03 13",
          "03 14",
          "03 15",
          "03 16",
          "03 17",
          "03 18",
          "03 19",
          "03 20",
          "03 21",
          "03 22",
          "03 23",
          "03 24",
          "03 25",
          "03 26",
          "03 27",
          "03 28",
          "03 29",
          "03 30",
          "03 31",
          "04 01",
          "04 02",
          "04 03",
          "04 04",
          "04 05",
          "04 06",
          "04 07",
          "04 08",
          "04 09",
          "04 10",
          "04 11",
          "04 12",
          "04 13",
          "04 14",
          "04 15",
          "04 16",
          "04 17",
          "04 18",
          "04 19",
          "04 20",
          "04 21",
          "04 22",
          "04 23",
          "04 24",
          "04 25",
          "04 26",
          "04 27",
          "04 28",
          "04 29",
          "04 30",
          "05 01",
          "05 02",
          "05 03",
          "05 04",
          "05 05",
          "05 06",
          "05 07",
          "05 08",
          "05 09",
          "05 10",
          "05 11",
          "05 12",
          "05 13",
          "05 14",
          "05 15",
          "05 16",
          "05 17",
          "05 18",
          "05 19",
          "05 20",
          "05 21",
          "05 22",
          "05 23",
          "05 24",
          "05 25",
          "05 26",
          "05 27",
          "05 28",
          "05 29",
          "05 30",
          "05 31",
          "06 01",
          "06 02",
          "06 03",
          "06 04",
          "06 05",
          "06 06",
          "06 07",
          "06 08",
          "06 09",
          "06 10",
          "06 11",
          "06 12",
          "06 13",
          "06 14",
          "06 15",
          "06 16",
          "06 17",
          "06 18",
          "06 19",
          "06 20",
          "06 21",
          "06 22",
          "06 23",
          "06 24",
          "06 25",
          "06 26",
          "06 27",
          "06 28",
          "06 29",
          "06 30",
          "07 01",
          "07 02",
          "07 03",
          "07 04",
          "07 05",
          "07 06",
          "07 07",
          "07 08",
          "07 09",
          "07 10",
          "07 11",
          "07 12",
          "07 13",
          "07 14",
          "07 15",
          "07 16",
          "07 17",
          "07 18",
          "07 19",
          "07 20",
          "07 21",
          "07 22",
          "07 23",
          "07 24",
          "07 25",
          "07 26",
          "07 27",
          "07 28",
          "07 29",
          "07 30",
          "07 31",
          "08 01",
          "08 02",
          "08 03",
          "08 04",
          "08 05",
          "08 06",
          "08 07",
          "08 08",
          "08 09",
          "08 10",
          "08 11",
          "08 12",
          "08 13",
          "08 14",
          "08 15",
          "08 16",
          "08 17",
          "08 18",
          "08 19",
          "08 20",
          "08 21",
          "08 22",
          "08 23",
          "08 24",
          "08 25",
          "08 26",
          "08 27",
          "08 28",
          "08 29",
          "08 30",
          "08 31",
          "09 01",
          "09 02",
          "09 03",
          "09 04",
          "09 05",
          "09 06",
          "09 07",
          "09 08",
          "09 09",
          "09 10",
          "09 11",
          "09 12",
          "09 13",
          "09 14",
          "09 15",
          "09 16",
          "09 17",
          "09 18",
          "09 19",
          "09 20",
          "09 21",
          "09 22",
          "09 23",
          "09 24",
          "09 25",
          "09 26",
          "09 27",
          "09 28",
          "09 29",
          "09 30",
          "10 01",
          "10 02",
          "10 03",
          "10 04",
          "10 05",
          "10 06",
          "10 07",
          "10 08",
          "10 09",
          "10 10",
          "10 11",
          "10 12",
          "10 13",
          "10 14",
          "10 15",
          "10 16",
          "10 17",
          "10 18",
          "10 19",
          "10 20",
          "10 21",
          "10 22",
          "10 23",
          "10 24",
          "10 25",
          "10 26",
          "10 27",
          "10 28",
          "10 29",
          "10 30",
          "10 31",
          "11 01",
          "11 02",
          "11 03",
          "11 04",
          "11 05",
          "11 06",
          "11 07",
          "11 08",
          "11 09",
          "11 10",
          "11 11",
          "11 12",
          "11 13",
          "11 14",
          "11 15",
          "11 16",
          "11 17",
          "11 18",
          "11 19",
          "11 20",
          "11 21",
          "11 22",
          "11 23",
          "11 24",
          "11 25",
          "11 26",
          "11 27",
          "11 28",
          "11 29",
          "11 30",
          "12 01",
          "12 02",
          "12 03",
          "12 04",
          "12 05",
          "12 06",
          "12 07",
          "12 08",
          "12 09",
          "12 10",
          "12 11",
          "12 12",
          "12 13",
          "12 14",
          "12 15",
          "12 16",
          "12 17",
          "12 18",
          "12 19",
          "12 20",
          "12 21",
          "12 22",
          "12 23",
          "12 24",
          "12 25",
          "12 26",
          "12 27",
          "12 28",
          "12 29",
          "12 30",
          "12 31"
         ],
         "xaxis": "x",
         "y": [
          null,
          null,
          null,
          null,
          null,
          null,
          null,
          null,
          null,
          162.8,
          169.3,
          175.5,
          176.9,
          178.6,
          182.7,
          188.8,
          193.5,
          200.5,
          199.7,
          194.7,
          190.3,
          186.4,
          185.8,
          185.2,
          186,
          187,
          182.6,
          172.8,
          171.4,
          177.3,
          175,
          183.1,
          185.9,
          183.3,
          179,
          176.6,
          179.5,
          186.2,
          192,
          192.6,
          192.9,
          185.3,
          186.7,
          192.1,
          197.1,
          207.2,
          213.8,
          209.3,
          203.4,
          200.9,
          200.6,
          203.2,
          206.8,
          207.6,
          203.2,
          196.7,
          191.9,
          192,
          191.9,
          175.4,
          176.6,
          173.9,
          167.2,
          162.7,
          163,
          160.3,
          157.2,
          158.4,
          158.7,
          176.5,
          173.7,
          175.7,
          177.5,
          178.7,
          182.4,
          186.4,
          186.5,
          184.9,
          186.4,
          186.6,
          192.5,
          200.5,
          208.8,
          209.2,
          207.5,
          206.2,
          212.2,
          213.5,
          219.6,
          225.5,
          230.6,
          222.3,
          216.7,
          215.9,
          220.8,
          223.9,
          221.4,
          218.2,
          210.7,
          204.9,
          200.5,
          203.1,
          205.7,
          212.3,
          206.5,
          199.1,
          196.8,
          201.3,
          205.2,
          212.5,
          216.5,
          213,
          207.2,
          200.8,
          200.8,
          201.9,
          208.1,
          204.5,
          199.5,
          191.1,
          186.2,
          189.5,
          193.9,
          194.4,
          193.7,
          192.2,
          187.2,
          189.7,
          190.6,
          191.8,
          192.6,
          191.8,
          190.7,
          197.3,
          203.7,
          209.6,
          209.5,
          209.6,
          210.6,
          211.8,
          207.6,
          205.4,
          204.6,
          200.7,
          202.2,
          203.8,
          206.3,
          207,
          207.3,
          211.6,
          214,
          220,
          225.4,
          228.6,
          222.5,
          219.7,
          221.4,
          223.2,
          230.4,
          229.5,
          232.7,
          226.1,
          223.2,
          222.3,
          223.8,
          227.8,
          225.9,
          231,
          228.9,
          229.6,
          226.3,
          231.8,
          240.6,
          245.9,
          248.8,
          247.6,
          247.8,
          245.7,
          247,
          255.4,
          262,
          268.1,
          260.9,
          260.6,
          263.8,
          269.3,
          278.9,
          282.7,
          286.8,
          277.6,
          277.3,
          272.8,
          272.3,
          272.5,
          270,
          265.7,
          256.9,
          251,
          246.7,
          245.5,
          242.7,
          245.1,
          243.1,
          231,
          226.2,
          224.3,
          223.9,
          225.6,
          224.4,
          218.5,
          215,
          209.6,
          205.7,
          209.4,
          214.9,
          210.8,
          206.9,
          201.5,
          196.7,
          200,
          198,
          201,
          205.6,
          204.5,
          195.9,
          194.9,
          195.1,
          189,
          188,
          193.2,
          196,
          187.9,
          184.7,
          182.2,
          187.2,
          189.8,
          192.3,
          201.2,
          200.2,
          193.3,
          191.6,
          196,
          201.8,
          212.7,
          210,
          209.2,
          208.5,
          207,
          210.1,
          221.5,
          230.8,
          230.9,
          225.5,
          219,
          224.7,
          227.8,
          236.7,
          241.3,
          247.6,
          240.8,
          234.4,
          237.5,
          243.2,
          251.9,
          248.9,
          248.4,
          239.6,
          234.3,
          230,
          229.2,
          230.1,
          232,
          228,
          221.5,
          220.4,
          220.9,
          220.9,
          227.8,
          233.3,
          237.1,
          235.7,
          234.7,
          236.5,
          238.1,
          246.3,
          243.4,
          247.5,
          240.8,
          234.2,
          229.1,
          230.8,
          232.7,
          232,
          234.9,
          225.3,
          227.7,
          222.4,
          224.5,
          227.2,
          234.6,
          233.7,
          226.2,
          223,
          212.9,
          215.8,
          216.4,
          219.4,
          217.2,
          218.9,
          214,
          213.1,
          216.9,
          220.4,
          224.6,
          218.8,
          211.7,
          212.9,
          212.5,
          206.7,
          212.5,
          211.4,
          202.3,
          200.6,
          201.1,
          202.3,
          208,
          210.9,
          212.1,
          211.2,
          206,
          204.5,
          212.5,
          210.2,
          213.2,
          216.9,
          215.1,
          213.4,
          217.2,
          225.2,
          225.2,
          233.6,
          236,
          239.7,
          240,
          244.4,
          247.4,
          250.4,
          254,
          248.6,
          247,
          240.8,
          237.8,
          240,
          237.3,
          243.5,
          241.5,
          230.1,
          223,
          222.2,
          213.1,
          208.8,
          204.5,
          197.6,
          190.2,
          173.8,
          168.8
         ],
         "yaxis": "y"
        }
       ],
       "layout": {
        "legend": {
         "title": {
          "text": "Années"
         },
         "tracegroupgap": 0
        },
        "template": {
         "data": {
          "bar": [
           {
            "error_x": {
             "color": "#2a3f5f"
            },
            "error_y": {
             "color": "#2a3f5f"
            },
            "marker": {
             "line": {
              "color": "#E5ECF6",
              "width": 0.5
             }
            },
            "type": "bar"
           }
          ],
          "barpolar": [
           {
            "marker": {
             "line": {
              "color": "#E5ECF6",
              "width": 0.5
             }
            },
            "type": "barpolar"
           }
          ],
          "carpet": [
           {
            "aaxis": {
             "endlinecolor": "#2a3f5f",
             "gridcolor": "white",
             "linecolor": "white",
             "minorgridcolor": "white",
             "startlinecolor": "#2a3f5f"
            },
            "baxis": {
             "endlinecolor": "#2a3f5f",
             "gridcolor": "white",
             "linecolor": "white",
             "minorgridcolor": "white",
             "startlinecolor": "#2a3f5f"
            },
            "type": "carpet"
           }
          ],
          "choropleth": [
           {
            "colorbar": {
             "outlinewidth": 0,
             "ticks": ""
            },
            "type": "choropleth"
           }
          ],
          "contour": [
           {
            "colorbar": {
             "outlinewidth": 0,
             "ticks": ""
            },
            "colorscale": [
             [
              0,
              "#0d0887"
             ],
             [
              0.1111111111111111,
              "#46039f"
             ],
             [
              0.2222222222222222,
              "#7201a8"
             ],
             [
              0.3333333333333333,
              "#9c179e"
             ],
             [
              0.4444444444444444,
              "#bd3786"
             ],
             [
              0.5555555555555556,
              "#d8576b"
             ],
             [
              0.6666666666666666,
              "#ed7953"
             ],
             [
              0.7777777777777778,
              "#fb9f3a"
             ],
             [
              0.8888888888888888,
              "#fdca26"
             ],
             [
              1,
              "#f0f921"
             ]
            ],
            "type": "contour"
           }
          ],
          "contourcarpet": [
           {
            "colorbar": {
             "outlinewidth": 0,
             "ticks": ""
            },
            "type": "contourcarpet"
           }
          ],
          "heatmap": [
           {
            "colorbar": {
             "outlinewidth": 0,
             "ticks": ""
            },
            "colorscale": [
             [
              0,
              "#0d0887"
             ],
             [
              0.1111111111111111,
              "#46039f"
             ],
             [
              0.2222222222222222,
              "#7201a8"
             ],
             [
              0.3333333333333333,
              "#9c179e"
             ],
             [
              0.4444444444444444,
              "#bd3786"
             ],
             [
              0.5555555555555556,
              "#d8576b"
             ],
             [
              0.6666666666666666,
              "#ed7953"
             ],
             [
              0.7777777777777778,
              "#fb9f3a"
             ],
             [
              0.8888888888888888,
              "#fdca26"
             ],
             [
              1,
              "#f0f921"
             ]
            ],
            "type": "heatmap"
           }
          ],
          "heatmapgl": [
           {
            "colorbar": {
             "outlinewidth": 0,
             "ticks": ""
            },
            "colorscale": [
             [
              0,
              "#0d0887"
             ],
             [
              0.1111111111111111,
              "#46039f"
             ],
             [
              0.2222222222222222,
              "#7201a8"
             ],
             [
              0.3333333333333333,
              "#9c179e"
             ],
             [
              0.4444444444444444,
              "#bd3786"
             ],
             [
              0.5555555555555556,
              "#d8576b"
             ],
             [
              0.6666666666666666,
              "#ed7953"
             ],
             [
              0.7777777777777778,
              "#fb9f3a"
             ],
             [
              0.8888888888888888,
              "#fdca26"
             ],
             [
              1,
              "#f0f921"
             ]
            ],
            "type": "heatmapgl"
           }
          ],
          "histogram": [
           {
            "marker": {
             "colorbar": {
              "outlinewidth": 0,
              "ticks": ""
             }
            },
            "type": "histogram"
           }
          ],
          "histogram2d": [
           {
            "colorbar": {
             "outlinewidth": 0,
             "ticks": ""
            },
            "colorscale": [
             [
              0,
              "#0d0887"
             ],
             [
              0.1111111111111111,
              "#46039f"
             ],
             [
              0.2222222222222222,
              "#7201a8"
             ],
             [
              0.3333333333333333,
              "#9c179e"
             ],
             [
              0.4444444444444444,
              "#bd3786"
             ],
             [
              0.5555555555555556,
              "#d8576b"
             ],
             [
              0.6666666666666666,
              "#ed7953"
             ],
             [
              0.7777777777777778,
              "#fb9f3a"
             ],
             [
              0.8888888888888888,
              "#fdca26"
             ],
             [
              1,
              "#f0f921"
             ]
            ],
            "type": "histogram2d"
           }
          ],
          "histogram2dcontour": [
           {
            "colorbar": {
             "outlinewidth": 0,
             "ticks": ""
            },
            "colorscale": [
             [
              0,
              "#0d0887"
             ],
             [
              0.1111111111111111,
              "#46039f"
             ],
             [
              0.2222222222222222,
              "#7201a8"
             ],
             [
              0.3333333333333333,
              "#9c179e"
             ],
             [
              0.4444444444444444,
              "#bd3786"
             ],
             [
              0.5555555555555556,
              "#d8576b"
             ],
             [
              0.6666666666666666,
              "#ed7953"
             ],
             [
              0.7777777777777778,
              "#fb9f3a"
             ],
             [
              0.8888888888888888,
              "#fdca26"
             ],
             [
              1,
              "#f0f921"
             ]
            ],
            "type": "histogram2dcontour"
           }
          ],
          "mesh3d": [
           {
            "colorbar": {
             "outlinewidth": 0,
             "ticks": ""
            },
            "type": "mesh3d"
           }
          ],
          "parcoords": [
           {
            "line": {
             "colorbar": {
              "outlinewidth": 0,
              "ticks": ""
             }
            },
            "type": "parcoords"
           }
          ],
          "pie": [
           {
            "automargin": true,
            "type": "pie"
           }
          ],
          "scatter": [
           {
            "marker": {
             "colorbar": {
              "outlinewidth": 0,
              "ticks": ""
             }
            },
            "type": "scatter"
           }
          ],
          "scatter3d": [
           {
            "line": {
             "colorbar": {
              "outlinewidth": 0,
              "ticks": ""
             }
            },
            "marker": {
             "colorbar": {
              "outlinewidth": 0,
              "ticks": ""
             }
            },
            "type": "scatter3d"
           }
          ],
          "scattercarpet": [
           {
            "marker": {
             "colorbar": {
              "outlinewidth": 0,
              "ticks": ""
             }
            },
            "type": "scattercarpet"
           }
          ],
          "scattergeo": [
           {
            "marker": {
             "colorbar": {
              "outlinewidth": 0,
              "ticks": ""
             }
            },
            "type": "scattergeo"
           }
          ],
          "scattergl": [
           {
            "marker": {
             "colorbar": {
              "outlinewidth": 0,
              "ticks": ""
             }
            },
            "type": "scattergl"
           }
          ],
          "scattermapbox": [
           {
            "marker": {
             "colorbar": {
              "outlinewidth": 0,
              "ticks": ""
             }
            },
            "type": "scattermapbox"
           }
          ],
          "scatterpolar": [
           {
            "marker": {
             "colorbar": {
              "outlinewidth": 0,
              "ticks": ""
             }
            },
            "type": "scatterpolar"
           }
          ],
          "scatterpolargl": [
           {
            "marker": {
             "colorbar": {
              "outlinewidth": 0,
              "ticks": ""
             }
            },
            "type": "scatterpolargl"
           }
          ],
          "scatterternary": [
           {
            "marker": {
             "colorbar": {
              "outlinewidth": 0,
              "ticks": ""
             }
            },
            "type": "scatterternary"
           }
          ],
          "surface": [
           {
            "colorbar": {
             "outlinewidth": 0,
             "ticks": ""
            },
            "colorscale": [
             [
              0,
              "#0d0887"
             ],
             [
              0.1111111111111111,
              "#46039f"
             ],
             [
              0.2222222222222222,
              "#7201a8"
             ],
             [
              0.3333333333333333,
              "#9c179e"
             ],
             [
              0.4444444444444444,
              "#bd3786"
             ],
             [
              0.5555555555555556,
              "#d8576b"
             ],
             [
              0.6666666666666666,
              "#ed7953"
             ],
             [
              0.7777777777777778,
              "#fb9f3a"
             ],
             [
              0.8888888888888888,
              "#fdca26"
             ],
             [
              1,
              "#f0f921"
             ]
            ],
            "type": "surface"
           }
          ],
          "table": [
           {
            "cells": {
             "fill": {
              "color": "#EBF0F8"
             },
             "line": {
              "color": "white"
             }
            },
            "header": {
             "fill": {
              "color": "#C8D4E3"
             },
             "line": {
              "color": "white"
             }
            },
            "type": "table"
           }
          ]
         },
         "layout": {
          "annotationdefaults": {
           "arrowcolor": "#2a3f5f",
           "arrowhead": 0,
           "arrowwidth": 1
          },
          "autotypenumbers": "strict",
          "coloraxis": {
           "colorbar": {
            "outlinewidth": 0,
            "ticks": ""
           }
          },
          "colorscale": {
           "diverging": [
            [
             0,
             "#8e0152"
            ],
            [
             0.1,
             "#c51b7d"
            ],
            [
             0.2,
             "#de77ae"
            ],
            [
             0.3,
             "#f1b6da"
            ],
            [
             0.4,
             "#fde0ef"
            ],
            [
             0.5,
             "#f7f7f7"
            ],
            [
             0.6,
             "#e6f5d0"
            ],
            [
             0.7,
             "#b8e186"
            ],
            [
             0.8,
             "#7fbc41"
            ],
            [
             0.9,
             "#4d9221"
            ],
            [
             1,
             "#276419"
            ]
           ],
           "sequential": [
            [
             0,
             "#0d0887"
            ],
            [
             0.1111111111111111,
             "#46039f"
            ],
            [
             0.2222222222222222,
             "#7201a8"
            ],
            [
             0.3333333333333333,
             "#9c179e"
            ],
            [
             0.4444444444444444,
             "#bd3786"
            ],
            [
             0.5555555555555556,
             "#d8576b"
            ],
            [
             0.6666666666666666,
             "#ed7953"
            ],
            [
             0.7777777777777778,
             "#fb9f3a"
            ],
            [
             0.8888888888888888,
             "#fdca26"
            ],
            [
             1,
             "#f0f921"
            ]
           ],
           "sequentialminus": [
            [
             0,
             "#0d0887"
            ],
            [
             0.1111111111111111,
             "#46039f"
            ],
            [
             0.2222222222222222,
             "#7201a8"
            ],
            [
             0.3333333333333333,
             "#9c179e"
            ],
            [
             0.4444444444444444,
             "#bd3786"
            ],
            [
             0.5555555555555556,
             "#d8576b"
            ],
            [
             0.6666666666666666,
             "#ed7953"
            ],
            [
             0.7777777777777778,
             "#fb9f3a"
            ],
            [
             0.8888888888888888,
             "#fdca26"
            ],
            [
             1,
             "#f0f921"
            ]
           ]
          },
          "colorway": [
           "#636efa",
           "#EF553B",
           "#00cc96",
           "#ab63fa",
           "#FFA15A",
           "#19d3f3",
           "#FF6692",
           "#B6E880",
           "#FF97FF",
           "#FECB52"
          ],
          "font": {
           "color": "#2a3f5f"
          },
          "geo": {
           "bgcolor": "white",
           "lakecolor": "white",
           "landcolor": "#E5ECF6",
           "showlakes": true,
           "showland": true,
           "subunitcolor": "white"
          },
          "hoverlabel": {
           "align": "left"
          },
          "hovermode": "closest",
          "mapbox": {
           "style": "light"
          },
          "paper_bgcolor": "white",
          "plot_bgcolor": "#E5ECF6",
          "polar": {
           "angularaxis": {
            "gridcolor": "white",
            "linecolor": "white",
            "ticks": ""
           },
           "bgcolor": "#E5ECF6",
           "radialaxis": {
            "gridcolor": "white",
            "linecolor": "white",
            "ticks": ""
           }
          },
          "scene": {
           "xaxis": {
            "backgroundcolor": "#E5ECF6",
            "gridcolor": "white",
            "gridwidth": 2,
            "linecolor": "white",
            "showbackground": true,
            "ticks": "",
            "zerolinecolor": "white"
           },
           "yaxis": {
            "backgroundcolor": "#E5ECF6",
            "gridcolor": "white",
            "gridwidth": 2,
            "linecolor": "white",
            "showbackground": true,
            "ticks": "",
            "zerolinecolor": "white"
           },
           "zaxis": {
            "backgroundcolor": "#E5ECF6",
            "gridcolor": "white",
            "gridwidth": 2,
            "linecolor": "white",
            "showbackground": true,
            "ticks": "",
            "zerolinecolor": "white"
           }
          },
          "shapedefaults": {
           "line": {
            "color": "#2a3f5f"
           }
          },
          "ternary": {
           "aaxis": {
            "gridcolor": "white",
            "linecolor": "white",
            "ticks": ""
           },
           "baxis": {
            "gridcolor": "white",
            "linecolor": "white",
            "ticks": ""
           },
           "bgcolor": "#E5ECF6",
           "caxis": {
            "gridcolor": "white",
            "linecolor": "white",
            "ticks": ""
           }
          },
          "title": {
           "x": 0.05
          },
          "xaxis": {
           "automargin": true,
           "gridcolor": "white",
           "linecolor": "white",
           "ticks": "",
           "title": {
            "standoff": 15
           },
           "zerolinecolor": "white",
           "zerolinewidth": 2
          },
          "yaxis": {
           "automargin": true,
           "gridcolor": "white",
           "linecolor": "white",
           "ticks": "",
           "title": {
            "standoff": 15
           },
           "zerolinecolor": "white",
           "zerolinewidth": 2
          }
         }
        },
        "title": {
         "text": "Evolution du nombre (lissé) quotidien de victimes d'accidents au fil de l'année"
        },
        "xaxis": {
         "anchor": "y",
         "domain": [
          0,
          1
         ],
         "title": {
          "text": "datetime"
         }
        },
        "yaxis": {
         "anchor": "x",
         "domain": [
          0,
          1
         ],
         "title": {
          "text": "Nb victimes/jour (MA10)"
         }
        }
       }
      },
      "text/html": [
       "<div>                            <div id=\"82faa7d2-d6f0-4c30-a678-0b9a56c877b3\" class=\"plotly-graph-div\" style=\"height:525px; width:100%;\"></div>            <script type=\"text/javascript\">                require([\"plotly\"], function(Plotly) {                    window.PLOTLYENV=window.PLOTLYENV || {};                                    if (document.getElementById(\"82faa7d2-d6f0-4c30-a678-0b9a56c877b3\")) {                    Plotly.newPlot(                        \"82faa7d2-d6f0-4c30-a678-0b9a56c877b3\",                        [{\"hovertemplate\": \"Ann\\u00e9es=2016<br>datetime=%{x}<br>Nb victimes/jour (MA10)=%{y}<extra></extra>\", \"legendgroup\": \"2016\", \"line\": {\"color\": \"#636efa\", \"dash\": \"solid\"}, \"mode\": \"lines\", \"name\": \"2016\", \"showlegend\": true, \"type\": \"scattergl\", \"x\": [\"01 01\", \"01 02\", \"01 03\", \"01 04\", \"01 05\", \"01 06\", \"01 07\", \"01 08\", \"01 09\", \"01 10\", \"01 11\", \"01 12\", \"01 13\", \"01 14\", \"01 15\", \"01 16\", \"01 17\", \"01 18\", \"01 19\", \"01 20\", \"01 21\", \"01 22\", \"01 23\", \"01 24\", \"01 25\", \"01 26\", \"01 27\", \"01 28\", \"01 29\", \"01 30\", \"01 31\", \"02 01\", \"02 02\", \"02 03\", \"02 04\", \"02 05\", \"02 06\", \"02 07\", \"02 08\", \"02 09\", \"02 10\", \"02 11\", \"02 12\", \"02 13\", \"02 14\", \"02 15\", \"02 16\", \"02 17\", \"02 18\", \"02 19\", \"02 20\", \"02 21\", \"02 22\", \"02 23\", \"02 24\", \"02 25\", \"02 26\", \"02 27\", \"02 28\", \"02 29\", \"03 01\", \"03 02\", \"03 03\", \"03 04\", \"03 05\", \"03 06\", \"03 07\", \"03 08\", \"03 09\", \"03 10\", \"03 11\", \"03 12\", \"03 13\", \"03 14\", \"03 15\", \"03 16\", \"03 17\", \"03 18\", \"03 19\", \"03 20\", \"03 21\", \"03 22\", \"03 23\", \"03 24\", \"03 25\", \"03 26\", \"03 27\", \"03 28\", \"03 29\", \"03 30\", \"03 31\", \"04 01\", \"04 02\", \"04 03\", \"04 04\", \"04 05\", \"04 06\", \"04 07\", \"04 08\", \"04 09\", \"04 10\", \"04 11\", \"04 12\", \"04 13\", \"04 14\", \"04 15\", \"04 16\", \"04 17\", \"04 18\", \"04 19\", \"04 20\", \"04 21\", \"04 22\", \"04 23\", \"04 24\", \"04 25\", \"04 26\", \"04 27\", \"04 28\", \"04 29\", \"04 30\", \"05 01\", \"05 02\", \"05 03\", \"05 04\", \"05 05\", \"05 06\", \"05 07\", \"05 08\", \"05 09\", \"05 10\", \"05 11\", \"05 12\", \"05 13\", \"05 14\", \"05 15\", \"05 16\", \"05 17\", \"05 18\", \"05 19\", \"05 20\", \"05 21\", \"05 22\", \"05 23\", \"05 24\", \"05 25\", \"05 26\", \"05 27\", \"05 28\", \"05 29\", \"05 30\", \"05 31\", \"06 01\", \"06 02\", \"06 03\", \"06 04\", \"06 05\", \"06 06\", \"06 07\", \"06 08\", \"06 09\", \"06 10\", \"06 11\", \"06 12\", \"06 13\", \"06 14\", \"06 15\", \"06 16\", \"06 17\", \"06 18\", \"06 19\", \"06 20\", \"06 21\", \"06 22\", \"06 23\", \"06 24\", \"06 25\", \"06 26\", \"06 27\", \"06 28\", \"06 29\", \"06 30\", \"07 01\", \"07 02\", \"07 03\", \"07 04\", \"07 05\", \"07 06\", \"07 07\", \"07 08\", \"07 09\", \"07 10\", \"07 11\", \"07 12\", \"07 13\", \"07 14\", \"07 15\", \"07 16\", \"07 17\", \"07 18\", \"07 19\", \"07 20\", \"07 21\", \"07 22\", \"07 23\", \"07 24\", \"07 25\", \"07 26\", \"07 27\", \"07 28\", \"07 29\", \"07 30\", \"07 31\", \"08 01\", \"08 02\", \"08 03\", \"08 04\", \"08 05\", \"08 06\", \"08 07\", \"08 08\", \"08 09\", \"08 10\", \"08 11\", \"08 12\", \"08 13\", \"08 14\", \"08 15\", \"08 16\", \"08 17\", \"08 18\", \"08 19\", \"08 20\", \"08 21\", \"08 22\", \"08 23\", \"08 24\", \"08 25\", \"08 26\", \"08 27\", \"08 28\", \"08 29\", \"08 30\", \"08 31\", \"09 01\", \"09 02\", \"09 03\", \"09 04\", \"09 05\", \"09 06\", \"09 07\", \"09 08\", \"09 09\", \"09 10\", \"09 11\", \"09 12\", \"09 13\", \"09 14\", \"09 15\", \"09 16\", \"09 17\", \"09 18\", \"09 19\", \"09 20\", \"09 21\", \"09 22\", \"09 23\", \"09 24\", \"09 25\", \"09 26\", \"09 27\", \"09 28\", \"09 29\", \"09 30\", \"10 01\", \"10 02\", \"10 03\", \"10 04\", \"10 05\", \"10 06\", \"10 07\", \"10 08\", \"10 09\", \"10 10\", \"10 11\", \"10 12\", \"10 13\", \"10 14\", \"10 15\", \"10 16\", \"10 17\", \"10 18\", \"10 19\", \"10 20\", \"10 21\", \"10 22\", \"10 23\", \"10 24\", \"10 25\", \"10 26\", \"10 27\", \"10 28\", \"10 29\", \"10 30\", \"10 31\", \"11 01\", \"11 02\", \"11 03\", \"11 04\", \"11 05\", \"11 06\", \"11 07\", \"11 08\", \"11 09\", \"11 10\", \"11 11\", \"11 12\", \"11 13\", \"11 14\", \"11 15\", \"11 16\", \"11 17\", \"11 18\", \"11 19\", \"11 20\", \"11 21\", \"11 22\", \"11 23\", \"11 24\", \"11 25\", \"11 26\", \"11 27\", \"11 28\", \"11 29\", \"11 30\", \"12 01\", \"12 02\", \"12 03\", \"12 04\", \"12 05\", \"12 06\", \"12 07\", \"12 08\", \"12 09\", \"12 10\", \"12 11\", \"12 12\", \"12 13\", \"12 14\", \"12 15\", \"12 16\", \"12 17\", \"12 18\", \"12 19\", \"12 20\", \"12 21\", \"12 22\", \"12 23\", \"12 24\", \"12 25\", \"12 26\", \"12 27\", \"12 28\", \"12 29\", \"12 30\", \"12 31\"], \"xaxis\": \"x\", \"y\": [null, null, null, null, null, null, null, null, null, 207.6, 206.1, 208.8, 212.5, 219.2, 224.4, 226.2, 216.3, 205.5, 198.9, 198.8, 203.1, 204.6, 206.7, 197.7, 189.6, 185.1, 192.7, 199.1, 201.6, 204.3, 205.2, 200.3, 196.1, 200.3, 200.3, 203.5, 203.4, 196.2, 195.9, 195.0, 193.2, 191.1, 195.6, 194.3, 196.4, 191.7, 189.3, 187.8, 186.0, 189.4, 183.6, 180.3, 174.0, 169.2, 164.4, 167.0, 171.4, 175.5, 173.0, 167.3, 171.9, 177.7, 180.3, 187.7, 196.3, 194.8, 191.6, 193.7, 198.2, 198.0, 201.8, 202.3, 199.9, 192.7, 189.6, 192.5, 194.3, 195.8, 196.8, 194.6, 183.5, 180.8, 182.8, 184.7, 186.1, 183.6, 184.4, 173.6, 174.3, 182.5, 191.0, 195.5, 193.5, 191.8, 189.9, 188.8, 191.2, 199.5, 201.8, 197.5, 195.8, 192.6, 194.8, 198.3, 200.4, 205.1, 202.3, 201.1, 201.0, 201.6, 200.0, 197.0, 196.2, 191.5, 186.7, 182.0, 178.4, 180.4, 181.4, 183.3, 183.4, 183.8, 182.7, 188.7, 201.1, 209.0, 218.3, 219.4, 216.6, 215.2, 217.7, 223.7, 228.5, 227.6, 219.6, 216.6, 207.8, 209.4, 209.4, 210.3, 212.4, 214.7, 213.9, 216.2, 217.2, 218.1, 224.6, 224.5, 231.3, 227.1, 225.1, 224.4, 225.8, 222.2, 222.6, 225.5, 222.0, 223.4, 220.5, 228.6, 235.0, 241.4, 243.8, 252.8, 250.3, 246.9, 248.6, 245.0, 246.5, 245.0, 237.6, 229.7, 226.1, 225.1, 230.9, 238.2, 239.4, 243.7, 238.4, 239.6, 242.8, 241.4, 247.6, 240.5, 236.6, 229.2, 230.8, 232.6, 240.9, 247.1, 250.5, 256.0, 253.2, 261.1, 265.3, 261.1, 256.4, 252.6, 243.9, 236.2, 229.8, 221.9, 218.0, 214.3, 213.9, 218.1, 218.4, 218.9, 220.3, 217.8, 220.2, 224.9, 224.7, 217.4, 213.4, 210.3, 211.9, 211.6, 211.0, 209.1, 206.9, 199.3, 193.8, 192.2, 189.4, 192.9, 190.9, 184.3, 179.6, 175.2, 172.8, 174.2, 181.2, 183.1, 187.3, 184.6, 182.2, 189.3, 195.7, 201.0, 204.0, 203.0, 203.8, 207.1, 204.6, 210.0, 215.5, 213.8, 219.2, 220.3, 226.4, 231.1, 238.4, 240.8, 241.7, 240.6, 239.5, 241.0, 237.4, 242.1, 235.5, 233.7, 223.4, 218.5, 222.4, 222.8, 225.7, 228.7, 229.5, 222.1, 226.3, 230.8, 236.3, 247.4, 246.1, 242.1, 243.1, 244.8, 245.2, 262.9, 264.9, 263.8, 261.2, 255.2, 254.1, 257.7, 257.8, 257.5, 258.2, 241.2, 238.4, 239.2, 238.4, 238.9, 236.3, 236.9, 231.6, 225.1, 219.9, 219.5, 220.1, 221.9, 224.9, 222.6, 222.9, 215.7, 214.4, 216.3, 223.6, 227.8, 223.7, 219.6, 219.0, 221.2, 230.7, 235.9, 242.6, 240.7, 231.9, 232.8, 234.9, 240.8, 245.1, 248.0, 237.7, 239.5, 235.0, 239.7, 238.4, 242.7, 240.1, 231.2, 226.9, 222.9, 231.0, 231.4, 237.1, 236.1, 236.2, 230.4, 236.6, 245.7, 245.4, 251.5, 248.5, 246.6, 245.5, 248.0, 256.0, 261.2, 265.3, 259.8, 257.2, 244.7, 236.4, 233.8, 234.1, 228.3, 221.5, 207.2, 191.6, 188.7, 185.0, 182.5, 182.9, 175.9], \"yaxis\": \"y\"}, {\"hovertemplate\": \"Ann\\u00e9es=2017<br>datetime=%{x}<br>Nb victimes/jour (MA10)=%{y}<extra></extra>\", \"legendgroup\": \"2017\", \"line\": {\"color\": \"#EF553B\", \"dash\": \"solid\"}, \"mode\": \"lines\", \"name\": \"2017\", \"showlegend\": true, \"type\": \"scattergl\", \"x\": [\"01 01\", \"01 02\", \"01 03\", \"01 04\", \"01 05\", \"01 06\", \"01 07\", \"01 08\", \"01 09\", \"01 10\", \"01 11\", \"01 12\", \"01 13\", \"01 14\", \"01 15\", \"01 16\", \"01 17\", \"01 18\", \"01 19\", \"01 20\", \"01 21\", \"01 22\", \"01 23\", \"01 24\", \"01 25\", \"01 26\", \"01 27\", \"01 28\", \"01 29\", \"01 30\", \"01 31\", \"02 01\", \"02 02\", \"02 03\", \"02 04\", \"02 05\", \"02 06\", \"02 07\", \"02 08\", \"02 09\", \"02 10\", \"02 11\", \"02 12\", \"02 13\", \"02 14\", \"02 15\", \"02 16\", \"02 17\", \"02 18\", \"02 19\", \"02 20\", \"02 21\", \"02 22\", \"02 23\", \"02 24\", \"02 25\", \"02 26\", \"02 27\", \"02 28\", \"02 29\", \"03 01\", \"03 02\", \"03 03\", \"03 04\", \"03 05\", \"03 06\", \"03 07\", \"03 08\", \"03 09\", \"03 10\", \"03 11\", \"03 12\", \"03 13\", \"03 14\", \"03 15\", \"03 16\", \"03 17\", \"03 18\", \"03 19\", \"03 20\", \"03 21\", \"03 22\", \"03 23\", \"03 24\", \"03 25\", \"03 26\", \"03 27\", \"03 28\", \"03 29\", \"03 30\", \"03 31\", \"04 01\", \"04 02\", \"04 03\", \"04 04\", \"04 05\", \"04 06\", \"04 07\", \"04 08\", \"04 09\", \"04 10\", \"04 11\", \"04 12\", \"04 13\", \"04 14\", \"04 15\", \"04 16\", \"04 17\", \"04 18\", \"04 19\", \"04 20\", \"04 21\", \"04 22\", \"04 23\", \"04 24\", \"04 25\", \"04 26\", \"04 27\", \"04 28\", \"04 29\", \"04 30\", \"05 01\", \"05 02\", \"05 03\", \"05 04\", \"05 05\", \"05 06\", \"05 07\", \"05 08\", \"05 09\", \"05 10\", \"05 11\", \"05 12\", \"05 13\", \"05 14\", \"05 15\", \"05 16\", \"05 17\", \"05 18\", \"05 19\", \"05 20\", \"05 21\", \"05 22\", \"05 23\", \"05 24\", \"05 25\", \"05 26\", \"05 27\", \"05 28\", \"05 29\", \"05 30\", \"05 31\", \"06 01\", \"06 02\", \"06 03\", \"06 04\", \"06 05\", \"06 06\", \"06 07\", \"06 08\", \"06 09\", \"06 10\", \"06 11\", \"06 12\", \"06 13\", \"06 14\", \"06 15\", \"06 16\", \"06 17\", \"06 18\", \"06 19\", \"06 20\", \"06 21\", \"06 22\", \"06 23\", \"06 24\", \"06 25\", \"06 26\", \"06 27\", \"06 28\", \"06 29\", \"06 30\", \"07 01\", \"07 02\", \"07 03\", \"07 04\", \"07 05\", \"07 06\", \"07 07\", \"07 08\", \"07 09\", \"07 10\", \"07 11\", \"07 12\", \"07 13\", \"07 14\", \"07 15\", \"07 16\", \"07 17\", \"07 18\", \"07 19\", \"07 20\", \"07 21\", \"07 22\", \"07 23\", \"07 24\", \"07 25\", \"07 26\", \"07 27\", \"07 28\", \"07 29\", \"07 30\", \"07 31\", \"08 01\", \"08 02\", \"08 03\", \"08 04\", \"08 05\", \"08 06\", \"08 07\", \"08 08\", \"08 09\", \"08 10\", \"08 11\", \"08 12\", \"08 13\", \"08 14\", \"08 15\", \"08 16\", \"08 17\", \"08 18\", \"08 19\", \"08 20\", \"08 21\", \"08 22\", \"08 23\", \"08 24\", \"08 25\", \"08 26\", \"08 27\", \"08 28\", \"08 29\", \"08 30\", \"08 31\", \"09 01\", \"09 02\", \"09 03\", \"09 04\", \"09 05\", \"09 06\", \"09 07\", \"09 08\", \"09 09\", \"09 10\", \"09 11\", \"09 12\", \"09 13\", \"09 14\", \"09 15\", \"09 16\", \"09 17\", \"09 18\", \"09 19\", \"09 20\", \"09 21\", \"09 22\", \"09 23\", \"09 24\", \"09 25\", \"09 26\", \"09 27\", \"09 28\", \"09 29\", \"09 30\", \"10 01\", \"10 02\", \"10 03\", \"10 04\", \"10 05\", \"10 06\", \"10 07\", \"10 08\", \"10 09\", \"10 10\", \"10 11\", \"10 12\", \"10 13\", \"10 14\", \"10 15\", \"10 16\", \"10 17\", \"10 18\", \"10 19\", \"10 20\", \"10 21\", \"10 22\", \"10 23\", \"10 24\", \"10 25\", \"10 26\", \"10 27\", \"10 28\", \"10 29\", \"10 30\", \"10 31\", \"11 01\", \"11 02\", \"11 03\", \"11 04\", \"11 05\", \"11 06\", \"11 07\", \"11 08\", \"11 09\", \"11 10\", \"11 11\", \"11 12\", \"11 13\", \"11 14\", \"11 15\", \"11 16\", \"11 17\", \"11 18\", \"11 19\", \"11 20\", \"11 21\", \"11 22\", \"11 23\", \"11 24\", \"11 25\", \"11 26\", \"11 27\", \"11 28\", \"11 29\", \"11 30\", \"12 01\", \"12 02\", \"12 03\", \"12 04\", \"12 05\", \"12 06\", \"12 07\", \"12 08\", \"12 09\", \"12 10\", \"12 11\", \"12 12\", \"12 13\", \"12 14\", \"12 15\", \"12 16\", \"12 17\", \"12 18\", \"12 19\", \"12 20\", \"12 21\", \"12 22\", \"12 23\", \"12 24\", \"12 25\", \"12 26\", \"12 27\", \"12 28\", \"12 29\", \"12 30\", \"12 31\"], \"xaxis\": \"x\", \"y\": [null, null, null, null, null, null, null, null, null, 191.2, 192.4, 198.0, 199.4, 200.6, 194.3, 194.7, 192.9, 191.8, 190.8, 191.6, 193.1, 188.7, 186.5, 182.6, 184.0, 185.1, 189.6, 192.9, 192.7, 190.7, 186.8, 188.5, 190.2, 196.2, 202.3, 198.3, 193.8, 193.2, 192.6, 192.2, 197.3, 191.8, 190.6, 182.1, 178.2, 181.4, 184.4, 187.3, 193.4, 192.0, 182.3, 188.2, 182.9, 185.5, 190.0, 187.1, 184.8, 178.5, 177.0, 160.3, 168.8, 172.5, 181.8, 181.9, 175.4, 176.9, 174.8, 176.4, 172.6, 200.4, 206.3, 202.4, 198.5, 202.8, 206.5, 215.9, 221.9, 224.8, 225.7, 214.5, 208.7, 208.6, 208.2, 205.8, 210.3, 203.2, 208.0, 210.8, 216.2, 225.0, 228.2, 227.5, 226.6, 225.8, 220.1, 222.9, 220.6, 232.6, 236.3, 239.7, 236.2, 239.6, 243.4, 246.7, 253.3, 248.7, 244.8, 228.6, 220.5, 212.2, 214.2, 219.5, 221.2, 219.7, 217.0, 217.0, 218.2, 219.7, 221.0, 226.0, 224.5, 211.4, 210.4, 209.5, 205.4, 207.6, 209.1, 208.2, 202.6, 201.7, 202.0, 204.1, 201.5, 202.4, 205.4, 204.7, 207.3, 213.1, 218.7, 220.6, 223.2, 231.4, 230.5, 234.4, 239.1, 240.2, 242.3, 239.8, 245.7, 242.6, 238.1, 236.9, 240.0, 245.3, 243.0, 241.1, 229.9, 231.6, 230.5, 232.2, 238.9, 244.9, 246.2, 242.6, 245.0, 253.4, 260.3, 265.1, 267.4, 270.2, 272.2, 269.4, 272.4, 270.2, 275.1, 273.5, 279.7, 274.4, 268.6, 265.7, 262.6, 261.6, 260.5, 262.7, 258.2, 257.8, 258.6, 261.9, 268.2, 268.2, 272.4, 273.2, 270.6, 265.8, 265.4, 259.9, 256.6, 253.9, 253.4, 249.7, 239.6, 237.3, 236.1, 235.9, 228.5, 230.4, 223.4, 215.8, 209.3, 209.8, 213.3, 212.9, 208.2, 205.3, 207.0, 203.9, 204.8, 209.2, 210.1, 209.4, 209.4, 206.0, 208.0, 205.1, 206.9, 204.2, 204.7, 199.3, 192.7, 189.8, 188.1, 188.8, 186.2, 186.4, 185.7, 185.9, 184.1, 188.8, 192.6, 191.5, 188.5, 189.4, 190.0, 197.3, 200.4, 203.4, 202.7, 199.4, 200.8, 201.6, 205.8, 208.6, 215.5, 210.2, 203.7, 204.4, 208.4, 212.7, 216.6, 223.6, 221.3, 219.2, 215.2, 221.1, 229.0, 234.6, 240.0, 238.2, 232.7, 232.4, 237.4, 235.1, 247.0, 250.9, 244.3, 238.9, 237.6, 241.1, 245.1, 246.0, 245.0, 246.1, 233.7, 229.1, 229.4, 229.0, 234.2, 237.4, 237.9, 233.7, 235.4, 239.2, 239.8, 246.0, 248.6, 246.3, 234.0, 229.0, 226.5, 228.8, 228.5, 224.7, 219.4, 210.2, 207.6, 209.9, 208.8, 205.6, 204.2, 204.9, 201.1, 202.5, 209.3, 209.9, 217.8, 222.2, 227.7, 227.9, 230.1, 227.6, 229.7, 234.6, 234.3, 232.7, 225.5, 221.3, 221.5, 221.9, 225.1, 230.8, 224.3, 221.2, 225.3, 228.2, 230.6, 234.8, 233.9, 232.0, 229.1, 223.9, 228.4, 228.0, 231.9, 233.5, 228.4, 230.0, 232.5, 236.2, 236.2, 239.7, 239.7, 235.8, 231.4, 229.6, 231.6, 229.4, 228.9, 227.1, 218.4, 205.5, 199.4, 194.9, 185.7, 178.2, 175.6, 161.6], \"yaxis\": \"y\"}, {\"hovertemplate\": \"Ann\\u00e9es=2018<br>datetime=%{x}<br>Nb victimes/jour (MA10)=%{y}<extra></extra>\", \"legendgroup\": \"2018\", \"line\": {\"color\": \"#00cc96\", \"dash\": \"solid\"}, \"mode\": \"lines\", \"name\": \"2018\", \"showlegend\": true, \"type\": \"scattergl\", \"x\": [\"01 01\", \"01 02\", \"01 03\", \"01 04\", \"01 05\", \"01 06\", \"01 07\", \"01 08\", \"01 09\", \"01 10\", \"01 11\", \"01 12\", \"01 13\", \"01 14\", \"01 15\", \"01 16\", \"01 17\", \"01 18\", \"01 19\", \"01 20\", \"01 21\", \"01 22\", \"01 23\", \"01 24\", \"01 25\", \"01 26\", \"01 27\", \"01 28\", \"01 29\", \"01 30\", \"01 31\", \"02 01\", \"02 02\", \"02 03\", \"02 04\", \"02 05\", \"02 06\", \"02 07\", \"02 08\", \"02 09\", \"02 10\", \"02 11\", \"02 12\", \"02 13\", \"02 14\", \"02 15\", \"02 16\", \"02 17\", \"02 18\", \"02 19\", \"02 20\", \"02 21\", \"02 22\", \"02 23\", \"02 24\", \"02 25\", \"02 26\", \"02 27\", \"02 28\", \"02 29\", \"03 01\", \"03 02\", \"03 03\", \"03 04\", \"03 05\", \"03 06\", \"03 07\", \"03 08\", \"03 09\", \"03 10\", \"03 11\", \"03 12\", \"03 13\", \"03 14\", \"03 15\", \"03 16\", \"03 17\", \"03 18\", \"03 19\", \"03 20\", \"03 21\", \"03 22\", \"03 23\", \"03 24\", \"03 25\", \"03 26\", \"03 27\", \"03 28\", \"03 29\", \"03 30\", \"03 31\", \"04 01\", \"04 02\", \"04 03\", \"04 04\", \"04 05\", \"04 06\", \"04 07\", \"04 08\", \"04 09\", \"04 10\", \"04 11\", \"04 12\", \"04 13\", \"04 14\", \"04 15\", \"04 16\", \"04 17\", \"04 18\", \"04 19\", \"04 20\", \"04 21\", \"04 22\", \"04 23\", \"04 24\", \"04 25\", \"04 26\", \"04 27\", \"04 28\", \"04 29\", \"04 30\", \"05 01\", \"05 02\", \"05 03\", \"05 04\", \"05 05\", \"05 06\", \"05 07\", \"05 08\", \"05 09\", \"05 10\", \"05 11\", \"05 12\", \"05 13\", \"05 14\", \"05 15\", \"05 16\", \"05 17\", \"05 18\", \"05 19\", \"05 20\", \"05 21\", \"05 22\", \"05 23\", \"05 24\", \"05 25\", \"05 26\", \"05 27\", \"05 28\", \"05 29\", \"05 30\", \"05 31\", \"06 01\", \"06 02\", \"06 03\", \"06 04\", \"06 05\", \"06 06\", \"06 07\", \"06 08\", \"06 09\", \"06 10\", \"06 11\", \"06 12\", \"06 13\", \"06 14\", \"06 15\", \"06 16\", \"06 17\", \"06 18\", \"06 19\", \"06 20\", \"06 21\", \"06 22\", \"06 23\", \"06 24\", \"06 25\", \"06 26\", \"06 27\", \"06 28\", \"06 29\", \"06 30\", \"07 01\", \"07 02\", \"07 03\", \"07 04\", \"07 05\", \"07 06\", \"07 07\", \"07 08\", \"07 09\", \"07 10\", \"07 11\", \"07 12\", \"07 13\", \"07 14\", \"07 15\", \"07 16\", \"07 17\", \"07 18\", \"07 19\", \"07 20\", \"07 21\", \"07 22\", \"07 23\", \"07 24\", \"07 25\", \"07 26\", \"07 27\", \"07 28\", \"07 29\", \"07 30\", \"07 31\", \"08 01\", \"08 02\", \"08 03\", \"08 04\", \"08 05\", \"08 06\", \"08 07\", \"08 08\", \"08 09\", \"08 10\", \"08 11\", \"08 12\", \"08 13\", \"08 14\", \"08 15\", \"08 16\", \"08 17\", \"08 18\", \"08 19\", \"08 20\", \"08 21\", \"08 22\", \"08 23\", \"08 24\", \"08 25\", \"08 26\", \"08 27\", \"08 28\", \"08 29\", \"08 30\", \"08 31\", \"09 01\", \"09 02\", \"09 03\", \"09 04\", \"09 05\", \"09 06\", \"09 07\", \"09 08\", \"09 09\", \"09 10\", \"09 11\", \"09 12\", \"09 13\", \"09 14\", \"09 15\", \"09 16\", \"09 17\", \"09 18\", \"09 19\", \"09 20\", \"09 21\", \"09 22\", \"09 23\", \"09 24\", \"09 25\", \"09 26\", \"09 27\", \"09 28\", \"09 29\", \"09 30\", \"10 01\", \"10 02\", \"10 03\", \"10 04\", \"10 05\", \"10 06\", \"10 07\", \"10 08\", \"10 09\", \"10 10\", \"10 11\", \"10 12\", \"10 13\", \"10 14\", \"10 15\", \"10 16\", \"10 17\", \"10 18\", \"10 19\", \"10 20\", \"10 21\", \"10 22\", \"10 23\", \"10 24\", \"10 25\", \"10 26\", \"10 27\", \"10 28\", \"10 29\", \"10 30\", \"10 31\", \"11 01\", \"11 02\", \"11 03\", \"11 04\", \"11 05\", \"11 06\", \"11 07\", \"11 08\", \"11 09\", \"11 10\", \"11 11\", \"11 12\", \"11 13\", \"11 14\", \"11 15\", \"11 16\", \"11 17\", \"11 18\", \"11 19\", \"11 20\", \"11 21\", \"11 22\", \"11 23\", \"11 24\", \"11 25\", \"11 26\", \"11 27\", \"11 28\", \"11 29\", \"11 30\", \"12 01\", \"12 02\", \"12 03\", \"12 04\", \"12 05\", \"12 06\", \"12 07\", \"12 08\", \"12 09\", \"12 10\", \"12 11\", \"12 12\", \"12 13\", \"12 14\", \"12 15\", \"12 16\", \"12 17\", \"12 18\", \"12 19\", \"12 20\", \"12 21\", \"12 22\", \"12 23\", \"12 24\", \"12 25\", \"12 26\", \"12 27\", \"12 28\", \"12 29\", \"12 30\", \"12 31\"], \"xaxis\": \"x\", \"y\": [null, null, null, null, null, null, null, null, null, 161.7, 164.3, 170.1, 176.7, 178.0, 173.2, 181.1, 186.1, 189.8, 194.7, 197.7, 190.1, 187.0, 184.6, 189.5, 197.8, 200.1, 198.8, 195.4, 189.5, 183.8, 186.5, 191.3, 195.0, 194.1, 187.5, 179.2, 177.8, 172.8, 168.6, 163.9, 164.4, 155.6, 155.1, 153.8, 151.9, 152.0, 160.0, 167.4, 169.5, 172.3, 170.2, 171.6, 168.3, 168.9, 168.6, 168.4, 154.9, 148.4, 146.1, 131.0, 129.6, 134.3, 135.6, 133.6, 134.6, 138.5, 145.2, 149.4, 157.0, 175.0, 176.5, 174.0, 173.2, 174.2, 179.2, 181.6, 185.7, 184.2, 179.2, 175.4, 178.6, 176.0, 179.3, 180.4, 178.0, 172.3, 166.8, 170.9, 173.4, 178.7, 179.6, 180.4, 172.5, 174.5, 171.6, 174.4, 192.5, 195.9, 195.9, 194.8, 194.3, 199.4, 210.2, 212.8, 220.7, 222.7, 208.7, 207.6, 215.6, 222.4, 230.2, 235.6, 236.7, 228.4, 229.3, 231.3, 233.1, 234.8, 229.2, 220.5, 213.9, 203.0, 198.9, 200.5, 201.8, 210.3, 213.2, 212.0, 207.5, 213.8, 210.5, 214.3, 215.2, 213.4, 210.1, 200.9, 196.3, 195.5, 210.9, 212.9, 219.1, 214.9, 218.4, 222.4, 222.7, 231.4, 238.2, 237.5, 226.0, 227.0, 226.0, 233.3, 229.7, 234.3, 233.6, 223.4, 220.1, 221.9, 222.2, 223.6, 224.2, 224.1, 218.9, 214.1, 213.5, 216.8, 221.2, 224.6, 228.4, 222.9, 223.4, 227.5, 238.6, 249.9, 255.4, 255.8, 253.8, 256.5, 261.4, 265.0, 271.4, 270.7, 267.6, 258.8, 253.7, 258.3, 256.6, 255.9, 255.8, 255.9, 252.2, 254.3, 257.6, 261.7, 265.8, 259.7, 262.4, 255.3, 244.9, 241.6, 236.5, 233.1, 226.7, 221.9, 215.6, 212.8, 206.6, 208.4, 213.6, 211.0, 210.1, 203.0, 203.7, 202.4, 207.6, 212.1, 214.2, 210.8, 204.2, 202.9, 201.5, 198.8, 199.6, 200.9, 197.7, 189.9, 188.3, 186.8, 190.1, 189.7, 192.5, 196.1, 192.6, 189.3, 182.1, 182.7, 182.0, 185.7, 185.0, 184.0, 181.7, 180.2, 178.5, 182.1, 191.5, 196.4, 195.5, 197.1, 198.0, 203.5, 213.5, 221.6, 224.3, 222.5, 229.1, 230.9, 233.2, 236.0, 242.4, 244.9, 239.3, 237.8, 239.8, 245.2, 246.2, 244.8, 244.8, 242.6, 241.0, 238.1, 240.6, 245.5, 249.3, 247.2, 242.0, 240.0, 243.1, 245.3, 250.6, 256.6, 252.0, 240.1, 238.2, 240.1, 243.9, 254.0, 257.3, 248.1, 238.7, 236.1, 240.0, 245.5, 250.0, 246.8, 239.8, 230.2, 226.2, 227.3, 227.4, 226.7, 227.7, 223.7, 216.9, 215.2, 214.0, 213.7, 211.3, 213.6, 210.3, 203.8, 203.8, 208.2, 207.5, 209.6, 214.0, 212.9, 213.5, 216.2, 216.7, 219.6, 219.5, 220.3, 218.3, 216.7, 211.4, 211.7, 206.9, 209.6, 209.1, 210.3, 200.3, 194.5, 197.1, 195.8, 207.0, 213.1, 215.3, 211.6, 217.1, 215.0, 220.4, 224.6, 225.1, 223.6, 212.7, 209.9, 211.8, 214.3, 216.1, 216.1, 214.6, 215.3, 216.9, 219.4, 222.2, 232.7, 234.5, 227.0, 216.2, 208.1, 203.1, 196.3, 189.7, 183.7, 173.1, 151.9], \"yaxis\": \"y\"}, {\"hovertemplate\": \"Ann\\u00e9es=2019<br>datetime=%{x}<br>Nb victimes/jour (MA10)=%{y}<extra></extra>\", \"legendgroup\": \"2019\", \"line\": {\"color\": \"#ab63fa\", \"dash\": \"solid\"}, \"mode\": \"lines\", \"name\": \"2019\", \"showlegend\": true, \"type\": \"scattergl\", \"x\": [\"01 01\", \"01 02\", \"01 03\", \"01 04\", \"01 05\", \"01 06\", \"01 07\", \"01 08\", \"01 09\", \"01 10\", \"01 11\", \"01 12\", \"01 13\", \"01 14\", \"01 15\", \"01 16\", \"01 17\", \"01 18\", \"01 19\", \"01 20\", \"01 21\", \"01 22\", \"01 23\", \"01 24\", \"01 25\", \"01 26\", \"01 27\", \"01 28\", \"01 29\", \"01 30\", \"01 31\", \"02 01\", \"02 02\", \"02 03\", \"02 04\", \"02 05\", \"02 06\", \"02 07\", \"02 08\", \"02 09\", \"02 10\", \"02 11\", \"02 12\", \"02 13\", \"02 14\", \"02 15\", \"02 16\", \"02 17\", \"02 18\", \"02 19\", \"02 20\", \"02 21\", \"02 22\", \"02 23\", \"02 24\", \"02 25\", \"02 26\", \"02 27\", \"02 28\", \"02 29\", \"03 01\", \"03 02\", \"03 03\", \"03 04\", \"03 05\", \"03 06\", \"03 07\", \"03 08\", \"03 09\", \"03 10\", \"03 11\", \"03 12\", \"03 13\", \"03 14\", \"03 15\", \"03 16\", \"03 17\", \"03 18\", \"03 19\", \"03 20\", \"03 21\", \"03 22\", \"03 23\", \"03 24\", \"03 25\", \"03 26\", \"03 27\", \"03 28\", \"03 29\", \"03 30\", \"03 31\", \"04 01\", \"04 02\", \"04 03\", \"04 04\", \"04 05\", \"04 06\", \"04 07\", \"04 08\", \"04 09\", \"04 10\", \"04 11\", \"04 12\", \"04 13\", \"04 14\", \"04 15\", \"04 16\", \"04 17\", \"04 18\", \"04 19\", \"04 20\", \"04 21\", \"04 22\", \"04 23\", \"04 24\", \"04 25\", \"04 26\", \"04 27\", \"04 28\", \"04 29\", \"04 30\", \"05 01\", \"05 02\", \"05 03\", \"05 04\", \"05 05\", \"05 06\", \"05 07\", \"05 08\", \"05 09\", \"05 10\", \"05 11\", \"05 12\", \"05 13\", \"05 14\", \"05 15\", \"05 16\", \"05 17\", \"05 18\", \"05 19\", \"05 20\", \"05 21\", \"05 22\", \"05 23\", \"05 24\", \"05 25\", \"05 26\", \"05 27\", \"05 28\", \"05 29\", \"05 30\", \"05 31\", \"06 01\", \"06 02\", \"06 03\", \"06 04\", \"06 05\", \"06 06\", \"06 07\", \"06 08\", \"06 09\", \"06 10\", \"06 11\", \"06 12\", \"06 13\", \"06 14\", \"06 15\", \"06 16\", \"06 17\", \"06 18\", \"06 19\", \"06 20\", \"06 21\", \"06 22\", \"06 23\", \"06 24\", \"06 25\", \"06 26\", \"06 27\", \"06 28\", \"06 29\", \"06 30\", \"07 01\", \"07 02\", \"07 03\", \"07 04\", \"07 05\", \"07 06\", \"07 07\", \"07 08\", \"07 09\", \"07 10\", \"07 11\", \"07 12\", \"07 13\", \"07 14\", \"07 15\", \"07 16\", \"07 17\", \"07 18\", \"07 19\", \"07 20\", \"07 21\", \"07 22\", \"07 23\", \"07 24\", \"07 25\", \"07 26\", \"07 27\", \"07 28\", \"07 29\", \"07 30\", \"07 31\", \"08 01\", \"08 02\", \"08 03\", \"08 04\", \"08 05\", \"08 06\", \"08 07\", \"08 08\", \"08 09\", \"08 10\", \"08 11\", \"08 12\", \"08 13\", \"08 14\", \"08 15\", \"08 16\", \"08 17\", \"08 18\", \"08 19\", \"08 20\", \"08 21\", \"08 22\", \"08 23\", \"08 24\", \"08 25\", \"08 26\", \"08 27\", \"08 28\", \"08 29\", \"08 30\", \"08 31\", \"09 01\", \"09 02\", \"09 03\", \"09 04\", \"09 05\", \"09 06\", \"09 07\", \"09 08\", \"09 09\", \"09 10\", \"09 11\", \"09 12\", \"09 13\", \"09 14\", \"09 15\", \"09 16\", \"09 17\", \"09 18\", \"09 19\", \"09 20\", \"09 21\", \"09 22\", \"09 23\", \"09 24\", \"09 25\", \"09 26\", \"09 27\", \"09 28\", \"09 29\", \"09 30\", \"10 01\", \"10 02\", \"10 03\", \"10 04\", \"10 05\", \"10 06\", \"10 07\", \"10 08\", \"10 09\", \"10 10\", \"10 11\", \"10 12\", \"10 13\", \"10 14\", \"10 15\", \"10 16\", \"10 17\", \"10 18\", \"10 19\", \"10 20\", \"10 21\", \"10 22\", \"10 23\", \"10 24\", \"10 25\", \"10 26\", \"10 27\", \"10 28\", \"10 29\", \"10 30\", \"10 31\", \"11 01\", \"11 02\", \"11 03\", \"11 04\", \"11 05\", \"11 06\", \"11 07\", \"11 08\", \"11 09\", \"11 10\", \"11 11\", \"11 12\", \"11 13\", \"11 14\", \"11 15\", \"11 16\", \"11 17\", \"11 18\", \"11 19\", \"11 20\", \"11 21\", \"11 22\", \"11 23\", \"11 24\", \"11 25\", \"11 26\", \"11 27\", \"11 28\", \"11 29\", \"11 30\", \"12 01\", \"12 02\", \"12 03\", \"12 04\", \"12 05\", \"12 06\", \"12 07\", \"12 08\", \"12 09\", \"12 10\", \"12 11\", \"12 12\", \"12 13\", \"12 14\", \"12 15\", \"12 16\", \"12 17\", \"12 18\", \"12 19\", \"12 20\", \"12 21\", \"12 22\", \"12 23\", \"12 24\", \"12 25\", \"12 26\", \"12 27\", \"12 28\", \"12 29\", \"12 30\", \"12 31\"], \"xaxis\": \"x\", \"y\": [null, null, null, null, null, null, null, null, null, 162.8, 169.3, 175.5, 176.9, 178.6, 182.7, 188.8, 193.5, 200.5, 199.7, 194.7, 190.3, 186.4, 185.8, 185.2, 186.0, 187.0, 182.6, 172.8, 171.4, 177.3, 175.0, 183.1, 185.9, 183.3, 179.0, 176.6, 179.5, 186.2, 192.0, 192.6, 192.9, 185.3, 186.7, 192.1, 197.1, 207.2, 213.8, 209.3, 203.4, 200.9, 200.6, 203.2, 206.8, 207.6, 203.2, 196.7, 191.9, 192.0, 191.9, 175.4, 176.6, 173.9, 167.2, 162.7, 163.0, 160.3, 157.2, 158.4, 158.7, 176.5, 173.7, 175.7, 177.5, 178.7, 182.4, 186.4, 186.5, 184.9, 186.4, 186.6, 192.5, 200.5, 208.8, 209.2, 207.5, 206.2, 212.2, 213.5, 219.6, 225.5, 230.6, 222.3, 216.7, 215.9, 220.8, 223.9, 221.4, 218.2, 210.7, 204.9, 200.5, 203.1, 205.7, 212.3, 206.5, 199.1, 196.8, 201.3, 205.2, 212.5, 216.5, 213.0, 207.2, 200.8, 200.8, 201.9, 208.1, 204.5, 199.5, 191.1, 186.2, 189.5, 193.9, 194.4, 193.7, 192.2, 187.2, 189.7, 190.6, 191.8, 192.6, 191.8, 190.7, 197.3, 203.7, 209.6, 209.5, 209.6, 210.6, 211.8, 207.6, 205.4, 204.6, 200.7, 202.2, 203.8, 206.3, 207.0, 207.3, 211.6, 214.0, 220.0, 225.4, 228.6, 222.5, 219.7, 221.4, 223.2, 230.4, 229.5, 232.7, 226.1, 223.2, 222.3, 223.8, 227.8, 225.9, 231.0, 228.9, 229.6, 226.3, 231.8, 240.6, 245.9, 248.8, 247.6, 247.8, 245.7, 247.0, 255.4, 262.0, 268.1, 260.9, 260.6, 263.8, 269.3, 278.9, 282.7, 286.8, 277.6, 277.3, 272.8, 272.3, 272.5, 270.0, 265.7, 256.9, 251.0, 246.7, 245.5, 242.7, 245.1, 243.1, 231.0, 226.2, 224.3, 223.9, 225.6, 224.4, 218.5, 215.0, 209.6, 205.7, 209.4, 214.9, 210.8, 206.9, 201.5, 196.7, 200.0, 198.0, 201.0, 205.6, 204.5, 195.9, 194.9, 195.1, 189.0, 188.0, 193.2, 196.0, 187.9, 184.7, 182.2, 187.2, 189.8, 192.3, 201.2, 200.2, 193.3, 191.6, 196.0, 201.8, 212.7, 210.0, 209.2, 208.5, 207.0, 210.1, 221.5, 230.8, 230.9, 225.5, 219.0, 224.7, 227.8, 236.7, 241.3, 247.6, 240.8, 234.4, 237.5, 243.2, 251.9, 248.9, 248.4, 239.6, 234.3, 230.0, 229.2, 230.1, 232.0, 228.0, 221.5, 220.4, 220.9, 220.9, 227.8, 233.3, 237.1, 235.7, 234.7, 236.5, 238.1, 246.3, 243.4, 247.5, 240.8, 234.2, 229.1, 230.8, 232.7, 232.0, 234.9, 225.3, 227.7, 222.4, 224.5, 227.2, 234.6, 233.7, 226.2, 223.0, 212.9, 215.8, 216.4, 219.4, 217.2, 218.9, 214.0, 213.1, 216.9, 220.4, 224.6, 218.8, 211.7, 212.9, 212.5, 206.7, 212.5, 211.4, 202.3, 200.6, 201.1, 202.3, 208.0, 210.9, 212.1, 211.2, 206.0, 204.5, 212.5, 210.2, 213.2, 216.9, 215.1, 213.4, 217.2, 225.2, 225.2, 233.6, 236.0, 239.7, 240.0, 244.4, 247.4, 250.4, 254.0, 248.6, 247.0, 240.8, 237.8, 240.0, 237.3, 243.5, 241.5, 230.1, 223.0, 222.2, 213.1, 208.8, 204.5, 197.6, 190.2, 173.8, 168.8], \"yaxis\": \"y\"}],                        {\"legend\": {\"title\": {\"text\": \"Ann\\u00e9es\"}, \"tracegroupgap\": 0}, \"template\": {\"data\": {\"bar\": [{\"error_x\": {\"color\": \"#2a3f5f\"}, \"error_y\": {\"color\": \"#2a3f5f\"}, \"marker\": {\"line\": {\"color\": \"#E5ECF6\", \"width\": 0.5}}, \"type\": \"bar\"}], \"barpolar\": [{\"marker\": {\"line\": {\"color\": \"#E5ECF6\", \"width\": 0.5}}, \"type\": \"barpolar\"}], \"carpet\": [{\"aaxis\": {\"endlinecolor\": \"#2a3f5f\", \"gridcolor\": \"white\", \"linecolor\": \"white\", \"minorgridcolor\": \"white\", \"startlinecolor\": \"#2a3f5f\"}, \"baxis\": {\"endlinecolor\": \"#2a3f5f\", \"gridcolor\": \"white\", \"linecolor\": \"white\", \"minorgridcolor\": \"white\", \"startlinecolor\": \"#2a3f5f\"}, \"type\": \"carpet\"}], \"choropleth\": [{\"colorbar\": {\"outlinewidth\": 0, \"ticks\": \"\"}, \"type\": \"choropleth\"}], \"contour\": [{\"colorbar\": {\"outlinewidth\": 0, \"ticks\": \"\"}, \"colorscale\": [[0.0, \"#0d0887\"], [0.1111111111111111, \"#46039f\"], [0.2222222222222222, \"#7201a8\"], [0.3333333333333333, \"#9c179e\"], [0.4444444444444444, \"#bd3786\"], [0.5555555555555556, \"#d8576b\"], [0.6666666666666666, \"#ed7953\"], [0.7777777777777778, \"#fb9f3a\"], [0.8888888888888888, \"#fdca26\"], [1.0, \"#f0f921\"]], \"type\": \"contour\"}], \"contourcarpet\": [{\"colorbar\": {\"outlinewidth\": 0, \"ticks\": \"\"}, \"type\": \"contourcarpet\"}], \"heatmap\": [{\"colorbar\": {\"outlinewidth\": 0, \"ticks\": \"\"}, \"colorscale\": [[0.0, \"#0d0887\"], [0.1111111111111111, \"#46039f\"], [0.2222222222222222, \"#7201a8\"], [0.3333333333333333, \"#9c179e\"], [0.4444444444444444, \"#bd3786\"], [0.5555555555555556, \"#d8576b\"], [0.6666666666666666, \"#ed7953\"], [0.7777777777777778, \"#fb9f3a\"], [0.8888888888888888, \"#fdca26\"], [1.0, \"#f0f921\"]], \"type\": \"heatmap\"}], \"heatmapgl\": [{\"colorbar\": {\"outlinewidth\": 0, \"ticks\": \"\"}, \"colorscale\": [[0.0, \"#0d0887\"], [0.1111111111111111, \"#46039f\"], [0.2222222222222222, \"#7201a8\"], [0.3333333333333333, \"#9c179e\"], [0.4444444444444444, \"#bd3786\"], [0.5555555555555556, \"#d8576b\"], [0.6666666666666666, \"#ed7953\"], [0.7777777777777778, \"#fb9f3a\"], [0.8888888888888888, \"#fdca26\"], [1.0, \"#f0f921\"]], \"type\": \"heatmapgl\"}], \"histogram\": [{\"marker\": {\"colorbar\": {\"outlinewidth\": 0, \"ticks\": \"\"}}, \"type\": \"histogram\"}], \"histogram2d\": [{\"colorbar\": {\"outlinewidth\": 0, \"ticks\": \"\"}, \"colorscale\": [[0.0, \"#0d0887\"], [0.1111111111111111, \"#46039f\"], [0.2222222222222222, \"#7201a8\"], [0.3333333333333333, \"#9c179e\"], [0.4444444444444444, \"#bd3786\"], [0.5555555555555556, \"#d8576b\"], [0.6666666666666666, \"#ed7953\"], [0.7777777777777778, \"#fb9f3a\"], [0.8888888888888888, \"#fdca26\"], [1.0, \"#f0f921\"]], \"type\": \"histogram2d\"}], \"histogram2dcontour\": [{\"colorbar\": {\"outlinewidth\": 0, \"ticks\": \"\"}, \"colorscale\": [[0.0, \"#0d0887\"], [0.1111111111111111, \"#46039f\"], [0.2222222222222222, \"#7201a8\"], [0.3333333333333333, \"#9c179e\"], [0.4444444444444444, \"#bd3786\"], [0.5555555555555556, \"#d8576b\"], [0.6666666666666666, \"#ed7953\"], [0.7777777777777778, \"#fb9f3a\"], [0.8888888888888888, \"#fdca26\"], [1.0, \"#f0f921\"]], \"type\": \"histogram2dcontour\"}], \"mesh3d\": [{\"colorbar\": {\"outlinewidth\": 0, \"ticks\": \"\"}, \"type\": \"mesh3d\"}], \"parcoords\": [{\"line\": {\"colorbar\": {\"outlinewidth\": 0, \"ticks\": \"\"}}, \"type\": \"parcoords\"}], \"pie\": [{\"automargin\": true, \"type\": \"pie\"}], \"scatter\": [{\"marker\": {\"colorbar\": {\"outlinewidth\": 0, \"ticks\": \"\"}}, \"type\": \"scatter\"}], \"scatter3d\": [{\"line\": {\"colorbar\": {\"outlinewidth\": 0, \"ticks\": \"\"}}, \"marker\": {\"colorbar\": {\"outlinewidth\": 0, \"ticks\": \"\"}}, \"type\": \"scatter3d\"}], \"scattercarpet\": [{\"marker\": {\"colorbar\": {\"outlinewidth\": 0, \"ticks\": \"\"}}, \"type\": \"scattercarpet\"}], \"scattergeo\": [{\"marker\": {\"colorbar\": {\"outlinewidth\": 0, \"ticks\": \"\"}}, \"type\": \"scattergeo\"}], \"scattergl\": [{\"marker\": {\"colorbar\": {\"outlinewidth\": 0, \"ticks\": \"\"}}, \"type\": \"scattergl\"}], \"scattermapbox\": [{\"marker\": {\"colorbar\": {\"outlinewidth\": 0, \"ticks\": \"\"}}, \"type\": \"scattermapbox\"}], \"scatterpolar\": [{\"marker\": {\"colorbar\": {\"outlinewidth\": 0, \"ticks\": \"\"}}, \"type\": \"scatterpolar\"}], \"scatterpolargl\": [{\"marker\": {\"colorbar\": {\"outlinewidth\": 0, \"ticks\": \"\"}}, \"type\": \"scatterpolargl\"}], \"scatterternary\": [{\"marker\": {\"colorbar\": {\"outlinewidth\": 0, \"ticks\": \"\"}}, \"type\": \"scatterternary\"}], \"surface\": [{\"colorbar\": {\"outlinewidth\": 0, \"ticks\": \"\"}, \"colorscale\": [[0.0, \"#0d0887\"], [0.1111111111111111, \"#46039f\"], [0.2222222222222222, \"#7201a8\"], [0.3333333333333333, \"#9c179e\"], [0.4444444444444444, \"#bd3786\"], [0.5555555555555556, \"#d8576b\"], [0.6666666666666666, \"#ed7953\"], [0.7777777777777778, \"#fb9f3a\"], [0.8888888888888888, \"#fdca26\"], [1.0, \"#f0f921\"]], \"type\": \"surface\"}], \"table\": [{\"cells\": {\"fill\": {\"color\": \"#EBF0F8\"}, \"line\": {\"color\": \"white\"}}, \"header\": {\"fill\": {\"color\": \"#C8D4E3\"}, \"line\": {\"color\": \"white\"}}, \"type\": \"table\"}]}, \"layout\": {\"annotationdefaults\": {\"arrowcolor\": \"#2a3f5f\", \"arrowhead\": 0, \"arrowwidth\": 1}, \"autotypenumbers\": \"strict\", \"coloraxis\": {\"colorbar\": {\"outlinewidth\": 0, \"ticks\": \"\"}}, \"colorscale\": {\"diverging\": [[0, \"#8e0152\"], [0.1, \"#c51b7d\"], [0.2, \"#de77ae\"], [0.3, \"#f1b6da\"], [0.4, \"#fde0ef\"], [0.5, \"#f7f7f7\"], [0.6, \"#e6f5d0\"], [0.7, \"#b8e186\"], [0.8, \"#7fbc41\"], [0.9, \"#4d9221\"], [1, \"#276419\"]], \"sequential\": [[0.0, \"#0d0887\"], [0.1111111111111111, \"#46039f\"], [0.2222222222222222, \"#7201a8\"], [0.3333333333333333, \"#9c179e\"], [0.4444444444444444, \"#bd3786\"], [0.5555555555555556, \"#d8576b\"], [0.6666666666666666, \"#ed7953\"], [0.7777777777777778, \"#fb9f3a\"], [0.8888888888888888, \"#fdca26\"], [1.0, \"#f0f921\"]], \"sequentialminus\": [[0.0, \"#0d0887\"], [0.1111111111111111, \"#46039f\"], [0.2222222222222222, \"#7201a8\"], [0.3333333333333333, \"#9c179e\"], [0.4444444444444444, \"#bd3786\"], [0.5555555555555556, \"#d8576b\"], [0.6666666666666666, \"#ed7953\"], [0.7777777777777778, \"#fb9f3a\"], [0.8888888888888888, \"#fdca26\"], [1.0, \"#f0f921\"]]}, \"colorway\": [\"#636efa\", \"#EF553B\", \"#00cc96\", \"#ab63fa\", \"#FFA15A\", \"#19d3f3\", \"#FF6692\", \"#B6E880\", \"#FF97FF\", \"#FECB52\"], \"font\": {\"color\": \"#2a3f5f\"}, \"geo\": {\"bgcolor\": \"white\", \"lakecolor\": \"white\", \"landcolor\": \"#E5ECF6\", \"showlakes\": true, \"showland\": true, \"subunitcolor\": \"white\"}, \"hoverlabel\": {\"align\": \"left\"}, \"hovermode\": \"closest\", \"mapbox\": {\"style\": \"light\"}, \"paper_bgcolor\": \"white\", \"plot_bgcolor\": \"#E5ECF6\", \"polar\": {\"angularaxis\": {\"gridcolor\": \"white\", \"linecolor\": \"white\", \"ticks\": \"\"}, \"bgcolor\": \"#E5ECF6\", \"radialaxis\": {\"gridcolor\": \"white\", \"linecolor\": \"white\", \"ticks\": \"\"}}, \"scene\": {\"xaxis\": {\"backgroundcolor\": \"#E5ECF6\", \"gridcolor\": \"white\", \"gridwidth\": 2, \"linecolor\": \"white\", \"showbackground\": true, \"ticks\": \"\", \"zerolinecolor\": \"white\"}, \"yaxis\": {\"backgroundcolor\": \"#E5ECF6\", \"gridcolor\": \"white\", \"gridwidth\": 2, \"linecolor\": \"white\", \"showbackground\": true, \"ticks\": \"\", \"zerolinecolor\": \"white\"}, \"zaxis\": {\"backgroundcolor\": \"#E5ECF6\", \"gridcolor\": \"white\", \"gridwidth\": 2, \"linecolor\": \"white\", \"showbackground\": true, \"ticks\": \"\", \"zerolinecolor\": \"white\"}}, \"shapedefaults\": {\"line\": {\"color\": \"#2a3f5f\"}}, \"ternary\": {\"aaxis\": {\"gridcolor\": \"white\", \"linecolor\": \"white\", \"ticks\": \"\"}, \"baxis\": {\"gridcolor\": \"white\", \"linecolor\": \"white\", \"ticks\": \"\"}, \"bgcolor\": \"#E5ECF6\", \"caxis\": {\"gridcolor\": \"white\", \"linecolor\": \"white\", \"ticks\": \"\"}}, \"title\": {\"x\": 0.05}, \"xaxis\": {\"automargin\": true, \"gridcolor\": \"white\", \"linecolor\": \"white\", \"ticks\": \"\", \"title\": {\"standoff\": 15}, \"zerolinecolor\": \"white\", \"zerolinewidth\": 2}, \"yaxis\": {\"automargin\": true, \"gridcolor\": \"white\", \"linecolor\": \"white\", \"ticks\": \"\", \"title\": {\"standoff\": 15}, \"zerolinecolor\": \"white\", \"zerolinewidth\": 2}}}, \"title\": {\"text\": \"Evolution du nombre (liss\\u00e9) quotidien de victimes d'accidents au fil de l'ann\\u00e9e\"}, \"xaxis\": {\"anchor\": \"y\", \"domain\": [0.0, 1.0], \"title\": {\"text\": \"datetime\"}}, \"yaxis\": {\"anchor\": \"x\", \"domain\": [0.0, 1.0], \"title\": {\"text\": \"Nb victimes/jour (MA10)\"}}},                        {\"responsive\": true}                    ).then(function(){\n",
       "                            \n",
       "var gd = document.getElementById('82faa7d2-d6f0-4c30-a678-0b9a56c877b3');\n",
       "var x = new MutationObserver(function (mutations, observer) {{\n",
       "        var display = window.getComputedStyle(gd).display;\n",
       "        if (!display || display === 'none') {{\n",
       "            console.log([gd, 'removed!']);\n",
       "            Plotly.purge(gd);\n",
       "            observer.disconnect();\n",
       "        }}\n",
       "}});\n",
       "\n",
       "// Listen for the removal of the full notebook cells\n",
       "var notebookContainer = gd.closest('#notebook-container');\n",
       "if (notebookContainer) {{\n",
       "    x.observe(notebookContainer, {childList: true});\n",
       "}}\n",
       "\n",
       "// Listen for the clearing of the current output cell\n",
       "var outputEl = gd.closest('.output');\n",
       "if (outputEl) {{\n",
       "    x.observe(outputEl, {childList: true});\n",
       "}}\n",
       "\n",
       "                        })                };                });            </script>        </div>"
      ]
     },
     "metadata": {},
     "output_type": "display_data"
    }
   ],
   "source": [
    "pd.crosstab(index=victims['datetime'].dt.strftime('%m %d'),\n",
    "           columns=victims['year'])\\\n",
    "    .rolling(10).mean()\\\n",
    "    .plot.line(backend='plotly', \n",
    "               labels={\n",
    "                   'year': 'Années',\n",
    "                   'value': \"Nb victimes/jour (MA10)\",\n",
    "               },\n",
    "               title=\"Evolution du nombre (lissé) quotidien de victimes d'accidents au fil de l'année\")"
   ]
  },
  {
   "cell_type": "markdown",
   "metadata": {},
   "source": [
    "#### Evolution du nombre quotidien d'accidents"
   ]
  },
  {
   "cell_type": "code",
   "execution_count": 217,
   "metadata": {
    "ExecuteTime": {
     "end_time": "2020-12-28T13:16:54.417500Z",
     "start_time": "2020-12-28T13:16:52.463727Z"
    }
   },
   "outputs": [],
   "source": [
    "def build_accidents_count(caracs, users):\n",
    "    victims = acc.build_victims_dataset(caracs, users)\n",
    "\n",
    "    victims['date'] = victims['datetime'].dt.date\n",
    "\n",
    "    victims_by_date = victims.groupby(by=['date']).count().reset_index()\\\n",
    "        .loc[:, ['date', 'Num_Acc']].rename({'Num_Acc': 'nb_victims'}, axis=1)\n",
    "\n",
    "    acc_cnt_by_date = victims.groupby(by=['date', 'Num_Acc']).count().reset_index()\\\n",
    "        .groupby(by=['date']).count().reset_index()\\\n",
    "        .loc[:, ['date', 'Num_Acc']].rename({'Num_Acc': 'nb_accidents'}, axis=1)\n",
    "\n",
    "    accidents_by_date = pd.merge(acc_cnt_by_date, victims_by_date, on='date')\n",
    "    accidents_by_date['date'] = accidents_by_date['date'].astype('datetime64')\n",
    "    accidents_by_date['victs_per_acc'] = accidents_by_date['nb_victims'] / accidents_by_date['nb_accidents']\n",
    "    accidents_by_date['weekday'] = accidents_by_date['date'].dt.weekday\n",
    "    \n",
    "    return accidents_by_date\n",
    "\n",
    "accidents_by_date = build_accidents_count(caracs, users)"
   ]
  },
  {
   "cell_type": "code",
   "execution_count": 207,
   "metadata": {
    "ExecuteTime": {
     "end_time": "2020-12-28T13:12:22.793254Z",
     "start_time": "2020-12-28T13:12:22.645238Z"
    },
    "scrolled": true
   },
   "outputs": [
    {
     "name": "stderr",
     "output_type": "stream",
     "text": [
      "c:\\users\\thomas.marquis\\.conda\\envs\\secu_route\\lib\\site-packages\\pandas\\core\\indexing.py:1715: SettingWithCopyWarning:\n",
      "\n",
      "\n",
      "A value is trying to be set on a copy of a slice from a DataFrame.\n",
      "Try using .loc[row_indexer,col_indexer] = value instead\n",
      "\n",
      "See the caveats in the documentation: https://pandas.pydata.org/pandas-docs/stable/user_guide/indexing.html#returning-a-view-versus-a-copy\n",
      "\n"
     ]
    },
    {
     "data": {
      "application/vnd.plotly.v1+json": {
       "config": {
        "plotlyServerURL": "https://plot.ly"
       },
       "data": [
        {
         "hovertemplate": "variable=nb_victims<br>date=%{x}<br>value=%{y}<extra></extra>",
         "legendgroup": "nb_victims",
         "line": {
          "color": "#636efa",
          "dash": "solid"
         },
         "mode": "lines",
         "name": "nb_victims",
         "orientation": "v",
         "showlegend": true,
         "type": "scatter",
         "x": [
          "2018-01-01T00:00:00",
          "2018-01-02T00:00:00",
          "2018-01-03T00:00:00",
          "2018-01-04T00:00:00",
          "2018-01-05T00:00:00",
          "2018-01-06T00:00:00",
          "2018-01-07T00:00:00",
          "2018-01-08T00:00:00",
          "2018-01-09T00:00:00",
          "2018-01-10T00:00:00",
          "2018-01-11T00:00:00",
          "2018-01-12T00:00:00",
          "2018-01-13T00:00:00",
          "2018-01-14T00:00:00",
          "2018-01-15T00:00:00",
          "2018-01-16T00:00:00",
          "2018-01-17T00:00:00",
          "2018-01-18T00:00:00",
          "2018-01-19T00:00:00",
          "2018-01-20T00:00:00",
          "2018-01-21T00:00:00",
          "2018-01-22T00:00:00",
          "2018-01-23T00:00:00",
          "2018-01-24T00:00:00",
          "2018-01-25T00:00:00",
          "2018-01-26T00:00:00",
          "2018-01-27T00:00:00",
          "2018-01-28T00:00:00",
          "2018-01-29T00:00:00",
          "2018-01-30T00:00:00",
          "2018-01-31T00:00:00",
          "2018-02-01T00:00:00",
          "2018-02-02T00:00:00",
          "2018-02-03T00:00:00",
          "2018-02-04T00:00:00",
          "2018-02-05T00:00:00",
          "2018-02-06T00:00:00",
          "2018-02-07T00:00:00",
          "2018-02-08T00:00:00",
          "2018-02-09T00:00:00",
          "2018-02-10T00:00:00",
          "2018-02-11T00:00:00",
          "2018-02-12T00:00:00",
          "2018-02-13T00:00:00",
          "2018-02-14T00:00:00",
          "2018-02-15T00:00:00",
          "2018-02-16T00:00:00",
          "2018-02-17T00:00:00",
          "2018-02-18T00:00:00",
          "2018-02-19T00:00:00",
          "2018-02-20T00:00:00",
          "2018-02-21T00:00:00",
          "2018-02-22T00:00:00",
          "2018-02-23T00:00:00",
          "2018-02-24T00:00:00",
          "2018-02-25T00:00:00",
          "2018-02-26T00:00:00",
          "2018-02-27T00:00:00",
          "2018-02-28T00:00:00",
          "2018-03-01T00:00:00",
          "2018-03-02T00:00:00",
          "2018-03-03T00:00:00",
          "2018-03-04T00:00:00",
          "2018-03-05T00:00:00",
          "2018-03-06T00:00:00",
          "2018-03-07T00:00:00",
          "2018-03-08T00:00:00",
          "2018-03-09T00:00:00",
          "2018-03-10T00:00:00",
          "2018-03-11T00:00:00",
          "2018-03-12T00:00:00",
          "2018-03-13T00:00:00",
          "2018-03-14T00:00:00",
          "2018-03-15T00:00:00",
          "2018-03-16T00:00:00",
          "2018-03-17T00:00:00",
          "2018-03-18T00:00:00",
          "2018-03-19T00:00:00",
          "2018-03-20T00:00:00",
          "2018-03-21T00:00:00",
          "2018-03-22T00:00:00",
          "2018-03-23T00:00:00",
          "2018-03-24T00:00:00",
          "2018-03-25T00:00:00",
          "2018-03-26T00:00:00",
          "2018-03-27T00:00:00",
          "2018-03-28T00:00:00",
          "2018-03-29T00:00:00",
          "2018-03-30T00:00:00",
          "2018-03-31T00:00:00",
          "2018-04-01T00:00:00",
          "2018-04-02T00:00:00",
          "2018-04-03T00:00:00",
          "2018-04-04T00:00:00",
          "2018-04-05T00:00:00",
          "2018-04-06T00:00:00",
          "2018-04-07T00:00:00",
          "2018-04-08T00:00:00",
          "2018-04-09T00:00:00",
          "2018-04-10T00:00:00",
          "2018-04-11T00:00:00",
          "2018-04-12T00:00:00",
          "2018-04-13T00:00:00",
          "2018-04-14T00:00:00",
          "2018-04-15T00:00:00",
          "2018-04-16T00:00:00",
          "2018-04-17T00:00:00",
          "2018-04-18T00:00:00",
          "2018-04-19T00:00:00",
          "2018-04-20T00:00:00",
          "2018-04-21T00:00:00",
          "2018-04-22T00:00:00",
          "2018-04-23T00:00:00",
          "2018-04-24T00:00:00",
          "2018-04-25T00:00:00",
          "2018-04-26T00:00:00",
          "2018-04-27T00:00:00",
          "2018-04-28T00:00:00",
          "2018-04-29T00:00:00",
          "2018-04-30T00:00:00",
          "2018-05-01T00:00:00",
          "2018-05-02T00:00:00",
          "2018-05-03T00:00:00",
          "2018-05-04T00:00:00",
          "2018-05-05T00:00:00",
          "2018-05-06T00:00:00",
          "2018-05-07T00:00:00",
          "2018-05-08T00:00:00",
          "2018-05-09T00:00:00",
          "2018-05-10T00:00:00",
          "2018-05-11T00:00:00",
          "2018-05-12T00:00:00",
          "2018-05-13T00:00:00",
          "2018-05-14T00:00:00",
          "2018-05-15T00:00:00",
          "2018-05-16T00:00:00",
          "2018-05-17T00:00:00",
          "2018-05-18T00:00:00",
          "2018-05-19T00:00:00",
          "2018-05-20T00:00:00",
          "2018-05-21T00:00:00",
          "2018-05-22T00:00:00",
          "2018-05-23T00:00:00",
          "2018-05-24T00:00:00",
          "2018-05-25T00:00:00",
          "2018-05-26T00:00:00",
          "2018-05-27T00:00:00",
          "2018-05-28T00:00:00",
          "2018-05-29T00:00:00",
          "2018-05-30T00:00:00",
          "2018-05-31T00:00:00",
          "2018-06-01T00:00:00",
          "2018-06-02T00:00:00",
          "2018-06-03T00:00:00",
          "2018-06-04T00:00:00",
          "2018-06-05T00:00:00",
          "2018-06-06T00:00:00",
          "2018-06-07T00:00:00",
          "2018-06-08T00:00:00",
          "2018-06-09T00:00:00",
          "2018-06-10T00:00:00",
          "2018-06-11T00:00:00",
          "2018-06-12T00:00:00",
          "2018-06-13T00:00:00",
          "2018-06-14T00:00:00",
          "2018-06-15T00:00:00",
          "2018-06-16T00:00:00",
          "2018-06-17T00:00:00",
          "2018-06-18T00:00:00",
          "2018-06-19T00:00:00",
          "2018-06-20T00:00:00",
          "2018-06-21T00:00:00",
          "2018-06-22T00:00:00",
          "2018-06-23T00:00:00",
          "2018-06-24T00:00:00",
          "2018-06-25T00:00:00",
          "2018-06-26T00:00:00",
          "2018-06-27T00:00:00",
          "2018-06-28T00:00:00",
          "2018-06-29T00:00:00",
          "2018-06-30T00:00:00",
          "2018-07-01T00:00:00",
          "2018-07-02T00:00:00",
          "2018-07-03T00:00:00",
          "2018-07-04T00:00:00",
          "2018-07-05T00:00:00",
          "2018-07-06T00:00:00",
          "2018-07-07T00:00:00",
          "2018-07-08T00:00:00",
          "2018-07-09T00:00:00",
          "2018-07-10T00:00:00",
          "2018-07-11T00:00:00",
          "2018-07-12T00:00:00",
          "2018-07-13T00:00:00",
          "2018-07-14T00:00:00",
          "2018-07-15T00:00:00",
          "2018-07-16T00:00:00",
          "2018-07-17T00:00:00",
          "2018-07-18T00:00:00",
          "2018-07-19T00:00:00",
          "2018-07-20T00:00:00",
          "2018-07-21T00:00:00",
          "2018-07-22T00:00:00",
          "2018-07-23T00:00:00",
          "2018-07-24T00:00:00",
          "2018-07-25T00:00:00",
          "2018-07-26T00:00:00",
          "2018-07-27T00:00:00",
          "2018-07-28T00:00:00",
          "2018-07-29T00:00:00",
          "2018-07-30T00:00:00",
          "2018-07-31T00:00:00",
          "2018-08-01T00:00:00",
          "2018-08-02T00:00:00",
          "2018-08-03T00:00:00",
          "2018-08-04T00:00:00",
          "2018-08-05T00:00:00",
          "2018-08-06T00:00:00",
          "2018-08-07T00:00:00",
          "2018-08-08T00:00:00",
          "2018-08-09T00:00:00",
          "2018-08-10T00:00:00",
          "2018-08-11T00:00:00",
          "2018-08-12T00:00:00",
          "2018-08-13T00:00:00",
          "2018-08-14T00:00:00",
          "2018-08-15T00:00:00",
          "2018-08-16T00:00:00",
          "2018-08-17T00:00:00",
          "2018-08-18T00:00:00",
          "2018-08-19T00:00:00",
          "2018-08-20T00:00:00",
          "2018-08-21T00:00:00",
          "2018-08-22T00:00:00",
          "2018-08-23T00:00:00",
          "2018-08-24T00:00:00",
          "2018-08-25T00:00:00",
          "2018-08-26T00:00:00",
          "2018-08-27T00:00:00",
          "2018-08-28T00:00:00",
          "2018-08-29T00:00:00",
          "2018-08-30T00:00:00",
          "2018-08-31T00:00:00",
          "2018-09-01T00:00:00",
          "2018-09-02T00:00:00",
          "2018-09-03T00:00:00",
          "2018-09-04T00:00:00",
          "2018-09-05T00:00:00",
          "2018-09-06T00:00:00",
          "2018-09-07T00:00:00",
          "2018-09-08T00:00:00",
          "2018-09-09T00:00:00",
          "2018-09-10T00:00:00",
          "2018-09-11T00:00:00",
          "2018-09-12T00:00:00",
          "2018-09-13T00:00:00",
          "2018-09-14T00:00:00",
          "2018-09-15T00:00:00",
          "2018-09-16T00:00:00",
          "2018-09-17T00:00:00",
          "2018-09-18T00:00:00",
          "2018-09-19T00:00:00",
          "2018-09-20T00:00:00",
          "2018-09-21T00:00:00",
          "2018-09-22T00:00:00",
          "2018-09-23T00:00:00",
          "2018-09-24T00:00:00",
          "2018-09-25T00:00:00",
          "2018-09-26T00:00:00",
          "2018-09-27T00:00:00",
          "2018-09-28T00:00:00",
          "2018-09-29T00:00:00",
          "2018-09-30T00:00:00",
          "2018-10-01T00:00:00",
          "2018-10-02T00:00:00",
          "2018-10-03T00:00:00",
          "2018-10-04T00:00:00",
          "2018-10-05T00:00:00",
          "2018-10-06T00:00:00",
          "2018-10-07T00:00:00",
          "2018-10-08T00:00:00",
          "2018-10-09T00:00:00",
          "2018-10-10T00:00:00",
          "2018-10-11T00:00:00",
          "2018-10-12T00:00:00",
          "2018-10-13T00:00:00",
          "2018-10-14T00:00:00",
          "2018-10-15T00:00:00",
          "2018-10-16T00:00:00",
          "2018-10-17T00:00:00",
          "2018-10-18T00:00:00",
          "2018-10-19T00:00:00",
          "2018-10-20T00:00:00",
          "2018-10-21T00:00:00",
          "2018-10-22T00:00:00",
          "2018-10-23T00:00:00",
          "2018-10-24T00:00:00",
          "2018-10-25T00:00:00",
          "2018-10-26T00:00:00",
          "2018-10-27T00:00:00",
          "2018-10-28T00:00:00",
          "2018-10-29T00:00:00",
          "2018-10-30T00:00:00",
          "2018-10-31T00:00:00",
          "2018-11-01T00:00:00",
          "2018-11-02T00:00:00",
          "2018-11-03T00:00:00",
          "2018-11-04T00:00:00",
          "2018-11-05T00:00:00",
          "2018-11-06T00:00:00",
          "2018-11-07T00:00:00",
          "2018-11-08T00:00:00",
          "2018-11-09T00:00:00",
          "2018-11-10T00:00:00",
          "2018-11-11T00:00:00",
          "2018-11-12T00:00:00",
          "2018-11-13T00:00:00",
          "2018-11-14T00:00:00",
          "2018-11-15T00:00:00",
          "2018-11-16T00:00:00",
          "2018-11-17T00:00:00",
          "2018-11-18T00:00:00",
          "2018-11-19T00:00:00",
          "2018-11-20T00:00:00",
          "2018-11-21T00:00:00",
          "2018-11-22T00:00:00",
          "2018-11-23T00:00:00",
          "2018-11-24T00:00:00",
          "2018-11-25T00:00:00",
          "2018-11-26T00:00:00",
          "2018-11-27T00:00:00",
          "2018-11-28T00:00:00",
          "2018-11-29T00:00:00",
          "2018-11-30T00:00:00",
          "2018-12-01T00:00:00",
          "2018-12-02T00:00:00",
          "2018-12-03T00:00:00",
          "2018-12-04T00:00:00",
          "2018-12-05T00:00:00",
          "2018-12-06T00:00:00",
          "2018-12-07T00:00:00",
          "2018-12-08T00:00:00",
          "2018-12-09T00:00:00",
          "2018-12-10T00:00:00",
          "2018-12-11T00:00:00",
          "2018-12-12T00:00:00",
          "2018-12-13T00:00:00",
          "2018-12-14T00:00:00",
          "2018-12-15T00:00:00",
          "2018-12-16T00:00:00",
          "2018-12-17T00:00:00",
          "2018-12-18T00:00:00",
          "2018-12-19T00:00:00",
          "2018-12-20T00:00:00",
          "2018-12-21T00:00:00",
          "2018-12-22T00:00:00",
          "2018-12-23T00:00:00",
          "2018-12-24T00:00:00",
          "2018-12-25T00:00:00",
          "2018-12-26T00:00:00",
          "2018-12-27T00:00:00",
          "2018-12-28T00:00:00",
          "2018-12-29T00:00:00",
          "2018-12-30T00:00:00",
          "2018-12-31T00:00:00"
         ],
         "xaxis": "x",
         "y": [
          null,
          null,
          null,
          null,
          null,
          null,
          254.28571428571428,
          258.2857142857143,
          267,
          285.7142857142857,
          303,
          304.57142857142856,
          315.85714285714283,
          324.7142857142857,
          318.57142857142856,
          324.7142857142857,
          321.42857142857144,
          319.42857142857144,
          325.57142857142856,
          336,
          329.7142857142857,
          345.42857142857144,
          333.85714285714283,
          340.42857142857144,
          347.2857142857143,
          348,
          335.42857142857144,
          342.7142857142857,
          334.57142857142856,
          341.57142857142856,
          329,
          329.85714285714283,
          322,
          327.42857142857144,
          326.14285714285717,
          320.42857142857144,
          314.14285714285717,
          302.7142857142857,
          274.14285714285717,
          251.14285714285714,
          243.28571428571428,
          236.71428571428572,
          248.28571428571428,
          256,
          262,
          271.14285714285717,
          302.42857142857144,
          309.85714285714283,
          312.7142857142857,
          301.14285714285717,
          285.57142857142856,
          290,
          289.85714285714283,
          280,
          266.2857142857143,
          266.42857142857144,
          254.14285714285714,
          252.28571428571428,
          243,
          234.85714285714286,
          235.57142857142858,
          245.14285714285714,
          251.42857142857142,
          261.42857142857144,
          273.2857142857143,
          283.7142857142857,
          296.85714285714283,
          295.57142857142856,
          297.2857142857143,
          288.42857142857144,
          298.42857142857144,
          300.85714285714283,
          306.14285714285717,
          312.7142857142857,
          316.14285714285717,
          321.57142857142856,
          325.42857142857144,
          315.57142857142856,
          305,
          303.7142857142857,
          290.14285714285717,
          284,
          284,
          287.57142857142856,
          290.14285714285717,
          291.85714285714283,
          298.7142857142857,
          306.85714285714283,
          311.42857142857144,
          306,
          303.57142857142856,
          293.57142857142856,
          309.85714285714283,
          297,
          296.42857142857144,
          326.2857142857143,
          337,
          343,
          357.2857142857143,
          348.57142857142856,
          361.57142857142856,
          375.85714285714283,
          358.85714285714283,
          355.57142857142856,
          357,
          359.85714285714283,
          374,
          383.85714285714283,
          388.42857142857144,
          389.7142857142857,
          405.7142857142857,
          416.7142857142857,
          413.42857142857144,
          413.7142857142857,
          407.57142857142856,
          395.42857142857144,
          390.57142857142856,
          371.85714285714283,
          356.57142857142856,
          360.2857142857143,
          338.57142857142856,
          331.2857142857143,
          325.14285714285717,
          327.2857142857143,
          353.7142857142857,
          368.14285714285717,
          376.2857142857143,
          375.2857142857143,
          380.42857142857144,
          372.42857142857144,
          362.42857142857144,
          334.85714285714283,
          315.42857142857144,
          315.2857142857143,
          333.42857142857144,
          324,
          340.14285714285717,
          368,
          377.2857142857143,
          392.85714285714283,
          377.85714285714283,
          382,
          385.85714285714283,
          385.57142857142856,
          379,
          385.85714285714283,
          384.85714285714283,
          395.42857142857144,
          395.7142857142857,
          400.14285714285717,
          401.42857142857144,
          379.57142857142856,
          373,
          369,
          369.14285714285717,
          366.14285714285717,
          375.14285714285717,
          373.14285714285717,
          389.42857142857144,
          384.7142857142857,
          391.57142857142856,
          387.57142857142856,
          381.85714285714283,
          373.14285714285717,
          375.7142857142857,
          374,
          384.2857142857143,
          384.42857142857144,
          393.7142857142857,
          400,
          411.57142857142856,
          422.2857142857143,
          434.2857142857143,
          437.42857142857144,
          442.2857142857143,
          453.14285714285717,
          473.7142857142857,
          486.14285714285717,
          482.14285714285717,
          475.57142857142856,
          473.42857142857144,
          469.85714285714283,
          459.14285714285717,
          434.2857142857143,
          425.57142857142856,
          422.42857142857144,
          413.57142857142856,
          418.85714285714283,
          420.57142857142856,
          429.14285714285717,
          449.2857142857143,
          443,
          449.57142857142856,
          447.57142857142856,
          431.57142857142856,
          436.42857142857144,
          422.57142857142856,
          396.42857142857144,
          389,
          371.57142857142856,
          367.42857142857144,
          364.2857142857143,
          352.7142857142857,
          352,
          355,
          352,
          362.85714285714283,
          359.2857142857143,
          354.14285714285717,
          345.85714285714283,
          342.2857142857143,
          344.14285714285717,
          346.2857142857143,
          344,
          347.7142857142857,
          358.85714285714283,
          360.85714285714283,
          356.85714285714283,
          352.2857142857143,
          344.7142857142857,
          321.2857142857143,
          315.14285714285717,
          312.57142857142856,
          318.57142857142856,
          317.57142857142856,
          322.14285714285717,
          317.7142857142857,
          333.42857142857144,
          323.42857142857144,
          319.42857142857144,
          316,
          321.7142857142857,
          312.7142857142857,
          307,
          299.42857142857144,
          305.7142857142857,
          309.85714285714283,
          312.7142857142857,
          310.7142857142857,
          314.7142857142857,
          320.7142857142857,
          321.7142857142857,
          330.42857142857144,
          334.7142857142857,
          339.57142857142856,
          343.14285714285717,
          354.42857142857144,
          365.85714285714283,
          382,
          394.14285714285717,
          397.2857142857143,
          392.14285714285717,
          394.57142857142856,
          413.2857142857143,
          419.42857142857144,
          417.42857142857144,
          414.2857142857143,
          416.2857142857143,
          423.14285714285717,
          432.42857142857144,
          417,
          412.2857142857143,
          419.57142857142856,
          428.2857142857143,
          423.42857142857144,
          419,
          418.85714285714283,
          426,
          428,
          431.2857142857143,
          427.85714285714283,
          431.85714285714283,
          435.7142857142857,
          441.2857142857143,
          424.85714285714283,
          433.14285714285717,
          431,
          442.7142857142857,
          445.2857142857143,
          440.14285714285717,
          419.2857142857143,
          430.57142857142856,
          431.14285714285717,
          439,
          432.7142857142857,
          432.7142857142857,
          423.14285714285717,
          432.14285714285717,
          431.2857142857143,
          426.57142857142856,
          411.14285714285717,
          408.14285714285717,
          399.7142857142857,
          409.7142857142857,
          406.7142857142857,
          404.85714285714283,
          389.57142857142856,
          385.2857142857143,
          375,
          380.2857142857143,
          372.85714285714283,
          374.85714285714283,
          371.42857142857144,
          383.57142857142856,
          377.57142857142856,
          368.85714285714283,
          357.85714285714283,
          356.42857142857144,
          351,
          356.2857142857143,
          355.7142857142857,
          364.14285714285717,
          369,
          378.7142857142857,
          380.7142857142857,
          388.85714285714283,
          383.85714285714283,
          375.2857142857143,
          372.14285714285717,
          377.85714285714283,
          372.42857142857144,
          372.42857142857144,
          370.42857142857144,
          365.85714285714283,
          364.14285714285717,
          353.7142857142857,
          349.57142857142856,
          339.42857142857144,
          346.57142857142856,
          334.7142857142857,
          327.7142857142857,
          334.14285714285717,
          339,
          353,
          368.7142857142857,
          362.57142857142856,
          377.57142857142856,
          393.7142857142857,
          394.14285714285717,
          397.57142857142856,
          380.14285714285717,
          368.14285714285717,
          365.42857142857144,
          361,
          358.2857142857143,
          357.85714285714283,
          366.42857142857144,
          370.7142857142857,
          368.57142857142856,
          373.85714285714283,
          381.14285714285717,
          377.2857142857143,
          378.14285714285717,
          376.57142857142856,
          397.85714285714283,
          406,
          405.57142857142856,
          381.14285714285717,
          357.14285714285717,
          336.85714285714283,
          315.2857142857143,
          271.85714285714283,
          256.14285714285717,
          241.42857142857142,
          237.42857142857142
         ],
         "yaxis": "y"
        },
        {
         "hovertemplate": "variable=nb_accidents<br>date=%{x}<br>value=%{y}<extra></extra>",
         "legendgroup": "nb_accidents",
         "line": {
          "color": "#EF553B",
          "dash": "solid"
         },
         "mode": "lines",
         "name": "nb_accidents",
         "orientation": "v",
         "showlegend": true,
         "type": "scatter",
         "x": [
          "2018-01-01T00:00:00",
          "2018-01-02T00:00:00",
          "2018-01-03T00:00:00",
          "2018-01-04T00:00:00",
          "2018-01-05T00:00:00",
          "2018-01-06T00:00:00",
          "2018-01-07T00:00:00",
          "2018-01-08T00:00:00",
          "2018-01-09T00:00:00",
          "2018-01-10T00:00:00",
          "2018-01-11T00:00:00",
          "2018-01-12T00:00:00",
          "2018-01-13T00:00:00",
          "2018-01-14T00:00:00",
          "2018-01-15T00:00:00",
          "2018-01-16T00:00:00",
          "2018-01-17T00:00:00",
          "2018-01-18T00:00:00",
          "2018-01-19T00:00:00",
          "2018-01-20T00:00:00",
          "2018-01-21T00:00:00",
          "2018-01-22T00:00:00",
          "2018-01-23T00:00:00",
          "2018-01-24T00:00:00",
          "2018-01-25T00:00:00",
          "2018-01-26T00:00:00",
          "2018-01-27T00:00:00",
          "2018-01-28T00:00:00",
          "2018-01-29T00:00:00",
          "2018-01-30T00:00:00",
          "2018-01-31T00:00:00",
          "2018-02-01T00:00:00",
          "2018-02-02T00:00:00",
          "2018-02-03T00:00:00",
          "2018-02-04T00:00:00",
          "2018-02-05T00:00:00",
          "2018-02-06T00:00:00",
          "2018-02-07T00:00:00",
          "2018-02-08T00:00:00",
          "2018-02-09T00:00:00",
          "2018-02-10T00:00:00",
          "2018-02-11T00:00:00",
          "2018-02-12T00:00:00",
          "2018-02-13T00:00:00",
          "2018-02-14T00:00:00",
          "2018-02-15T00:00:00",
          "2018-02-16T00:00:00",
          "2018-02-17T00:00:00",
          "2018-02-18T00:00:00",
          "2018-02-19T00:00:00",
          "2018-02-20T00:00:00",
          "2018-02-21T00:00:00",
          "2018-02-22T00:00:00",
          "2018-02-23T00:00:00",
          "2018-02-24T00:00:00",
          "2018-02-25T00:00:00",
          "2018-02-26T00:00:00",
          "2018-02-27T00:00:00",
          "2018-02-28T00:00:00",
          "2018-03-01T00:00:00",
          "2018-03-02T00:00:00",
          "2018-03-03T00:00:00",
          "2018-03-04T00:00:00",
          "2018-03-05T00:00:00",
          "2018-03-06T00:00:00",
          "2018-03-07T00:00:00",
          "2018-03-08T00:00:00",
          "2018-03-09T00:00:00",
          "2018-03-10T00:00:00",
          "2018-03-11T00:00:00",
          "2018-03-12T00:00:00",
          "2018-03-13T00:00:00",
          "2018-03-14T00:00:00",
          "2018-03-15T00:00:00",
          "2018-03-16T00:00:00",
          "2018-03-17T00:00:00",
          "2018-03-18T00:00:00",
          "2018-03-19T00:00:00",
          "2018-03-20T00:00:00",
          "2018-03-21T00:00:00",
          "2018-03-22T00:00:00",
          "2018-03-23T00:00:00",
          "2018-03-24T00:00:00",
          "2018-03-25T00:00:00",
          "2018-03-26T00:00:00",
          "2018-03-27T00:00:00",
          "2018-03-28T00:00:00",
          "2018-03-29T00:00:00",
          "2018-03-30T00:00:00",
          "2018-03-31T00:00:00",
          "2018-04-01T00:00:00",
          "2018-04-02T00:00:00",
          "2018-04-03T00:00:00",
          "2018-04-04T00:00:00",
          "2018-04-05T00:00:00",
          "2018-04-06T00:00:00",
          "2018-04-07T00:00:00",
          "2018-04-08T00:00:00",
          "2018-04-09T00:00:00",
          "2018-04-10T00:00:00",
          "2018-04-11T00:00:00",
          "2018-04-12T00:00:00",
          "2018-04-13T00:00:00",
          "2018-04-14T00:00:00",
          "2018-04-15T00:00:00",
          "2018-04-16T00:00:00",
          "2018-04-17T00:00:00",
          "2018-04-18T00:00:00",
          "2018-04-19T00:00:00",
          "2018-04-20T00:00:00",
          "2018-04-21T00:00:00",
          "2018-04-22T00:00:00",
          "2018-04-23T00:00:00",
          "2018-04-24T00:00:00",
          "2018-04-25T00:00:00",
          "2018-04-26T00:00:00",
          "2018-04-27T00:00:00",
          "2018-04-28T00:00:00",
          "2018-04-29T00:00:00",
          "2018-04-30T00:00:00",
          "2018-05-01T00:00:00",
          "2018-05-02T00:00:00",
          "2018-05-03T00:00:00",
          "2018-05-04T00:00:00",
          "2018-05-05T00:00:00",
          "2018-05-06T00:00:00",
          "2018-05-07T00:00:00",
          "2018-05-08T00:00:00",
          "2018-05-09T00:00:00",
          "2018-05-10T00:00:00",
          "2018-05-11T00:00:00",
          "2018-05-12T00:00:00",
          "2018-05-13T00:00:00",
          "2018-05-14T00:00:00",
          "2018-05-15T00:00:00",
          "2018-05-16T00:00:00",
          "2018-05-17T00:00:00",
          "2018-05-18T00:00:00",
          "2018-05-19T00:00:00",
          "2018-05-20T00:00:00",
          "2018-05-21T00:00:00",
          "2018-05-22T00:00:00",
          "2018-05-23T00:00:00",
          "2018-05-24T00:00:00",
          "2018-05-25T00:00:00",
          "2018-05-26T00:00:00",
          "2018-05-27T00:00:00",
          "2018-05-28T00:00:00",
          "2018-05-29T00:00:00",
          "2018-05-30T00:00:00",
          "2018-05-31T00:00:00",
          "2018-06-01T00:00:00",
          "2018-06-02T00:00:00",
          "2018-06-03T00:00:00",
          "2018-06-04T00:00:00",
          "2018-06-05T00:00:00",
          "2018-06-06T00:00:00",
          "2018-06-07T00:00:00",
          "2018-06-08T00:00:00",
          "2018-06-09T00:00:00",
          "2018-06-10T00:00:00",
          "2018-06-11T00:00:00",
          "2018-06-12T00:00:00",
          "2018-06-13T00:00:00",
          "2018-06-14T00:00:00",
          "2018-06-15T00:00:00",
          "2018-06-16T00:00:00",
          "2018-06-17T00:00:00",
          "2018-06-18T00:00:00",
          "2018-06-19T00:00:00",
          "2018-06-20T00:00:00",
          "2018-06-21T00:00:00",
          "2018-06-22T00:00:00",
          "2018-06-23T00:00:00",
          "2018-06-24T00:00:00",
          "2018-06-25T00:00:00",
          "2018-06-26T00:00:00",
          "2018-06-27T00:00:00",
          "2018-06-28T00:00:00",
          "2018-06-29T00:00:00",
          "2018-06-30T00:00:00",
          "2018-07-01T00:00:00",
          "2018-07-02T00:00:00",
          "2018-07-03T00:00:00",
          "2018-07-04T00:00:00",
          "2018-07-05T00:00:00",
          "2018-07-06T00:00:00",
          "2018-07-07T00:00:00",
          "2018-07-08T00:00:00",
          "2018-07-09T00:00:00",
          "2018-07-10T00:00:00",
          "2018-07-11T00:00:00",
          "2018-07-12T00:00:00",
          "2018-07-13T00:00:00",
          "2018-07-14T00:00:00",
          "2018-07-15T00:00:00",
          "2018-07-16T00:00:00",
          "2018-07-17T00:00:00",
          "2018-07-18T00:00:00",
          "2018-07-19T00:00:00",
          "2018-07-20T00:00:00",
          "2018-07-21T00:00:00",
          "2018-07-22T00:00:00",
          "2018-07-23T00:00:00",
          "2018-07-24T00:00:00",
          "2018-07-25T00:00:00",
          "2018-07-26T00:00:00",
          "2018-07-27T00:00:00",
          "2018-07-28T00:00:00",
          "2018-07-29T00:00:00",
          "2018-07-30T00:00:00",
          "2018-07-31T00:00:00",
          "2018-08-01T00:00:00",
          "2018-08-02T00:00:00",
          "2018-08-03T00:00:00",
          "2018-08-04T00:00:00",
          "2018-08-05T00:00:00",
          "2018-08-06T00:00:00",
          "2018-08-07T00:00:00",
          "2018-08-08T00:00:00",
          "2018-08-09T00:00:00",
          "2018-08-10T00:00:00",
          "2018-08-11T00:00:00",
          "2018-08-12T00:00:00",
          "2018-08-13T00:00:00",
          "2018-08-14T00:00:00",
          "2018-08-15T00:00:00",
          "2018-08-16T00:00:00",
          "2018-08-17T00:00:00",
          "2018-08-18T00:00:00",
          "2018-08-19T00:00:00",
          "2018-08-20T00:00:00",
          "2018-08-21T00:00:00",
          "2018-08-22T00:00:00",
          "2018-08-23T00:00:00",
          "2018-08-24T00:00:00",
          "2018-08-25T00:00:00",
          "2018-08-26T00:00:00",
          "2018-08-27T00:00:00",
          "2018-08-28T00:00:00",
          "2018-08-29T00:00:00",
          "2018-08-30T00:00:00",
          "2018-08-31T00:00:00",
          "2018-09-01T00:00:00",
          "2018-09-02T00:00:00",
          "2018-09-03T00:00:00",
          "2018-09-04T00:00:00",
          "2018-09-05T00:00:00",
          "2018-09-06T00:00:00",
          "2018-09-07T00:00:00",
          "2018-09-08T00:00:00",
          "2018-09-09T00:00:00",
          "2018-09-10T00:00:00",
          "2018-09-11T00:00:00",
          "2018-09-12T00:00:00",
          "2018-09-13T00:00:00",
          "2018-09-14T00:00:00",
          "2018-09-15T00:00:00",
          "2018-09-16T00:00:00",
          "2018-09-17T00:00:00",
          "2018-09-18T00:00:00",
          "2018-09-19T00:00:00",
          "2018-09-20T00:00:00",
          "2018-09-21T00:00:00",
          "2018-09-22T00:00:00",
          "2018-09-23T00:00:00",
          "2018-09-24T00:00:00",
          "2018-09-25T00:00:00",
          "2018-09-26T00:00:00",
          "2018-09-27T00:00:00",
          "2018-09-28T00:00:00",
          "2018-09-29T00:00:00",
          "2018-09-30T00:00:00",
          "2018-10-01T00:00:00",
          "2018-10-02T00:00:00",
          "2018-10-03T00:00:00",
          "2018-10-04T00:00:00",
          "2018-10-05T00:00:00",
          "2018-10-06T00:00:00",
          "2018-10-07T00:00:00",
          "2018-10-08T00:00:00",
          "2018-10-09T00:00:00",
          "2018-10-10T00:00:00",
          "2018-10-11T00:00:00",
          "2018-10-12T00:00:00",
          "2018-10-13T00:00:00",
          "2018-10-14T00:00:00",
          "2018-10-15T00:00:00",
          "2018-10-16T00:00:00",
          "2018-10-17T00:00:00",
          "2018-10-18T00:00:00",
          "2018-10-19T00:00:00",
          "2018-10-20T00:00:00",
          "2018-10-21T00:00:00",
          "2018-10-22T00:00:00",
          "2018-10-23T00:00:00",
          "2018-10-24T00:00:00",
          "2018-10-25T00:00:00",
          "2018-10-26T00:00:00",
          "2018-10-27T00:00:00",
          "2018-10-28T00:00:00",
          "2018-10-29T00:00:00",
          "2018-10-30T00:00:00",
          "2018-10-31T00:00:00",
          "2018-11-01T00:00:00",
          "2018-11-02T00:00:00",
          "2018-11-03T00:00:00",
          "2018-11-04T00:00:00",
          "2018-11-05T00:00:00",
          "2018-11-06T00:00:00",
          "2018-11-07T00:00:00",
          "2018-11-08T00:00:00",
          "2018-11-09T00:00:00",
          "2018-11-10T00:00:00",
          "2018-11-11T00:00:00",
          "2018-11-12T00:00:00",
          "2018-11-13T00:00:00",
          "2018-11-14T00:00:00",
          "2018-11-15T00:00:00",
          "2018-11-16T00:00:00",
          "2018-11-17T00:00:00",
          "2018-11-18T00:00:00",
          "2018-11-19T00:00:00",
          "2018-11-20T00:00:00",
          "2018-11-21T00:00:00",
          "2018-11-22T00:00:00",
          "2018-11-23T00:00:00",
          "2018-11-24T00:00:00",
          "2018-11-25T00:00:00",
          "2018-11-26T00:00:00",
          "2018-11-27T00:00:00",
          "2018-11-28T00:00:00",
          "2018-11-29T00:00:00",
          "2018-11-30T00:00:00",
          "2018-12-01T00:00:00",
          "2018-12-02T00:00:00",
          "2018-12-03T00:00:00",
          "2018-12-04T00:00:00",
          "2018-12-05T00:00:00",
          "2018-12-06T00:00:00",
          "2018-12-07T00:00:00",
          "2018-12-08T00:00:00",
          "2018-12-09T00:00:00",
          "2018-12-10T00:00:00",
          "2018-12-11T00:00:00",
          "2018-12-12T00:00:00",
          "2018-12-13T00:00:00",
          "2018-12-14T00:00:00",
          "2018-12-15T00:00:00",
          "2018-12-16T00:00:00",
          "2018-12-17T00:00:00",
          "2018-12-18T00:00:00",
          "2018-12-19T00:00:00",
          "2018-12-20T00:00:00",
          "2018-12-21T00:00:00",
          "2018-12-22T00:00:00",
          "2018-12-23T00:00:00",
          "2018-12-24T00:00:00",
          "2018-12-25T00:00:00",
          "2018-12-26T00:00:00",
          "2018-12-27T00:00:00",
          "2018-12-28T00:00:00",
          "2018-12-29T00:00:00",
          "2018-12-30T00:00:00",
          "2018-12-31T00:00:00"
         ],
         "xaxis": "x",
         "y": [
          null,
          null,
          null,
          null,
          null,
          null,
          112,
          116.28571428571429,
          122.71428571428571,
          131.14285714285714,
          139.71428571428572,
          143,
          147.57142857142858,
          149.85714285714286,
          147.57142857142858,
          149.14285714285714,
          147,
          146,
          149.14285714285714,
          150.85714285714286,
          150.14285714285714,
          154.71428571428572,
          150.28571428571428,
          152.71428571428572,
          152.28571428571428,
          151.28571428571428,
          149,
          151,
          148.42857142857142,
          149.57142857142858,
          144.28571428571428,
          146.28571428571428,
          143.28571428571428,
          144.28571428571428,
          142.85714285714286,
          141,
          137.57142857142858,
          131.85714285714286,
          121.28571428571429,
          111.42857142857143,
          109.57142857142857,
          108.14285714285714,
          112.28571428571429,
          117.14285714285714,
          121,
          124.71428571428571,
          136.28571428571428,
          138.42857142857142,
          139.85714285714286,
          135.71428571428572,
          130,
          130.71428571428572,
          129.57142857142858,
          126.28571428571429,
          120.57142857142857,
          120.28571428571429,
          115,
          114.28571428571429,
          110.42857142857143,
          107.57142857142857,
          106.28571428571429,
          109.42857142857143,
          111.14285714285714,
          116.42857142857143,
          120.28571428571429,
          124.71428571428571,
          130.71428571428572,
          131.14285714285714,
          132.85714285714286,
          129.71428571428572,
          133.71428571428572,
          134,
          137.42857142857142,
          140.14285714285714,
          143,
          143.14285714285714,
          144.42857142857142,
          139.57142857142858,
          135.28571428571428,
          132.57142857142858,
          126.57142857142857,
          125.14285714285714,
          127,
          128.85714285714286,
          128.42857142857142,
          131,
          134.57142857142858,
          138,
          138.42857142857142,
          137.28571428571428,
          136.28571428571428,
          132.42857142857142,
          137.71428571428572,
          133,
          132.14285714285714,
          146.42857142857142,
          150.42857142857142,
          152.57142857142858,
          159.57142857142858,
          156.42857142857142,
          162.28571428571428,
          169,
          158.14285714285714,
          156.57142857142858,
          157.28571428571428,
          159,
          164,
          168.71428571428572,
          170.71428571428572,
          174.14285714285714,
          181.14285714285714,
          186.28571428571428,
          184.28571428571428,
          186,
          181.57142857142858,
          176.14285714285714,
          172.28571428571428,
          164.57142857142858,
          158,
          159.14285714285714,
          149,
          146.71428571428572,
          143.57142857142858,
          145,
          154.57142857142858,
          160.57142857142858,
          164.71428571428572,
          165.14285714285714,
          168.14285714285714,
          163.71428571428572,
          160,
          148.42857142857142,
          139.42857142857142,
          138.85714285714286,
          146.42857142857142,
          143.28571428571428,
          150.85714285714286,
          161.85714285714286,
          165.14285714285714,
          173.14285714285714,
          166,
          169.14285714285714,
          170.57142857142858,
          172.42857142857142,
          171.42857142857142,
          173.42857142857142,
          170.71428571428572,
          176.71428571428572,
          174.71428571428572,
          176.57142857142858,
          176.85714285714286,
          167.71428571428572,
          168.14285714285714,
          168.85714285714286,
          168.57142857142858,
          168.85714285714286,
          170.42857142857142,
          167.42857142857142,
          173.57142857142858,
          172.42857142857142,
          173.42857142857142,
          169.28571428571428,
          167.28571428571428,
          164.42857142857142,
          167.85714285714286,
          167,
          170.57142857142858,
          171,
          177.57142857142858,
          180.14285714285714,
          184.57142857142858,
          189.28571428571428,
          194.57142857142858,
          196.42857142857142,
          199.14285714285714,
          203,
          208.42857142857142,
          214.42857142857142,
          212.85714285714286,
          209.28571428571428,
          207.71428571428572,
          206.85714285714286,
          204.14285714285714,
          196.57142857142858,
          192.85714285714286,
          189.57142857142858,
          186.28571428571428,
          185.85714285714286,
          185.71428571428572,
          186.57142857142858,
          193.28571428571428,
          190.57142857142858,
          192.57142857142858,
          192,
          188,
          190.71428571428572,
          186.42857142857142,
          175.28571428571428,
          170.14285714285714,
          165.28571428571428,
          163.14285714285714,
          161,
          154.28571428571428,
          151.85714285714286,
          153.85714285714286,
          153.57142857142858,
          156.14285714285714,
          155.71428571428572,
          154.14285714285714,
          153.42857142857142,
          151.14285714285714,
          152.14285714285714,
          153,
          152.28571428571428,
          152.28571428571428,
          156.14285714285714,
          155.28571428571428,
          156.71428571428572,
          154.14285714285714,
          150.85714285714286,
          141.42857142857142,
          138,
          134.71428571428572,
          136.28571428571428,
          134.28571428571428,
          135.14285714285714,
          133.14285714285714,
          138,
          133.71428571428572,
          133.71428571428572,
          133,
          135.71428571428572,
          133.85714285714286,
          132.28571428571428,
          131,
          134.42857142857142,
          134.14285714285714,
          134.42857142857142,
          133.57142857142858,
          135,
          136.85714285714286,
          136.71428571428572,
          140.28571428571428,
          144.57142857142858,
          148.85714285714286,
          150.57142857142858,
          155.42857142857142,
          161,
          168.42857142857142,
          174,
          175.14285714285714,
          171.42857142857142,
          173.14285714285714,
          180.85714285714286,
          185,
          184,
          184.28571428571428,
          187.14285714285714,
          188.57142857142858,
          192.28571428571428,
          185.71428571428572,
          183.71428571428572,
          188.42857142857142,
          192.14285714285714,
          188.42857142857142,
          189.28571428571428,
          189.28571428571428,
          194,
          195.14285714285714,
          194.85714285714286,
          191.85714285714286,
          193,
          193.42857142857142,
          194.57142857142858,
          186.28571428571428,
          188.28571428571428,
          189,
          195.57142857142858,
          197.57142857142858,
          197,
          190.42857142857142,
          194.57142857142858,
          195.42857142857142,
          200.85714285714286,
          196.57142857142858,
          197.14285714285714,
          191.71428571428572,
          196.14285714285714,
          197.42857142857142,
          196,
          186.14285714285714,
          184.57142857142858,
          181.14285714285714,
          187.28571428571428,
          185.57142857142858,
          184,
          176,
          174.71428571428572,
          169.57142857142858,
          169.42857142857142,
          165.28571428571428,
          163.28571428571428,
          162.14285714285714,
          167.28571428571428,
          162.42857142857142,
          158.14285714285714,
          154.28571428571428,
          152.42857142857142,
          151.28571428571428,
          153.42857142857142,
          154,
          158.85714285714286,
          162.28571428571428,
          166.71428571428572,
          169.57142857142858,
          173.71428571428572,
          171,
          168,
          167.28571428571428,
          170.71428571428572,
          170.57142857142858,
          169.14285714285714,
          168.71428571428572,
          167.85714285714286,
          166,
          163,
          162.42857142857142,
          157,
          160,
          154.42857142857142,
          150.57142857142858,
          154,
          155.28571428571428,
          159.71428571428572,
          165.57142857142858,
          164.28571428571428,
          171.57142857142858,
          175.85714285714286,
          174.85714285714286,
          175.85714285714286,
          167.14285714285714,
          162.71428571428572,
          161,
          158.28571428571428,
          158.85714285714286,
          160.28571428571428,
          163.85714285714286,
          167,
          166.28571428571428,
          168,
          170.28571428571428,
          170.28571428571428,
          168.85714285714286,
          168.14285714285714,
          177.28571428571428,
          179.85714285714286,
          176.42857142857142,
          167.28571428571428,
          152.14285714285714,
          144.71428571428572,
          134.28571428571428,
          113.85714285714286,
          106.42857142857143,
          102.57142857142857,
          99.71428571428571
         ],
         "yaxis": "y"
        }
       ],
       "layout": {
        "legend": {
         "title": {
          "text": "variable"
         },
         "tracegroupgap": 0
        },
        "margin": {
         "t": 60
        },
        "template": {
         "data": {
          "bar": [
           {
            "error_x": {
             "color": "#2a3f5f"
            },
            "error_y": {
             "color": "#2a3f5f"
            },
            "marker": {
             "line": {
              "color": "#E5ECF6",
              "width": 0.5
             }
            },
            "type": "bar"
           }
          ],
          "barpolar": [
           {
            "marker": {
             "line": {
              "color": "#E5ECF6",
              "width": 0.5
             }
            },
            "type": "barpolar"
           }
          ],
          "carpet": [
           {
            "aaxis": {
             "endlinecolor": "#2a3f5f",
             "gridcolor": "white",
             "linecolor": "white",
             "minorgridcolor": "white",
             "startlinecolor": "#2a3f5f"
            },
            "baxis": {
             "endlinecolor": "#2a3f5f",
             "gridcolor": "white",
             "linecolor": "white",
             "minorgridcolor": "white",
             "startlinecolor": "#2a3f5f"
            },
            "type": "carpet"
           }
          ],
          "choropleth": [
           {
            "colorbar": {
             "outlinewidth": 0,
             "ticks": ""
            },
            "type": "choropleth"
           }
          ],
          "contour": [
           {
            "colorbar": {
             "outlinewidth": 0,
             "ticks": ""
            },
            "colorscale": [
             [
              0,
              "#0d0887"
             ],
             [
              0.1111111111111111,
              "#46039f"
             ],
             [
              0.2222222222222222,
              "#7201a8"
             ],
             [
              0.3333333333333333,
              "#9c179e"
             ],
             [
              0.4444444444444444,
              "#bd3786"
             ],
             [
              0.5555555555555556,
              "#d8576b"
             ],
             [
              0.6666666666666666,
              "#ed7953"
             ],
             [
              0.7777777777777778,
              "#fb9f3a"
             ],
             [
              0.8888888888888888,
              "#fdca26"
             ],
             [
              1,
              "#f0f921"
             ]
            ],
            "type": "contour"
           }
          ],
          "contourcarpet": [
           {
            "colorbar": {
             "outlinewidth": 0,
             "ticks": ""
            },
            "type": "contourcarpet"
           }
          ],
          "heatmap": [
           {
            "colorbar": {
             "outlinewidth": 0,
             "ticks": ""
            },
            "colorscale": [
             [
              0,
              "#0d0887"
             ],
             [
              0.1111111111111111,
              "#46039f"
             ],
             [
              0.2222222222222222,
              "#7201a8"
             ],
             [
              0.3333333333333333,
              "#9c179e"
             ],
             [
              0.4444444444444444,
              "#bd3786"
             ],
             [
              0.5555555555555556,
              "#d8576b"
             ],
             [
              0.6666666666666666,
              "#ed7953"
             ],
             [
              0.7777777777777778,
              "#fb9f3a"
             ],
             [
              0.8888888888888888,
              "#fdca26"
             ],
             [
              1,
              "#f0f921"
             ]
            ],
            "type": "heatmap"
           }
          ],
          "heatmapgl": [
           {
            "colorbar": {
             "outlinewidth": 0,
             "ticks": ""
            },
            "colorscale": [
             [
              0,
              "#0d0887"
             ],
             [
              0.1111111111111111,
              "#46039f"
             ],
             [
              0.2222222222222222,
              "#7201a8"
             ],
             [
              0.3333333333333333,
              "#9c179e"
             ],
             [
              0.4444444444444444,
              "#bd3786"
             ],
             [
              0.5555555555555556,
              "#d8576b"
             ],
             [
              0.6666666666666666,
              "#ed7953"
             ],
             [
              0.7777777777777778,
              "#fb9f3a"
             ],
             [
              0.8888888888888888,
              "#fdca26"
             ],
             [
              1,
              "#f0f921"
             ]
            ],
            "type": "heatmapgl"
           }
          ],
          "histogram": [
           {
            "marker": {
             "colorbar": {
              "outlinewidth": 0,
              "ticks": ""
             }
            },
            "type": "histogram"
           }
          ],
          "histogram2d": [
           {
            "colorbar": {
             "outlinewidth": 0,
             "ticks": ""
            },
            "colorscale": [
             [
              0,
              "#0d0887"
             ],
             [
              0.1111111111111111,
              "#46039f"
             ],
             [
              0.2222222222222222,
              "#7201a8"
             ],
             [
              0.3333333333333333,
              "#9c179e"
             ],
             [
              0.4444444444444444,
              "#bd3786"
             ],
             [
              0.5555555555555556,
              "#d8576b"
             ],
             [
              0.6666666666666666,
              "#ed7953"
             ],
             [
              0.7777777777777778,
              "#fb9f3a"
             ],
             [
              0.8888888888888888,
              "#fdca26"
             ],
             [
              1,
              "#f0f921"
             ]
            ],
            "type": "histogram2d"
           }
          ],
          "histogram2dcontour": [
           {
            "colorbar": {
             "outlinewidth": 0,
             "ticks": ""
            },
            "colorscale": [
             [
              0,
              "#0d0887"
             ],
             [
              0.1111111111111111,
              "#46039f"
             ],
             [
              0.2222222222222222,
              "#7201a8"
             ],
             [
              0.3333333333333333,
              "#9c179e"
             ],
             [
              0.4444444444444444,
              "#bd3786"
             ],
             [
              0.5555555555555556,
              "#d8576b"
             ],
             [
              0.6666666666666666,
              "#ed7953"
             ],
             [
              0.7777777777777778,
              "#fb9f3a"
             ],
             [
              0.8888888888888888,
              "#fdca26"
             ],
             [
              1,
              "#f0f921"
             ]
            ],
            "type": "histogram2dcontour"
           }
          ],
          "mesh3d": [
           {
            "colorbar": {
             "outlinewidth": 0,
             "ticks": ""
            },
            "type": "mesh3d"
           }
          ],
          "parcoords": [
           {
            "line": {
             "colorbar": {
              "outlinewidth": 0,
              "ticks": ""
             }
            },
            "type": "parcoords"
           }
          ],
          "pie": [
           {
            "automargin": true,
            "type": "pie"
           }
          ],
          "scatter": [
           {
            "marker": {
             "colorbar": {
              "outlinewidth": 0,
              "ticks": ""
             }
            },
            "type": "scatter"
           }
          ],
          "scatter3d": [
           {
            "line": {
             "colorbar": {
              "outlinewidth": 0,
              "ticks": ""
             }
            },
            "marker": {
             "colorbar": {
              "outlinewidth": 0,
              "ticks": ""
             }
            },
            "type": "scatter3d"
           }
          ],
          "scattercarpet": [
           {
            "marker": {
             "colorbar": {
              "outlinewidth": 0,
              "ticks": ""
             }
            },
            "type": "scattercarpet"
           }
          ],
          "scattergeo": [
           {
            "marker": {
             "colorbar": {
              "outlinewidth": 0,
              "ticks": ""
             }
            },
            "type": "scattergeo"
           }
          ],
          "scattergl": [
           {
            "marker": {
             "colorbar": {
              "outlinewidth": 0,
              "ticks": ""
             }
            },
            "type": "scattergl"
           }
          ],
          "scattermapbox": [
           {
            "marker": {
             "colorbar": {
              "outlinewidth": 0,
              "ticks": ""
             }
            },
            "type": "scattermapbox"
           }
          ],
          "scatterpolar": [
           {
            "marker": {
             "colorbar": {
              "outlinewidth": 0,
              "ticks": ""
             }
            },
            "type": "scatterpolar"
           }
          ],
          "scatterpolargl": [
           {
            "marker": {
             "colorbar": {
              "outlinewidth": 0,
              "ticks": ""
             }
            },
            "type": "scatterpolargl"
           }
          ],
          "scatterternary": [
           {
            "marker": {
             "colorbar": {
              "outlinewidth": 0,
              "ticks": ""
             }
            },
            "type": "scatterternary"
           }
          ],
          "surface": [
           {
            "colorbar": {
             "outlinewidth": 0,
             "ticks": ""
            },
            "colorscale": [
             [
              0,
              "#0d0887"
             ],
             [
              0.1111111111111111,
              "#46039f"
             ],
             [
              0.2222222222222222,
              "#7201a8"
             ],
             [
              0.3333333333333333,
              "#9c179e"
             ],
             [
              0.4444444444444444,
              "#bd3786"
             ],
             [
              0.5555555555555556,
              "#d8576b"
             ],
             [
              0.6666666666666666,
              "#ed7953"
             ],
             [
              0.7777777777777778,
              "#fb9f3a"
             ],
             [
              0.8888888888888888,
              "#fdca26"
             ],
             [
              1,
              "#f0f921"
             ]
            ],
            "type": "surface"
           }
          ],
          "table": [
           {
            "cells": {
             "fill": {
              "color": "#EBF0F8"
             },
             "line": {
              "color": "white"
             }
            },
            "header": {
             "fill": {
              "color": "#C8D4E3"
             },
             "line": {
              "color": "white"
             }
            },
            "type": "table"
           }
          ]
         },
         "layout": {
          "annotationdefaults": {
           "arrowcolor": "#2a3f5f",
           "arrowhead": 0,
           "arrowwidth": 1
          },
          "autotypenumbers": "strict",
          "coloraxis": {
           "colorbar": {
            "outlinewidth": 0,
            "ticks": ""
           }
          },
          "colorscale": {
           "diverging": [
            [
             0,
             "#8e0152"
            ],
            [
             0.1,
             "#c51b7d"
            ],
            [
             0.2,
             "#de77ae"
            ],
            [
             0.3,
             "#f1b6da"
            ],
            [
             0.4,
             "#fde0ef"
            ],
            [
             0.5,
             "#f7f7f7"
            ],
            [
             0.6,
             "#e6f5d0"
            ],
            [
             0.7,
             "#b8e186"
            ],
            [
             0.8,
             "#7fbc41"
            ],
            [
             0.9,
             "#4d9221"
            ],
            [
             1,
             "#276419"
            ]
           ],
           "sequential": [
            [
             0,
             "#0d0887"
            ],
            [
             0.1111111111111111,
             "#46039f"
            ],
            [
             0.2222222222222222,
             "#7201a8"
            ],
            [
             0.3333333333333333,
             "#9c179e"
            ],
            [
             0.4444444444444444,
             "#bd3786"
            ],
            [
             0.5555555555555556,
             "#d8576b"
            ],
            [
             0.6666666666666666,
             "#ed7953"
            ],
            [
             0.7777777777777778,
             "#fb9f3a"
            ],
            [
             0.8888888888888888,
             "#fdca26"
            ],
            [
             1,
             "#f0f921"
            ]
           ],
           "sequentialminus": [
            [
             0,
             "#0d0887"
            ],
            [
             0.1111111111111111,
             "#46039f"
            ],
            [
             0.2222222222222222,
             "#7201a8"
            ],
            [
             0.3333333333333333,
             "#9c179e"
            ],
            [
             0.4444444444444444,
             "#bd3786"
            ],
            [
             0.5555555555555556,
             "#d8576b"
            ],
            [
             0.6666666666666666,
             "#ed7953"
            ],
            [
             0.7777777777777778,
             "#fb9f3a"
            ],
            [
             0.8888888888888888,
             "#fdca26"
            ],
            [
             1,
             "#f0f921"
            ]
           ]
          },
          "colorway": [
           "#636efa",
           "#EF553B",
           "#00cc96",
           "#ab63fa",
           "#FFA15A",
           "#19d3f3",
           "#FF6692",
           "#B6E880",
           "#FF97FF",
           "#FECB52"
          ],
          "font": {
           "color": "#2a3f5f"
          },
          "geo": {
           "bgcolor": "white",
           "lakecolor": "white",
           "landcolor": "#E5ECF6",
           "showlakes": true,
           "showland": true,
           "subunitcolor": "white"
          },
          "hoverlabel": {
           "align": "left"
          },
          "hovermode": "closest",
          "mapbox": {
           "style": "light"
          },
          "paper_bgcolor": "white",
          "plot_bgcolor": "#E5ECF6",
          "polar": {
           "angularaxis": {
            "gridcolor": "white",
            "linecolor": "white",
            "ticks": ""
           },
           "bgcolor": "#E5ECF6",
           "radialaxis": {
            "gridcolor": "white",
            "linecolor": "white",
            "ticks": ""
           }
          },
          "scene": {
           "xaxis": {
            "backgroundcolor": "#E5ECF6",
            "gridcolor": "white",
            "gridwidth": 2,
            "linecolor": "white",
            "showbackground": true,
            "ticks": "",
            "zerolinecolor": "white"
           },
           "yaxis": {
            "backgroundcolor": "#E5ECF6",
            "gridcolor": "white",
            "gridwidth": 2,
            "linecolor": "white",
            "showbackground": true,
            "ticks": "",
            "zerolinecolor": "white"
           },
           "zaxis": {
            "backgroundcolor": "#E5ECF6",
            "gridcolor": "white",
            "gridwidth": 2,
            "linecolor": "white",
            "showbackground": true,
            "ticks": "",
            "zerolinecolor": "white"
           }
          },
          "shapedefaults": {
           "line": {
            "color": "#2a3f5f"
           }
          },
          "ternary": {
           "aaxis": {
            "gridcolor": "white",
            "linecolor": "white",
            "ticks": ""
           },
           "baxis": {
            "gridcolor": "white",
            "linecolor": "white",
            "ticks": ""
           },
           "bgcolor": "#E5ECF6",
           "caxis": {
            "gridcolor": "white",
            "linecolor": "white",
            "ticks": ""
           }
          },
          "title": {
           "x": 0.05
          },
          "xaxis": {
           "automargin": true,
           "gridcolor": "white",
           "linecolor": "white",
           "ticks": "",
           "title": {
            "standoff": 15
           },
           "zerolinecolor": "white",
           "zerolinewidth": 2
          },
          "yaxis": {
           "automargin": true,
           "gridcolor": "white",
           "linecolor": "white",
           "ticks": "",
           "title": {
            "standoff": 15
           },
           "zerolinecolor": "white",
           "zerolinewidth": 2
          }
         }
        },
        "xaxis": {
         "anchor": "y",
         "domain": [
          0,
          1
         ],
         "title": {
          "text": "date"
         }
        },
        "yaxis": {
         "anchor": "x",
         "domain": [
          0,
          1
         ],
         "title": {
          "text": "value"
         }
        }
       }
      },
      "text/html": [
       "<div>                            <div id=\"3ff421ce-d0b2-4958-b3db-5df2a91ab8a9\" class=\"plotly-graph-div\" style=\"height:525px; width:100%;\"></div>            <script type=\"text/javascript\">                require([\"plotly\"], function(Plotly) {                    window.PLOTLYENV=window.PLOTLYENV || {};                                    if (document.getElementById(\"3ff421ce-d0b2-4958-b3db-5df2a91ab8a9\")) {                    Plotly.newPlot(                        \"3ff421ce-d0b2-4958-b3db-5df2a91ab8a9\",                        [{\"hovertemplate\": \"variable=nb_victims<br>date=%{x}<br>value=%{y}<extra></extra>\", \"legendgroup\": \"nb_victims\", \"line\": {\"color\": \"#636efa\", \"dash\": \"solid\"}, \"mode\": \"lines\", \"name\": \"nb_victims\", \"orientation\": \"v\", \"showlegend\": true, \"type\": \"scatter\", \"x\": [\"2018-01-01T00:00:00\", \"2018-01-02T00:00:00\", \"2018-01-03T00:00:00\", \"2018-01-04T00:00:00\", \"2018-01-05T00:00:00\", \"2018-01-06T00:00:00\", \"2018-01-07T00:00:00\", \"2018-01-08T00:00:00\", \"2018-01-09T00:00:00\", \"2018-01-10T00:00:00\", \"2018-01-11T00:00:00\", \"2018-01-12T00:00:00\", \"2018-01-13T00:00:00\", \"2018-01-14T00:00:00\", \"2018-01-15T00:00:00\", \"2018-01-16T00:00:00\", \"2018-01-17T00:00:00\", \"2018-01-18T00:00:00\", \"2018-01-19T00:00:00\", \"2018-01-20T00:00:00\", \"2018-01-21T00:00:00\", \"2018-01-22T00:00:00\", \"2018-01-23T00:00:00\", \"2018-01-24T00:00:00\", \"2018-01-25T00:00:00\", \"2018-01-26T00:00:00\", \"2018-01-27T00:00:00\", \"2018-01-28T00:00:00\", \"2018-01-29T00:00:00\", \"2018-01-30T00:00:00\", \"2018-01-31T00:00:00\", \"2018-02-01T00:00:00\", \"2018-02-02T00:00:00\", \"2018-02-03T00:00:00\", \"2018-02-04T00:00:00\", \"2018-02-05T00:00:00\", \"2018-02-06T00:00:00\", \"2018-02-07T00:00:00\", \"2018-02-08T00:00:00\", \"2018-02-09T00:00:00\", \"2018-02-10T00:00:00\", \"2018-02-11T00:00:00\", \"2018-02-12T00:00:00\", \"2018-02-13T00:00:00\", \"2018-02-14T00:00:00\", \"2018-02-15T00:00:00\", \"2018-02-16T00:00:00\", \"2018-02-17T00:00:00\", \"2018-02-18T00:00:00\", \"2018-02-19T00:00:00\", \"2018-02-20T00:00:00\", \"2018-02-21T00:00:00\", \"2018-02-22T00:00:00\", \"2018-02-23T00:00:00\", \"2018-02-24T00:00:00\", \"2018-02-25T00:00:00\", \"2018-02-26T00:00:00\", \"2018-02-27T00:00:00\", \"2018-02-28T00:00:00\", \"2018-03-01T00:00:00\", \"2018-03-02T00:00:00\", \"2018-03-03T00:00:00\", \"2018-03-04T00:00:00\", \"2018-03-05T00:00:00\", \"2018-03-06T00:00:00\", \"2018-03-07T00:00:00\", \"2018-03-08T00:00:00\", \"2018-03-09T00:00:00\", \"2018-03-10T00:00:00\", \"2018-03-11T00:00:00\", \"2018-03-12T00:00:00\", \"2018-03-13T00:00:00\", \"2018-03-14T00:00:00\", \"2018-03-15T00:00:00\", \"2018-03-16T00:00:00\", \"2018-03-17T00:00:00\", \"2018-03-18T00:00:00\", \"2018-03-19T00:00:00\", \"2018-03-20T00:00:00\", \"2018-03-21T00:00:00\", \"2018-03-22T00:00:00\", \"2018-03-23T00:00:00\", \"2018-03-24T00:00:00\", \"2018-03-25T00:00:00\", \"2018-03-26T00:00:00\", \"2018-03-27T00:00:00\", \"2018-03-28T00:00:00\", \"2018-03-29T00:00:00\", \"2018-03-30T00:00:00\", \"2018-03-31T00:00:00\", \"2018-04-01T00:00:00\", \"2018-04-02T00:00:00\", \"2018-04-03T00:00:00\", \"2018-04-04T00:00:00\", \"2018-04-05T00:00:00\", \"2018-04-06T00:00:00\", \"2018-04-07T00:00:00\", \"2018-04-08T00:00:00\", \"2018-04-09T00:00:00\", \"2018-04-10T00:00:00\", \"2018-04-11T00:00:00\", \"2018-04-12T00:00:00\", \"2018-04-13T00:00:00\", \"2018-04-14T00:00:00\", \"2018-04-15T00:00:00\", \"2018-04-16T00:00:00\", \"2018-04-17T00:00:00\", \"2018-04-18T00:00:00\", \"2018-04-19T00:00:00\", \"2018-04-20T00:00:00\", \"2018-04-21T00:00:00\", \"2018-04-22T00:00:00\", \"2018-04-23T00:00:00\", \"2018-04-24T00:00:00\", \"2018-04-25T00:00:00\", \"2018-04-26T00:00:00\", \"2018-04-27T00:00:00\", \"2018-04-28T00:00:00\", \"2018-04-29T00:00:00\", \"2018-04-30T00:00:00\", \"2018-05-01T00:00:00\", \"2018-05-02T00:00:00\", \"2018-05-03T00:00:00\", \"2018-05-04T00:00:00\", \"2018-05-05T00:00:00\", \"2018-05-06T00:00:00\", \"2018-05-07T00:00:00\", \"2018-05-08T00:00:00\", \"2018-05-09T00:00:00\", \"2018-05-10T00:00:00\", \"2018-05-11T00:00:00\", \"2018-05-12T00:00:00\", \"2018-05-13T00:00:00\", \"2018-05-14T00:00:00\", \"2018-05-15T00:00:00\", \"2018-05-16T00:00:00\", \"2018-05-17T00:00:00\", \"2018-05-18T00:00:00\", \"2018-05-19T00:00:00\", \"2018-05-20T00:00:00\", \"2018-05-21T00:00:00\", \"2018-05-22T00:00:00\", \"2018-05-23T00:00:00\", \"2018-05-24T00:00:00\", \"2018-05-25T00:00:00\", \"2018-05-26T00:00:00\", \"2018-05-27T00:00:00\", \"2018-05-28T00:00:00\", \"2018-05-29T00:00:00\", \"2018-05-30T00:00:00\", \"2018-05-31T00:00:00\", \"2018-06-01T00:00:00\", \"2018-06-02T00:00:00\", \"2018-06-03T00:00:00\", \"2018-06-04T00:00:00\", \"2018-06-05T00:00:00\", \"2018-06-06T00:00:00\", \"2018-06-07T00:00:00\", \"2018-06-08T00:00:00\", \"2018-06-09T00:00:00\", \"2018-06-10T00:00:00\", \"2018-06-11T00:00:00\", \"2018-06-12T00:00:00\", \"2018-06-13T00:00:00\", \"2018-06-14T00:00:00\", \"2018-06-15T00:00:00\", \"2018-06-16T00:00:00\", \"2018-06-17T00:00:00\", \"2018-06-18T00:00:00\", \"2018-06-19T00:00:00\", \"2018-06-20T00:00:00\", \"2018-06-21T00:00:00\", \"2018-06-22T00:00:00\", \"2018-06-23T00:00:00\", \"2018-06-24T00:00:00\", \"2018-06-25T00:00:00\", \"2018-06-26T00:00:00\", \"2018-06-27T00:00:00\", \"2018-06-28T00:00:00\", \"2018-06-29T00:00:00\", \"2018-06-30T00:00:00\", \"2018-07-01T00:00:00\", \"2018-07-02T00:00:00\", \"2018-07-03T00:00:00\", \"2018-07-04T00:00:00\", \"2018-07-05T00:00:00\", \"2018-07-06T00:00:00\", \"2018-07-07T00:00:00\", \"2018-07-08T00:00:00\", \"2018-07-09T00:00:00\", \"2018-07-10T00:00:00\", \"2018-07-11T00:00:00\", \"2018-07-12T00:00:00\", \"2018-07-13T00:00:00\", \"2018-07-14T00:00:00\", \"2018-07-15T00:00:00\", \"2018-07-16T00:00:00\", \"2018-07-17T00:00:00\", \"2018-07-18T00:00:00\", \"2018-07-19T00:00:00\", \"2018-07-20T00:00:00\", \"2018-07-21T00:00:00\", \"2018-07-22T00:00:00\", \"2018-07-23T00:00:00\", \"2018-07-24T00:00:00\", \"2018-07-25T00:00:00\", \"2018-07-26T00:00:00\", \"2018-07-27T00:00:00\", \"2018-07-28T00:00:00\", \"2018-07-29T00:00:00\", \"2018-07-30T00:00:00\", \"2018-07-31T00:00:00\", \"2018-08-01T00:00:00\", \"2018-08-02T00:00:00\", \"2018-08-03T00:00:00\", \"2018-08-04T00:00:00\", \"2018-08-05T00:00:00\", \"2018-08-06T00:00:00\", \"2018-08-07T00:00:00\", \"2018-08-08T00:00:00\", \"2018-08-09T00:00:00\", \"2018-08-10T00:00:00\", \"2018-08-11T00:00:00\", \"2018-08-12T00:00:00\", \"2018-08-13T00:00:00\", \"2018-08-14T00:00:00\", \"2018-08-15T00:00:00\", \"2018-08-16T00:00:00\", \"2018-08-17T00:00:00\", \"2018-08-18T00:00:00\", \"2018-08-19T00:00:00\", \"2018-08-20T00:00:00\", \"2018-08-21T00:00:00\", \"2018-08-22T00:00:00\", \"2018-08-23T00:00:00\", \"2018-08-24T00:00:00\", \"2018-08-25T00:00:00\", \"2018-08-26T00:00:00\", \"2018-08-27T00:00:00\", \"2018-08-28T00:00:00\", \"2018-08-29T00:00:00\", \"2018-08-30T00:00:00\", \"2018-08-31T00:00:00\", \"2018-09-01T00:00:00\", \"2018-09-02T00:00:00\", \"2018-09-03T00:00:00\", \"2018-09-04T00:00:00\", \"2018-09-05T00:00:00\", \"2018-09-06T00:00:00\", \"2018-09-07T00:00:00\", \"2018-09-08T00:00:00\", \"2018-09-09T00:00:00\", \"2018-09-10T00:00:00\", \"2018-09-11T00:00:00\", \"2018-09-12T00:00:00\", \"2018-09-13T00:00:00\", \"2018-09-14T00:00:00\", \"2018-09-15T00:00:00\", \"2018-09-16T00:00:00\", \"2018-09-17T00:00:00\", \"2018-09-18T00:00:00\", \"2018-09-19T00:00:00\", \"2018-09-20T00:00:00\", \"2018-09-21T00:00:00\", \"2018-09-22T00:00:00\", \"2018-09-23T00:00:00\", \"2018-09-24T00:00:00\", \"2018-09-25T00:00:00\", \"2018-09-26T00:00:00\", \"2018-09-27T00:00:00\", \"2018-09-28T00:00:00\", \"2018-09-29T00:00:00\", \"2018-09-30T00:00:00\", \"2018-10-01T00:00:00\", \"2018-10-02T00:00:00\", \"2018-10-03T00:00:00\", \"2018-10-04T00:00:00\", \"2018-10-05T00:00:00\", \"2018-10-06T00:00:00\", \"2018-10-07T00:00:00\", \"2018-10-08T00:00:00\", \"2018-10-09T00:00:00\", \"2018-10-10T00:00:00\", \"2018-10-11T00:00:00\", \"2018-10-12T00:00:00\", \"2018-10-13T00:00:00\", \"2018-10-14T00:00:00\", \"2018-10-15T00:00:00\", \"2018-10-16T00:00:00\", \"2018-10-17T00:00:00\", \"2018-10-18T00:00:00\", \"2018-10-19T00:00:00\", \"2018-10-20T00:00:00\", \"2018-10-21T00:00:00\", \"2018-10-22T00:00:00\", \"2018-10-23T00:00:00\", \"2018-10-24T00:00:00\", \"2018-10-25T00:00:00\", \"2018-10-26T00:00:00\", \"2018-10-27T00:00:00\", \"2018-10-28T00:00:00\", \"2018-10-29T00:00:00\", \"2018-10-30T00:00:00\", \"2018-10-31T00:00:00\", \"2018-11-01T00:00:00\", \"2018-11-02T00:00:00\", \"2018-11-03T00:00:00\", \"2018-11-04T00:00:00\", \"2018-11-05T00:00:00\", \"2018-11-06T00:00:00\", \"2018-11-07T00:00:00\", \"2018-11-08T00:00:00\", \"2018-11-09T00:00:00\", \"2018-11-10T00:00:00\", \"2018-11-11T00:00:00\", \"2018-11-12T00:00:00\", \"2018-11-13T00:00:00\", \"2018-11-14T00:00:00\", \"2018-11-15T00:00:00\", \"2018-11-16T00:00:00\", \"2018-11-17T00:00:00\", \"2018-11-18T00:00:00\", \"2018-11-19T00:00:00\", \"2018-11-20T00:00:00\", \"2018-11-21T00:00:00\", \"2018-11-22T00:00:00\", \"2018-11-23T00:00:00\", \"2018-11-24T00:00:00\", \"2018-11-25T00:00:00\", \"2018-11-26T00:00:00\", \"2018-11-27T00:00:00\", \"2018-11-28T00:00:00\", \"2018-11-29T00:00:00\", \"2018-11-30T00:00:00\", \"2018-12-01T00:00:00\", \"2018-12-02T00:00:00\", \"2018-12-03T00:00:00\", \"2018-12-04T00:00:00\", \"2018-12-05T00:00:00\", \"2018-12-06T00:00:00\", \"2018-12-07T00:00:00\", \"2018-12-08T00:00:00\", \"2018-12-09T00:00:00\", \"2018-12-10T00:00:00\", \"2018-12-11T00:00:00\", \"2018-12-12T00:00:00\", \"2018-12-13T00:00:00\", \"2018-12-14T00:00:00\", \"2018-12-15T00:00:00\", \"2018-12-16T00:00:00\", \"2018-12-17T00:00:00\", \"2018-12-18T00:00:00\", \"2018-12-19T00:00:00\", \"2018-12-20T00:00:00\", \"2018-12-21T00:00:00\", \"2018-12-22T00:00:00\", \"2018-12-23T00:00:00\", \"2018-12-24T00:00:00\", \"2018-12-25T00:00:00\", \"2018-12-26T00:00:00\", \"2018-12-27T00:00:00\", \"2018-12-28T00:00:00\", \"2018-12-29T00:00:00\", \"2018-12-30T00:00:00\", \"2018-12-31T00:00:00\"], \"xaxis\": \"x\", \"y\": [null, null, null, null, null, null, 254.28571428571428, 258.2857142857143, 267.0, 285.7142857142857, 303.0, 304.57142857142856, 315.85714285714283, 324.7142857142857, 318.57142857142856, 324.7142857142857, 321.42857142857144, 319.42857142857144, 325.57142857142856, 336.0, 329.7142857142857, 345.42857142857144, 333.85714285714283, 340.42857142857144, 347.2857142857143, 348.0, 335.42857142857144, 342.7142857142857, 334.57142857142856, 341.57142857142856, 329.0, 329.85714285714283, 322.0, 327.42857142857144, 326.14285714285717, 320.42857142857144, 314.14285714285717, 302.7142857142857, 274.14285714285717, 251.14285714285714, 243.28571428571428, 236.71428571428572, 248.28571428571428, 256.0, 262.0, 271.14285714285717, 302.42857142857144, 309.85714285714283, 312.7142857142857, 301.14285714285717, 285.57142857142856, 290.0, 289.85714285714283, 280.0, 266.2857142857143, 266.42857142857144, 254.14285714285714, 252.28571428571428, 243.0, 234.85714285714286, 235.57142857142858, 245.14285714285714, 251.42857142857142, 261.42857142857144, 273.2857142857143, 283.7142857142857, 296.85714285714283, 295.57142857142856, 297.2857142857143, 288.42857142857144, 298.42857142857144, 300.85714285714283, 306.14285714285717, 312.7142857142857, 316.14285714285717, 321.57142857142856, 325.42857142857144, 315.57142857142856, 305.0, 303.7142857142857, 290.14285714285717, 284.0, 284.0, 287.57142857142856, 290.14285714285717, 291.85714285714283, 298.7142857142857, 306.85714285714283, 311.42857142857144, 306.0, 303.57142857142856, 293.57142857142856, 309.85714285714283, 297.0, 296.42857142857144, 326.2857142857143, 337.0, 343.0, 357.2857142857143, 348.57142857142856, 361.57142857142856, 375.85714285714283, 358.85714285714283, 355.57142857142856, 357.0, 359.85714285714283, 374.0, 383.85714285714283, 388.42857142857144, 389.7142857142857, 405.7142857142857, 416.7142857142857, 413.42857142857144, 413.7142857142857, 407.57142857142856, 395.42857142857144, 390.57142857142856, 371.85714285714283, 356.57142857142856, 360.2857142857143, 338.57142857142856, 331.2857142857143, 325.14285714285717, 327.2857142857143, 353.7142857142857, 368.14285714285717, 376.2857142857143, 375.2857142857143, 380.42857142857144, 372.42857142857144, 362.42857142857144, 334.85714285714283, 315.42857142857144, 315.2857142857143, 333.42857142857144, 324.0, 340.14285714285717, 368.0, 377.2857142857143, 392.85714285714283, 377.85714285714283, 382.0, 385.85714285714283, 385.57142857142856, 379.0, 385.85714285714283, 384.85714285714283, 395.42857142857144, 395.7142857142857, 400.14285714285717, 401.42857142857144, 379.57142857142856, 373.0, 369.0, 369.14285714285717, 366.14285714285717, 375.14285714285717, 373.14285714285717, 389.42857142857144, 384.7142857142857, 391.57142857142856, 387.57142857142856, 381.85714285714283, 373.14285714285717, 375.7142857142857, 374.0, 384.2857142857143, 384.42857142857144, 393.7142857142857, 400.0, 411.57142857142856, 422.2857142857143, 434.2857142857143, 437.42857142857144, 442.2857142857143, 453.14285714285717, 473.7142857142857, 486.14285714285717, 482.14285714285717, 475.57142857142856, 473.42857142857144, 469.85714285714283, 459.14285714285717, 434.2857142857143, 425.57142857142856, 422.42857142857144, 413.57142857142856, 418.85714285714283, 420.57142857142856, 429.14285714285717, 449.2857142857143, 443.0, 449.57142857142856, 447.57142857142856, 431.57142857142856, 436.42857142857144, 422.57142857142856, 396.42857142857144, 389.0, 371.57142857142856, 367.42857142857144, 364.2857142857143, 352.7142857142857, 352.0, 355.0, 352.0, 362.85714285714283, 359.2857142857143, 354.14285714285717, 345.85714285714283, 342.2857142857143, 344.14285714285717, 346.2857142857143, 344.0, 347.7142857142857, 358.85714285714283, 360.85714285714283, 356.85714285714283, 352.2857142857143, 344.7142857142857, 321.2857142857143, 315.14285714285717, 312.57142857142856, 318.57142857142856, 317.57142857142856, 322.14285714285717, 317.7142857142857, 333.42857142857144, 323.42857142857144, 319.42857142857144, 316.0, 321.7142857142857, 312.7142857142857, 307.0, 299.42857142857144, 305.7142857142857, 309.85714285714283, 312.7142857142857, 310.7142857142857, 314.7142857142857, 320.7142857142857, 321.7142857142857, 330.42857142857144, 334.7142857142857, 339.57142857142856, 343.14285714285717, 354.42857142857144, 365.85714285714283, 382.0, 394.14285714285717, 397.2857142857143, 392.14285714285717, 394.57142857142856, 413.2857142857143, 419.42857142857144, 417.42857142857144, 414.2857142857143, 416.2857142857143, 423.14285714285717, 432.42857142857144, 417.0, 412.2857142857143, 419.57142857142856, 428.2857142857143, 423.42857142857144, 419.0, 418.85714285714283, 426.0, 428.0, 431.2857142857143, 427.85714285714283, 431.85714285714283, 435.7142857142857, 441.2857142857143, 424.85714285714283, 433.14285714285717, 431.0, 442.7142857142857, 445.2857142857143, 440.14285714285717, 419.2857142857143, 430.57142857142856, 431.14285714285717, 439.0, 432.7142857142857, 432.7142857142857, 423.14285714285717, 432.14285714285717, 431.2857142857143, 426.57142857142856, 411.14285714285717, 408.14285714285717, 399.7142857142857, 409.7142857142857, 406.7142857142857, 404.85714285714283, 389.57142857142856, 385.2857142857143, 375.0, 380.2857142857143, 372.85714285714283, 374.85714285714283, 371.42857142857144, 383.57142857142856, 377.57142857142856, 368.85714285714283, 357.85714285714283, 356.42857142857144, 351.0, 356.2857142857143, 355.7142857142857, 364.14285714285717, 369.0, 378.7142857142857, 380.7142857142857, 388.85714285714283, 383.85714285714283, 375.2857142857143, 372.14285714285717, 377.85714285714283, 372.42857142857144, 372.42857142857144, 370.42857142857144, 365.85714285714283, 364.14285714285717, 353.7142857142857, 349.57142857142856, 339.42857142857144, 346.57142857142856, 334.7142857142857, 327.7142857142857, 334.14285714285717, 339.0, 353.0, 368.7142857142857, 362.57142857142856, 377.57142857142856, 393.7142857142857, 394.14285714285717, 397.57142857142856, 380.14285714285717, 368.14285714285717, 365.42857142857144, 361.0, 358.2857142857143, 357.85714285714283, 366.42857142857144, 370.7142857142857, 368.57142857142856, 373.85714285714283, 381.14285714285717, 377.2857142857143, 378.14285714285717, 376.57142857142856, 397.85714285714283, 406.0, 405.57142857142856, 381.14285714285717, 357.14285714285717, 336.85714285714283, 315.2857142857143, 271.85714285714283, 256.14285714285717, 241.42857142857142, 237.42857142857142], \"yaxis\": \"y\"}, {\"hovertemplate\": \"variable=nb_accidents<br>date=%{x}<br>value=%{y}<extra></extra>\", \"legendgroup\": \"nb_accidents\", \"line\": {\"color\": \"#EF553B\", \"dash\": \"solid\"}, \"mode\": \"lines\", \"name\": \"nb_accidents\", \"orientation\": \"v\", \"showlegend\": true, \"type\": \"scatter\", \"x\": [\"2018-01-01T00:00:00\", \"2018-01-02T00:00:00\", \"2018-01-03T00:00:00\", \"2018-01-04T00:00:00\", \"2018-01-05T00:00:00\", \"2018-01-06T00:00:00\", \"2018-01-07T00:00:00\", \"2018-01-08T00:00:00\", \"2018-01-09T00:00:00\", \"2018-01-10T00:00:00\", \"2018-01-11T00:00:00\", \"2018-01-12T00:00:00\", \"2018-01-13T00:00:00\", \"2018-01-14T00:00:00\", \"2018-01-15T00:00:00\", \"2018-01-16T00:00:00\", \"2018-01-17T00:00:00\", \"2018-01-18T00:00:00\", \"2018-01-19T00:00:00\", \"2018-01-20T00:00:00\", \"2018-01-21T00:00:00\", \"2018-01-22T00:00:00\", \"2018-01-23T00:00:00\", \"2018-01-24T00:00:00\", \"2018-01-25T00:00:00\", \"2018-01-26T00:00:00\", \"2018-01-27T00:00:00\", \"2018-01-28T00:00:00\", \"2018-01-29T00:00:00\", \"2018-01-30T00:00:00\", \"2018-01-31T00:00:00\", \"2018-02-01T00:00:00\", \"2018-02-02T00:00:00\", \"2018-02-03T00:00:00\", \"2018-02-04T00:00:00\", \"2018-02-05T00:00:00\", \"2018-02-06T00:00:00\", \"2018-02-07T00:00:00\", \"2018-02-08T00:00:00\", \"2018-02-09T00:00:00\", \"2018-02-10T00:00:00\", \"2018-02-11T00:00:00\", \"2018-02-12T00:00:00\", \"2018-02-13T00:00:00\", \"2018-02-14T00:00:00\", \"2018-02-15T00:00:00\", \"2018-02-16T00:00:00\", \"2018-02-17T00:00:00\", \"2018-02-18T00:00:00\", \"2018-02-19T00:00:00\", \"2018-02-20T00:00:00\", \"2018-02-21T00:00:00\", \"2018-02-22T00:00:00\", \"2018-02-23T00:00:00\", \"2018-02-24T00:00:00\", \"2018-02-25T00:00:00\", \"2018-02-26T00:00:00\", \"2018-02-27T00:00:00\", \"2018-02-28T00:00:00\", \"2018-03-01T00:00:00\", \"2018-03-02T00:00:00\", \"2018-03-03T00:00:00\", \"2018-03-04T00:00:00\", \"2018-03-05T00:00:00\", \"2018-03-06T00:00:00\", \"2018-03-07T00:00:00\", \"2018-03-08T00:00:00\", \"2018-03-09T00:00:00\", \"2018-03-10T00:00:00\", \"2018-03-11T00:00:00\", \"2018-03-12T00:00:00\", \"2018-03-13T00:00:00\", \"2018-03-14T00:00:00\", \"2018-03-15T00:00:00\", \"2018-03-16T00:00:00\", \"2018-03-17T00:00:00\", \"2018-03-18T00:00:00\", \"2018-03-19T00:00:00\", \"2018-03-20T00:00:00\", \"2018-03-21T00:00:00\", \"2018-03-22T00:00:00\", \"2018-03-23T00:00:00\", \"2018-03-24T00:00:00\", \"2018-03-25T00:00:00\", \"2018-03-26T00:00:00\", \"2018-03-27T00:00:00\", \"2018-03-28T00:00:00\", \"2018-03-29T00:00:00\", \"2018-03-30T00:00:00\", \"2018-03-31T00:00:00\", \"2018-04-01T00:00:00\", \"2018-04-02T00:00:00\", \"2018-04-03T00:00:00\", \"2018-04-04T00:00:00\", \"2018-04-05T00:00:00\", \"2018-04-06T00:00:00\", \"2018-04-07T00:00:00\", \"2018-04-08T00:00:00\", \"2018-04-09T00:00:00\", \"2018-04-10T00:00:00\", \"2018-04-11T00:00:00\", \"2018-04-12T00:00:00\", \"2018-04-13T00:00:00\", \"2018-04-14T00:00:00\", \"2018-04-15T00:00:00\", \"2018-04-16T00:00:00\", \"2018-04-17T00:00:00\", \"2018-04-18T00:00:00\", \"2018-04-19T00:00:00\", \"2018-04-20T00:00:00\", \"2018-04-21T00:00:00\", \"2018-04-22T00:00:00\", \"2018-04-23T00:00:00\", \"2018-04-24T00:00:00\", \"2018-04-25T00:00:00\", \"2018-04-26T00:00:00\", \"2018-04-27T00:00:00\", \"2018-04-28T00:00:00\", \"2018-04-29T00:00:00\", \"2018-04-30T00:00:00\", \"2018-05-01T00:00:00\", \"2018-05-02T00:00:00\", \"2018-05-03T00:00:00\", \"2018-05-04T00:00:00\", \"2018-05-05T00:00:00\", \"2018-05-06T00:00:00\", \"2018-05-07T00:00:00\", \"2018-05-08T00:00:00\", \"2018-05-09T00:00:00\", \"2018-05-10T00:00:00\", \"2018-05-11T00:00:00\", \"2018-05-12T00:00:00\", \"2018-05-13T00:00:00\", \"2018-05-14T00:00:00\", \"2018-05-15T00:00:00\", \"2018-05-16T00:00:00\", \"2018-05-17T00:00:00\", \"2018-05-18T00:00:00\", \"2018-05-19T00:00:00\", \"2018-05-20T00:00:00\", \"2018-05-21T00:00:00\", \"2018-05-22T00:00:00\", \"2018-05-23T00:00:00\", \"2018-05-24T00:00:00\", \"2018-05-25T00:00:00\", \"2018-05-26T00:00:00\", \"2018-05-27T00:00:00\", \"2018-05-28T00:00:00\", \"2018-05-29T00:00:00\", \"2018-05-30T00:00:00\", \"2018-05-31T00:00:00\", \"2018-06-01T00:00:00\", \"2018-06-02T00:00:00\", \"2018-06-03T00:00:00\", \"2018-06-04T00:00:00\", \"2018-06-05T00:00:00\", \"2018-06-06T00:00:00\", \"2018-06-07T00:00:00\", \"2018-06-08T00:00:00\", \"2018-06-09T00:00:00\", \"2018-06-10T00:00:00\", \"2018-06-11T00:00:00\", \"2018-06-12T00:00:00\", \"2018-06-13T00:00:00\", \"2018-06-14T00:00:00\", \"2018-06-15T00:00:00\", \"2018-06-16T00:00:00\", \"2018-06-17T00:00:00\", \"2018-06-18T00:00:00\", \"2018-06-19T00:00:00\", \"2018-06-20T00:00:00\", \"2018-06-21T00:00:00\", \"2018-06-22T00:00:00\", \"2018-06-23T00:00:00\", \"2018-06-24T00:00:00\", \"2018-06-25T00:00:00\", \"2018-06-26T00:00:00\", \"2018-06-27T00:00:00\", \"2018-06-28T00:00:00\", \"2018-06-29T00:00:00\", \"2018-06-30T00:00:00\", \"2018-07-01T00:00:00\", \"2018-07-02T00:00:00\", \"2018-07-03T00:00:00\", \"2018-07-04T00:00:00\", \"2018-07-05T00:00:00\", \"2018-07-06T00:00:00\", \"2018-07-07T00:00:00\", \"2018-07-08T00:00:00\", \"2018-07-09T00:00:00\", \"2018-07-10T00:00:00\", \"2018-07-11T00:00:00\", \"2018-07-12T00:00:00\", \"2018-07-13T00:00:00\", \"2018-07-14T00:00:00\", \"2018-07-15T00:00:00\", \"2018-07-16T00:00:00\", \"2018-07-17T00:00:00\", \"2018-07-18T00:00:00\", \"2018-07-19T00:00:00\", \"2018-07-20T00:00:00\", \"2018-07-21T00:00:00\", \"2018-07-22T00:00:00\", \"2018-07-23T00:00:00\", \"2018-07-24T00:00:00\", \"2018-07-25T00:00:00\", \"2018-07-26T00:00:00\", \"2018-07-27T00:00:00\", \"2018-07-28T00:00:00\", \"2018-07-29T00:00:00\", \"2018-07-30T00:00:00\", \"2018-07-31T00:00:00\", \"2018-08-01T00:00:00\", \"2018-08-02T00:00:00\", \"2018-08-03T00:00:00\", \"2018-08-04T00:00:00\", \"2018-08-05T00:00:00\", \"2018-08-06T00:00:00\", \"2018-08-07T00:00:00\", \"2018-08-08T00:00:00\", \"2018-08-09T00:00:00\", \"2018-08-10T00:00:00\", \"2018-08-11T00:00:00\", \"2018-08-12T00:00:00\", \"2018-08-13T00:00:00\", \"2018-08-14T00:00:00\", \"2018-08-15T00:00:00\", \"2018-08-16T00:00:00\", \"2018-08-17T00:00:00\", \"2018-08-18T00:00:00\", \"2018-08-19T00:00:00\", \"2018-08-20T00:00:00\", \"2018-08-21T00:00:00\", \"2018-08-22T00:00:00\", \"2018-08-23T00:00:00\", \"2018-08-24T00:00:00\", \"2018-08-25T00:00:00\", \"2018-08-26T00:00:00\", \"2018-08-27T00:00:00\", \"2018-08-28T00:00:00\", \"2018-08-29T00:00:00\", \"2018-08-30T00:00:00\", \"2018-08-31T00:00:00\", \"2018-09-01T00:00:00\", \"2018-09-02T00:00:00\", \"2018-09-03T00:00:00\", \"2018-09-04T00:00:00\", \"2018-09-05T00:00:00\", \"2018-09-06T00:00:00\", \"2018-09-07T00:00:00\", \"2018-09-08T00:00:00\", \"2018-09-09T00:00:00\", \"2018-09-10T00:00:00\", \"2018-09-11T00:00:00\", \"2018-09-12T00:00:00\", \"2018-09-13T00:00:00\", \"2018-09-14T00:00:00\", \"2018-09-15T00:00:00\", \"2018-09-16T00:00:00\", \"2018-09-17T00:00:00\", \"2018-09-18T00:00:00\", \"2018-09-19T00:00:00\", \"2018-09-20T00:00:00\", \"2018-09-21T00:00:00\", \"2018-09-22T00:00:00\", \"2018-09-23T00:00:00\", \"2018-09-24T00:00:00\", \"2018-09-25T00:00:00\", \"2018-09-26T00:00:00\", \"2018-09-27T00:00:00\", \"2018-09-28T00:00:00\", \"2018-09-29T00:00:00\", \"2018-09-30T00:00:00\", \"2018-10-01T00:00:00\", \"2018-10-02T00:00:00\", \"2018-10-03T00:00:00\", \"2018-10-04T00:00:00\", \"2018-10-05T00:00:00\", \"2018-10-06T00:00:00\", \"2018-10-07T00:00:00\", \"2018-10-08T00:00:00\", \"2018-10-09T00:00:00\", \"2018-10-10T00:00:00\", \"2018-10-11T00:00:00\", \"2018-10-12T00:00:00\", \"2018-10-13T00:00:00\", \"2018-10-14T00:00:00\", \"2018-10-15T00:00:00\", \"2018-10-16T00:00:00\", \"2018-10-17T00:00:00\", \"2018-10-18T00:00:00\", \"2018-10-19T00:00:00\", \"2018-10-20T00:00:00\", \"2018-10-21T00:00:00\", \"2018-10-22T00:00:00\", \"2018-10-23T00:00:00\", \"2018-10-24T00:00:00\", \"2018-10-25T00:00:00\", \"2018-10-26T00:00:00\", \"2018-10-27T00:00:00\", \"2018-10-28T00:00:00\", \"2018-10-29T00:00:00\", \"2018-10-30T00:00:00\", \"2018-10-31T00:00:00\", \"2018-11-01T00:00:00\", \"2018-11-02T00:00:00\", \"2018-11-03T00:00:00\", \"2018-11-04T00:00:00\", \"2018-11-05T00:00:00\", \"2018-11-06T00:00:00\", \"2018-11-07T00:00:00\", \"2018-11-08T00:00:00\", \"2018-11-09T00:00:00\", \"2018-11-10T00:00:00\", \"2018-11-11T00:00:00\", \"2018-11-12T00:00:00\", \"2018-11-13T00:00:00\", \"2018-11-14T00:00:00\", \"2018-11-15T00:00:00\", \"2018-11-16T00:00:00\", \"2018-11-17T00:00:00\", \"2018-11-18T00:00:00\", \"2018-11-19T00:00:00\", \"2018-11-20T00:00:00\", \"2018-11-21T00:00:00\", \"2018-11-22T00:00:00\", \"2018-11-23T00:00:00\", \"2018-11-24T00:00:00\", \"2018-11-25T00:00:00\", \"2018-11-26T00:00:00\", \"2018-11-27T00:00:00\", \"2018-11-28T00:00:00\", \"2018-11-29T00:00:00\", \"2018-11-30T00:00:00\", \"2018-12-01T00:00:00\", \"2018-12-02T00:00:00\", \"2018-12-03T00:00:00\", \"2018-12-04T00:00:00\", \"2018-12-05T00:00:00\", \"2018-12-06T00:00:00\", \"2018-12-07T00:00:00\", \"2018-12-08T00:00:00\", \"2018-12-09T00:00:00\", \"2018-12-10T00:00:00\", \"2018-12-11T00:00:00\", \"2018-12-12T00:00:00\", \"2018-12-13T00:00:00\", \"2018-12-14T00:00:00\", \"2018-12-15T00:00:00\", \"2018-12-16T00:00:00\", \"2018-12-17T00:00:00\", \"2018-12-18T00:00:00\", \"2018-12-19T00:00:00\", \"2018-12-20T00:00:00\", \"2018-12-21T00:00:00\", \"2018-12-22T00:00:00\", \"2018-12-23T00:00:00\", \"2018-12-24T00:00:00\", \"2018-12-25T00:00:00\", \"2018-12-26T00:00:00\", \"2018-12-27T00:00:00\", \"2018-12-28T00:00:00\", \"2018-12-29T00:00:00\", \"2018-12-30T00:00:00\", \"2018-12-31T00:00:00\"], \"xaxis\": \"x\", \"y\": [null, null, null, null, null, null, 112.0, 116.28571428571429, 122.71428571428571, 131.14285714285714, 139.71428571428572, 143.0, 147.57142857142858, 149.85714285714286, 147.57142857142858, 149.14285714285714, 147.0, 146.0, 149.14285714285714, 150.85714285714286, 150.14285714285714, 154.71428571428572, 150.28571428571428, 152.71428571428572, 152.28571428571428, 151.28571428571428, 149.0, 151.0, 148.42857142857142, 149.57142857142858, 144.28571428571428, 146.28571428571428, 143.28571428571428, 144.28571428571428, 142.85714285714286, 141.0, 137.57142857142858, 131.85714285714286, 121.28571428571429, 111.42857142857143, 109.57142857142857, 108.14285714285714, 112.28571428571429, 117.14285714285714, 121.0, 124.71428571428571, 136.28571428571428, 138.42857142857142, 139.85714285714286, 135.71428571428572, 130.0, 130.71428571428572, 129.57142857142858, 126.28571428571429, 120.57142857142857, 120.28571428571429, 115.0, 114.28571428571429, 110.42857142857143, 107.57142857142857, 106.28571428571429, 109.42857142857143, 111.14285714285714, 116.42857142857143, 120.28571428571429, 124.71428571428571, 130.71428571428572, 131.14285714285714, 132.85714285714286, 129.71428571428572, 133.71428571428572, 134.0, 137.42857142857142, 140.14285714285714, 143.0, 143.14285714285714, 144.42857142857142, 139.57142857142858, 135.28571428571428, 132.57142857142858, 126.57142857142857, 125.14285714285714, 127.0, 128.85714285714286, 128.42857142857142, 131.0, 134.57142857142858, 138.0, 138.42857142857142, 137.28571428571428, 136.28571428571428, 132.42857142857142, 137.71428571428572, 133.0, 132.14285714285714, 146.42857142857142, 150.42857142857142, 152.57142857142858, 159.57142857142858, 156.42857142857142, 162.28571428571428, 169.0, 158.14285714285714, 156.57142857142858, 157.28571428571428, 159.0, 164.0, 168.71428571428572, 170.71428571428572, 174.14285714285714, 181.14285714285714, 186.28571428571428, 184.28571428571428, 186.0, 181.57142857142858, 176.14285714285714, 172.28571428571428, 164.57142857142858, 158.0, 159.14285714285714, 149.0, 146.71428571428572, 143.57142857142858, 145.0, 154.57142857142858, 160.57142857142858, 164.71428571428572, 165.14285714285714, 168.14285714285714, 163.71428571428572, 160.0, 148.42857142857142, 139.42857142857142, 138.85714285714286, 146.42857142857142, 143.28571428571428, 150.85714285714286, 161.85714285714286, 165.14285714285714, 173.14285714285714, 166.0, 169.14285714285714, 170.57142857142858, 172.42857142857142, 171.42857142857142, 173.42857142857142, 170.71428571428572, 176.71428571428572, 174.71428571428572, 176.57142857142858, 176.85714285714286, 167.71428571428572, 168.14285714285714, 168.85714285714286, 168.57142857142858, 168.85714285714286, 170.42857142857142, 167.42857142857142, 173.57142857142858, 172.42857142857142, 173.42857142857142, 169.28571428571428, 167.28571428571428, 164.42857142857142, 167.85714285714286, 167.0, 170.57142857142858, 171.0, 177.57142857142858, 180.14285714285714, 184.57142857142858, 189.28571428571428, 194.57142857142858, 196.42857142857142, 199.14285714285714, 203.0, 208.42857142857142, 214.42857142857142, 212.85714285714286, 209.28571428571428, 207.71428571428572, 206.85714285714286, 204.14285714285714, 196.57142857142858, 192.85714285714286, 189.57142857142858, 186.28571428571428, 185.85714285714286, 185.71428571428572, 186.57142857142858, 193.28571428571428, 190.57142857142858, 192.57142857142858, 192.0, 188.0, 190.71428571428572, 186.42857142857142, 175.28571428571428, 170.14285714285714, 165.28571428571428, 163.14285714285714, 161.0, 154.28571428571428, 151.85714285714286, 153.85714285714286, 153.57142857142858, 156.14285714285714, 155.71428571428572, 154.14285714285714, 153.42857142857142, 151.14285714285714, 152.14285714285714, 153.0, 152.28571428571428, 152.28571428571428, 156.14285714285714, 155.28571428571428, 156.71428571428572, 154.14285714285714, 150.85714285714286, 141.42857142857142, 138.0, 134.71428571428572, 136.28571428571428, 134.28571428571428, 135.14285714285714, 133.14285714285714, 138.0, 133.71428571428572, 133.71428571428572, 133.0, 135.71428571428572, 133.85714285714286, 132.28571428571428, 131.0, 134.42857142857142, 134.14285714285714, 134.42857142857142, 133.57142857142858, 135.0, 136.85714285714286, 136.71428571428572, 140.28571428571428, 144.57142857142858, 148.85714285714286, 150.57142857142858, 155.42857142857142, 161.0, 168.42857142857142, 174.0, 175.14285714285714, 171.42857142857142, 173.14285714285714, 180.85714285714286, 185.0, 184.0, 184.28571428571428, 187.14285714285714, 188.57142857142858, 192.28571428571428, 185.71428571428572, 183.71428571428572, 188.42857142857142, 192.14285714285714, 188.42857142857142, 189.28571428571428, 189.28571428571428, 194.0, 195.14285714285714, 194.85714285714286, 191.85714285714286, 193.0, 193.42857142857142, 194.57142857142858, 186.28571428571428, 188.28571428571428, 189.0, 195.57142857142858, 197.57142857142858, 197.0, 190.42857142857142, 194.57142857142858, 195.42857142857142, 200.85714285714286, 196.57142857142858, 197.14285714285714, 191.71428571428572, 196.14285714285714, 197.42857142857142, 196.0, 186.14285714285714, 184.57142857142858, 181.14285714285714, 187.28571428571428, 185.57142857142858, 184.0, 176.0, 174.71428571428572, 169.57142857142858, 169.42857142857142, 165.28571428571428, 163.28571428571428, 162.14285714285714, 167.28571428571428, 162.42857142857142, 158.14285714285714, 154.28571428571428, 152.42857142857142, 151.28571428571428, 153.42857142857142, 154.0, 158.85714285714286, 162.28571428571428, 166.71428571428572, 169.57142857142858, 173.71428571428572, 171.0, 168.0, 167.28571428571428, 170.71428571428572, 170.57142857142858, 169.14285714285714, 168.71428571428572, 167.85714285714286, 166.0, 163.0, 162.42857142857142, 157.0, 160.0, 154.42857142857142, 150.57142857142858, 154.0, 155.28571428571428, 159.71428571428572, 165.57142857142858, 164.28571428571428, 171.57142857142858, 175.85714285714286, 174.85714285714286, 175.85714285714286, 167.14285714285714, 162.71428571428572, 161.0, 158.28571428571428, 158.85714285714286, 160.28571428571428, 163.85714285714286, 167.0, 166.28571428571428, 168.0, 170.28571428571428, 170.28571428571428, 168.85714285714286, 168.14285714285714, 177.28571428571428, 179.85714285714286, 176.42857142857142, 167.28571428571428, 152.14285714285714, 144.71428571428572, 134.28571428571428, 113.85714285714286, 106.42857142857143, 102.57142857142857, 99.71428571428571], \"yaxis\": \"y\"}],                        {\"legend\": {\"title\": {\"text\": \"variable\"}, \"tracegroupgap\": 0}, \"margin\": {\"t\": 60}, \"template\": {\"data\": {\"bar\": [{\"error_x\": {\"color\": \"#2a3f5f\"}, \"error_y\": {\"color\": \"#2a3f5f\"}, \"marker\": {\"line\": {\"color\": \"#E5ECF6\", \"width\": 0.5}}, \"type\": \"bar\"}], \"barpolar\": [{\"marker\": {\"line\": {\"color\": \"#E5ECF6\", \"width\": 0.5}}, \"type\": \"barpolar\"}], \"carpet\": [{\"aaxis\": {\"endlinecolor\": \"#2a3f5f\", \"gridcolor\": \"white\", \"linecolor\": \"white\", \"minorgridcolor\": \"white\", \"startlinecolor\": \"#2a3f5f\"}, \"baxis\": {\"endlinecolor\": \"#2a3f5f\", \"gridcolor\": \"white\", \"linecolor\": \"white\", \"minorgridcolor\": \"white\", \"startlinecolor\": \"#2a3f5f\"}, \"type\": \"carpet\"}], \"choropleth\": [{\"colorbar\": {\"outlinewidth\": 0, \"ticks\": \"\"}, \"type\": \"choropleth\"}], \"contour\": [{\"colorbar\": {\"outlinewidth\": 0, \"ticks\": \"\"}, \"colorscale\": [[0.0, \"#0d0887\"], [0.1111111111111111, \"#46039f\"], [0.2222222222222222, \"#7201a8\"], [0.3333333333333333, \"#9c179e\"], [0.4444444444444444, \"#bd3786\"], [0.5555555555555556, \"#d8576b\"], [0.6666666666666666, \"#ed7953\"], [0.7777777777777778, \"#fb9f3a\"], [0.8888888888888888, \"#fdca26\"], [1.0, \"#f0f921\"]], \"type\": \"contour\"}], \"contourcarpet\": [{\"colorbar\": {\"outlinewidth\": 0, \"ticks\": \"\"}, \"type\": \"contourcarpet\"}], \"heatmap\": [{\"colorbar\": {\"outlinewidth\": 0, \"ticks\": \"\"}, \"colorscale\": [[0.0, \"#0d0887\"], [0.1111111111111111, \"#46039f\"], [0.2222222222222222, \"#7201a8\"], [0.3333333333333333, \"#9c179e\"], [0.4444444444444444, \"#bd3786\"], [0.5555555555555556, \"#d8576b\"], [0.6666666666666666, \"#ed7953\"], [0.7777777777777778, \"#fb9f3a\"], [0.8888888888888888, \"#fdca26\"], [1.0, \"#f0f921\"]], \"type\": \"heatmap\"}], \"heatmapgl\": [{\"colorbar\": {\"outlinewidth\": 0, \"ticks\": \"\"}, \"colorscale\": [[0.0, \"#0d0887\"], [0.1111111111111111, \"#46039f\"], [0.2222222222222222, \"#7201a8\"], [0.3333333333333333, \"#9c179e\"], [0.4444444444444444, \"#bd3786\"], [0.5555555555555556, \"#d8576b\"], [0.6666666666666666, \"#ed7953\"], [0.7777777777777778, \"#fb9f3a\"], [0.8888888888888888, \"#fdca26\"], [1.0, \"#f0f921\"]], \"type\": \"heatmapgl\"}], \"histogram\": [{\"marker\": {\"colorbar\": {\"outlinewidth\": 0, \"ticks\": \"\"}}, \"type\": \"histogram\"}], \"histogram2d\": [{\"colorbar\": {\"outlinewidth\": 0, \"ticks\": \"\"}, \"colorscale\": [[0.0, \"#0d0887\"], [0.1111111111111111, \"#46039f\"], [0.2222222222222222, \"#7201a8\"], [0.3333333333333333, \"#9c179e\"], [0.4444444444444444, \"#bd3786\"], [0.5555555555555556, \"#d8576b\"], [0.6666666666666666, \"#ed7953\"], [0.7777777777777778, \"#fb9f3a\"], [0.8888888888888888, \"#fdca26\"], [1.0, \"#f0f921\"]], \"type\": \"histogram2d\"}], \"histogram2dcontour\": [{\"colorbar\": {\"outlinewidth\": 0, \"ticks\": \"\"}, \"colorscale\": [[0.0, \"#0d0887\"], [0.1111111111111111, \"#46039f\"], [0.2222222222222222, \"#7201a8\"], [0.3333333333333333, \"#9c179e\"], [0.4444444444444444, \"#bd3786\"], [0.5555555555555556, \"#d8576b\"], [0.6666666666666666, \"#ed7953\"], [0.7777777777777778, \"#fb9f3a\"], [0.8888888888888888, \"#fdca26\"], [1.0, \"#f0f921\"]], \"type\": \"histogram2dcontour\"}], \"mesh3d\": [{\"colorbar\": {\"outlinewidth\": 0, \"ticks\": \"\"}, \"type\": \"mesh3d\"}], \"parcoords\": [{\"line\": {\"colorbar\": {\"outlinewidth\": 0, \"ticks\": \"\"}}, \"type\": \"parcoords\"}], \"pie\": [{\"automargin\": true, \"type\": \"pie\"}], \"scatter\": [{\"marker\": {\"colorbar\": {\"outlinewidth\": 0, \"ticks\": \"\"}}, \"type\": \"scatter\"}], \"scatter3d\": [{\"line\": {\"colorbar\": {\"outlinewidth\": 0, \"ticks\": \"\"}}, \"marker\": {\"colorbar\": {\"outlinewidth\": 0, \"ticks\": \"\"}}, \"type\": \"scatter3d\"}], \"scattercarpet\": [{\"marker\": {\"colorbar\": {\"outlinewidth\": 0, \"ticks\": \"\"}}, \"type\": \"scattercarpet\"}], \"scattergeo\": [{\"marker\": {\"colorbar\": {\"outlinewidth\": 0, \"ticks\": \"\"}}, \"type\": \"scattergeo\"}], \"scattergl\": [{\"marker\": {\"colorbar\": {\"outlinewidth\": 0, \"ticks\": \"\"}}, \"type\": \"scattergl\"}], \"scattermapbox\": [{\"marker\": {\"colorbar\": {\"outlinewidth\": 0, \"ticks\": \"\"}}, \"type\": \"scattermapbox\"}], \"scatterpolar\": [{\"marker\": {\"colorbar\": {\"outlinewidth\": 0, \"ticks\": \"\"}}, \"type\": \"scatterpolar\"}], \"scatterpolargl\": [{\"marker\": {\"colorbar\": {\"outlinewidth\": 0, \"ticks\": \"\"}}, \"type\": \"scatterpolargl\"}], \"scatterternary\": [{\"marker\": {\"colorbar\": {\"outlinewidth\": 0, \"ticks\": \"\"}}, \"type\": \"scatterternary\"}], \"surface\": [{\"colorbar\": {\"outlinewidth\": 0, \"ticks\": \"\"}, \"colorscale\": [[0.0, \"#0d0887\"], [0.1111111111111111, \"#46039f\"], [0.2222222222222222, \"#7201a8\"], [0.3333333333333333, \"#9c179e\"], [0.4444444444444444, \"#bd3786\"], [0.5555555555555556, \"#d8576b\"], [0.6666666666666666, \"#ed7953\"], [0.7777777777777778, \"#fb9f3a\"], [0.8888888888888888, \"#fdca26\"], [1.0, \"#f0f921\"]], \"type\": \"surface\"}], \"table\": [{\"cells\": {\"fill\": {\"color\": \"#EBF0F8\"}, \"line\": {\"color\": \"white\"}}, \"header\": {\"fill\": {\"color\": \"#C8D4E3\"}, \"line\": {\"color\": \"white\"}}, \"type\": \"table\"}]}, \"layout\": {\"annotationdefaults\": {\"arrowcolor\": \"#2a3f5f\", \"arrowhead\": 0, \"arrowwidth\": 1}, \"autotypenumbers\": \"strict\", \"coloraxis\": {\"colorbar\": {\"outlinewidth\": 0, \"ticks\": \"\"}}, \"colorscale\": {\"diverging\": [[0, \"#8e0152\"], [0.1, \"#c51b7d\"], [0.2, \"#de77ae\"], [0.3, \"#f1b6da\"], [0.4, \"#fde0ef\"], [0.5, \"#f7f7f7\"], [0.6, \"#e6f5d0\"], [0.7, \"#b8e186\"], [0.8, \"#7fbc41\"], [0.9, \"#4d9221\"], [1, \"#276419\"]], \"sequential\": [[0.0, \"#0d0887\"], [0.1111111111111111, \"#46039f\"], [0.2222222222222222, \"#7201a8\"], [0.3333333333333333, \"#9c179e\"], [0.4444444444444444, \"#bd3786\"], [0.5555555555555556, \"#d8576b\"], [0.6666666666666666, \"#ed7953\"], [0.7777777777777778, \"#fb9f3a\"], [0.8888888888888888, \"#fdca26\"], [1.0, \"#f0f921\"]], \"sequentialminus\": [[0.0, \"#0d0887\"], [0.1111111111111111, \"#46039f\"], [0.2222222222222222, \"#7201a8\"], [0.3333333333333333, \"#9c179e\"], [0.4444444444444444, \"#bd3786\"], [0.5555555555555556, \"#d8576b\"], [0.6666666666666666, \"#ed7953\"], [0.7777777777777778, \"#fb9f3a\"], [0.8888888888888888, \"#fdca26\"], [1.0, \"#f0f921\"]]}, \"colorway\": [\"#636efa\", \"#EF553B\", \"#00cc96\", \"#ab63fa\", \"#FFA15A\", \"#19d3f3\", \"#FF6692\", \"#B6E880\", \"#FF97FF\", \"#FECB52\"], \"font\": {\"color\": \"#2a3f5f\"}, \"geo\": {\"bgcolor\": \"white\", \"lakecolor\": \"white\", \"landcolor\": \"#E5ECF6\", \"showlakes\": true, \"showland\": true, \"subunitcolor\": \"white\"}, \"hoverlabel\": {\"align\": \"left\"}, \"hovermode\": \"closest\", \"mapbox\": {\"style\": \"light\"}, \"paper_bgcolor\": \"white\", \"plot_bgcolor\": \"#E5ECF6\", \"polar\": {\"angularaxis\": {\"gridcolor\": \"white\", \"linecolor\": \"white\", \"ticks\": \"\"}, \"bgcolor\": \"#E5ECF6\", \"radialaxis\": {\"gridcolor\": \"white\", \"linecolor\": \"white\", \"ticks\": \"\"}}, \"scene\": {\"xaxis\": {\"backgroundcolor\": \"#E5ECF6\", \"gridcolor\": \"white\", \"gridwidth\": 2, \"linecolor\": \"white\", \"showbackground\": true, \"ticks\": \"\", \"zerolinecolor\": \"white\"}, \"yaxis\": {\"backgroundcolor\": \"#E5ECF6\", \"gridcolor\": \"white\", \"gridwidth\": 2, \"linecolor\": \"white\", \"showbackground\": true, \"ticks\": \"\", \"zerolinecolor\": \"white\"}, \"zaxis\": {\"backgroundcolor\": \"#E5ECF6\", \"gridcolor\": \"white\", \"gridwidth\": 2, \"linecolor\": \"white\", \"showbackground\": true, \"ticks\": \"\", \"zerolinecolor\": \"white\"}}, \"shapedefaults\": {\"line\": {\"color\": \"#2a3f5f\"}}, \"ternary\": {\"aaxis\": {\"gridcolor\": \"white\", \"linecolor\": \"white\", \"ticks\": \"\"}, \"baxis\": {\"gridcolor\": \"white\", \"linecolor\": \"white\", \"ticks\": \"\"}, \"bgcolor\": \"#E5ECF6\", \"caxis\": {\"gridcolor\": \"white\", \"linecolor\": \"white\", \"ticks\": \"\"}}, \"title\": {\"x\": 0.05}, \"xaxis\": {\"automargin\": true, \"gridcolor\": \"white\", \"linecolor\": \"white\", \"ticks\": \"\", \"title\": {\"standoff\": 15}, \"zerolinecolor\": \"white\", \"zerolinewidth\": 2}, \"yaxis\": {\"automargin\": true, \"gridcolor\": \"white\", \"linecolor\": \"white\", \"ticks\": \"\", \"title\": {\"standoff\": 15}, \"zerolinecolor\": \"white\", \"zerolinewidth\": 2}}}, \"xaxis\": {\"anchor\": \"y\", \"domain\": [0.0, 1.0], \"title\": {\"text\": \"date\"}}, \"yaxis\": {\"anchor\": \"x\", \"domain\": [0.0, 1.0], \"title\": {\"text\": \"value\"}}},                        {\"responsive\": true}                    ).then(function(){\n",
       "                            \n",
       "var gd = document.getElementById('3ff421ce-d0b2-4958-b3db-5df2a91ab8a9');\n",
       "var x = new MutationObserver(function (mutations, observer) {{\n",
       "        var display = window.getComputedStyle(gd).display;\n",
       "        if (!display || display === 'none') {{\n",
       "            console.log([gd, 'removed!']);\n",
       "            Plotly.purge(gd);\n",
       "            observer.disconnect();\n",
       "        }}\n",
       "}});\n",
       "\n",
       "// Listen for the removal of the full notebook cells\n",
       "var notebookContainer = gd.closest('#notebook-container');\n",
       "if (notebookContainer) {{\n",
       "    x.observe(notebookContainer, {childList: true});\n",
       "}}\n",
       "\n",
       "// Listen for the clearing of the current output cell\n",
       "var outputEl = gd.closest('.output');\n",
       "if (outputEl) {{\n",
       "    x.observe(outputEl, {childList: true});\n",
       "}}\n",
       "\n",
       "                        })                };                });            </script>        </div>"
      ]
     },
     "metadata": {},
     "output_type": "display_data"
    }
   ],
   "source": [
    "import datetime as dt\n",
    "\n",
    "def plot_acc_by_year(accidents_by_date, year, columns, window=7, **kwargs):\n",
    "    df = accidents_by_date.loc[accidents_by_date['date'].dt.year == year, :]\n",
    "    \n",
    "    df.loc[:, columns] = df.loc[:, columns].rolling(window).mean()\n",
    "    fig = df.plot.line(backend='plotly', x='date', y=columns, **kwargs)\n",
    "    \n",
    "    return fig\n",
    "    \n",
    "plot_acc_by_year(accidents_by_date, 2018, ['nb_victims', 'nb_accidents'])"
   ]
  },
  {
   "cell_type": "code",
   "execution_count": 221,
   "metadata": {
    "ExecuteTime": {
     "end_time": "2020-12-28T13:23:37.153121Z",
     "start_time": "2020-12-28T13:23:37.000082Z"
    },
    "scrolled": false
   },
   "outputs": [
    {
     "name": "stderr",
     "output_type": "stream",
     "text": [
      "c:\\users\\thomas.marquis\\.conda\\envs\\secu_route\\lib\\site-packages\\pandas\\core\\indexing.py:1715: SettingWithCopyWarning:\n",
      "\n",
      "\n",
      "A value is trying to be set on a copy of a slice from a DataFrame.\n",
      "Try using .loc[row_indexer,col_indexer] = value instead\n",
      "\n",
      "See the caveats in the documentation: https://pandas.pydata.org/pandas-docs/stable/user_guide/indexing.html#returning-a-view-versus-a-copy\n",
      "\n"
     ]
    },
    {
     "data": {
      "application/vnd.plotly.v1+json": {
       "config": {
        "plotlyServerURL": "https://plot.ly"
       },
       "data": [
        {
         "customdata": [
          [
           2.5047619047619047,
           "2019-01-01T00:00:00",
           1
          ],
          [
           2.2336448598130847,
           "2019-01-02T00:00:00",
           2
          ],
          [
           2.3394495412844045,
           "2019-01-03T00:00:00",
           3
          ],
          [
           2.240601503759399,
           "2019-01-04T00:00:00",
           4
          ],
          [
           2.7864077669902922,
           "2019-01-05T00:00:00",
           5
          ],
          [
           2.481927710843375,
           "2019-01-06T00:00:00",
           6
          ],
          [
           2.117647058823531,
           "2019-01-07T00:00:00",
           0
          ],
          [
           2.2039473684210544,
           "2019-01-08T00:00:00",
           1
          ],
          [
           2.3051948051948075,
           "2019-01-09T00:00:00",
           2
          ],
          [
           2.2323943661971857,
           "2019-01-10T00:00:00",
           3
          ],
          [
           2.393617021276598,
           "2019-01-11T00:00:00",
           4
          ],
          [
           2.3888888888888906,
           "2019-01-12T00:00:00",
           5
          ],
          [
           2.181818181818184,
           "2019-01-13T00:00:00",
           6
          ],
          [
           2.5070422535211296,
           "2019-01-14T00:00:00",
           0
          ],
          [
           2.217391304347829,
           "2019-01-15T00:00:00",
           1
          ],
          [
           2.1948051948051974,
           "2019-01-16T00:00:00",
           2
          ],
          [
           2.0654761904761934,
           "2019-01-17T00:00:00",
           3
          ],
          [
           2.150000000000003,
           "2019-01-18T00:00:00",
           4
          ],
          [
           2.500000000000003,
           "2019-01-19T00:00:00",
           5
          ],
          [
           2.555555555555559,
           "2019-01-20T00:00:00",
           6
          ],
          [
           2.1019108280254812,
           "2019-01-21T00:00:00",
           0
          ],
          [
           2.131782945736438,
           "2019-01-22T00:00:00",
           1
          ],
          [
           2.315315315315319,
           "2019-01-23T00:00:00",
           2
          ],
          [
           2.14383561643836,
           "2019-01-24T00:00:00",
           3
          ],
          [
           2.308219178082196,
           "2019-01-25T00:00:00",
           4
          ],
          [
           2.3028169014084545,
           "2019-01-26T00:00:00",
           5
          ],
          [
           2.215686274509808,
           "2019-01-27T00:00:00",
           6
          ],
          [
           2.173228346456697,
           "2019-01-28T00:00:00",
           0
          ],
          [
           2.090909090909095,
           "2019-01-29T00:00:00",
           1
          ],
          [
           2.271428571428575,
           "2019-01-30T00:00:00",
           2
          ],
          [
           2.0866666666666704,
           "2019-01-31T00:00:00",
           3
          ],
          [
           2.2592592592592626,
           "2019-02-01T00:00:00",
           4
          ],
          [
           2.2857142857142887,
           "2019-02-02T00:00:00",
           5
          ],
          [
           2.6041666666666696,
           "2019-02-03T00:00:00",
           6
          ],
          [
           2.0821917808219204,
           "2019-02-04T00:00:00",
           0
          ],
          [
           2.1000000000000028,
           "2019-02-05T00:00:00",
           1
          ],
          [
           2.3120567375886547,
           "2019-02-06T00:00:00",
           2
          ],
          [
           2.2500000000000027,
           "2019-02-07T00:00:00",
           3
          ],
          [
           2.2447916666666696,
           "2019-02-08T00:00:00",
           4
          ],
          [
           2.4885496183206137,
           "2019-02-09T00:00:00",
           5
          ],
          [
           2.4426229508196746,
           "2019-02-10T00:00:00",
           6
          ],
          [
           2.238095238095241,
           "2019-02-11T00:00:00",
           0
          ],
          [
           2.232258064516132,
           "2019-02-12T00:00:00",
           1
          ],
          [
           2.207547169811324,
           "2019-02-13T00:00:00",
           2
          ],
          [
           2.1871345029239797,
           "2019-02-14T00:00:00",
           3
          ],
          [
           2.242009132420094,
           "2019-02-15T00:00:00",
           4
          ],
          [
           2.3000000000000025,
           "2019-02-16T00:00:00",
           5
          ],
          [
           2.246575342465756,
           "2019-02-17T00:00:00",
           6
          ],
          [
           2.210144927536234,
           "2019-02-18T00:00:00",
           0
          ],
          [
           2.224637681159422,
           "2019-02-19T00:00:00",
           1
          ],
          [
           2.198529411764708,
           "2019-02-20T00:00:00",
           2
          ],
          [
           2.1883116883116895,
           "2019-02-21T00:00:00",
           3
          ],
          [
           2.1912568306010938,
           "2019-02-22T00:00:00",
           4
          ],
          [
           2.220779220779222,
           "2019-02-23T00:00:00",
           5
          ],
          [
           2.2357723577235777,
           "2019-02-24T00:00:00",
           6
          ],
          [
           2.1461988304093578,
           "2019-02-25T00:00:00",
           0
          ],
          [
           2.231707317073172,
           "2019-02-26T00:00:00",
           1
          ],
          [
           2.1533333333333347,
           "2019-02-27T00:00:00",
           2
          ],
          [
           2.1301369863013706,
           "2019-02-28T00:00:00",
           3
          ],
          [
           2.153846153846155,
           "2019-03-01T00:00:00",
           4
          ],
          [
           2.1779661016949166,
           "2019-03-02T00:00:00",
           5
          ],
          [
           2.0743801652892575,
           "2019-03-03T00:00:00",
           6
          ],
          [
           2.3333333333333353,
           "2019-03-04T00:00:00",
           0
          ],
          [
           2.1458333333333353,
           "2019-03-05T00:00:00",
           1
          ],
          [
           2.23529411764706,
           "2019-03-06T00:00:00",
           2
          ],
          [
           2.3066666666666675,
           "2019-03-07T00:00:00",
           3
          ],
          [
           2.0538922155688635,
           "2019-03-08T00:00:00",
           4
          ],
          [
           2.2954545454545463,
           "2019-03-09T00:00:00",
           5
          ],
          [
           2.3387096774193554,
           "2019-03-10T00:00:00",
           6
          ],
          [
           2.2348484848484853,
           "2019-03-11T00:00:00",
           0
          ],
          [
           2.1205673758865253,
           "2019-03-12T00:00:00",
           1
          ],
          [
           2.1942446043165473,
           "2019-03-13T00:00:00",
           2
          ],
          [
           2.091503267973857,
           "2019-03-14T00:00:00",
           3
          ],
          [
           2.180722891566266,
           "2019-03-15T00:00:00",
           4
          ],
          [
           2.285714285714287,
           "2019-03-16T00:00:00",
           5
          ],
          [
           2.4910714285714297,
           "2019-03-17T00:00:00",
           6
          ],
          [
           2.317880794701988,
           "2019-03-18T00:00:00",
           0
          ],
          [
           2.2119205298013256,
           "2019-03-19T00:00:00",
           1
          ],
          [
           2.1724137931034493,
           "2019-03-20T00:00:00",
           2
          ],
          [
           2.131868131868133,
           "2019-03-21T00:00:00",
           3
          ],
          [
           2.2701421800947883,
           "2019-03-22T00:00:00",
           4
          ],
          [
           2.502857142857144,
           "2019-03-23T00:00:00",
           5
          ],
          [
           2.2539682539682557,
           "2019-03-24T00:00:00",
           6
          ],
          [
           2.1744966442953038,
           "2019-03-25T00:00:00",
           0
          ],
          [
           2.1314285714285726,
           "2019-03-26T00:00:00",
           1
          ],
          [
           2.1344086021505384,
           "2019-03-27T00:00:00",
           2
          ],
          [
           2.2937500000000015,
           "2019-03-28T00:00:00",
           3
          ],
          [
           2.252475247524754,
           "2019-03-29T00:00:00",
           4
          ],
          [
           2.3085714285714305,
           "2019-03-30T00:00:00",
           5
          ],
          [
           2.3010752688172067,
           "2019-03-31T00:00:00",
           6
          ],
          [
           2.1418439716312085,
           "2019-04-01T00:00:00",
           0
          ],
          [
           2.324840764331213,
           "2019-04-02T00:00:00",
           1
          ],
          [
           2.330935251798564,
           "2019-04-03T00:00:00",
           2
          ],
          [
           2.265625000000003,
           "2019-04-04T00:00:00",
           3
          ],
          [
           2.219251336898399,
           "2019-04-05T00:00:00",
           4
          ],
          [
           2.1913580246913607,
           "2019-04-06T00:00:00",
           5
          ],
          [
           2.45689655172414,
           "2019-04-07T00:00:00",
           6
          ],
          [
           2.1586206896551747,
           "2019-04-08T00:00:00",
           0
          ],
          [
           2.0400000000000023,
           "2019-04-09T00:00:00",
           1
          ],
          [
           2.1609195402298873,
           "2019-04-10T00:00:00",
           2
          ],
          [
           2.164634146341465,
           "2019-04-11T00:00:00",
           3
          ],
          [
           2.3186813186813207,
           "2019-04-12T00:00:00",
           4
          ],
          [
           2.55487804878049,
           "2019-04-13T00:00:00",
           5
          ],
          [
           2.294117647058826,
           "2019-04-14T00:00:00",
           6
          ],
          [
           2.1037037037037063,
           "2019-04-15T00:00:00",
           0
          ],
          [
           2.155405405405408,
           "2019-04-16T00:00:00",
           1
          ],
          [
           2.207100591715979,
           "2019-04-17T00:00:00",
           2
          ],
          [
           2.2209302325581426,
           "2019-04-18T00:00:00",
           3
          ],
          [
           2.2623762376237653,
           "2019-04-19T00:00:00",
           4
          ],
          [
           2.255434782608699,
           "2019-04-20T00:00:00",
           5
          ],
          [
           2.1076923076923104,
           "2019-04-21T00:00:00",
           6
          ],
          [
           2.3495934959349625,
           "2019-04-22T00:00:00",
           0
          ],
          [
           2.315789473684214,
           "2019-04-23T00:00:00",
           1
          ],
          [
           2.2056737588652524,
           "2019-04-24T00:00:00",
           2
          ],
          [
           2.1517241379310383,
           "2019-04-25T00:00:00",
           3
          ],
          [
           2.254054054054058,
           "2019-04-26T00:00:00",
           4
          ],
          [
           2.298387096774197,
           "2019-04-27T00:00:00",
           5
          ],
          [
           2.2561983471074414,
           "2019-04-28T00:00:00",
           6
          ],
          [
           2.2384615384615425,
           "2019-04-29T00:00:00",
           0
          ],
          [
           2.2181818181818223,
           "2019-04-30T00:00:00",
           1
          ],
          [
           2.2727272727272774,
           "2019-05-01T00:00:00",
           2
          ],
          [
           2.3493975903614506,
           "2019-05-02T00:00:00",
           3
          ],
          [
           2.0620689655172457,
           "2019-05-03T00:00:00",
           4
          ],
          [
           2.051851851851856,
           "2019-05-04T00:00:00",
           5
          ],
          [
           2.4615384615384657,
           "2019-05-05T00:00:00",
           6
          ],
          [
           2.2684563758389302,
           "2019-05-06T00:00:00",
           0
          ],
          [
           2.3081761006289345,
           "2019-05-07T00:00:00",
           1
          ],
          [
           2.6571428571428606,
           "2019-05-08T00:00:00",
           2
          ],
          [
           2.091549295774651,
           "2019-05-09T00:00:00",
           3
          ],
          [
           2.306818181818185,
           "2019-05-10T00:00:00",
           4
          ],
          [
           2.195945945945949,
           "2019-05-11T00:00:00",
           5
          ],
          [
           2.229166666666669,
           "2019-05-12T00:00:00",
           6
          ],
          [
           2.2051282051282075,
           "2019-05-13T00:00:00",
           0
          ],
          [
           2.2031250000000027,
           "2019-05-14T00:00:00",
           1
          ],
          [
           2.1703296703296733,
           "2019-05-15T00:00:00",
           2
          ],
          [
           2.079754601226997,
           "2019-05-16T00:00:00",
           3
          ],
          [
           2.292207792207795,
           "2019-05-17T00:00:00",
           4
          ],
          [
           2.2318840579710173,
           "2019-05-18T00:00:00",
           5
          ],
          [
           2.264462809917358,
           "2019-05-19T00:00:00",
           6
          ],
          [
           2.1468531468531493,
           "2019-05-20T00:00:00",
           0
          ],
          [
           2.0277777777777803,
           "2019-05-21T00:00:00",
           1
          ],
          [
           2.236994219653182,
           "2019-05-22T00:00:00",
           2
          ],
          [
           2.0625000000000027,
           "2019-05-23T00:00:00",
           3
          ],
          [
           2.126262626262629,
           "2019-05-24T00:00:00",
           4
          ],
          [
           2.3313609467455647,
           "2019-05-25T00:00:00",
           5
          ],
          [
           2.3708609271523207,
           "2019-05-26T00:00:00",
           6
          ],
          [
           2.183544303797471,
           "2019-05-27T00:00:00",
           0
          ],
          [
           2.155279503105593,
           "2019-05-28T00:00:00",
           1
          ],
          [
           2.2526881720430136,
           "2019-05-29T00:00:00",
           2
          ],
          [
           2.4859154929577487,
           "2019-05-30T00:00:00",
           3
          ],
          [
           2.1761658031088102,
           "2019-05-31T00:00:00",
           4
          ],
          [
           2.403409090909092,
           "2019-06-01T00:00:00",
           5
          ],
          [
           2.500000000000001,
           "2019-06-02T00:00:00",
           6
          ],
          [
           2.1089743589743595,
           "2019-06-03T00:00:00",
           0
          ],
          [
           2.2083333333333344,
           "2019-06-04T00:00:00",
           1
          ],
          [
           2.2833333333333337,
           "2019-06-05T00:00:00",
           2
          ],
          [
           2.1885714285714286,
           "2019-06-06T00:00:00",
           3
          ],
          [
           2.1761904761904756,
           "2019-06-07T00:00:00",
           4
          ],
          [
           2.1955307262569828,
           "2019-06-08T00:00:00",
           5
          ],
          [
           2.4933333333333323,
           "2019-06-09T00:00:00",
           6
          ],
          [
           2.1826086956521733,
           "2019-06-10T00:00:00",
           0
          ],
          [
           2.384146341463414,
           "2019-06-11T00:00:00",
           1
          ],
          [
           2.2513661202185777,
           "2019-06-12T00:00:00",
           2
          ],
          [
           2.177514792899407,
           "2019-06-13T00:00:00",
           3
          ],
          [
           2.194029850746267,
           "2019-06-14T00:00:00",
           4
          ],
          [
           2.3726708074534146,
           "2019-06-15T00:00:00",
           5
          ],
          [
           2.373684210526315,
           "2019-06-16T00:00:00",
           6
          ],
          [
           2.1199999999999988,
           "2019-06-17T00:00:00",
           0
          ],
          [
           2.121052631578946,
           "2019-06-18T00:00:00",
           1
          ],
          [
           2.146198830409356,
           "2019-06-19T00:00:00",
           2
          ],
          [
           2.164835164835164,
           "2019-06-20T00:00:00",
           3
          ],
          [
           2.3595041322314034,
           "2019-06-21T00:00:00",
           4
          ],
          [
           2.3717277486910975,
           "2019-06-22T00:00:00",
           5
          ],
          [
           2.35151515151515,
           "2019-06-23T00:00:00",
           6
          ],
          [
           2.2947368421052614,
           "2019-06-24T00:00:00",
           0
          ],
          [
           2.157608695652172,
           "2019-06-25T00:00:00",
           1
          ],
          [
           2.317708333333332,
           "2019-06-26T00:00:00",
           2
          ],
          [
           2.1990049751243768,
           "2019-06-27T00:00:00",
           3
          ],
          [
           2.3478260869565206,
           "2019-06-28T00:00:00",
           4
          ],
          [
           2.50802139037433,
           "2019-06-29T00:00:00",
           5
          ],
          [
           2.594444444444443,
           "2019-06-30T00:00:00",
           6
          ],
          [
           2.1878172588832467,
           "2019-07-01T00:00:00",
           0
          ],
          [
           2.1855203619909482,
           "2019-07-02T00:00:00",
           1
          ],
          [
           2.3155339805825226,
           "2019-07-03T00:00:00",
           2
          ],
          [
           2.2765957446808494,
           "2019-07-04T00:00:00",
           3
          ],
          [
           2.2813852813852793,
           "2019-07-05T00:00:00",
           4
          ],
          [
           2.3649999999999984,
           "2019-07-06T00:00:00",
           5
          ],
          [
           2.4431818181818166,
           "2019-07-07T00:00:00",
           6
          ],
          [
           2.1436781609195386,
           "2019-07-08T00:00:00",
           0
          ],
          [
           2.213930348258705,
           "2019-07-09T00:00:00",
           1
          ],
          [
           2.252631578947367,
           "2019-07-10T00:00:00",
           2
          ],
          [
           2.188172043010751,
           "2019-07-11T00:00:00",
           3
          ],
          [
           2.311004784688994,
           "2019-07-12T00:00:00",
           4
          ],
          [
           2.3988439306358362,
           "2019-07-13T00:00:00",
           5
          ],
          [
           2.3312883435582803,
           "2019-07-14T00:00:00",
           6
          ],
          [
           2.234285714285712,
           "2019-07-15T00:00:00",
           0
          ],
          [
           2.2307692307692286,
           "2019-07-16T00:00:00",
           1
          ],
          [
           2.286486486486484,
           "2019-07-17T00:00:00",
           2
          ],
          [
           2.0977011494252853,
           "2019-07-18T00:00:00",
           3
          ],
          [
           2.413407821229048,
           "2019-07-19T00:00:00",
           4
          ],
          [
           2.488764044943818,
           "2019-07-20T00:00:00",
           5
          ],
          [
           2.1265822784810102,
           "2019-07-21T00:00:00",
           6
          ],
          [
           2.2325581395348815,
           "2019-07-22T00:00:00",
           0
          ],
          [
           2.214285714285712,
           "2019-07-23T00:00:00",
           1
          ],
          [
           2.224852071005915,
           "2019-07-24T00:00:00",
           2
          ],
          [
           2.2647058823529393,
           "2019-07-25T00:00:00",
           3
          ],
          [
           2.3184357541899425,
           "2019-07-26T00:00:00",
           4
          ],
          [
           2.3254437869822473,
           "2019-07-27T00:00:00",
           5
          ],
          [
           2.1101694915254225,
           "2019-07-28T00:00:00",
           6
          ],
          [
           2.375838926174495,
           "2019-07-29T00:00:00",
           0
          ],
          [
           2.32051282051282,
           "2019-07-30T00:00:00",
           1
          ],
          [
           2.1567164179104474,
           "2019-07-31T00:00:00",
           2
          ],
          [
           2.4013605442176864,
           "2019-08-01T00:00:00",
           3
          ],
          [
           2.49438202247191,
           "2019-08-02T00:00:00",
           4
          ],
          [
           2.243055555555556,
           "2019-08-03T00:00:00",
           5
          ],
          [
           2.3671875,
           "2019-08-04T00:00:00",
           6
          ],
          [
           2.3422818791946307,
           "2019-08-05T00:00:00",
           0
          ],
          [
           2.244755244755244,
           "2019-08-06T00:00:00",
           1
          ],
          [
           2.2838709677419353,
           "2019-08-07T00:00:00",
           2
          ],
          [
           2.1301369863013693,
           "2019-08-08T00:00:00",
           3
          ],
          [
           2.4615384615384617,
           "2019-08-09T00:00:00",
           4
          ],
          [
           2.1870967741935488,
           "2019-08-10T00:00:00",
           5
          ],
          [
           2.5847457627118655,
           "2019-08-11T00:00:00",
           6
          ],
          [
           2.347826086956523,
           "2019-08-12T00:00:00",
           0
          ],
          [
           2.5000000000000013,
           "2019-08-13T00:00:00",
           1
          ],
          [
           2.1496598639455797,
           "2019-08-14T00:00:00",
           2
          ],
          [
           2.1782178217821797,
           "2019-08-15T00:00:00",
           3
          ],
          [
           2.1958041958041967,
           "2019-08-16T00:00:00",
           4
          ],
          [
           2.506578947368422,
           "2019-08-17T00:00:00",
           5
          ],
          [
           2.671875000000001,
           "2019-08-18T00:00:00",
           6
          ],
          [
           2.4107142857142865,
           "2019-08-19T00:00:00",
           0
          ],
          [
           2.304687500000001,
           "2019-08-20T00:00:00",
           1
          ],
          [
           2.3140495867768607,
           "2019-08-21T00:00:00",
           2
          ],
          [
           2.17948717948718,
           "2019-08-22T00:00:00",
           3
          ],
          [
           2.2828947368421058,
           "2019-08-23T00:00:00",
           4
          ],
          [
           2.3439490445859876,
           "2019-08-24T00:00:00",
           5
          ],
          [
           2.4774193548387102,
           "2019-08-25T00:00:00",
           6
          ],
          [
           2.341269841269842,
           "2019-08-26T00:00:00",
           0
          ],
          [
           2.2213740458015274,
           "2019-08-27T00:00:00",
           1
          ],
          [
           2.0827586206896567,
           "2019-08-28T00:00:00",
           2
          ],
          [
           2.484472049689442,
           "2019-08-29T00:00:00",
           3
          ],
          [
           2.324324324324326,
           "2019-08-30T00:00:00",
           4
          ],
          [
           2.4810810810810833,
           "2019-08-31T00:00:00",
           5
          ],
          [
           2.294117647058826,
           "2019-09-01T00:00:00",
           6
          ],
          [
           2.2272727272727293,
           "2019-09-02T00:00:00",
           0
          ],
          [
           2.2023809523809548,
           "2019-09-03T00:00:00",
           1
          ],
          [
           2.0722222222222246,
           "2019-09-04T00:00:00",
           2
          ],
          [
           2.2625000000000024,
           "2019-09-05T00:00:00",
           3
          ],
          [
           2.1548117154811743,
           "2019-09-06T00:00:00",
           4
          ],
          [
           2.30693069306931,
           "2019-09-07T00:00:00",
           5
          ],
          [
           2.4444444444444478,
           "2019-09-08T00:00:00",
           6
          ],
          [
           2.222222222222225,
           "2019-09-09T00:00:00",
           0
          ],
          [
           2.281437125748506,
           "2019-09-10T00:00:00",
           1
          ],
          [
           2.18947368421053,
           "2019-09-11T00:00:00",
           2
          ],
          [
           2.1428571428571463,
           "2019-09-12T00:00:00",
           3
          ],
          [
           2.233050847457631,
           "2019-09-13T00:00:00",
           4
          ],
          [
           2.299465240641715,
           "2019-09-14T00:00:00",
           5
          ],
          [
           2.454545454545458,
           "2019-09-15T00:00:00",
           6
          ],
          [
           2.2265193370165783,
           "2019-09-16T00:00:00",
           0
          ],
          [
           2.1882352941176513,
           "2019-09-17T00:00:00",
           1
          ],
          [
           2.1262626262626307,
           "2019-09-18T00:00:00",
           2
          ],
          [
           2.1019417475728197,
           "2019-09-19T00:00:00",
           3
          ],
          [
           2.1223628691983163,
           "2019-09-20T00:00:00",
           4
          ],
          [
           2.309210526315793,
           "2019-09-21T00:00:00",
           5
          ],
          [
           2.256578947368425,
           "2019-09-22T00:00:00",
           6
          ],
          [
           2.147727272727277,
           "2019-09-23T00:00:00",
           0
          ],
          [
           2.1228070175438636,
           "2019-09-24T00:00:00",
           1
          ],
          [
           2.170329670329674,
           "2019-09-25T00:00:00",
           2
          ],
          [
           2.1392405063291178,
           "2019-09-26T00:00:00",
           3
          ],
          [
           2.2514285714285753,
           "2019-09-27T00:00:00",
           4
          ],
          [
           2.3563218390804637,
           "2019-09-28T00:00:00",
           5
          ],
          [
           2.3013698630137025,
           "2019-09-29T00:00:00",
           6
          ],
          [
           2.270270270270274,
           "2019-09-30T00:00:00",
           0
          ],
          [
           2.1856287425149734,
           "2019-10-01T00:00:00",
           1
          ],
          [
           2.3294117647058865,
           "2019-10-02T00:00:00",
           2
          ],
          [
           2.3209876543209913,
           "2019-10-03T00:00:00",
           3
          ],
          [
           2.2864321608040235,
           "2019-10-04T00:00:00",
           4
          ],
          [
           2.35078534031414,
           "2019-10-05T00:00:00",
           5
          ],
          [
           2.3701298701298743,
           "2019-10-06T00:00:00",
           6
          ],
          [
           2.016304347826091,
           "2019-10-07T00:00:00",
           0
          ],
          [
           2.0485436893203923,
           "2019-10-08T00:00:00",
           1
          ],
          [
           2.2443181818181857,
           "2019-10-09T00:00:00",
           2
          ],
          [
           2.145000000000004,
           "2019-10-10T00:00:00",
           3
          ],
          [
           2.216450216450221,
           "2019-10-11T00:00:00",
           4
          ],
          [
           2.2679738562091543,
           "2019-10-12T00:00:00",
           5
          ],
          [
           2.1929824561403555,
           "2019-10-13T00:00:00",
           6
          ],
          [
           2.100000000000005,
           "2019-10-14T00:00:00",
           0
          ],
          [
           2.1724137931034533,
           "2019-10-15T00:00:00",
           1
          ],
          [
           2.2389937106918287,
           "2019-10-16T00:00:00",
           2
          ],
          [
           2.0207253886010412,
           "2019-10-17T00:00:00",
           3
          ],
          [
           2.286407766990296,
           "2019-10-18T00:00:00",
           4
          ],
          [
           2.3987730061349737,
           "2019-10-19T00:00:00",
           5
          ],
          [
           2.3206521739130475,
           "2019-10-20T00:00:00",
           6
          ],
          [
           2.2739726027397302,
           "2019-10-21T00:00:00",
           0
          ],
          [
           2.4522292993630614,
           "2019-10-22T00:00:00",
           1
          ],
          [
           2.1756756756756794,
           "2019-10-23T00:00:00",
           2
          ],
          [
           2.3636363636363673,
           "2019-10-24T00:00:00",
           3
          ],
          [
           2.317204301075273,
           "2019-10-25T00:00:00",
           4
          ],
          [
           2.41752577319588,
           "2019-10-26T00:00:00",
           5
          ],
          [
           2.398648648648653,
           "2019-10-27T00:00:00",
           6
          ],
          [
           2.208333333333338,
           "2019-10-28T00:00:00",
           0
          ],
          [
           2.2348993288590653,
           "2019-10-29T00:00:00",
           1
          ],
          [
           2.230769230769236,
           "2019-10-30T00:00:00",
           2
          ],
          [
           2.2362637362637416,
           "2019-10-31T00:00:00",
           3
          ],
          [
           2.440789473684216,
           "2019-11-01T00:00:00",
           4
          ],
          [
           2.6808510638297927,
           "2019-11-02T00:00:00",
           5
          ],
          [
           2.7500000000000053,
           "2019-11-03T00:00:00",
           6
          ],
          [
           2.203980099502493,
           "2019-11-04T00:00:00",
           0
          ],
          [
           2.353591160221,
           "2019-11-05T00:00:00",
           1
          ],
          [
           2.1208791208791267,
           "2019-11-06T00:00:00",
           2
          ],
          [
           2.1530612244898015,
           "2019-11-07T00:00:00",
           3
          ],
          [
           2.2692307692307745,
           "2019-11-08T00:00:00",
           4
          ],
          [
           2.4193548387096824,
           "2019-11-09T00:00:00",
           5
          ],
          [
           2.3826086956521793,
           "2019-11-10T00:00:00",
           6
          ],
          [
           2.533980582524277,
           "2019-11-11T00:00:00",
           0
          ],
          [
           2.3265306122449028,
           "2019-11-12T00:00:00",
           1
          ],
          [
           2.1385542168674747,
           "2019-11-13T00:00:00",
           2
          ],
          [
           2.3290322580645215,
           "2019-11-14T00:00:00",
           3
          ],
          [
           2.334862385321107,
           "2019-11-15T00:00:00",
           4
          ],
          [
           2.3034482758620753,
           "2019-11-16T00:00:00",
           5
          ],
          [
           2.4583333333333397,
           "2019-11-17T00:00:00",
           6
          ],
          [
           2.1111111111111174,
           "2019-11-18T00:00:00",
           0
          ],
          [
           2.142045454545461,
           "2019-11-19T00:00:00",
           1
          ],
          [
           1.9869281045751692,
           "2019-11-20T00:00:00",
           2
          ],
          [
           2.1847826086956577,
           "2019-11-21T00:00:00",
           3
          ],
          [
           2.1880733944954187,
           "2019-11-22T00:00:00",
           4
          ],
          [
           2.271523178807952,
           "2019-11-23T00:00:00",
           5
          ],
          [
           2.512195121951225,
           "2019-11-24T00:00:00",
           6
          ],
          [
           2.2824858757062194,
           "2019-11-25T00:00:00",
           0
          ],
          [
           2.124223602484477,
           "2019-11-26T00:00:00",
           1
          ],
          [
           2.132183908045983,
           "2019-11-27T00:00:00",
           2
          ],
          [
           2.1089743589743652,
           "2019-11-28T00:00:00",
           3
          ],
          [
           2.275000000000006,
           "2019-11-29T00:00:00",
           4
          ],
          [
           2.308724832214772,
           "2019-11-30T00:00:00",
           5
          ],
          [
           2.420634920634927,
           "2019-12-01T00:00:00",
           6
          ],
          [
           2.129533678756483,
           "2019-12-02T00:00:00",
           0
          ],
          [
           2.185929648241212,
           "2019-12-03T00:00:00",
           1
          ],
          [
           2.235000000000006,
           "2019-12-04T00:00:00",
           2
          ],
          [
           2.062857142857149,
           "2019-12-05T00:00:00",
           3
          ],
          [
           2.247663551401876,
           "2019-12-06T00:00:00",
           4
          ],
          [
           2.2634730538922216,
           "2019-12-07T00:00:00",
           5
          ],
          [
           2.6500000000000066,
           "2019-12-08T00:00:00",
           6
          ],
          [
           2.1029411764705945,
           "2019-12-09T00:00:00",
           0
          ],
          [
           2.1291866028708193,
           "2019-12-10T00:00:00",
           1
          ],
          [
           2.291428571428577,
           "2019-12-11T00:00:00",
           2
          ],
          [
           2.1759656652360566,
           "2019-12-12T00:00:00",
           3
          ],
          [
           2.170403587443951,
           "2019-12-13T00:00:00",
           4
          ],
          [
           2.3694267515923615,
           "2019-12-14T00:00:00",
           5
          ],
          [
           2.4689655172413842,
           "2019-12-15T00:00:00",
           6
          ],
          [
           2.122222222222227,
           "2019-12-16T00:00:00",
           0
          ],
          [
           2.1616766467065918,
           "2019-12-17T00:00:00",
           1
          ],
          [
           2.1907216494845407,
           "2019-12-18T00:00:00",
           2
          ],
          [
           2.192307692307697,
           "2019-12-19T00:00:00",
           3
          ],
          [
           2.220472440944886,
           "2019-12-20T00:00:00",
           4
          ],
          [
           2.161290322580649,
           "2019-12-21T00:00:00",
           5
          ],
          [
           2.6857142857142895,
           "2019-12-22T00:00:00",
           6
          ],
          [
           2.562500000000004,
           "2019-12-23T00:00:00",
           0
          ],
          [
           2.5510204081632697,
           "2019-12-24T00:00:00",
           1
          ],
          [
           2.390243902439029,
           "2019-12-25T00:00:00",
           2
          ],
          [
           2.3583333333333383,
           "2019-12-26T00:00:00",
           3
          ],
          [
           2.3050847457627173,
           "2019-12-27T00:00:00",
           4
          ],
          [
           2.6410256410256467,
           "2019-12-28T00:00:00",
           5
          ],
          [
           2.4485981308411273,
           "2019-12-29T00:00:00",
           6
          ],
          [
           2.1280000000000054,
           "2019-12-30T00:00:00",
           0
          ],
          [
           2.368421052631584,
           "2019-12-31T00:00:00",
           1
          ]
         ],
         "hovertemplate": "variable=victs_per_acc<br>date=%{customdata[1]}<br>value=%{customdata[0]}<br>weekday=%{customdata[2]}<extra></extra>",
         "legendgroup": "victs_per_acc",
         "line": {
          "color": "#636efa",
          "dash": "solid"
         },
         "mode": "lines",
         "name": "victs_per_acc",
         "orientation": "v",
         "showlegend": true,
         "type": "scatter",
         "x": [
          "2019-01-01T00:00:00",
          "2019-01-02T00:00:00",
          "2019-01-03T00:00:00",
          "2019-01-04T00:00:00",
          "2019-01-05T00:00:00",
          "2019-01-06T00:00:00",
          "2019-01-07T00:00:00",
          "2019-01-08T00:00:00",
          "2019-01-09T00:00:00",
          "2019-01-10T00:00:00",
          "2019-01-11T00:00:00",
          "2019-01-12T00:00:00",
          "2019-01-13T00:00:00",
          "2019-01-14T00:00:00",
          "2019-01-15T00:00:00",
          "2019-01-16T00:00:00",
          "2019-01-17T00:00:00",
          "2019-01-18T00:00:00",
          "2019-01-19T00:00:00",
          "2019-01-20T00:00:00",
          "2019-01-21T00:00:00",
          "2019-01-22T00:00:00",
          "2019-01-23T00:00:00",
          "2019-01-24T00:00:00",
          "2019-01-25T00:00:00",
          "2019-01-26T00:00:00",
          "2019-01-27T00:00:00",
          "2019-01-28T00:00:00",
          "2019-01-29T00:00:00",
          "2019-01-30T00:00:00",
          "2019-01-31T00:00:00",
          "2019-02-01T00:00:00",
          "2019-02-02T00:00:00",
          "2019-02-03T00:00:00",
          "2019-02-04T00:00:00",
          "2019-02-05T00:00:00",
          "2019-02-06T00:00:00",
          "2019-02-07T00:00:00",
          "2019-02-08T00:00:00",
          "2019-02-09T00:00:00",
          "2019-02-10T00:00:00",
          "2019-02-11T00:00:00",
          "2019-02-12T00:00:00",
          "2019-02-13T00:00:00",
          "2019-02-14T00:00:00",
          "2019-02-15T00:00:00",
          "2019-02-16T00:00:00",
          "2019-02-17T00:00:00",
          "2019-02-18T00:00:00",
          "2019-02-19T00:00:00",
          "2019-02-20T00:00:00",
          "2019-02-21T00:00:00",
          "2019-02-22T00:00:00",
          "2019-02-23T00:00:00",
          "2019-02-24T00:00:00",
          "2019-02-25T00:00:00",
          "2019-02-26T00:00:00",
          "2019-02-27T00:00:00",
          "2019-02-28T00:00:00",
          "2019-03-01T00:00:00",
          "2019-03-02T00:00:00",
          "2019-03-03T00:00:00",
          "2019-03-04T00:00:00",
          "2019-03-05T00:00:00",
          "2019-03-06T00:00:00",
          "2019-03-07T00:00:00",
          "2019-03-08T00:00:00",
          "2019-03-09T00:00:00",
          "2019-03-10T00:00:00",
          "2019-03-11T00:00:00",
          "2019-03-12T00:00:00",
          "2019-03-13T00:00:00",
          "2019-03-14T00:00:00",
          "2019-03-15T00:00:00",
          "2019-03-16T00:00:00",
          "2019-03-17T00:00:00",
          "2019-03-18T00:00:00",
          "2019-03-19T00:00:00",
          "2019-03-20T00:00:00",
          "2019-03-21T00:00:00",
          "2019-03-22T00:00:00",
          "2019-03-23T00:00:00",
          "2019-03-24T00:00:00",
          "2019-03-25T00:00:00",
          "2019-03-26T00:00:00",
          "2019-03-27T00:00:00",
          "2019-03-28T00:00:00",
          "2019-03-29T00:00:00",
          "2019-03-30T00:00:00",
          "2019-03-31T00:00:00",
          "2019-04-01T00:00:00",
          "2019-04-02T00:00:00",
          "2019-04-03T00:00:00",
          "2019-04-04T00:00:00",
          "2019-04-05T00:00:00",
          "2019-04-06T00:00:00",
          "2019-04-07T00:00:00",
          "2019-04-08T00:00:00",
          "2019-04-09T00:00:00",
          "2019-04-10T00:00:00",
          "2019-04-11T00:00:00",
          "2019-04-12T00:00:00",
          "2019-04-13T00:00:00",
          "2019-04-14T00:00:00",
          "2019-04-15T00:00:00",
          "2019-04-16T00:00:00",
          "2019-04-17T00:00:00",
          "2019-04-18T00:00:00",
          "2019-04-19T00:00:00",
          "2019-04-20T00:00:00",
          "2019-04-21T00:00:00",
          "2019-04-22T00:00:00",
          "2019-04-23T00:00:00",
          "2019-04-24T00:00:00",
          "2019-04-25T00:00:00",
          "2019-04-26T00:00:00",
          "2019-04-27T00:00:00",
          "2019-04-28T00:00:00",
          "2019-04-29T00:00:00",
          "2019-04-30T00:00:00",
          "2019-05-01T00:00:00",
          "2019-05-02T00:00:00",
          "2019-05-03T00:00:00",
          "2019-05-04T00:00:00",
          "2019-05-05T00:00:00",
          "2019-05-06T00:00:00",
          "2019-05-07T00:00:00",
          "2019-05-08T00:00:00",
          "2019-05-09T00:00:00",
          "2019-05-10T00:00:00",
          "2019-05-11T00:00:00",
          "2019-05-12T00:00:00",
          "2019-05-13T00:00:00",
          "2019-05-14T00:00:00",
          "2019-05-15T00:00:00",
          "2019-05-16T00:00:00",
          "2019-05-17T00:00:00",
          "2019-05-18T00:00:00",
          "2019-05-19T00:00:00",
          "2019-05-20T00:00:00",
          "2019-05-21T00:00:00",
          "2019-05-22T00:00:00",
          "2019-05-23T00:00:00",
          "2019-05-24T00:00:00",
          "2019-05-25T00:00:00",
          "2019-05-26T00:00:00",
          "2019-05-27T00:00:00",
          "2019-05-28T00:00:00",
          "2019-05-29T00:00:00",
          "2019-05-30T00:00:00",
          "2019-05-31T00:00:00",
          "2019-06-01T00:00:00",
          "2019-06-02T00:00:00",
          "2019-06-03T00:00:00",
          "2019-06-04T00:00:00",
          "2019-06-05T00:00:00",
          "2019-06-06T00:00:00",
          "2019-06-07T00:00:00",
          "2019-06-08T00:00:00",
          "2019-06-09T00:00:00",
          "2019-06-10T00:00:00",
          "2019-06-11T00:00:00",
          "2019-06-12T00:00:00",
          "2019-06-13T00:00:00",
          "2019-06-14T00:00:00",
          "2019-06-15T00:00:00",
          "2019-06-16T00:00:00",
          "2019-06-17T00:00:00",
          "2019-06-18T00:00:00",
          "2019-06-19T00:00:00",
          "2019-06-20T00:00:00",
          "2019-06-21T00:00:00",
          "2019-06-22T00:00:00",
          "2019-06-23T00:00:00",
          "2019-06-24T00:00:00",
          "2019-06-25T00:00:00",
          "2019-06-26T00:00:00",
          "2019-06-27T00:00:00",
          "2019-06-28T00:00:00",
          "2019-06-29T00:00:00",
          "2019-06-30T00:00:00",
          "2019-07-01T00:00:00",
          "2019-07-02T00:00:00",
          "2019-07-03T00:00:00",
          "2019-07-04T00:00:00",
          "2019-07-05T00:00:00",
          "2019-07-06T00:00:00",
          "2019-07-07T00:00:00",
          "2019-07-08T00:00:00",
          "2019-07-09T00:00:00",
          "2019-07-10T00:00:00",
          "2019-07-11T00:00:00",
          "2019-07-12T00:00:00",
          "2019-07-13T00:00:00",
          "2019-07-14T00:00:00",
          "2019-07-15T00:00:00",
          "2019-07-16T00:00:00",
          "2019-07-17T00:00:00",
          "2019-07-18T00:00:00",
          "2019-07-19T00:00:00",
          "2019-07-20T00:00:00",
          "2019-07-21T00:00:00",
          "2019-07-22T00:00:00",
          "2019-07-23T00:00:00",
          "2019-07-24T00:00:00",
          "2019-07-25T00:00:00",
          "2019-07-26T00:00:00",
          "2019-07-27T00:00:00",
          "2019-07-28T00:00:00",
          "2019-07-29T00:00:00",
          "2019-07-30T00:00:00",
          "2019-07-31T00:00:00",
          "2019-08-01T00:00:00",
          "2019-08-02T00:00:00",
          "2019-08-03T00:00:00",
          "2019-08-04T00:00:00",
          "2019-08-05T00:00:00",
          "2019-08-06T00:00:00",
          "2019-08-07T00:00:00",
          "2019-08-08T00:00:00",
          "2019-08-09T00:00:00",
          "2019-08-10T00:00:00",
          "2019-08-11T00:00:00",
          "2019-08-12T00:00:00",
          "2019-08-13T00:00:00",
          "2019-08-14T00:00:00",
          "2019-08-15T00:00:00",
          "2019-08-16T00:00:00",
          "2019-08-17T00:00:00",
          "2019-08-18T00:00:00",
          "2019-08-19T00:00:00",
          "2019-08-20T00:00:00",
          "2019-08-21T00:00:00",
          "2019-08-22T00:00:00",
          "2019-08-23T00:00:00",
          "2019-08-24T00:00:00",
          "2019-08-25T00:00:00",
          "2019-08-26T00:00:00",
          "2019-08-27T00:00:00",
          "2019-08-28T00:00:00",
          "2019-08-29T00:00:00",
          "2019-08-30T00:00:00",
          "2019-08-31T00:00:00",
          "2019-09-01T00:00:00",
          "2019-09-02T00:00:00",
          "2019-09-03T00:00:00",
          "2019-09-04T00:00:00",
          "2019-09-05T00:00:00",
          "2019-09-06T00:00:00",
          "2019-09-07T00:00:00",
          "2019-09-08T00:00:00",
          "2019-09-09T00:00:00",
          "2019-09-10T00:00:00",
          "2019-09-11T00:00:00",
          "2019-09-12T00:00:00",
          "2019-09-13T00:00:00",
          "2019-09-14T00:00:00",
          "2019-09-15T00:00:00",
          "2019-09-16T00:00:00",
          "2019-09-17T00:00:00",
          "2019-09-18T00:00:00",
          "2019-09-19T00:00:00",
          "2019-09-20T00:00:00",
          "2019-09-21T00:00:00",
          "2019-09-22T00:00:00",
          "2019-09-23T00:00:00",
          "2019-09-24T00:00:00",
          "2019-09-25T00:00:00",
          "2019-09-26T00:00:00",
          "2019-09-27T00:00:00",
          "2019-09-28T00:00:00",
          "2019-09-29T00:00:00",
          "2019-09-30T00:00:00",
          "2019-10-01T00:00:00",
          "2019-10-02T00:00:00",
          "2019-10-03T00:00:00",
          "2019-10-04T00:00:00",
          "2019-10-05T00:00:00",
          "2019-10-06T00:00:00",
          "2019-10-07T00:00:00",
          "2019-10-08T00:00:00",
          "2019-10-09T00:00:00",
          "2019-10-10T00:00:00",
          "2019-10-11T00:00:00",
          "2019-10-12T00:00:00",
          "2019-10-13T00:00:00",
          "2019-10-14T00:00:00",
          "2019-10-15T00:00:00",
          "2019-10-16T00:00:00",
          "2019-10-17T00:00:00",
          "2019-10-18T00:00:00",
          "2019-10-19T00:00:00",
          "2019-10-20T00:00:00",
          "2019-10-21T00:00:00",
          "2019-10-22T00:00:00",
          "2019-10-23T00:00:00",
          "2019-10-24T00:00:00",
          "2019-10-25T00:00:00",
          "2019-10-26T00:00:00",
          "2019-10-27T00:00:00",
          "2019-10-28T00:00:00",
          "2019-10-29T00:00:00",
          "2019-10-30T00:00:00",
          "2019-10-31T00:00:00",
          "2019-11-01T00:00:00",
          "2019-11-02T00:00:00",
          "2019-11-03T00:00:00",
          "2019-11-04T00:00:00",
          "2019-11-05T00:00:00",
          "2019-11-06T00:00:00",
          "2019-11-07T00:00:00",
          "2019-11-08T00:00:00",
          "2019-11-09T00:00:00",
          "2019-11-10T00:00:00",
          "2019-11-11T00:00:00",
          "2019-11-12T00:00:00",
          "2019-11-13T00:00:00",
          "2019-11-14T00:00:00",
          "2019-11-15T00:00:00",
          "2019-11-16T00:00:00",
          "2019-11-17T00:00:00",
          "2019-11-18T00:00:00",
          "2019-11-19T00:00:00",
          "2019-11-20T00:00:00",
          "2019-11-21T00:00:00",
          "2019-11-22T00:00:00",
          "2019-11-23T00:00:00",
          "2019-11-24T00:00:00",
          "2019-11-25T00:00:00",
          "2019-11-26T00:00:00",
          "2019-11-27T00:00:00",
          "2019-11-28T00:00:00",
          "2019-11-29T00:00:00",
          "2019-11-30T00:00:00",
          "2019-12-01T00:00:00",
          "2019-12-02T00:00:00",
          "2019-12-03T00:00:00",
          "2019-12-04T00:00:00",
          "2019-12-05T00:00:00",
          "2019-12-06T00:00:00",
          "2019-12-07T00:00:00",
          "2019-12-08T00:00:00",
          "2019-12-09T00:00:00",
          "2019-12-10T00:00:00",
          "2019-12-11T00:00:00",
          "2019-12-12T00:00:00",
          "2019-12-13T00:00:00",
          "2019-12-14T00:00:00",
          "2019-12-15T00:00:00",
          "2019-12-16T00:00:00",
          "2019-12-17T00:00:00",
          "2019-12-18T00:00:00",
          "2019-12-19T00:00:00",
          "2019-12-20T00:00:00",
          "2019-12-21T00:00:00",
          "2019-12-22T00:00:00",
          "2019-12-23T00:00:00",
          "2019-12-24T00:00:00",
          "2019-12-25T00:00:00",
          "2019-12-26T00:00:00",
          "2019-12-27T00:00:00",
          "2019-12-28T00:00:00",
          "2019-12-29T00:00:00",
          "2019-12-30T00:00:00",
          "2019-12-31T00:00:00"
         ],
         "xaxis": "x",
         "y": [
          2.5047619047619047,
          2.2336448598130847,
          2.3394495412844045,
          2.240601503759399,
          2.7864077669902922,
          2.481927710843375,
          2.117647058823531,
          2.2039473684210544,
          2.3051948051948075,
          2.2323943661971857,
          2.393617021276598,
          2.3888888888888906,
          2.181818181818184,
          2.5070422535211296,
          2.217391304347829,
          2.1948051948051974,
          2.0654761904761934,
          2.150000000000003,
          2.500000000000003,
          2.555555555555559,
          2.1019108280254812,
          2.131782945736438,
          2.315315315315319,
          2.14383561643836,
          2.308219178082196,
          2.3028169014084545,
          2.215686274509808,
          2.173228346456697,
          2.090909090909095,
          2.271428571428575,
          2.0866666666666704,
          2.2592592592592626,
          2.2857142857142887,
          2.6041666666666696,
          2.0821917808219204,
          2.1000000000000028,
          2.3120567375886547,
          2.2500000000000027,
          2.2447916666666696,
          2.4885496183206137,
          2.4426229508196746,
          2.238095238095241,
          2.232258064516132,
          2.207547169811324,
          2.1871345029239797,
          2.242009132420094,
          2.3000000000000025,
          2.246575342465756,
          2.210144927536234,
          2.224637681159422,
          2.198529411764708,
          2.1883116883116895,
          2.1912568306010938,
          2.220779220779222,
          2.2357723577235777,
          2.1461988304093578,
          2.231707317073172,
          2.1533333333333347,
          2.1301369863013706,
          2.153846153846155,
          2.1779661016949166,
          2.0743801652892575,
          2.3333333333333353,
          2.1458333333333353,
          2.23529411764706,
          2.3066666666666675,
          2.0538922155688635,
          2.2954545454545463,
          2.3387096774193554,
          2.2348484848484853,
          2.1205673758865253,
          2.1942446043165473,
          2.091503267973857,
          2.180722891566266,
          2.285714285714287,
          2.4910714285714297,
          2.317880794701988,
          2.2119205298013256,
          2.1724137931034493,
          2.131868131868133,
          2.2701421800947883,
          2.502857142857144,
          2.2539682539682557,
          2.1744966442953038,
          2.1314285714285726,
          2.1344086021505384,
          2.2937500000000015,
          2.252475247524754,
          2.3085714285714305,
          2.3010752688172067,
          2.1418439716312085,
          2.324840764331213,
          2.330935251798564,
          2.265625000000003,
          2.219251336898399,
          2.1913580246913607,
          2.45689655172414,
          2.1586206896551747,
          2.0400000000000023,
          2.1609195402298873,
          2.164634146341465,
          2.3186813186813207,
          2.55487804878049,
          2.294117647058826,
          2.1037037037037063,
          2.155405405405408,
          2.207100591715979,
          2.2209302325581426,
          2.2623762376237653,
          2.255434782608699,
          2.1076923076923104,
          2.3495934959349625,
          2.315789473684214,
          2.2056737588652524,
          2.1517241379310383,
          2.254054054054058,
          2.298387096774197,
          2.2561983471074414,
          2.2384615384615425,
          2.2181818181818223,
          2.2727272727272774,
          2.3493975903614506,
          2.0620689655172457,
          2.051851851851856,
          2.4615384615384657,
          2.2684563758389302,
          2.3081761006289345,
          2.6571428571428606,
          2.091549295774651,
          2.306818181818185,
          2.195945945945949,
          2.229166666666669,
          2.2051282051282075,
          2.2031250000000027,
          2.1703296703296733,
          2.079754601226997,
          2.292207792207795,
          2.2318840579710173,
          2.264462809917358,
          2.1468531468531493,
          2.0277777777777803,
          2.236994219653182,
          2.0625000000000027,
          2.126262626262629,
          2.3313609467455647,
          2.3708609271523207,
          2.183544303797471,
          2.155279503105593,
          2.2526881720430136,
          2.4859154929577487,
          2.1761658031088102,
          2.403409090909092,
          2.500000000000001,
          2.1089743589743595,
          2.2083333333333344,
          2.2833333333333337,
          2.1885714285714286,
          2.1761904761904756,
          2.1955307262569828,
          2.4933333333333323,
          2.1826086956521733,
          2.384146341463414,
          2.2513661202185777,
          2.177514792899407,
          2.194029850746267,
          2.3726708074534146,
          2.373684210526315,
          2.1199999999999988,
          2.121052631578946,
          2.146198830409356,
          2.164835164835164,
          2.3595041322314034,
          2.3717277486910975,
          2.35151515151515,
          2.2947368421052614,
          2.157608695652172,
          2.317708333333332,
          2.1990049751243768,
          2.3478260869565206,
          2.50802139037433,
          2.594444444444443,
          2.1878172588832467,
          2.1855203619909482,
          2.3155339805825226,
          2.2765957446808494,
          2.2813852813852793,
          2.3649999999999984,
          2.4431818181818166,
          2.1436781609195386,
          2.213930348258705,
          2.252631578947367,
          2.188172043010751,
          2.311004784688994,
          2.3988439306358362,
          2.3312883435582803,
          2.234285714285712,
          2.2307692307692286,
          2.286486486486484,
          2.0977011494252853,
          2.413407821229048,
          2.488764044943818,
          2.1265822784810102,
          2.2325581395348815,
          2.214285714285712,
          2.224852071005915,
          2.2647058823529393,
          2.3184357541899425,
          2.3254437869822473,
          2.1101694915254225,
          2.375838926174495,
          2.32051282051282,
          2.1567164179104474,
          2.4013605442176864,
          2.49438202247191,
          2.243055555555556,
          2.3671875,
          2.3422818791946307,
          2.244755244755244,
          2.2838709677419353,
          2.1301369863013693,
          2.4615384615384617,
          2.1870967741935488,
          2.5847457627118655,
          2.347826086956523,
          2.5000000000000013,
          2.1496598639455797,
          2.1782178217821797,
          2.1958041958041967,
          2.506578947368422,
          2.671875000000001,
          2.4107142857142865,
          2.304687500000001,
          2.3140495867768607,
          2.17948717948718,
          2.2828947368421058,
          2.3439490445859876,
          2.4774193548387102,
          2.341269841269842,
          2.2213740458015274,
          2.0827586206896567,
          2.484472049689442,
          2.324324324324326,
          2.4810810810810833,
          2.294117647058826,
          2.2272727272727293,
          2.2023809523809548,
          2.0722222222222246,
          2.2625000000000024,
          2.1548117154811743,
          2.30693069306931,
          2.4444444444444478,
          2.222222222222225,
          2.281437125748506,
          2.18947368421053,
          2.1428571428571463,
          2.233050847457631,
          2.299465240641715,
          2.454545454545458,
          2.2265193370165783,
          2.1882352941176513,
          2.1262626262626307,
          2.1019417475728197,
          2.1223628691983163,
          2.309210526315793,
          2.256578947368425,
          2.147727272727277,
          2.1228070175438636,
          2.170329670329674,
          2.1392405063291178,
          2.2514285714285753,
          2.3563218390804637,
          2.3013698630137025,
          2.270270270270274,
          2.1856287425149734,
          2.3294117647058865,
          2.3209876543209913,
          2.2864321608040235,
          2.35078534031414,
          2.3701298701298743,
          2.016304347826091,
          2.0485436893203923,
          2.2443181818181857,
          2.145000000000004,
          2.216450216450221,
          2.2679738562091543,
          2.1929824561403555,
          2.100000000000005,
          2.1724137931034533,
          2.2389937106918287,
          2.0207253886010412,
          2.286407766990296,
          2.3987730061349737,
          2.3206521739130475,
          2.2739726027397302,
          2.4522292993630614,
          2.1756756756756794,
          2.3636363636363673,
          2.317204301075273,
          2.41752577319588,
          2.398648648648653,
          2.208333333333338,
          2.2348993288590653,
          2.230769230769236,
          2.2362637362637416,
          2.440789473684216,
          2.6808510638297927,
          2.7500000000000053,
          2.203980099502493,
          2.353591160221,
          2.1208791208791267,
          2.1530612244898015,
          2.2692307692307745,
          2.4193548387096824,
          2.3826086956521793,
          2.533980582524277,
          2.3265306122449028,
          2.1385542168674747,
          2.3290322580645215,
          2.334862385321107,
          2.3034482758620753,
          2.4583333333333397,
          2.1111111111111174,
          2.142045454545461,
          1.9869281045751692,
          2.1847826086956577,
          2.1880733944954187,
          2.271523178807952,
          2.512195121951225,
          2.2824858757062194,
          2.124223602484477,
          2.132183908045983,
          2.1089743589743652,
          2.275000000000006,
          2.308724832214772,
          2.420634920634927,
          2.129533678756483,
          2.185929648241212,
          2.235000000000006,
          2.062857142857149,
          2.247663551401876,
          2.2634730538922216,
          2.6500000000000066,
          2.1029411764705945,
          2.1291866028708193,
          2.291428571428577,
          2.1759656652360566,
          2.170403587443951,
          2.3694267515923615,
          2.4689655172413842,
          2.122222222222227,
          2.1616766467065918,
          2.1907216494845407,
          2.192307692307697,
          2.220472440944886,
          2.161290322580649,
          2.6857142857142895,
          2.562500000000004,
          2.5510204081632697,
          2.390243902439029,
          2.3583333333333383,
          2.3050847457627173,
          2.6410256410256467,
          2.4485981308411273,
          2.1280000000000054,
          2.368421052631584
         ],
         "yaxis": "y"
        }
       ],
       "layout": {
        "legend": {
         "title": {
          "text": "variable"
         },
         "tracegroupgap": 0
        },
        "margin": {
         "t": 60
        },
        "template": {
         "data": {
          "bar": [
           {
            "error_x": {
             "color": "#2a3f5f"
            },
            "error_y": {
             "color": "#2a3f5f"
            },
            "marker": {
             "line": {
              "color": "#E5ECF6",
              "width": 0.5
             }
            },
            "type": "bar"
           }
          ],
          "barpolar": [
           {
            "marker": {
             "line": {
              "color": "#E5ECF6",
              "width": 0.5
             }
            },
            "type": "barpolar"
           }
          ],
          "carpet": [
           {
            "aaxis": {
             "endlinecolor": "#2a3f5f",
             "gridcolor": "white",
             "linecolor": "white",
             "minorgridcolor": "white",
             "startlinecolor": "#2a3f5f"
            },
            "baxis": {
             "endlinecolor": "#2a3f5f",
             "gridcolor": "white",
             "linecolor": "white",
             "minorgridcolor": "white",
             "startlinecolor": "#2a3f5f"
            },
            "type": "carpet"
           }
          ],
          "choropleth": [
           {
            "colorbar": {
             "outlinewidth": 0,
             "ticks": ""
            },
            "type": "choropleth"
           }
          ],
          "contour": [
           {
            "colorbar": {
             "outlinewidth": 0,
             "ticks": ""
            },
            "colorscale": [
             [
              0,
              "#0d0887"
             ],
             [
              0.1111111111111111,
              "#46039f"
             ],
             [
              0.2222222222222222,
              "#7201a8"
             ],
             [
              0.3333333333333333,
              "#9c179e"
             ],
             [
              0.4444444444444444,
              "#bd3786"
             ],
             [
              0.5555555555555556,
              "#d8576b"
             ],
             [
              0.6666666666666666,
              "#ed7953"
             ],
             [
              0.7777777777777778,
              "#fb9f3a"
             ],
             [
              0.8888888888888888,
              "#fdca26"
             ],
             [
              1,
              "#f0f921"
             ]
            ],
            "type": "contour"
           }
          ],
          "contourcarpet": [
           {
            "colorbar": {
             "outlinewidth": 0,
             "ticks": ""
            },
            "type": "contourcarpet"
           }
          ],
          "heatmap": [
           {
            "colorbar": {
             "outlinewidth": 0,
             "ticks": ""
            },
            "colorscale": [
             [
              0,
              "#0d0887"
             ],
             [
              0.1111111111111111,
              "#46039f"
             ],
             [
              0.2222222222222222,
              "#7201a8"
             ],
             [
              0.3333333333333333,
              "#9c179e"
             ],
             [
              0.4444444444444444,
              "#bd3786"
             ],
             [
              0.5555555555555556,
              "#d8576b"
             ],
             [
              0.6666666666666666,
              "#ed7953"
             ],
             [
              0.7777777777777778,
              "#fb9f3a"
             ],
             [
              0.8888888888888888,
              "#fdca26"
             ],
             [
              1,
              "#f0f921"
             ]
            ],
            "type": "heatmap"
           }
          ],
          "heatmapgl": [
           {
            "colorbar": {
             "outlinewidth": 0,
             "ticks": ""
            },
            "colorscale": [
             [
              0,
              "#0d0887"
             ],
             [
              0.1111111111111111,
              "#46039f"
             ],
             [
              0.2222222222222222,
              "#7201a8"
             ],
             [
              0.3333333333333333,
              "#9c179e"
             ],
             [
              0.4444444444444444,
              "#bd3786"
             ],
             [
              0.5555555555555556,
              "#d8576b"
             ],
             [
              0.6666666666666666,
              "#ed7953"
             ],
             [
              0.7777777777777778,
              "#fb9f3a"
             ],
             [
              0.8888888888888888,
              "#fdca26"
             ],
             [
              1,
              "#f0f921"
             ]
            ],
            "type": "heatmapgl"
           }
          ],
          "histogram": [
           {
            "marker": {
             "colorbar": {
              "outlinewidth": 0,
              "ticks": ""
             }
            },
            "type": "histogram"
           }
          ],
          "histogram2d": [
           {
            "colorbar": {
             "outlinewidth": 0,
             "ticks": ""
            },
            "colorscale": [
             [
              0,
              "#0d0887"
             ],
             [
              0.1111111111111111,
              "#46039f"
             ],
             [
              0.2222222222222222,
              "#7201a8"
             ],
             [
              0.3333333333333333,
              "#9c179e"
             ],
             [
              0.4444444444444444,
              "#bd3786"
             ],
             [
              0.5555555555555556,
              "#d8576b"
             ],
             [
              0.6666666666666666,
              "#ed7953"
             ],
             [
              0.7777777777777778,
              "#fb9f3a"
             ],
             [
              0.8888888888888888,
              "#fdca26"
             ],
             [
              1,
              "#f0f921"
             ]
            ],
            "type": "histogram2d"
           }
          ],
          "histogram2dcontour": [
           {
            "colorbar": {
             "outlinewidth": 0,
             "ticks": ""
            },
            "colorscale": [
             [
              0,
              "#0d0887"
             ],
             [
              0.1111111111111111,
              "#46039f"
             ],
             [
              0.2222222222222222,
              "#7201a8"
             ],
             [
              0.3333333333333333,
              "#9c179e"
             ],
             [
              0.4444444444444444,
              "#bd3786"
             ],
             [
              0.5555555555555556,
              "#d8576b"
             ],
             [
              0.6666666666666666,
              "#ed7953"
             ],
             [
              0.7777777777777778,
              "#fb9f3a"
             ],
             [
              0.8888888888888888,
              "#fdca26"
             ],
             [
              1,
              "#f0f921"
             ]
            ],
            "type": "histogram2dcontour"
           }
          ],
          "mesh3d": [
           {
            "colorbar": {
             "outlinewidth": 0,
             "ticks": ""
            },
            "type": "mesh3d"
           }
          ],
          "parcoords": [
           {
            "line": {
             "colorbar": {
              "outlinewidth": 0,
              "ticks": ""
             }
            },
            "type": "parcoords"
           }
          ],
          "pie": [
           {
            "automargin": true,
            "type": "pie"
           }
          ],
          "scatter": [
           {
            "marker": {
             "colorbar": {
              "outlinewidth": 0,
              "ticks": ""
             }
            },
            "type": "scatter"
           }
          ],
          "scatter3d": [
           {
            "line": {
             "colorbar": {
              "outlinewidth": 0,
              "ticks": ""
             }
            },
            "marker": {
             "colorbar": {
              "outlinewidth": 0,
              "ticks": ""
             }
            },
            "type": "scatter3d"
           }
          ],
          "scattercarpet": [
           {
            "marker": {
             "colorbar": {
              "outlinewidth": 0,
              "ticks": ""
             }
            },
            "type": "scattercarpet"
           }
          ],
          "scattergeo": [
           {
            "marker": {
             "colorbar": {
              "outlinewidth": 0,
              "ticks": ""
             }
            },
            "type": "scattergeo"
           }
          ],
          "scattergl": [
           {
            "marker": {
             "colorbar": {
              "outlinewidth": 0,
              "ticks": ""
             }
            },
            "type": "scattergl"
           }
          ],
          "scattermapbox": [
           {
            "marker": {
             "colorbar": {
              "outlinewidth": 0,
              "ticks": ""
             }
            },
            "type": "scattermapbox"
           }
          ],
          "scatterpolar": [
           {
            "marker": {
             "colorbar": {
              "outlinewidth": 0,
              "ticks": ""
             }
            },
            "type": "scatterpolar"
           }
          ],
          "scatterpolargl": [
           {
            "marker": {
             "colorbar": {
              "outlinewidth": 0,
              "ticks": ""
             }
            },
            "type": "scatterpolargl"
           }
          ],
          "scatterternary": [
           {
            "marker": {
             "colorbar": {
              "outlinewidth": 0,
              "ticks": ""
             }
            },
            "type": "scatterternary"
           }
          ],
          "surface": [
           {
            "colorbar": {
             "outlinewidth": 0,
             "ticks": ""
            },
            "colorscale": [
             [
              0,
              "#0d0887"
             ],
             [
              0.1111111111111111,
              "#46039f"
             ],
             [
              0.2222222222222222,
              "#7201a8"
             ],
             [
              0.3333333333333333,
              "#9c179e"
             ],
             [
              0.4444444444444444,
              "#bd3786"
             ],
             [
              0.5555555555555556,
              "#d8576b"
             ],
             [
              0.6666666666666666,
              "#ed7953"
             ],
             [
              0.7777777777777778,
              "#fb9f3a"
             ],
             [
              0.8888888888888888,
              "#fdca26"
             ],
             [
              1,
              "#f0f921"
             ]
            ],
            "type": "surface"
           }
          ],
          "table": [
           {
            "cells": {
             "fill": {
              "color": "#EBF0F8"
             },
             "line": {
              "color": "white"
             }
            },
            "header": {
             "fill": {
              "color": "#C8D4E3"
             },
             "line": {
              "color": "white"
             }
            },
            "type": "table"
           }
          ]
         },
         "layout": {
          "annotationdefaults": {
           "arrowcolor": "#2a3f5f",
           "arrowhead": 0,
           "arrowwidth": 1
          },
          "autotypenumbers": "strict",
          "coloraxis": {
           "colorbar": {
            "outlinewidth": 0,
            "ticks": ""
           }
          },
          "colorscale": {
           "diverging": [
            [
             0,
             "#8e0152"
            ],
            [
             0.1,
             "#c51b7d"
            ],
            [
             0.2,
             "#de77ae"
            ],
            [
             0.3,
             "#f1b6da"
            ],
            [
             0.4,
             "#fde0ef"
            ],
            [
             0.5,
             "#f7f7f7"
            ],
            [
             0.6,
             "#e6f5d0"
            ],
            [
             0.7,
             "#b8e186"
            ],
            [
             0.8,
             "#7fbc41"
            ],
            [
             0.9,
             "#4d9221"
            ],
            [
             1,
             "#276419"
            ]
           ],
           "sequential": [
            [
             0,
             "#0d0887"
            ],
            [
             0.1111111111111111,
             "#46039f"
            ],
            [
             0.2222222222222222,
             "#7201a8"
            ],
            [
             0.3333333333333333,
             "#9c179e"
            ],
            [
             0.4444444444444444,
             "#bd3786"
            ],
            [
             0.5555555555555556,
             "#d8576b"
            ],
            [
             0.6666666666666666,
             "#ed7953"
            ],
            [
             0.7777777777777778,
             "#fb9f3a"
            ],
            [
             0.8888888888888888,
             "#fdca26"
            ],
            [
             1,
             "#f0f921"
            ]
           ],
           "sequentialminus": [
            [
             0,
             "#0d0887"
            ],
            [
             0.1111111111111111,
             "#46039f"
            ],
            [
             0.2222222222222222,
             "#7201a8"
            ],
            [
             0.3333333333333333,
             "#9c179e"
            ],
            [
             0.4444444444444444,
             "#bd3786"
            ],
            [
             0.5555555555555556,
             "#d8576b"
            ],
            [
             0.6666666666666666,
             "#ed7953"
            ],
            [
             0.7777777777777778,
             "#fb9f3a"
            ],
            [
             0.8888888888888888,
             "#fdca26"
            ],
            [
             1,
             "#f0f921"
            ]
           ]
          },
          "colorway": [
           "#636efa",
           "#EF553B",
           "#00cc96",
           "#ab63fa",
           "#FFA15A",
           "#19d3f3",
           "#FF6692",
           "#B6E880",
           "#FF97FF",
           "#FECB52"
          ],
          "font": {
           "color": "#2a3f5f"
          },
          "geo": {
           "bgcolor": "white",
           "lakecolor": "white",
           "landcolor": "#E5ECF6",
           "showlakes": true,
           "showland": true,
           "subunitcolor": "white"
          },
          "hoverlabel": {
           "align": "left"
          },
          "hovermode": "closest",
          "mapbox": {
           "style": "light"
          },
          "paper_bgcolor": "white",
          "plot_bgcolor": "#E5ECF6",
          "polar": {
           "angularaxis": {
            "gridcolor": "white",
            "linecolor": "white",
            "ticks": ""
           },
           "bgcolor": "#E5ECF6",
           "radialaxis": {
            "gridcolor": "white",
            "linecolor": "white",
            "ticks": ""
           }
          },
          "scene": {
           "xaxis": {
            "backgroundcolor": "#E5ECF6",
            "gridcolor": "white",
            "gridwidth": 2,
            "linecolor": "white",
            "showbackground": true,
            "ticks": "",
            "zerolinecolor": "white"
           },
           "yaxis": {
            "backgroundcolor": "#E5ECF6",
            "gridcolor": "white",
            "gridwidth": 2,
            "linecolor": "white",
            "showbackground": true,
            "ticks": "",
            "zerolinecolor": "white"
           },
           "zaxis": {
            "backgroundcolor": "#E5ECF6",
            "gridcolor": "white",
            "gridwidth": 2,
            "linecolor": "white",
            "showbackground": true,
            "ticks": "",
            "zerolinecolor": "white"
           }
          },
          "shapedefaults": {
           "line": {
            "color": "#2a3f5f"
           }
          },
          "ternary": {
           "aaxis": {
            "gridcolor": "white",
            "linecolor": "white",
            "ticks": ""
           },
           "baxis": {
            "gridcolor": "white",
            "linecolor": "white",
            "ticks": ""
           },
           "bgcolor": "#E5ECF6",
           "caxis": {
            "gridcolor": "white",
            "linecolor": "white",
            "ticks": ""
           }
          },
          "title": {
           "x": 0.05
          },
          "xaxis": {
           "automargin": true,
           "gridcolor": "white",
           "linecolor": "white",
           "ticks": "",
           "title": {
            "standoff": 15
           },
           "zerolinecolor": "white",
           "zerolinewidth": 2
          },
          "yaxis": {
           "automargin": true,
           "gridcolor": "white",
           "linecolor": "white",
           "ticks": "",
           "title": {
            "standoff": 15
           },
           "zerolinecolor": "white",
           "zerolinewidth": 2
          }
         }
        },
        "xaxis": {
         "anchor": "y",
         "domain": [
          0,
          1
         ],
         "title": {
          "text": "date"
         }
        },
        "yaxis": {
         "anchor": "x",
         "domain": [
          0,
          1
         ],
         "title": {
          "text": "value"
         }
        }
       }
      },
      "text/html": [
       "<div>                            <div id=\"4109c314-81b2-44d2-85d2-e08ac723a7ff\" class=\"plotly-graph-div\" style=\"height:525px; width:100%;\"></div>            <script type=\"text/javascript\">                require([\"plotly\"], function(Plotly) {                    window.PLOTLYENV=window.PLOTLYENV || {};                                    if (document.getElementById(\"4109c314-81b2-44d2-85d2-e08ac723a7ff\")) {                    Plotly.newPlot(                        \"4109c314-81b2-44d2-85d2-e08ac723a7ff\",                        [{\"customdata\": [[2.5047619047619047, \"2019-01-01T00:00:00\", 1], [2.2336448598130847, \"2019-01-02T00:00:00\", 2], [2.3394495412844045, \"2019-01-03T00:00:00\", 3], [2.240601503759399, \"2019-01-04T00:00:00\", 4], [2.7864077669902922, \"2019-01-05T00:00:00\", 5], [2.481927710843375, \"2019-01-06T00:00:00\", 6], [2.117647058823531, \"2019-01-07T00:00:00\", 0], [2.2039473684210544, \"2019-01-08T00:00:00\", 1], [2.3051948051948075, \"2019-01-09T00:00:00\", 2], [2.2323943661971857, \"2019-01-10T00:00:00\", 3], [2.393617021276598, \"2019-01-11T00:00:00\", 4], [2.3888888888888906, \"2019-01-12T00:00:00\", 5], [2.181818181818184, \"2019-01-13T00:00:00\", 6], [2.5070422535211296, \"2019-01-14T00:00:00\", 0], [2.217391304347829, \"2019-01-15T00:00:00\", 1], [2.1948051948051974, \"2019-01-16T00:00:00\", 2], [2.0654761904761934, \"2019-01-17T00:00:00\", 3], [2.150000000000003, \"2019-01-18T00:00:00\", 4], [2.500000000000003, \"2019-01-19T00:00:00\", 5], [2.555555555555559, \"2019-01-20T00:00:00\", 6], [2.1019108280254812, \"2019-01-21T00:00:00\", 0], [2.131782945736438, \"2019-01-22T00:00:00\", 1], [2.315315315315319, \"2019-01-23T00:00:00\", 2], [2.14383561643836, \"2019-01-24T00:00:00\", 3], [2.308219178082196, \"2019-01-25T00:00:00\", 4], [2.3028169014084545, \"2019-01-26T00:00:00\", 5], [2.215686274509808, \"2019-01-27T00:00:00\", 6], [2.173228346456697, \"2019-01-28T00:00:00\", 0], [2.090909090909095, \"2019-01-29T00:00:00\", 1], [2.271428571428575, \"2019-01-30T00:00:00\", 2], [2.0866666666666704, \"2019-01-31T00:00:00\", 3], [2.2592592592592626, \"2019-02-01T00:00:00\", 4], [2.2857142857142887, \"2019-02-02T00:00:00\", 5], [2.6041666666666696, \"2019-02-03T00:00:00\", 6], [2.0821917808219204, \"2019-02-04T00:00:00\", 0], [2.1000000000000028, \"2019-02-05T00:00:00\", 1], [2.3120567375886547, \"2019-02-06T00:00:00\", 2], [2.2500000000000027, \"2019-02-07T00:00:00\", 3], [2.2447916666666696, \"2019-02-08T00:00:00\", 4], [2.4885496183206137, \"2019-02-09T00:00:00\", 5], [2.4426229508196746, \"2019-02-10T00:00:00\", 6], [2.238095238095241, \"2019-02-11T00:00:00\", 0], [2.232258064516132, \"2019-02-12T00:00:00\", 1], [2.207547169811324, \"2019-02-13T00:00:00\", 2], [2.1871345029239797, \"2019-02-14T00:00:00\", 3], [2.242009132420094, \"2019-02-15T00:00:00\", 4], [2.3000000000000025, \"2019-02-16T00:00:00\", 5], [2.246575342465756, \"2019-02-17T00:00:00\", 6], [2.210144927536234, \"2019-02-18T00:00:00\", 0], [2.224637681159422, \"2019-02-19T00:00:00\", 1], [2.198529411764708, \"2019-02-20T00:00:00\", 2], [2.1883116883116895, \"2019-02-21T00:00:00\", 3], [2.1912568306010938, \"2019-02-22T00:00:00\", 4], [2.220779220779222, \"2019-02-23T00:00:00\", 5], [2.2357723577235777, \"2019-02-24T00:00:00\", 6], [2.1461988304093578, \"2019-02-25T00:00:00\", 0], [2.231707317073172, \"2019-02-26T00:00:00\", 1], [2.1533333333333347, \"2019-02-27T00:00:00\", 2], [2.1301369863013706, \"2019-02-28T00:00:00\", 3], [2.153846153846155, \"2019-03-01T00:00:00\", 4], [2.1779661016949166, \"2019-03-02T00:00:00\", 5], [2.0743801652892575, \"2019-03-03T00:00:00\", 6], [2.3333333333333353, \"2019-03-04T00:00:00\", 0], [2.1458333333333353, \"2019-03-05T00:00:00\", 1], [2.23529411764706, \"2019-03-06T00:00:00\", 2], [2.3066666666666675, \"2019-03-07T00:00:00\", 3], [2.0538922155688635, \"2019-03-08T00:00:00\", 4], [2.2954545454545463, \"2019-03-09T00:00:00\", 5], [2.3387096774193554, \"2019-03-10T00:00:00\", 6], [2.2348484848484853, \"2019-03-11T00:00:00\", 0], [2.1205673758865253, \"2019-03-12T00:00:00\", 1], [2.1942446043165473, \"2019-03-13T00:00:00\", 2], [2.091503267973857, \"2019-03-14T00:00:00\", 3], [2.180722891566266, \"2019-03-15T00:00:00\", 4], [2.285714285714287, \"2019-03-16T00:00:00\", 5], [2.4910714285714297, \"2019-03-17T00:00:00\", 6], [2.317880794701988, \"2019-03-18T00:00:00\", 0], [2.2119205298013256, \"2019-03-19T00:00:00\", 1], [2.1724137931034493, \"2019-03-20T00:00:00\", 2], [2.131868131868133, \"2019-03-21T00:00:00\", 3], [2.2701421800947883, \"2019-03-22T00:00:00\", 4], [2.502857142857144, \"2019-03-23T00:00:00\", 5], [2.2539682539682557, \"2019-03-24T00:00:00\", 6], [2.1744966442953038, \"2019-03-25T00:00:00\", 0], [2.1314285714285726, \"2019-03-26T00:00:00\", 1], [2.1344086021505384, \"2019-03-27T00:00:00\", 2], [2.2937500000000015, \"2019-03-28T00:00:00\", 3], [2.252475247524754, \"2019-03-29T00:00:00\", 4], [2.3085714285714305, \"2019-03-30T00:00:00\", 5], [2.3010752688172067, \"2019-03-31T00:00:00\", 6], [2.1418439716312085, \"2019-04-01T00:00:00\", 0], [2.324840764331213, \"2019-04-02T00:00:00\", 1], [2.330935251798564, \"2019-04-03T00:00:00\", 2], [2.265625000000003, \"2019-04-04T00:00:00\", 3], [2.219251336898399, \"2019-04-05T00:00:00\", 4], [2.1913580246913607, \"2019-04-06T00:00:00\", 5], [2.45689655172414, \"2019-04-07T00:00:00\", 6], [2.1586206896551747, \"2019-04-08T00:00:00\", 0], [2.0400000000000023, \"2019-04-09T00:00:00\", 1], [2.1609195402298873, \"2019-04-10T00:00:00\", 2], [2.164634146341465, \"2019-04-11T00:00:00\", 3], [2.3186813186813207, \"2019-04-12T00:00:00\", 4], [2.55487804878049, \"2019-04-13T00:00:00\", 5], [2.294117647058826, \"2019-04-14T00:00:00\", 6], [2.1037037037037063, \"2019-04-15T00:00:00\", 0], [2.155405405405408, \"2019-04-16T00:00:00\", 1], [2.207100591715979, \"2019-04-17T00:00:00\", 2], [2.2209302325581426, \"2019-04-18T00:00:00\", 3], [2.2623762376237653, \"2019-04-19T00:00:00\", 4], [2.255434782608699, \"2019-04-20T00:00:00\", 5], [2.1076923076923104, \"2019-04-21T00:00:00\", 6], [2.3495934959349625, \"2019-04-22T00:00:00\", 0], [2.315789473684214, \"2019-04-23T00:00:00\", 1], [2.2056737588652524, \"2019-04-24T00:00:00\", 2], [2.1517241379310383, \"2019-04-25T00:00:00\", 3], [2.254054054054058, \"2019-04-26T00:00:00\", 4], [2.298387096774197, \"2019-04-27T00:00:00\", 5], [2.2561983471074414, \"2019-04-28T00:00:00\", 6], [2.2384615384615425, \"2019-04-29T00:00:00\", 0], [2.2181818181818223, \"2019-04-30T00:00:00\", 1], [2.2727272727272774, \"2019-05-01T00:00:00\", 2], [2.3493975903614506, \"2019-05-02T00:00:00\", 3], [2.0620689655172457, \"2019-05-03T00:00:00\", 4], [2.051851851851856, \"2019-05-04T00:00:00\", 5], [2.4615384615384657, \"2019-05-05T00:00:00\", 6], [2.2684563758389302, \"2019-05-06T00:00:00\", 0], [2.3081761006289345, \"2019-05-07T00:00:00\", 1], [2.6571428571428606, \"2019-05-08T00:00:00\", 2], [2.091549295774651, \"2019-05-09T00:00:00\", 3], [2.306818181818185, \"2019-05-10T00:00:00\", 4], [2.195945945945949, \"2019-05-11T00:00:00\", 5], [2.229166666666669, \"2019-05-12T00:00:00\", 6], [2.2051282051282075, \"2019-05-13T00:00:00\", 0], [2.2031250000000027, \"2019-05-14T00:00:00\", 1], [2.1703296703296733, \"2019-05-15T00:00:00\", 2], [2.079754601226997, \"2019-05-16T00:00:00\", 3], [2.292207792207795, \"2019-05-17T00:00:00\", 4], [2.2318840579710173, \"2019-05-18T00:00:00\", 5], [2.264462809917358, \"2019-05-19T00:00:00\", 6], [2.1468531468531493, \"2019-05-20T00:00:00\", 0], [2.0277777777777803, \"2019-05-21T00:00:00\", 1], [2.236994219653182, \"2019-05-22T00:00:00\", 2], [2.0625000000000027, \"2019-05-23T00:00:00\", 3], [2.126262626262629, \"2019-05-24T00:00:00\", 4], [2.3313609467455647, \"2019-05-25T00:00:00\", 5], [2.3708609271523207, \"2019-05-26T00:00:00\", 6], [2.183544303797471, \"2019-05-27T00:00:00\", 0], [2.155279503105593, \"2019-05-28T00:00:00\", 1], [2.2526881720430136, \"2019-05-29T00:00:00\", 2], [2.4859154929577487, \"2019-05-30T00:00:00\", 3], [2.1761658031088102, \"2019-05-31T00:00:00\", 4], [2.403409090909092, \"2019-06-01T00:00:00\", 5], [2.500000000000001, \"2019-06-02T00:00:00\", 6], [2.1089743589743595, \"2019-06-03T00:00:00\", 0], [2.2083333333333344, \"2019-06-04T00:00:00\", 1], [2.2833333333333337, \"2019-06-05T00:00:00\", 2], [2.1885714285714286, \"2019-06-06T00:00:00\", 3], [2.1761904761904756, \"2019-06-07T00:00:00\", 4], [2.1955307262569828, \"2019-06-08T00:00:00\", 5], [2.4933333333333323, \"2019-06-09T00:00:00\", 6], [2.1826086956521733, \"2019-06-10T00:00:00\", 0], [2.384146341463414, \"2019-06-11T00:00:00\", 1], [2.2513661202185777, \"2019-06-12T00:00:00\", 2], [2.177514792899407, \"2019-06-13T00:00:00\", 3], [2.194029850746267, \"2019-06-14T00:00:00\", 4], [2.3726708074534146, \"2019-06-15T00:00:00\", 5], [2.373684210526315, \"2019-06-16T00:00:00\", 6], [2.1199999999999988, \"2019-06-17T00:00:00\", 0], [2.121052631578946, \"2019-06-18T00:00:00\", 1], [2.146198830409356, \"2019-06-19T00:00:00\", 2], [2.164835164835164, \"2019-06-20T00:00:00\", 3], [2.3595041322314034, \"2019-06-21T00:00:00\", 4], [2.3717277486910975, \"2019-06-22T00:00:00\", 5], [2.35151515151515, \"2019-06-23T00:00:00\", 6], [2.2947368421052614, \"2019-06-24T00:00:00\", 0], [2.157608695652172, \"2019-06-25T00:00:00\", 1], [2.317708333333332, \"2019-06-26T00:00:00\", 2], [2.1990049751243768, \"2019-06-27T00:00:00\", 3], [2.3478260869565206, \"2019-06-28T00:00:00\", 4], [2.50802139037433, \"2019-06-29T00:00:00\", 5], [2.594444444444443, \"2019-06-30T00:00:00\", 6], [2.1878172588832467, \"2019-07-01T00:00:00\", 0], [2.1855203619909482, \"2019-07-02T00:00:00\", 1], [2.3155339805825226, \"2019-07-03T00:00:00\", 2], [2.2765957446808494, \"2019-07-04T00:00:00\", 3], [2.2813852813852793, \"2019-07-05T00:00:00\", 4], [2.3649999999999984, \"2019-07-06T00:00:00\", 5], [2.4431818181818166, \"2019-07-07T00:00:00\", 6], [2.1436781609195386, \"2019-07-08T00:00:00\", 0], [2.213930348258705, \"2019-07-09T00:00:00\", 1], [2.252631578947367, \"2019-07-10T00:00:00\", 2], [2.188172043010751, \"2019-07-11T00:00:00\", 3], [2.311004784688994, \"2019-07-12T00:00:00\", 4], [2.3988439306358362, \"2019-07-13T00:00:00\", 5], [2.3312883435582803, \"2019-07-14T00:00:00\", 6], [2.234285714285712, \"2019-07-15T00:00:00\", 0], [2.2307692307692286, \"2019-07-16T00:00:00\", 1], [2.286486486486484, \"2019-07-17T00:00:00\", 2], [2.0977011494252853, \"2019-07-18T00:00:00\", 3], [2.413407821229048, \"2019-07-19T00:00:00\", 4], [2.488764044943818, \"2019-07-20T00:00:00\", 5], [2.1265822784810102, \"2019-07-21T00:00:00\", 6], [2.2325581395348815, \"2019-07-22T00:00:00\", 0], [2.214285714285712, \"2019-07-23T00:00:00\", 1], [2.224852071005915, \"2019-07-24T00:00:00\", 2], [2.2647058823529393, \"2019-07-25T00:00:00\", 3], [2.3184357541899425, \"2019-07-26T00:00:00\", 4], [2.3254437869822473, \"2019-07-27T00:00:00\", 5], [2.1101694915254225, \"2019-07-28T00:00:00\", 6], [2.375838926174495, \"2019-07-29T00:00:00\", 0], [2.32051282051282, \"2019-07-30T00:00:00\", 1], [2.1567164179104474, \"2019-07-31T00:00:00\", 2], [2.4013605442176864, \"2019-08-01T00:00:00\", 3], [2.49438202247191, \"2019-08-02T00:00:00\", 4], [2.243055555555556, \"2019-08-03T00:00:00\", 5], [2.3671875, \"2019-08-04T00:00:00\", 6], [2.3422818791946307, \"2019-08-05T00:00:00\", 0], [2.244755244755244, \"2019-08-06T00:00:00\", 1], [2.2838709677419353, \"2019-08-07T00:00:00\", 2], [2.1301369863013693, \"2019-08-08T00:00:00\", 3], [2.4615384615384617, \"2019-08-09T00:00:00\", 4], [2.1870967741935488, \"2019-08-10T00:00:00\", 5], [2.5847457627118655, \"2019-08-11T00:00:00\", 6], [2.347826086956523, \"2019-08-12T00:00:00\", 0], [2.5000000000000013, \"2019-08-13T00:00:00\", 1], [2.1496598639455797, \"2019-08-14T00:00:00\", 2], [2.1782178217821797, \"2019-08-15T00:00:00\", 3], [2.1958041958041967, \"2019-08-16T00:00:00\", 4], [2.506578947368422, \"2019-08-17T00:00:00\", 5], [2.671875000000001, \"2019-08-18T00:00:00\", 6], [2.4107142857142865, \"2019-08-19T00:00:00\", 0], [2.304687500000001, \"2019-08-20T00:00:00\", 1], [2.3140495867768607, \"2019-08-21T00:00:00\", 2], [2.17948717948718, \"2019-08-22T00:00:00\", 3], [2.2828947368421058, \"2019-08-23T00:00:00\", 4], [2.3439490445859876, \"2019-08-24T00:00:00\", 5], [2.4774193548387102, \"2019-08-25T00:00:00\", 6], [2.341269841269842, \"2019-08-26T00:00:00\", 0], [2.2213740458015274, \"2019-08-27T00:00:00\", 1], [2.0827586206896567, \"2019-08-28T00:00:00\", 2], [2.484472049689442, \"2019-08-29T00:00:00\", 3], [2.324324324324326, \"2019-08-30T00:00:00\", 4], [2.4810810810810833, \"2019-08-31T00:00:00\", 5], [2.294117647058826, \"2019-09-01T00:00:00\", 6], [2.2272727272727293, \"2019-09-02T00:00:00\", 0], [2.2023809523809548, \"2019-09-03T00:00:00\", 1], [2.0722222222222246, \"2019-09-04T00:00:00\", 2], [2.2625000000000024, \"2019-09-05T00:00:00\", 3], [2.1548117154811743, \"2019-09-06T00:00:00\", 4], [2.30693069306931, \"2019-09-07T00:00:00\", 5], [2.4444444444444478, \"2019-09-08T00:00:00\", 6], [2.222222222222225, \"2019-09-09T00:00:00\", 0], [2.281437125748506, \"2019-09-10T00:00:00\", 1], [2.18947368421053, \"2019-09-11T00:00:00\", 2], [2.1428571428571463, \"2019-09-12T00:00:00\", 3], [2.233050847457631, \"2019-09-13T00:00:00\", 4], [2.299465240641715, \"2019-09-14T00:00:00\", 5], [2.454545454545458, \"2019-09-15T00:00:00\", 6], [2.2265193370165783, \"2019-09-16T00:00:00\", 0], [2.1882352941176513, \"2019-09-17T00:00:00\", 1], [2.1262626262626307, \"2019-09-18T00:00:00\", 2], [2.1019417475728197, \"2019-09-19T00:00:00\", 3], [2.1223628691983163, \"2019-09-20T00:00:00\", 4], [2.309210526315793, \"2019-09-21T00:00:00\", 5], [2.256578947368425, \"2019-09-22T00:00:00\", 6], [2.147727272727277, \"2019-09-23T00:00:00\", 0], [2.1228070175438636, \"2019-09-24T00:00:00\", 1], [2.170329670329674, \"2019-09-25T00:00:00\", 2], [2.1392405063291178, \"2019-09-26T00:00:00\", 3], [2.2514285714285753, \"2019-09-27T00:00:00\", 4], [2.3563218390804637, \"2019-09-28T00:00:00\", 5], [2.3013698630137025, \"2019-09-29T00:00:00\", 6], [2.270270270270274, \"2019-09-30T00:00:00\", 0], [2.1856287425149734, \"2019-10-01T00:00:00\", 1], [2.3294117647058865, \"2019-10-02T00:00:00\", 2], [2.3209876543209913, \"2019-10-03T00:00:00\", 3], [2.2864321608040235, \"2019-10-04T00:00:00\", 4], [2.35078534031414, \"2019-10-05T00:00:00\", 5], [2.3701298701298743, \"2019-10-06T00:00:00\", 6], [2.016304347826091, \"2019-10-07T00:00:00\", 0], [2.0485436893203923, \"2019-10-08T00:00:00\", 1], [2.2443181818181857, \"2019-10-09T00:00:00\", 2], [2.145000000000004, \"2019-10-10T00:00:00\", 3], [2.216450216450221, \"2019-10-11T00:00:00\", 4], [2.2679738562091543, \"2019-10-12T00:00:00\", 5], [2.1929824561403555, \"2019-10-13T00:00:00\", 6], [2.100000000000005, \"2019-10-14T00:00:00\", 0], [2.1724137931034533, \"2019-10-15T00:00:00\", 1], [2.2389937106918287, \"2019-10-16T00:00:00\", 2], [2.0207253886010412, \"2019-10-17T00:00:00\", 3], [2.286407766990296, \"2019-10-18T00:00:00\", 4], [2.3987730061349737, \"2019-10-19T00:00:00\", 5], [2.3206521739130475, \"2019-10-20T00:00:00\", 6], [2.2739726027397302, \"2019-10-21T00:00:00\", 0], [2.4522292993630614, \"2019-10-22T00:00:00\", 1], [2.1756756756756794, \"2019-10-23T00:00:00\", 2], [2.3636363636363673, \"2019-10-24T00:00:00\", 3], [2.317204301075273, \"2019-10-25T00:00:00\", 4], [2.41752577319588, \"2019-10-26T00:00:00\", 5], [2.398648648648653, \"2019-10-27T00:00:00\", 6], [2.208333333333338, \"2019-10-28T00:00:00\", 0], [2.2348993288590653, \"2019-10-29T00:00:00\", 1], [2.230769230769236, \"2019-10-30T00:00:00\", 2], [2.2362637362637416, \"2019-10-31T00:00:00\", 3], [2.440789473684216, \"2019-11-01T00:00:00\", 4], [2.6808510638297927, \"2019-11-02T00:00:00\", 5], [2.7500000000000053, \"2019-11-03T00:00:00\", 6], [2.203980099502493, \"2019-11-04T00:00:00\", 0], [2.353591160221, \"2019-11-05T00:00:00\", 1], [2.1208791208791267, \"2019-11-06T00:00:00\", 2], [2.1530612244898015, \"2019-11-07T00:00:00\", 3], [2.2692307692307745, \"2019-11-08T00:00:00\", 4], [2.4193548387096824, \"2019-11-09T00:00:00\", 5], [2.3826086956521793, \"2019-11-10T00:00:00\", 6], [2.533980582524277, \"2019-11-11T00:00:00\", 0], [2.3265306122449028, \"2019-11-12T00:00:00\", 1], [2.1385542168674747, \"2019-11-13T00:00:00\", 2], [2.3290322580645215, \"2019-11-14T00:00:00\", 3], [2.334862385321107, \"2019-11-15T00:00:00\", 4], [2.3034482758620753, \"2019-11-16T00:00:00\", 5], [2.4583333333333397, \"2019-11-17T00:00:00\", 6], [2.1111111111111174, \"2019-11-18T00:00:00\", 0], [2.142045454545461, \"2019-11-19T00:00:00\", 1], [1.9869281045751692, \"2019-11-20T00:00:00\", 2], [2.1847826086956577, \"2019-11-21T00:00:00\", 3], [2.1880733944954187, \"2019-11-22T00:00:00\", 4], [2.271523178807952, \"2019-11-23T00:00:00\", 5], [2.512195121951225, \"2019-11-24T00:00:00\", 6], [2.2824858757062194, \"2019-11-25T00:00:00\", 0], [2.124223602484477, \"2019-11-26T00:00:00\", 1], [2.132183908045983, \"2019-11-27T00:00:00\", 2], [2.1089743589743652, \"2019-11-28T00:00:00\", 3], [2.275000000000006, \"2019-11-29T00:00:00\", 4], [2.308724832214772, \"2019-11-30T00:00:00\", 5], [2.420634920634927, \"2019-12-01T00:00:00\", 6], [2.129533678756483, \"2019-12-02T00:00:00\", 0], [2.185929648241212, \"2019-12-03T00:00:00\", 1], [2.235000000000006, \"2019-12-04T00:00:00\", 2], [2.062857142857149, \"2019-12-05T00:00:00\", 3], [2.247663551401876, \"2019-12-06T00:00:00\", 4], [2.2634730538922216, \"2019-12-07T00:00:00\", 5], [2.6500000000000066, \"2019-12-08T00:00:00\", 6], [2.1029411764705945, \"2019-12-09T00:00:00\", 0], [2.1291866028708193, \"2019-12-10T00:00:00\", 1], [2.291428571428577, \"2019-12-11T00:00:00\", 2], [2.1759656652360566, \"2019-12-12T00:00:00\", 3], [2.170403587443951, \"2019-12-13T00:00:00\", 4], [2.3694267515923615, \"2019-12-14T00:00:00\", 5], [2.4689655172413842, \"2019-12-15T00:00:00\", 6], [2.122222222222227, \"2019-12-16T00:00:00\", 0], [2.1616766467065918, \"2019-12-17T00:00:00\", 1], [2.1907216494845407, \"2019-12-18T00:00:00\", 2], [2.192307692307697, \"2019-12-19T00:00:00\", 3], [2.220472440944886, \"2019-12-20T00:00:00\", 4], [2.161290322580649, \"2019-12-21T00:00:00\", 5], [2.6857142857142895, \"2019-12-22T00:00:00\", 6], [2.562500000000004, \"2019-12-23T00:00:00\", 0], [2.5510204081632697, \"2019-12-24T00:00:00\", 1], [2.390243902439029, \"2019-12-25T00:00:00\", 2], [2.3583333333333383, \"2019-12-26T00:00:00\", 3], [2.3050847457627173, \"2019-12-27T00:00:00\", 4], [2.6410256410256467, \"2019-12-28T00:00:00\", 5], [2.4485981308411273, \"2019-12-29T00:00:00\", 6], [2.1280000000000054, \"2019-12-30T00:00:00\", 0], [2.368421052631584, \"2019-12-31T00:00:00\", 1]], \"hovertemplate\": \"variable=victs_per_acc<br>date=%{customdata[1]}<br>value=%{customdata[0]}<br>weekday=%{customdata[2]}<extra></extra>\", \"legendgroup\": \"victs_per_acc\", \"line\": {\"color\": \"#636efa\", \"dash\": \"solid\"}, \"mode\": \"lines\", \"name\": \"victs_per_acc\", \"orientation\": \"v\", \"showlegend\": true, \"type\": \"scatter\", \"x\": [\"2019-01-01T00:00:00\", \"2019-01-02T00:00:00\", \"2019-01-03T00:00:00\", \"2019-01-04T00:00:00\", \"2019-01-05T00:00:00\", \"2019-01-06T00:00:00\", \"2019-01-07T00:00:00\", \"2019-01-08T00:00:00\", \"2019-01-09T00:00:00\", \"2019-01-10T00:00:00\", \"2019-01-11T00:00:00\", \"2019-01-12T00:00:00\", \"2019-01-13T00:00:00\", \"2019-01-14T00:00:00\", \"2019-01-15T00:00:00\", \"2019-01-16T00:00:00\", \"2019-01-17T00:00:00\", \"2019-01-18T00:00:00\", \"2019-01-19T00:00:00\", \"2019-01-20T00:00:00\", \"2019-01-21T00:00:00\", \"2019-01-22T00:00:00\", \"2019-01-23T00:00:00\", \"2019-01-24T00:00:00\", \"2019-01-25T00:00:00\", \"2019-01-26T00:00:00\", \"2019-01-27T00:00:00\", \"2019-01-28T00:00:00\", \"2019-01-29T00:00:00\", \"2019-01-30T00:00:00\", \"2019-01-31T00:00:00\", \"2019-02-01T00:00:00\", \"2019-02-02T00:00:00\", \"2019-02-03T00:00:00\", \"2019-02-04T00:00:00\", \"2019-02-05T00:00:00\", \"2019-02-06T00:00:00\", \"2019-02-07T00:00:00\", \"2019-02-08T00:00:00\", \"2019-02-09T00:00:00\", \"2019-02-10T00:00:00\", \"2019-02-11T00:00:00\", \"2019-02-12T00:00:00\", \"2019-02-13T00:00:00\", \"2019-02-14T00:00:00\", \"2019-02-15T00:00:00\", \"2019-02-16T00:00:00\", \"2019-02-17T00:00:00\", \"2019-02-18T00:00:00\", \"2019-02-19T00:00:00\", \"2019-02-20T00:00:00\", \"2019-02-21T00:00:00\", \"2019-02-22T00:00:00\", \"2019-02-23T00:00:00\", \"2019-02-24T00:00:00\", \"2019-02-25T00:00:00\", \"2019-02-26T00:00:00\", \"2019-02-27T00:00:00\", \"2019-02-28T00:00:00\", \"2019-03-01T00:00:00\", \"2019-03-02T00:00:00\", \"2019-03-03T00:00:00\", \"2019-03-04T00:00:00\", \"2019-03-05T00:00:00\", \"2019-03-06T00:00:00\", \"2019-03-07T00:00:00\", \"2019-03-08T00:00:00\", \"2019-03-09T00:00:00\", \"2019-03-10T00:00:00\", \"2019-03-11T00:00:00\", \"2019-03-12T00:00:00\", \"2019-03-13T00:00:00\", \"2019-03-14T00:00:00\", \"2019-03-15T00:00:00\", \"2019-03-16T00:00:00\", \"2019-03-17T00:00:00\", \"2019-03-18T00:00:00\", \"2019-03-19T00:00:00\", \"2019-03-20T00:00:00\", \"2019-03-21T00:00:00\", \"2019-03-22T00:00:00\", \"2019-03-23T00:00:00\", \"2019-03-24T00:00:00\", \"2019-03-25T00:00:00\", \"2019-03-26T00:00:00\", \"2019-03-27T00:00:00\", \"2019-03-28T00:00:00\", \"2019-03-29T00:00:00\", \"2019-03-30T00:00:00\", \"2019-03-31T00:00:00\", \"2019-04-01T00:00:00\", \"2019-04-02T00:00:00\", \"2019-04-03T00:00:00\", \"2019-04-04T00:00:00\", \"2019-04-05T00:00:00\", \"2019-04-06T00:00:00\", \"2019-04-07T00:00:00\", \"2019-04-08T00:00:00\", \"2019-04-09T00:00:00\", \"2019-04-10T00:00:00\", \"2019-04-11T00:00:00\", \"2019-04-12T00:00:00\", \"2019-04-13T00:00:00\", \"2019-04-14T00:00:00\", \"2019-04-15T00:00:00\", \"2019-04-16T00:00:00\", \"2019-04-17T00:00:00\", \"2019-04-18T00:00:00\", \"2019-04-19T00:00:00\", \"2019-04-20T00:00:00\", \"2019-04-21T00:00:00\", \"2019-04-22T00:00:00\", \"2019-04-23T00:00:00\", \"2019-04-24T00:00:00\", \"2019-04-25T00:00:00\", \"2019-04-26T00:00:00\", \"2019-04-27T00:00:00\", \"2019-04-28T00:00:00\", \"2019-04-29T00:00:00\", \"2019-04-30T00:00:00\", \"2019-05-01T00:00:00\", \"2019-05-02T00:00:00\", \"2019-05-03T00:00:00\", \"2019-05-04T00:00:00\", \"2019-05-05T00:00:00\", \"2019-05-06T00:00:00\", \"2019-05-07T00:00:00\", \"2019-05-08T00:00:00\", \"2019-05-09T00:00:00\", \"2019-05-10T00:00:00\", \"2019-05-11T00:00:00\", \"2019-05-12T00:00:00\", \"2019-05-13T00:00:00\", \"2019-05-14T00:00:00\", \"2019-05-15T00:00:00\", \"2019-05-16T00:00:00\", \"2019-05-17T00:00:00\", \"2019-05-18T00:00:00\", \"2019-05-19T00:00:00\", \"2019-05-20T00:00:00\", \"2019-05-21T00:00:00\", \"2019-05-22T00:00:00\", \"2019-05-23T00:00:00\", \"2019-05-24T00:00:00\", \"2019-05-25T00:00:00\", \"2019-05-26T00:00:00\", \"2019-05-27T00:00:00\", \"2019-05-28T00:00:00\", \"2019-05-29T00:00:00\", \"2019-05-30T00:00:00\", \"2019-05-31T00:00:00\", \"2019-06-01T00:00:00\", \"2019-06-02T00:00:00\", \"2019-06-03T00:00:00\", \"2019-06-04T00:00:00\", \"2019-06-05T00:00:00\", \"2019-06-06T00:00:00\", \"2019-06-07T00:00:00\", \"2019-06-08T00:00:00\", \"2019-06-09T00:00:00\", \"2019-06-10T00:00:00\", \"2019-06-11T00:00:00\", \"2019-06-12T00:00:00\", \"2019-06-13T00:00:00\", \"2019-06-14T00:00:00\", \"2019-06-15T00:00:00\", \"2019-06-16T00:00:00\", \"2019-06-17T00:00:00\", \"2019-06-18T00:00:00\", \"2019-06-19T00:00:00\", \"2019-06-20T00:00:00\", \"2019-06-21T00:00:00\", \"2019-06-22T00:00:00\", \"2019-06-23T00:00:00\", \"2019-06-24T00:00:00\", \"2019-06-25T00:00:00\", \"2019-06-26T00:00:00\", \"2019-06-27T00:00:00\", \"2019-06-28T00:00:00\", \"2019-06-29T00:00:00\", \"2019-06-30T00:00:00\", \"2019-07-01T00:00:00\", \"2019-07-02T00:00:00\", \"2019-07-03T00:00:00\", \"2019-07-04T00:00:00\", \"2019-07-05T00:00:00\", \"2019-07-06T00:00:00\", \"2019-07-07T00:00:00\", \"2019-07-08T00:00:00\", \"2019-07-09T00:00:00\", \"2019-07-10T00:00:00\", \"2019-07-11T00:00:00\", \"2019-07-12T00:00:00\", \"2019-07-13T00:00:00\", \"2019-07-14T00:00:00\", \"2019-07-15T00:00:00\", \"2019-07-16T00:00:00\", \"2019-07-17T00:00:00\", \"2019-07-18T00:00:00\", \"2019-07-19T00:00:00\", \"2019-07-20T00:00:00\", \"2019-07-21T00:00:00\", \"2019-07-22T00:00:00\", \"2019-07-23T00:00:00\", \"2019-07-24T00:00:00\", \"2019-07-25T00:00:00\", \"2019-07-26T00:00:00\", \"2019-07-27T00:00:00\", \"2019-07-28T00:00:00\", \"2019-07-29T00:00:00\", \"2019-07-30T00:00:00\", \"2019-07-31T00:00:00\", \"2019-08-01T00:00:00\", \"2019-08-02T00:00:00\", \"2019-08-03T00:00:00\", \"2019-08-04T00:00:00\", \"2019-08-05T00:00:00\", \"2019-08-06T00:00:00\", \"2019-08-07T00:00:00\", \"2019-08-08T00:00:00\", \"2019-08-09T00:00:00\", \"2019-08-10T00:00:00\", \"2019-08-11T00:00:00\", \"2019-08-12T00:00:00\", \"2019-08-13T00:00:00\", \"2019-08-14T00:00:00\", \"2019-08-15T00:00:00\", \"2019-08-16T00:00:00\", \"2019-08-17T00:00:00\", \"2019-08-18T00:00:00\", \"2019-08-19T00:00:00\", \"2019-08-20T00:00:00\", \"2019-08-21T00:00:00\", \"2019-08-22T00:00:00\", \"2019-08-23T00:00:00\", \"2019-08-24T00:00:00\", \"2019-08-25T00:00:00\", \"2019-08-26T00:00:00\", \"2019-08-27T00:00:00\", \"2019-08-28T00:00:00\", \"2019-08-29T00:00:00\", \"2019-08-30T00:00:00\", \"2019-08-31T00:00:00\", \"2019-09-01T00:00:00\", \"2019-09-02T00:00:00\", \"2019-09-03T00:00:00\", \"2019-09-04T00:00:00\", \"2019-09-05T00:00:00\", \"2019-09-06T00:00:00\", \"2019-09-07T00:00:00\", \"2019-09-08T00:00:00\", \"2019-09-09T00:00:00\", \"2019-09-10T00:00:00\", \"2019-09-11T00:00:00\", \"2019-09-12T00:00:00\", \"2019-09-13T00:00:00\", \"2019-09-14T00:00:00\", \"2019-09-15T00:00:00\", \"2019-09-16T00:00:00\", \"2019-09-17T00:00:00\", \"2019-09-18T00:00:00\", \"2019-09-19T00:00:00\", \"2019-09-20T00:00:00\", \"2019-09-21T00:00:00\", \"2019-09-22T00:00:00\", \"2019-09-23T00:00:00\", \"2019-09-24T00:00:00\", \"2019-09-25T00:00:00\", \"2019-09-26T00:00:00\", \"2019-09-27T00:00:00\", \"2019-09-28T00:00:00\", \"2019-09-29T00:00:00\", \"2019-09-30T00:00:00\", \"2019-10-01T00:00:00\", \"2019-10-02T00:00:00\", \"2019-10-03T00:00:00\", \"2019-10-04T00:00:00\", \"2019-10-05T00:00:00\", \"2019-10-06T00:00:00\", \"2019-10-07T00:00:00\", \"2019-10-08T00:00:00\", \"2019-10-09T00:00:00\", \"2019-10-10T00:00:00\", \"2019-10-11T00:00:00\", \"2019-10-12T00:00:00\", \"2019-10-13T00:00:00\", \"2019-10-14T00:00:00\", \"2019-10-15T00:00:00\", \"2019-10-16T00:00:00\", \"2019-10-17T00:00:00\", \"2019-10-18T00:00:00\", \"2019-10-19T00:00:00\", \"2019-10-20T00:00:00\", \"2019-10-21T00:00:00\", \"2019-10-22T00:00:00\", \"2019-10-23T00:00:00\", \"2019-10-24T00:00:00\", \"2019-10-25T00:00:00\", \"2019-10-26T00:00:00\", \"2019-10-27T00:00:00\", \"2019-10-28T00:00:00\", \"2019-10-29T00:00:00\", \"2019-10-30T00:00:00\", \"2019-10-31T00:00:00\", \"2019-11-01T00:00:00\", \"2019-11-02T00:00:00\", \"2019-11-03T00:00:00\", \"2019-11-04T00:00:00\", \"2019-11-05T00:00:00\", \"2019-11-06T00:00:00\", \"2019-11-07T00:00:00\", \"2019-11-08T00:00:00\", \"2019-11-09T00:00:00\", \"2019-11-10T00:00:00\", \"2019-11-11T00:00:00\", \"2019-11-12T00:00:00\", \"2019-11-13T00:00:00\", \"2019-11-14T00:00:00\", \"2019-11-15T00:00:00\", \"2019-11-16T00:00:00\", \"2019-11-17T00:00:00\", \"2019-11-18T00:00:00\", \"2019-11-19T00:00:00\", \"2019-11-20T00:00:00\", \"2019-11-21T00:00:00\", \"2019-11-22T00:00:00\", \"2019-11-23T00:00:00\", \"2019-11-24T00:00:00\", \"2019-11-25T00:00:00\", \"2019-11-26T00:00:00\", \"2019-11-27T00:00:00\", \"2019-11-28T00:00:00\", \"2019-11-29T00:00:00\", \"2019-11-30T00:00:00\", \"2019-12-01T00:00:00\", \"2019-12-02T00:00:00\", \"2019-12-03T00:00:00\", \"2019-12-04T00:00:00\", \"2019-12-05T00:00:00\", \"2019-12-06T00:00:00\", \"2019-12-07T00:00:00\", \"2019-12-08T00:00:00\", \"2019-12-09T00:00:00\", \"2019-12-10T00:00:00\", \"2019-12-11T00:00:00\", \"2019-12-12T00:00:00\", \"2019-12-13T00:00:00\", \"2019-12-14T00:00:00\", \"2019-12-15T00:00:00\", \"2019-12-16T00:00:00\", \"2019-12-17T00:00:00\", \"2019-12-18T00:00:00\", \"2019-12-19T00:00:00\", \"2019-12-20T00:00:00\", \"2019-12-21T00:00:00\", \"2019-12-22T00:00:00\", \"2019-12-23T00:00:00\", \"2019-12-24T00:00:00\", \"2019-12-25T00:00:00\", \"2019-12-26T00:00:00\", \"2019-12-27T00:00:00\", \"2019-12-28T00:00:00\", \"2019-12-29T00:00:00\", \"2019-12-30T00:00:00\", \"2019-12-31T00:00:00\"], \"xaxis\": \"x\", \"y\": [2.5047619047619047, 2.2336448598130847, 2.3394495412844045, 2.240601503759399, 2.7864077669902922, 2.481927710843375, 2.117647058823531, 2.2039473684210544, 2.3051948051948075, 2.2323943661971857, 2.393617021276598, 2.3888888888888906, 2.181818181818184, 2.5070422535211296, 2.217391304347829, 2.1948051948051974, 2.0654761904761934, 2.150000000000003, 2.500000000000003, 2.555555555555559, 2.1019108280254812, 2.131782945736438, 2.315315315315319, 2.14383561643836, 2.308219178082196, 2.3028169014084545, 2.215686274509808, 2.173228346456697, 2.090909090909095, 2.271428571428575, 2.0866666666666704, 2.2592592592592626, 2.2857142857142887, 2.6041666666666696, 2.0821917808219204, 2.1000000000000028, 2.3120567375886547, 2.2500000000000027, 2.2447916666666696, 2.4885496183206137, 2.4426229508196746, 2.238095238095241, 2.232258064516132, 2.207547169811324, 2.1871345029239797, 2.242009132420094, 2.3000000000000025, 2.246575342465756, 2.210144927536234, 2.224637681159422, 2.198529411764708, 2.1883116883116895, 2.1912568306010938, 2.220779220779222, 2.2357723577235777, 2.1461988304093578, 2.231707317073172, 2.1533333333333347, 2.1301369863013706, 2.153846153846155, 2.1779661016949166, 2.0743801652892575, 2.3333333333333353, 2.1458333333333353, 2.23529411764706, 2.3066666666666675, 2.0538922155688635, 2.2954545454545463, 2.3387096774193554, 2.2348484848484853, 2.1205673758865253, 2.1942446043165473, 2.091503267973857, 2.180722891566266, 2.285714285714287, 2.4910714285714297, 2.317880794701988, 2.2119205298013256, 2.1724137931034493, 2.131868131868133, 2.2701421800947883, 2.502857142857144, 2.2539682539682557, 2.1744966442953038, 2.1314285714285726, 2.1344086021505384, 2.2937500000000015, 2.252475247524754, 2.3085714285714305, 2.3010752688172067, 2.1418439716312085, 2.324840764331213, 2.330935251798564, 2.265625000000003, 2.219251336898399, 2.1913580246913607, 2.45689655172414, 2.1586206896551747, 2.0400000000000023, 2.1609195402298873, 2.164634146341465, 2.3186813186813207, 2.55487804878049, 2.294117647058826, 2.1037037037037063, 2.155405405405408, 2.207100591715979, 2.2209302325581426, 2.2623762376237653, 2.255434782608699, 2.1076923076923104, 2.3495934959349625, 2.315789473684214, 2.2056737588652524, 2.1517241379310383, 2.254054054054058, 2.298387096774197, 2.2561983471074414, 2.2384615384615425, 2.2181818181818223, 2.2727272727272774, 2.3493975903614506, 2.0620689655172457, 2.051851851851856, 2.4615384615384657, 2.2684563758389302, 2.3081761006289345, 2.6571428571428606, 2.091549295774651, 2.306818181818185, 2.195945945945949, 2.229166666666669, 2.2051282051282075, 2.2031250000000027, 2.1703296703296733, 2.079754601226997, 2.292207792207795, 2.2318840579710173, 2.264462809917358, 2.1468531468531493, 2.0277777777777803, 2.236994219653182, 2.0625000000000027, 2.126262626262629, 2.3313609467455647, 2.3708609271523207, 2.183544303797471, 2.155279503105593, 2.2526881720430136, 2.4859154929577487, 2.1761658031088102, 2.403409090909092, 2.500000000000001, 2.1089743589743595, 2.2083333333333344, 2.2833333333333337, 2.1885714285714286, 2.1761904761904756, 2.1955307262569828, 2.4933333333333323, 2.1826086956521733, 2.384146341463414, 2.2513661202185777, 2.177514792899407, 2.194029850746267, 2.3726708074534146, 2.373684210526315, 2.1199999999999988, 2.121052631578946, 2.146198830409356, 2.164835164835164, 2.3595041322314034, 2.3717277486910975, 2.35151515151515, 2.2947368421052614, 2.157608695652172, 2.317708333333332, 2.1990049751243768, 2.3478260869565206, 2.50802139037433, 2.594444444444443, 2.1878172588832467, 2.1855203619909482, 2.3155339805825226, 2.2765957446808494, 2.2813852813852793, 2.3649999999999984, 2.4431818181818166, 2.1436781609195386, 2.213930348258705, 2.252631578947367, 2.188172043010751, 2.311004784688994, 2.3988439306358362, 2.3312883435582803, 2.234285714285712, 2.2307692307692286, 2.286486486486484, 2.0977011494252853, 2.413407821229048, 2.488764044943818, 2.1265822784810102, 2.2325581395348815, 2.214285714285712, 2.224852071005915, 2.2647058823529393, 2.3184357541899425, 2.3254437869822473, 2.1101694915254225, 2.375838926174495, 2.32051282051282, 2.1567164179104474, 2.4013605442176864, 2.49438202247191, 2.243055555555556, 2.3671875, 2.3422818791946307, 2.244755244755244, 2.2838709677419353, 2.1301369863013693, 2.4615384615384617, 2.1870967741935488, 2.5847457627118655, 2.347826086956523, 2.5000000000000013, 2.1496598639455797, 2.1782178217821797, 2.1958041958041967, 2.506578947368422, 2.671875000000001, 2.4107142857142865, 2.304687500000001, 2.3140495867768607, 2.17948717948718, 2.2828947368421058, 2.3439490445859876, 2.4774193548387102, 2.341269841269842, 2.2213740458015274, 2.0827586206896567, 2.484472049689442, 2.324324324324326, 2.4810810810810833, 2.294117647058826, 2.2272727272727293, 2.2023809523809548, 2.0722222222222246, 2.2625000000000024, 2.1548117154811743, 2.30693069306931, 2.4444444444444478, 2.222222222222225, 2.281437125748506, 2.18947368421053, 2.1428571428571463, 2.233050847457631, 2.299465240641715, 2.454545454545458, 2.2265193370165783, 2.1882352941176513, 2.1262626262626307, 2.1019417475728197, 2.1223628691983163, 2.309210526315793, 2.256578947368425, 2.147727272727277, 2.1228070175438636, 2.170329670329674, 2.1392405063291178, 2.2514285714285753, 2.3563218390804637, 2.3013698630137025, 2.270270270270274, 2.1856287425149734, 2.3294117647058865, 2.3209876543209913, 2.2864321608040235, 2.35078534031414, 2.3701298701298743, 2.016304347826091, 2.0485436893203923, 2.2443181818181857, 2.145000000000004, 2.216450216450221, 2.2679738562091543, 2.1929824561403555, 2.100000000000005, 2.1724137931034533, 2.2389937106918287, 2.0207253886010412, 2.286407766990296, 2.3987730061349737, 2.3206521739130475, 2.2739726027397302, 2.4522292993630614, 2.1756756756756794, 2.3636363636363673, 2.317204301075273, 2.41752577319588, 2.398648648648653, 2.208333333333338, 2.2348993288590653, 2.230769230769236, 2.2362637362637416, 2.440789473684216, 2.6808510638297927, 2.7500000000000053, 2.203980099502493, 2.353591160221, 2.1208791208791267, 2.1530612244898015, 2.2692307692307745, 2.4193548387096824, 2.3826086956521793, 2.533980582524277, 2.3265306122449028, 2.1385542168674747, 2.3290322580645215, 2.334862385321107, 2.3034482758620753, 2.4583333333333397, 2.1111111111111174, 2.142045454545461, 1.9869281045751692, 2.1847826086956577, 2.1880733944954187, 2.271523178807952, 2.512195121951225, 2.2824858757062194, 2.124223602484477, 2.132183908045983, 2.1089743589743652, 2.275000000000006, 2.308724832214772, 2.420634920634927, 2.129533678756483, 2.185929648241212, 2.235000000000006, 2.062857142857149, 2.247663551401876, 2.2634730538922216, 2.6500000000000066, 2.1029411764705945, 2.1291866028708193, 2.291428571428577, 2.1759656652360566, 2.170403587443951, 2.3694267515923615, 2.4689655172413842, 2.122222222222227, 2.1616766467065918, 2.1907216494845407, 2.192307692307697, 2.220472440944886, 2.161290322580649, 2.6857142857142895, 2.562500000000004, 2.5510204081632697, 2.390243902439029, 2.3583333333333383, 2.3050847457627173, 2.6410256410256467, 2.4485981308411273, 2.1280000000000054, 2.368421052631584], \"yaxis\": \"y\"}],                        {\"legend\": {\"title\": {\"text\": \"variable\"}, \"tracegroupgap\": 0}, \"margin\": {\"t\": 60}, \"template\": {\"data\": {\"bar\": [{\"error_x\": {\"color\": \"#2a3f5f\"}, \"error_y\": {\"color\": \"#2a3f5f\"}, \"marker\": {\"line\": {\"color\": \"#E5ECF6\", \"width\": 0.5}}, \"type\": \"bar\"}], \"barpolar\": [{\"marker\": {\"line\": {\"color\": \"#E5ECF6\", \"width\": 0.5}}, \"type\": \"barpolar\"}], \"carpet\": [{\"aaxis\": {\"endlinecolor\": \"#2a3f5f\", \"gridcolor\": \"white\", \"linecolor\": \"white\", \"minorgridcolor\": \"white\", \"startlinecolor\": \"#2a3f5f\"}, \"baxis\": {\"endlinecolor\": \"#2a3f5f\", \"gridcolor\": \"white\", \"linecolor\": \"white\", \"minorgridcolor\": \"white\", \"startlinecolor\": \"#2a3f5f\"}, \"type\": \"carpet\"}], \"choropleth\": [{\"colorbar\": {\"outlinewidth\": 0, \"ticks\": \"\"}, \"type\": \"choropleth\"}], \"contour\": [{\"colorbar\": {\"outlinewidth\": 0, \"ticks\": \"\"}, \"colorscale\": [[0.0, \"#0d0887\"], [0.1111111111111111, \"#46039f\"], [0.2222222222222222, \"#7201a8\"], [0.3333333333333333, \"#9c179e\"], [0.4444444444444444, \"#bd3786\"], [0.5555555555555556, \"#d8576b\"], [0.6666666666666666, \"#ed7953\"], [0.7777777777777778, \"#fb9f3a\"], [0.8888888888888888, \"#fdca26\"], [1.0, \"#f0f921\"]], \"type\": \"contour\"}], \"contourcarpet\": [{\"colorbar\": {\"outlinewidth\": 0, \"ticks\": \"\"}, \"type\": \"contourcarpet\"}], \"heatmap\": [{\"colorbar\": {\"outlinewidth\": 0, \"ticks\": \"\"}, \"colorscale\": [[0.0, \"#0d0887\"], [0.1111111111111111, \"#46039f\"], [0.2222222222222222, \"#7201a8\"], [0.3333333333333333, \"#9c179e\"], [0.4444444444444444, \"#bd3786\"], [0.5555555555555556, \"#d8576b\"], [0.6666666666666666, \"#ed7953\"], [0.7777777777777778, \"#fb9f3a\"], [0.8888888888888888, \"#fdca26\"], [1.0, \"#f0f921\"]], \"type\": \"heatmap\"}], \"heatmapgl\": [{\"colorbar\": {\"outlinewidth\": 0, \"ticks\": \"\"}, \"colorscale\": [[0.0, \"#0d0887\"], [0.1111111111111111, \"#46039f\"], [0.2222222222222222, \"#7201a8\"], [0.3333333333333333, \"#9c179e\"], [0.4444444444444444, \"#bd3786\"], [0.5555555555555556, \"#d8576b\"], [0.6666666666666666, \"#ed7953\"], [0.7777777777777778, \"#fb9f3a\"], [0.8888888888888888, \"#fdca26\"], [1.0, \"#f0f921\"]], \"type\": \"heatmapgl\"}], \"histogram\": [{\"marker\": {\"colorbar\": {\"outlinewidth\": 0, \"ticks\": \"\"}}, \"type\": \"histogram\"}], \"histogram2d\": [{\"colorbar\": {\"outlinewidth\": 0, \"ticks\": \"\"}, \"colorscale\": [[0.0, \"#0d0887\"], [0.1111111111111111, \"#46039f\"], [0.2222222222222222, \"#7201a8\"], [0.3333333333333333, \"#9c179e\"], [0.4444444444444444, \"#bd3786\"], [0.5555555555555556, \"#d8576b\"], [0.6666666666666666, \"#ed7953\"], [0.7777777777777778, \"#fb9f3a\"], [0.8888888888888888, \"#fdca26\"], [1.0, \"#f0f921\"]], \"type\": \"histogram2d\"}], \"histogram2dcontour\": [{\"colorbar\": {\"outlinewidth\": 0, \"ticks\": \"\"}, \"colorscale\": [[0.0, \"#0d0887\"], [0.1111111111111111, \"#46039f\"], [0.2222222222222222, \"#7201a8\"], [0.3333333333333333, \"#9c179e\"], [0.4444444444444444, \"#bd3786\"], [0.5555555555555556, \"#d8576b\"], [0.6666666666666666, \"#ed7953\"], [0.7777777777777778, \"#fb9f3a\"], [0.8888888888888888, \"#fdca26\"], [1.0, \"#f0f921\"]], \"type\": \"histogram2dcontour\"}], \"mesh3d\": [{\"colorbar\": {\"outlinewidth\": 0, \"ticks\": \"\"}, \"type\": \"mesh3d\"}], \"parcoords\": [{\"line\": {\"colorbar\": {\"outlinewidth\": 0, \"ticks\": \"\"}}, \"type\": \"parcoords\"}], \"pie\": [{\"automargin\": true, \"type\": \"pie\"}], \"scatter\": [{\"marker\": {\"colorbar\": {\"outlinewidth\": 0, \"ticks\": \"\"}}, \"type\": \"scatter\"}], \"scatter3d\": [{\"line\": {\"colorbar\": {\"outlinewidth\": 0, \"ticks\": \"\"}}, \"marker\": {\"colorbar\": {\"outlinewidth\": 0, \"ticks\": \"\"}}, \"type\": \"scatter3d\"}], \"scattercarpet\": [{\"marker\": {\"colorbar\": {\"outlinewidth\": 0, \"ticks\": \"\"}}, \"type\": \"scattercarpet\"}], \"scattergeo\": [{\"marker\": {\"colorbar\": {\"outlinewidth\": 0, \"ticks\": \"\"}}, \"type\": \"scattergeo\"}], \"scattergl\": [{\"marker\": {\"colorbar\": {\"outlinewidth\": 0, \"ticks\": \"\"}}, \"type\": \"scattergl\"}], \"scattermapbox\": [{\"marker\": {\"colorbar\": {\"outlinewidth\": 0, \"ticks\": \"\"}}, \"type\": \"scattermapbox\"}], \"scatterpolar\": [{\"marker\": {\"colorbar\": {\"outlinewidth\": 0, \"ticks\": \"\"}}, \"type\": \"scatterpolar\"}], \"scatterpolargl\": [{\"marker\": {\"colorbar\": {\"outlinewidth\": 0, \"ticks\": \"\"}}, \"type\": \"scatterpolargl\"}], \"scatterternary\": [{\"marker\": {\"colorbar\": {\"outlinewidth\": 0, \"ticks\": \"\"}}, \"type\": \"scatterternary\"}], \"surface\": [{\"colorbar\": {\"outlinewidth\": 0, \"ticks\": \"\"}, \"colorscale\": [[0.0, \"#0d0887\"], [0.1111111111111111, \"#46039f\"], [0.2222222222222222, \"#7201a8\"], [0.3333333333333333, \"#9c179e\"], [0.4444444444444444, \"#bd3786\"], [0.5555555555555556, \"#d8576b\"], [0.6666666666666666, \"#ed7953\"], [0.7777777777777778, \"#fb9f3a\"], [0.8888888888888888, \"#fdca26\"], [1.0, \"#f0f921\"]], \"type\": \"surface\"}], \"table\": [{\"cells\": {\"fill\": {\"color\": \"#EBF0F8\"}, \"line\": {\"color\": \"white\"}}, \"header\": {\"fill\": {\"color\": \"#C8D4E3\"}, \"line\": {\"color\": \"white\"}}, \"type\": \"table\"}]}, \"layout\": {\"annotationdefaults\": {\"arrowcolor\": \"#2a3f5f\", \"arrowhead\": 0, \"arrowwidth\": 1}, \"autotypenumbers\": \"strict\", \"coloraxis\": {\"colorbar\": {\"outlinewidth\": 0, \"ticks\": \"\"}}, \"colorscale\": {\"diverging\": [[0, \"#8e0152\"], [0.1, \"#c51b7d\"], [0.2, \"#de77ae\"], [0.3, \"#f1b6da\"], [0.4, \"#fde0ef\"], [0.5, \"#f7f7f7\"], [0.6, \"#e6f5d0\"], [0.7, \"#b8e186\"], [0.8, \"#7fbc41\"], [0.9, \"#4d9221\"], [1, \"#276419\"]], \"sequential\": [[0.0, \"#0d0887\"], [0.1111111111111111, \"#46039f\"], [0.2222222222222222, \"#7201a8\"], [0.3333333333333333, \"#9c179e\"], [0.4444444444444444, \"#bd3786\"], [0.5555555555555556, \"#d8576b\"], [0.6666666666666666, \"#ed7953\"], [0.7777777777777778, \"#fb9f3a\"], [0.8888888888888888, \"#fdca26\"], [1.0, \"#f0f921\"]], \"sequentialminus\": [[0.0, \"#0d0887\"], [0.1111111111111111, \"#46039f\"], [0.2222222222222222, \"#7201a8\"], [0.3333333333333333, \"#9c179e\"], [0.4444444444444444, \"#bd3786\"], [0.5555555555555556, \"#d8576b\"], [0.6666666666666666, \"#ed7953\"], [0.7777777777777778, \"#fb9f3a\"], [0.8888888888888888, \"#fdca26\"], [1.0, \"#f0f921\"]]}, \"colorway\": [\"#636efa\", \"#EF553B\", \"#00cc96\", \"#ab63fa\", \"#FFA15A\", \"#19d3f3\", \"#FF6692\", \"#B6E880\", \"#FF97FF\", \"#FECB52\"], \"font\": {\"color\": \"#2a3f5f\"}, \"geo\": {\"bgcolor\": \"white\", \"lakecolor\": \"white\", \"landcolor\": \"#E5ECF6\", \"showlakes\": true, \"showland\": true, \"subunitcolor\": \"white\"}, \"hoverlabel\": {\"align\": \"left\"}, \"hovermode\": \"closest\", \"mapbox\": {\"style\": \"light\"}, \"paper_bgcolor\": \"white\", \"plot_bgcolor\": \"#E5ECF6\", \"polar\": {\"angularaxis\": {\"gridcolor\": \"white\", \"linecolor\": \"white\", \"ticks\": \"\"}, \"bgcolor\": \"#E5ECF6\", \"radialaxis\": {\"gridcolor\": \"white\", \"linecolor\": \"white\", \"ticks\": \"\"}}, \"scene\": {\"xaxis\": {\"backgroundcolor\": \"#E5ECF6\", \"gridcolor\": \"white\", \"gridwidth\": 2, \"linecolor\": \"white\", \"showbackground\": true, \"ticks\": \"\", \"zerolinecolor\": \"white\"}, \"yaxis\": {\"backgroundcolor\": \"#E5ECF6\", \"gridcolor\": \"white\", \"gridwidth\": 2, \"linecolor\": \"white\", \"showbackground\": true, \"ticks\": \"\", \"zerolinecolor\": \"white\"}, \"zaxis\": {\"backgroundcolor\": \"#E5ECF6\", \"gridcolor\": \"white\", \"gridwidth\": 2, \"linecolor\": \"white\", \"showbackground\": true, \"ticks\": \"\", \"zerolinecolor\": \"white\"}}, \"shapedefaults\": {\"line\": {\"color\": \"#2a3f5f\"}}, \"ternary\": {\"aaxis\": {\"gridcolor\": \"white\", \"linecolor\": \"white\", \"ticks\": \"\"}, \"baxis\": {\"gridcolor\": \"white\", \"linecolor\": \"white\", \"ticks\": \"\"}, \"bgcolor\": \"#E5ECF6\", \"caxis\": {\"gridcolor\": \"white\", \"linecolor\": \"white\", \"ticks\": \"\"}}, \"title\": {\"x\": 0.05}, \"xaxis\": {\"automargin\": true, \"gridcolor\": \"white\", \"linecolor\": \"white\", \"ticks\": \"\", \"title\": {\"standoff\": 15}, \"zerolinecolor\": \"white\", \"zerolinewidth\": 2}, \"yaxis\": {\"automargin\": true, \"gridcolor\": \"white\", \"linecolor\": \"white\", \"ticks\": \"\", \"title\": {\"standoff\": 15}, \"zerolinecolor\": \"white\", \"zerolinewidth\": 2}}}, \"xaxis\": {\"anchor\": \"y\", \"domain\": [0.0, 1.0], \"title\": {\"text\": \"date\"}}, \"yaxis\": {\"anchor\": \"x\", \"domain\": [0.0, 1.0], \"title\": {\"text\": \"value\"}}},                        {\"responsive\": true}                    ).then(function(){\n",
       "                            \n",
       "var gd = document.getElementById('4109c314-81b2-44d2-85d2-e08ac723a7ff');\n",
       "var x = new MutationObserver(function (mutations, observer) {{\n",
       "        var display = window.getComputedStyle(gd).display;\n",
       "        if (!display || display === 'none') {{\n",
       "            console.log([gd, 'removed!']);\n",
       "            Plotly.purge(gd);\n",
       "            observer.disconnect();\n",
       "        }}\n",
       "}});\n",
       "\n",
       "// Listen for the removal of the full notebook cells\n",
       "var notebookContainer = gd.closest('#notebook-container');\n",
       "if (notebookContainer) {{\n",
       "    x.observe(notebookContainer, {childList: true});\n",
       "}}\n",
       "\n",
       "// Listen for the clearing of the current output cell\n",
       "var outputEl = gd.closest('.output');\n",
       "if (outputEl) {{\n",
       "    x.observe(outputEl, {childList: true});\n",
       "}}\n",
       "\n",
       "                        })                };                });            </script>        </div>"
      ]
     },
     "metadata": {},
     "output_type": "display_data"
    }
   ],
   "source": [
    "plot_acc_by_year(accidents_by_date, 2019, ['victs_per_acc'], window=1, hover_data=['value', 'date', 'weekday'])"
   ]
  },
  {
   "cell_type": "markdown",
   "metadata": {},
   "source": [
    "Le nombre de victimes par accident semble plus élevé le dimanche."
   ]
  },
  {
   "cell_type": "code",
   "execution_count": 341,
   "metadata": {
    "ExecuteTime": {
     "end_time": "2020-12-29T11:10:11.437427Z",
     "start_time": "2020-12-29T11:10:11.204285Z"
    },
    "scrolled": true
   },
   "outputs": [
    {
     "data": {
      "image/png": "[encoded data removed]",
      "text/plain": [
       "<Figure size 864x432 with 1 Axes>"
      ]
     },
     "metadata": {
      "needs_background": "light"
     },
     "output_type": "display_data"
    }
   ],
   "source": [
    "def build_acc_by_weekday(accidents_by_date, year):\n",
    "    accidents_by_date['weekday'] = accidents_by_date['date'].dt.weekday\n",
    "    acc_by_weekday = accidents_by_date.loc[accidents_by_date['date'].dt.year == year, :].groupby(by=['weekday']).sum()\n",
    "    acc_by_weekday['victs_per_acc'] = acc_by_weekday['nb_victims'] / acc_by_weekday['nb_accidents']\n",
    "    \n",
    "    return acc_by_weekday\n",
    "\n",
    "acc_by_weekday = build_acc_by_weekday(accidents_by_date, 2019)\n",
    "acc_by_weekday['victs_per_acc'].plot.bar(figsize=(12, 6))"
   ]
  },
  {
   "cell_type": "markdown",
   "metadata": {},
   "source": [
    "#### La gravité des accidents varient selon l'heure de la journée"
   ]
  },
  {
   "cell_type": "code",
   "execution_count": 342,
   "metadata": {
    "ExecuteTime": {
     "end_time": "2020-12-29T11:11:11.271803Z",
     "start_time": "2020-12-29T11:11:09.974189Z"
    }
   },
   "outputs": [
    {
     "data": {
      "image/png": "[encoded data removed]",
      "text/plain": [
       "<Figure size 864x432 with 1 Axes>"
      ]
     },
     "metadata": {
      "needs_background": "light"
     },
     "output_type": "display_data"
    }
   ],
   "source": [
    "acc_severity = pd.read_csv('../data/interim/accidents/acc_severity.csv',\n",
    "                           index_col=0, header=0,\n",
    "                           dtype={'acc_severity': 'category', 'Num_Acc': 'string'})\n",
    "accidents = pd.merge(caracs, acc_severity, on='Num_Acc')\n",
    "\n",
    "acc_by_hour = accidents.groupby(by=['hour', 'acc_severity']).count().reset_index()\n",
    "acc_by_hour = pd.crosstab(index=acc_by_hour['hour'], \n",
    "            columns=acc_by_hour['acc_severity'], \n",
    "            values=acc_by_hour['Num_Acc'],\n",
    "            aggfunc=sum,\n",
    "            normalize=0).mul(100)\n",
    "acc_by_hour.rename({\n",
    "        'inj_hosp': 'Grave',\n",
    "        'inj_light': 'Léger',\n",
    "        'killed': 'Mortel',\n",
    "    }, axis=1)\\\n",
    "    .plot.bar(figsize=(12, 6), stacked=False, rot=0,\n",
    "              color=['blue', 'lightblue', 'grey'], width=1,\n",
    "              ylabel='% des accidents par heure', xlabel='Heures', \n",
    "             title=\"La gravité des accidents varient selon l'heure de la journée\")"
   ]
  },
  {
   "cell_type": "code",
   "execution_count": 349,
   "metadata": {
    "ExecuteTime": {
     "end_time": "2020-12-29T11:14:38.247897Z",
     "start_time": "2020-12-29T11:14:37.966313Z"
    }
   },
   "outputs": [
    {
     "data": {
      "image/png": "[encoded data removed]",
      "text/plain": [
       "<Figure size 432x288 with 1 Axes>"
      ]
     },
     "metadata": {
      "needs_background": "light"
     },
     "output_type": "display_data"
    },
    {
     "data": {
      "text/plain": [
       "<Figure size 432x288 with 0 Axes>"
      ]
     },
     "metadata": {},
     "output_type": "display_data"
    }
   ],
   "source": [
    "viz.plot_box_cat(accidents, 'acc_severity', 'hour')"
   ]
  },
  {
   "cell_type": "markdown",
   "metadata": {
    "id": "U-Z09jaNg3v2"
   },
   "source": [
    "### Quels sont les types de trajet les plus dangereux ?"
   ]
  },
  {
   "cell_type": "code",
   "execution_count": null,
   "metadata": {
    "ExecuteTime": {
     "end_time": "2020-12-27T16:32:04.717524Z",
     "start_time": "2020-12-27T16:32:04.706Z"
    },
    "id": "wgHu6IMag8kf"
   },
   "outputs": [],
   "source": []
  },
  {
   "cell_type": "markdown",
   "metadata": {},
   "source": [
    "## Liste des features"
   ]
  },
  {
   "cell_type": "markdown",
   "metadata": {},
   "source": [
    "On peut prédire la gravité d'un accident en fonction :\n",
    "\n",
    "- du sex du conducteur\n",
    "- de la période de l'année\n",
    "- du jour de la semaine\n",
    "- de l'heure de la journée\n",
    "- du type de trajet (pro, domicile-travail...)"
   ]
  }
 ],
 "metadata": {
  "colab": {
   "authorship_tag": "ABX9TyN8/Qvj1Ub/Wt3p7ju/RNBH",
   "collapsed_sections": [],
   "mount_file_id": "1tYlRM_oMi9M1mzXKd9tEIC4B1HcwJAEj",
   "name": "accidents_exploration.ipynb",
   "provenance": [],
   "toc_visible": true
  },
  "kernelspec": {
   "display_name": "Python 3",
   "language": "python",
   "name": "python3"
  },
  "language_info": {
   "codemirror_mode": {
    "name": "ipython",
    "version": 3
   },
   "file_extension": ".py",
   "mimetype": "text/x-python",
   "name": "python",
   "nbconvert_exporter": "python",
   "pygments_lexer": "ipython3",
   "version": "3.8.6"
  },
  "toc": {
   "base_numbering": 1,
   "nav_menu": {
    "height": "156px",
    "width": "170px"
   },
   "number_sections": true,
   "sideBar": true,
   "skip_h1_title": false,
   "title_cell": "Table of Contents",
   "title_sidebar": "Contents",
   "toc_cell": false,
   "toc_position": {
    "height": "calc(100% - 180px)",
    "left": "10px",
    "top": "150px",
    "width": "256px"
   },
   "toc_section_display": true,
   "toc_window_display": true
  },
  "varInspector": {
   "cols": {
    "lenName": 16,
    "lenType": 16,
    "lenVar": 40
   },
   "kernels_config": {
    "python": {
     "delete_cmd_postfix": "",
     "delete_cmd_prefix": "del ",
     "library": "var_list.py",
     "varRefreshCmd": "print(var_dic_list())"
    },
    "r": {
     "delete_cmd_postfix": ") ",
     "delete_cmd_prefix": "rm(",
     "library": "var_list.r",
     "varRefreshCmd": "cat(var_dic_list()) "
    }
   },
   "oldHeight": 335.667,
   "position": {
    "height": "40px",
    "left": "874px",
    "right": "20px",
    "top": "116px",
    "width": "392px"
   },
   "types_to_exclude": [
    "module",
    "function",
    "builtin_function_or_method",
    "instance",
    "_Feature"
   ],
   "varInspector_section_display": "none",
   "window_display": true
  }
 },
 "nbformat": 4,
 "nbformat_minor": 1
}
